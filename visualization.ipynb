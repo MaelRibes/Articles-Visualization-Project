{
 "cells": [
  {
   "cell_type": "code",
   "execution_count": 1,
   "metadata": {},
   "outputs": [],
   "source": [
    "import json\n",
    "import os\n",
    "import plotly.express as px\n",
    "import pandas as pd\n",
    "import networkx as nx\n",
    "from collections import Counter\n",
    "import matplotlib.pyplot as plt"
   ]
  },
  {
   "cell_type": "code",
   "execution_count": 2,
   "metadata": {},
   "outputs": [
    {
     "name": "stdout",
     "output_type": "stream",
     "text": [
      "      Month  Nb of Article\n",
      "36  2018-12            104\n",
      "35  2019-01           4023\n",
      "34  2019-02           3774\n",
      "33  2019-03           3911\n",
      "32  2019-04           3683\n",
      "31  2019-05           3743\n",
      "30  2019-06           3545\n",
      "29  2019-07           3847\n",
      "28  2019-08           3438\n",
      "27  2019-09           3960\n",
      "26  2019-10           4187\n",
      "25  2019-11           3911\n",
      "24  2019-12           3742\n",
      "23  2020-01           3695\n",
      "22  2020-02           3650\n",
      "21  2020-03           3727\n",
      "20  2020-04           3391\n",
      "19  2020-05           3510\n",
      "18  2020-06           3588\n",
      "17  2020-07           3596\n",
      "16  2020-08           3465\n",
      "15  2020-09           3708\n",
      "14  2020-10           3669\n",
      "13  2020-11           3648\n",
      "12  2020-12           3425\n",
      "11  2021-01           3674\n",
      "10  2021-02           3457\n",
      "9   2021-03           3562\n",
      "8   2021-04           2898\n",
      "7   2021-05           2953\n",
      "6   2021-06           3249\n",
      "5   2021-07           3217\n",
      "4   2021-08           3091\n",
      "3   2021-09           3262\n",
      "2   2021-10           3554\n",
      "1   2021-11           3238\n",
      "0   2021-12           3017\n"
     ]
    }
   ],
   "source": [
    "files_name = [file_name for file_name in os.listdir('./all/') if '.json' in file_name]\n",
    "\n",
    "dictionary = {}\n",
    "\n",
    "for file in files_name:\n",
    "    f = open(f'./all/{file}', 'r', encoding='utf-8')\n",
    "    data = json.loads(f.read())\n",
    "    f.close()\n",
    "    data_month = data[\"metadata-all\"]['fr']['month']\n",
    "    for years in data_month:\n",
    "        for month in data_month[years]:\n",
    "            m = month\n",
    "            if len(month)==1:\n",
    "                m = '0' + month\n",
    "            if f'{years}-{m}' in dictionary.keys():\n",
    "                dictionary[f'{years}-{m}'] += data_month[years][str(month)][\"num\"]\n",
    "            else:\n",
    "                dictionary[f'{years}-{m}'] = data_month[years][str(month)][\"num\"]\n",
    "\n",
    "\n",
    "sorted_keys = sorted(dictionary.keys(), reverse = True)\n",
    "dict_sorted = {key:dictionary[key] for key in sorted_keys}\n",
    "\n",
    "df = pd.DataFrame(dict_sorted.items(), columns=['Month', 'Nb of Article'])\n",
    "df = df.sort_index(axis = 0, ascending = False)\n",
    "print(df)"
   ]
  },
  {
   "cell_type": "code",
   "execution_count": 3,
   "metadata": {
    "collapsed": false
   },
   "outputs": [
    {
     "data": {
      "application/vnd.plotly.v1+json": {
       "config": {
        "plotlyServerURL": "https://plot.ly"
       },
       "data": [
        {
         "alignmentgroup": "True",
         "hovertemplate": "Month=%{x}<br>Nb of Article=%{marker.color}<extra></extra>",
         "legendgroup": "",
         "marker": {
          "color": [
           104,
           4023,
           3774,
           3911,
           3683,
           3743,
           3545,
           3847,
           3438,
           3960,
           4187,
           3911,
           3742,
           3695,
           3650,
           3727,
           3391,
           3510,
           3588,
           3596,
           3465,
           3708,
           3669,
           3648,
           3425,
           3674,
           3457,
           3562,
           2898,
           2953,
           3249,
           3217,
           3091,
           3262,
           3554,
           3238,
           3017
          ],
          "coloraxis": "coloraxis",
          "pattern": {
           "shape": ""
          }
         },
         "name": "",
         "offsetgroup": "",
         "orientation": "v",
         "showlegend": false,
         "textposition": "auto",
         "type": "bar",
         "x": [
          "2018-12",
          "2019-01",
          "2019-02",
          "2019-03",
          "2019-04",
          "2019-05",
          "2019-06",
          "2019-07",
          "2019-08",
          "2019-09",
          "2019-10",
          "2019-11",
          "2019-12",
          "2020-01",
          "2020-02",
          "2020-03",
          "2020-04",
          "2020-05",
          "2020-06",
          "2020-07",
          "2020-08",
          "2020-09",
          "2020-10",
          "2020-11",
          "2020-12",
          "2021-01",
          "2021-02",
          "2021-03",
          "2021-04",
          "2021-05",
          "2021-06",
          "2021-07",
          "2021-08",
          "2021-09",
          "2021-10",
          "2021-11",
          "2021-12"
         ],
         "xaxis": "x",
         "y": [
          104,
          4023,
          3774,
          3911,
          3683,
          3743,
          3545,
          3847,
          3438,
          3960,
          4187,
          3911,
          3742,
          3695,
          3650,
          3727,
          3391,
          3510,
          3588,
          3596,
          3465,
          3708,
          3669,
          3648,
          3425,
          3674,
          3457,
          3562,
          2898,
          2953,
          3249,
          3217,
          3091,
          3262,
          3554,
          3238,
          3017
         ],
         "yaxis": "y"
        }
       ],
       "layout": {
        "barmode": "relative",
        "coloraxis": {
         "colorbar": {
          "title": {
           "text": "Nb of Article"
          }
         },
         "colorscale": [
          [
           0,
           "rgb(253, 237, 176)"
          ],
          [
           0.09090909090909091,
           "rgb(250, 205, 145)"
          ],
          [
           0.18181818181818182,
           "rgb(246, 173, 119)"
          ],
          [
           0.2727272727272727,
           "rgb(240, 142, 98)"
          ],
          [
           0.36363636363636365,
           "rgb(231, 109, 84)"
          ],
          [
           0.45454545454545453,
           "rgb(216, 80, 83)"
          ],
          [
           0.5454545454545454,
           "rgb(195, 56, 90)"
          ],
          [
           0.6363636363636364,
           "rgb(168, 40, 96)"
          ],
          [
           0.7272727272727273,
           "rgb(138, 29, 99)"
          ],
          [
           0.8181818181818182,
           "rgb(107, 24, 93)"
          ],
          [
           0.9090909090909091,
           "rgb(76, 21, 80)"
          ],
          [
           1,
           "rgb(47, 15, 61)"
          ]
         ]
        },
        "legend": {
         "tracegroupgap": 0
        },
        "margin": {
         "t": 60
        },
        "template": {
         "data": {
          "bar": [
           {
            "error_x": {
             "color": "#2a3f5f"
            },
            "error_y": {
             "color": "#2a3f5f"
            },
            "marker": {
             "line": {
              "color": "#E5ECF6",
              "width": 0.5
             },
             "pattern": {
              "fillmode": "overlay",
              "size": 10,
              "solidity": 0.2
             }
            },
            "type": "bar"
           }
          ],
          "barpolar": [
           {
            "marker": {
             "line": {
              "color": "#E5ECF6",
              "width": 0.5
             },
             "pattern": {
              "fillmode": "overlay",
              "size": 10,
              "solidity": 0.2
             }
            },
            "type": "barpolar"
           }
          ],
          "carpet": [
           {
            "aaxis": {
             "endlinecolor": "#2a3f5f",
             "gridcolor": "white",
             "linecolor": "white",
             "minorgridcolor": "white",
             "startlinecolor": "#2a3f5f"
            },
            "baxis": {
             "endlinecolor": "#2a3f5f",
             "gridcolor": "white",
             "linecolor": "white",
             "minorgridcolor": "white",
             "startlinecolor": "#2a3f5f"
            },
            "type": "carpet"
           }
          ],
          "choropleth": [
           {
            "colorbar": {
             "outlinewidth": 0,
             "ticks": ""
            },
            "type": "choropleth"
           }
          ],
          "contour": [
           {
            "colorbar": {
             "outlinewidth": 0,
             "ticks": ""
            },
            "colorscale": [
             [
              0,
              "#0d0887"
             ],
             [
              0.1111111111111111,
              "#46039f"
             ],
             [
              0.2222222222222222,
              "#7201a8"
             ],
             [
              0.3333333333333333,
              "#9c179e"
             ],
             [
              0.4444444444444444,
              "#bd3786"
             ],
             [
              0.5555555555555556,
              "#d8576b"
             ],
             [
              0.6666666666666666,
              "#ed7953"
             ],
             [
              0.7777777777777778,
              "#fb9f3a"
             ],
             [
              0.8888888888888888,
              "#fdca26"
             ],
             [
              1,
              "#f0f921"
             ]
            ],
            "type": "contour"
           }
          ],
          "contourcarpet": [
           {
            "colorbar": {
             "outlinewidth": 0,
             "ticks": ""
            },
            "type": "contourcarpet"
           }
          ],
          "heatmap": [
           {
            "colorbar": {
             "outlinewidth": 0,
             "ticks": ""
            },
            "colorscale": [
             [
              0,
              "#0d0887"
             ],
             [
              0.1111111111111111,
              "#46039f"
             ],
             [
              0.2222222222222222,
              "#7201a8"
             ],
             [
              0.3333333333333333,
              "#9c179e"
             ],
             [
              0.4444444444444444,
              "#bd3786"
             ],
             [
              0.5555555555555556,
              "#d8576b"
             ],
             [
              0.6666666666666666,
              "#ed7953"
             ],
             [
              0.7777777777777778,
              "#fb9f3a"
             ],
             [
              0.8888888888888888,
              "#fdca26"
             ],
             [
              1,
              "#f0f921"
             ]
            ],
            "type": "heatmap"
           }
          ],
          "heatmapgl": [
           {
            "colorbar": {
             "outlinewidth": 0,
             "ticks": ""
            },
            "colorscale": [
             [
              0,
              "#0d0887"
             ],
             [
              0.1111111111111111,
              "#46039f"
             ],
             [
              0.2222222222222222,
              "#7201a8"
             ],
             [
              0.3333333333333333,
              "#9c179e"
             ],
             [
              0.4444444444444444,
              "#bd3786"
             ],
             [
              0.5555555555555556,
              "#d8576b"
             ],
             [
              0.6666666666666666,
              "#ed7953"
             ],
             [
              0.7777777777777778,
              "#fb9f3a"
             ],
             [
              0.8888888888888888,
              "#fdca26"
             ],
             [
              1,
              "#f0f921"
             ]
            ],
            "type": "heatmapgl"
           }
          ],
          "histogram": [
           {
            "marker": {
             "pattern": {
              "fillmode": "overlay",
              "size": 10,
              "solidity": 0.2
             }
            },
            "type": "histogram"
           }
          ],
          "histogram2d": [
           {
            "colorbar": {
             "outlinewidth": 0,
             "ticks": ""
            },
            "colorscale": [
             [
              0,
              "#0d0887"
             ],
             [
              0.1111111111111111,
              "#46039f"
             ],
             [
              0.2222222222222222,
              "#7201a8"
             ],
             [
              0.3333333333333333,
              "#9c179e"
             ],
             [
              0.4444444444444444,
              "#bd3786"
             ],
             [
              0.5555555555555556,
              "#d8576b"
             ],
             [
              0.6666666666666666,
              "#ed7953"
             ],
             [
              0.7777777777777778,
              "#fb9f3a"
             ],
             [
              0.8888888888888888,
              "#fdca26"
             ],
             [
              1,
              "#f0f921"
             ]
            ],
            "type": "histogram2d"
           }
          ],
          "histogram2dcontour": [
           {
            "colorbar": {
             "outlinewidth": 0,
             "ticks": ""
            },
            "colorscale": [
             [
              0,
              "#0d0887"
             ],
             [
              0.1111111111111111,
              "#46039f"
             ],
             [
              0.2222222222222222,
              "#7201a8"
             ],
             [
              0.3333333333333333,
              "#9c179e"
             ],
             [
              0.4444444444444444,
              "#bd3786"
             ],
             [
              0.5555555555555556,
              "#d8576b"
             ],
             [
              0.6666666666666666,
              "#ed7953"
             ],
             [
              0.7777777777777778,
              "#fb9f3a"
             ],
             [
              0.8888888888888888,
              "#fdca26"
             ],
             [
              1,
              "#f0f921"
             ]
            ],
            "type": "histogram2dcontour"
           }
          ],
          "mesh3d": [
           {
            "colorbar": {
             "outlinewidth": 0,
             "ticks": ""
            },
            "type": "mesh3d"
           }
          ],
          "parcoords": [
           {
            "line": {
             "colorbar": {
              "outlinewidth": 0,
              "ticks": ""
             }
            },
            "type": "parcoords"
           }
          ],
          "pie": [
           {
            "automargin": true,
            "type": "pie"
           }
          ],
          "scatter": [
           {
            "fillpattern": {
             "fillmode": "overlay",
             "size": 10,
             "solidity": 0.2
            },
            "type": "scatter"
           }
          ],
          "scatter3d": [
           {
            "line": {
             "colorbar": {
              "outlinewidth": 0,
              "ticks": ""
             }
            },
            "marker": {
             "colorbar": {
              "outlinewidth": 0,
              "ticks": ""
             }
            },
            "type": "scatter3d"
           }
          ],
          "scattercarpet": [
           {
            "marker": {
             "colorbar": {
              "outlinewidth": 0,
              "ticks": ""
             }
            },
            "type": "scattercarpet"
           }
          ],
          "scattergeo": [
           {
            "marker": {
             "colorbar": {
              "outlinewidth": 0,
              "ticks": ""
             }
            },
            "type": "scattergeo"
           }
          ],
          "scattergl": [
           {
            "marker": {
             "colorbar": {
              "outlinewidth": 0,
              "ticks": ""
             }
            },
            "type": "scattergl"
           }
          ],
          "scattermapbox": [
           {
            "marker": {
             "colorbar": {
              "outlinewidth": 0,
              "ticks": ""
             }
            },
            "type": "scattermapbox"
           }
          ],
          "scatterpolar": [
           {
            "marker": {
             "colorbar": {
              "outlinewidth": 0,
              "ticks": ""
             }
            },
            "type": "scatterpolar"
           }
          ],
          "scatterpolargl": [
           {
            "marker": {
             "colorbar": {
              "outlinewidth": 0,
              "ticks": ""
             }
            },
            "type": "scatterpolargl"
           }
          ],
          "scatterternary": [
           {
            "marker": {
             "colorbar": {
              "outlinewidth": 0,
              "ticks": ""
             }
            },
            "type": "scatterternary"
           }
          ],
          "surface": [
           {
            "colorbar": {
             "outlinewidth": 0,
             "ticks": ""
            },
            "colorscale": [
             [
              0,
              "#0d0887"
             ],
             [
              0.1111111111111111,
              "#46039f"
             ],
             [
              0.2222222222222222,
              "#7201a8"
             ],
             [
              0.3333333333333333,
              "#9c179e"
             ],
             [
              0.4444444444444444,
              "#bd3786"
             ],
             [
              0.5555555555555556,
              "#d8576b"
             ],
             [
              0.6666666666666666,
              "#ed7953"
             ],
             [
              0.7777777777777778,
              "#fb9f3a"
             ],
             [
              0.8888888888888888,
              "#fdca26"
             ],
             [
              1,
              "#f0f921"
             ]
            ],
            "type": "surface"
           }
          ],
          "table": [
           {
            "cells": {
             "fill": {
              "color": "#EBF0F8"
             },
             "line": {
              "color": "white"
             }
            },
            "header": {
             "fill": {
              "color": "#C8D4E3"
             },
             "line": {
              "color": "white"
             }
            },
            "type": "table"
           }
          ]
         },
         "layout": {
          "annotationdefaults": {
           "arrowcolor": "#2a3f5f",
           "arrowhead": 0,
           "arrowwidth": 1
          },
          "autotypenumbers": "strict",
          "coloraxis": {
           "colorbar": {
            "outlinewidth": 0,
            "ticks": ""
           }
          },
          "colorscale": {
           "diverging": [
            [
             0,
             "#8e0152"
            ],
            [
             0.1,
             "#c51b7d"
            ],
            [
             0.2,
             "#de77ae"
            ],
            [
             0.3,
             "#f1b6da"
            ],
            [
             0.4,
             "#fde0ef"
            ],
            [
             0.5,
             "#f7f7f7"
            ],
            [
             0.6,
             "#e6f5d0"
            ],
            [
             0.7,
             "#b8e186"
            ],
            [
             0.8,
             "#7fbc41"
            ],
            [
             0.9,
             "#4d9221"
            ],
            [
             1,
             "#276419"
            ]
           ],
           "sequential": [
            [
             0,
             "#0d0887"
            ],
            [
             0.1111111111111111,
             "#46039f"
            ],
            [
             0.2222222222222222,
             "#7201a8"
            ],
            [
             0.3333333333333333,
             "#9c179e"
            ],
            [
             0.4444444444444444,
             "#bd3786"
            ],
            [
             0.5555555555555556,
             "#d8576b"
            ],
            [
             0.6666666666666666,
             "#ed7953"
            ],
            [
             0.7777777777777778,
             "#fb9f3a"
            ],
            [
             0.8888888888888888,
             "#fdca26"
            ],
            [
             1,
             "#f0f921"
            ]
           ],
           "sequentialminus": [
            [
             0,
             "#0d0887"
            ],
            [
             0.1111111111111111,
             "#46039f"
            ],
            [
             0.2222222222222222,
             "#7201a8"
            ],
            [
             0.3333333333333333,
             "#9c179e"
            ],
            [
             0.4444444444444444,
             "#bd3786"
            ],
            [
             0.5555555555555556,
             "#d8576b"
            ],
            [
             0.6666666666666666,
             "#ed7953"
            ],
            [
             0.7777777777777778,
             "#fb9f3a"
            ],
            [
             0.8888888888888888,
             "#fdca26"
            ],
            [
             1,
             "#f0f921"
            ]
           ]
          },
          "colorway": [
           "#636efa",
           "#EF553B",
           "#00cc96",
           "#ab63fa",
           "#FFA15A",
           "#19d3f3",
           "#FF6692",
           "#B6E880",
           "#FF97FF",
           "#FECB52"
          ],
          "font": {
           "color": "#2a3f5f"
          },
          "geo": {
           "bgcolor": "white",
           "lakecolor": "white",
           "landcolor": "#E5ECF6",
           "showlakes": true,
           "showland": true,
           "subunitcolor": "white"
          },
          "hoverlabel": {
           "align": "left"
          },
          "hovermode": "closest",
          "mapbox": {
           "style": "light"
          },
          "paper_bgcolor": "white",
          "plot_bgcolor": "#E5ECF6",
          "polar": {
           "angularaxis": {
            "gridcolor": "white",
            "linecolor": "white",
            "ticks": ""
           },
           "bgcolor": "#E5ECF6",
           "radialaxis": {
            "gridcolor": "white",
            "linecolor": "white",
            "ticks": ""
           }
          },
          "scene": {
           "xaxis": {
            "backgroundcolor": "#E5ECF6",
            "gridcolor": "white",
            "gridwidth": 2,
            "linecolor": "white",
            "showbackground": true,
            "ticks": "",
            "zerolinecolor": "white"
           },
           "yaxis": {
            "backgroundcolor": "#E5ECF6",
            "gridcolor": "white",
            "gridwidth": 2,
            "linecolor": "white",
            "showbackground": true,
            "ticks": "",
            "zerolinecolor": "white"
           },
           "zaxis": {
            "backgroundcolor": "#E5ECF6",
            "gridcolor": "white",
            "gridwidth": 2,
            "linecolor": "white",
            "showbackground": true,
            "ticks": "",
            "zerolinecolor": "white"
           }
          },
          "shapedefaults": {
           "line": {
            "color": "#2a3f5f"
           }
          },
          "ternary": {
           "aaxis": {
            "gridcolor": "white",
            "linecolor": "white",
            "ticks": ""
           },
           "baxis": {
            "gridcolor": "white",
            "linecolor": "white",
            "ticks": ""
           },
           "bgcolor": "#E5ECF6",
           "caxis": {
            "gridcolor": "white",
            "linecolor": "white",
            "ticks": ""
           }
          },
          "title": {
           "x": 0.05
          },
          "xaxis": {
           "automargin": true,
           "gridcolor": "white",
           "linecolor": "white",
           "ticks": "",
           "title": {
            "standoff": 15
           },
           "zerolinecolor": "white",
           "zerolinewidth": 2
          },
          "yaxis": {
           "automargin": true,
           "gridcolor": "white",
           "linecolor": "white",
           "ticks": "",
           "title": {
            "standoff": 15
           },
           "zerolinecolor": "white",
           "zerolinewidth": 2
          }
         }
        },
        "xaxis": {
         "anchor": "y",
         "domain": [
          0,
          1
         ],
         "title": {
          "text": "Month"
         }
        },
        "yaxis": {
         "anchor": "x",
         "domain": [
          0,
          1
         ],
         "title": {
          "text": "Nb of Article"
         }
        }
       }
      }
     },
     "metadata": {},
     "output_type": "display_data"
    }
   ],
   "source": [
    "fig = px.bar(df,x= 'Month', y = 'Nb of Article',color=\"Nb of Article\",color_continuous_scale=px.colors.sequential.matter)\n",
    "fig.show()"
   ]
  },
  {
   "cell_type": "code",
   "execution_count": 4,
   "metadata": {
    "collapsed": false
   },
   "outputs": [],
   "source": [
    "def filterByLocKeyWord(keyWord: str, dicLoc: dict, allLocKey: dict, data_all: dict) -> None:\n",
    "    for year in data_all:\n",
    "        for month in data_all[year]:\n",
    "            for date in data_all[year][month]:\n",
    "                if keyWord in data_all[year][month][date][0][\"loc\"]:\n",
    "                    # print(f'{year}-{month}-{date}')\n",
    "                    # print(data_all[year][month][date][0][\"title\"])\n",
    "                    # print(data_all[year][month][date][0][\"loc\"])\n",
    "                    for loc in data_all[year][month][date][0][\"loc\"]:\n",
    "                        if  (loc in allLocKey):\n",
    "                            dicLoc[loc] = dicLoc[loc] + 1\n",
    "\n",
    "\n",
    "def getLocationKey(allLocKey) -> dict:\n",
    "    dictLoc = dict.fromkeys(list(allLocKey), 0)\n",
    "    return dictLoc\n",
    "\n",
    "\n",
    "def convertTupleToDict(listTuple):\n",
    "    dico = {}\n",
    "    for tuple in listTuple:\n",
    "        dico[tuple[0]] = tuple[1]\n",
    "    return dico\n",
    "\n",
    "\n",
    "def cleanDict(dictionary: dictionary) -> dict:    \n",
    "    keys = list(dictionary.keys())\n",
    "    for key in keys:\n",
    "        if dictionary.get(key)==0:\n",
    "            dictionary.pop(key)\n",
    "    sortedTuple = sorted(dictionary.items(), key=lambda x:x[1], reverse=True)\n",
    "    return convertTupleToDict(sortedTuple) \n",
    "\n",
    "def firstElements(dictionary,nb):\n",
    "    sortedTuple = sorted(dictionary.items(), key=lambda x:x[1], reverse=True)\n",
    "    return dict(list(sortedTuple[0: nb]))\n"
   ]
  },
  {
   "cell_type": "code",
   "execution_count": 59,
   "metadata": {},
   "outputs": [
    {
     "name": "stdout",
     "output_type": "stream",
     "text": [
      "{'France': 637, 'Paris': 97, 'États-Unis': 76, 'État': 70, 'Israël': 42, 'Russie': 36, 'Allemagne': 33, 'Algérie': 26, 'Iran': 26, 'Mali': 23, 'Europe': 22, 'Afrique': 20, 'Chine': 17, 'Royaume-Uni': 17, 'Turquie': 16, 'Alger': 16, 'République': 16, 'Sahel': 15, 'Moscou': 14, 'Italie': 14}\n"
     ]
    }
   ],
   "source": [
    "listOfDict = [] #liste des dictionnaire des localisations apparaissant dans chaque site lorsque l'on parle de la France\n",
    "dictionaryLoc = {} #dictionnaire des localisations apparaissant dans tout les sites lorsque l'on parle de la France\n",
    "\n",
    "for file in os.listdir(\"all\"):\n",
    "    f = open(f'all/{file}', 'r', encoding='utf-8')\n",
    "    data = json.loads(f.read())\n",
    "    f.close()\n",
    "\n",
    "    allLocKey = data[\"metadata-all\"][\"fr\"][\"all\"][\"loc\"].keys()\n",
    "    dicLoc = getLocationKey(allLocKey)\n",
    "\n",
    "    data_all = data[\"data-all\"]\n",
    "    filterByLocKeyWord('France', dicLoc, allLocKey, data_all)\n",
    "    listOfDict.append(dicLoc)\n",
    "\n",
    "    dictionaryLoc = Counter(dictionaryLoc) + Counter(dicLoc)\n",
    "\n",
    "for d in listOfDict:\n",
    "    d = cleanDict(d)\n",
    "\n",
    "toplocation = firstElements(dictionaryLoc, 20)\n",
    "print(toplocation)"
   ]
  },
  {
   "cell_type": "markdown",
   "metadata": {},
   "source": [
    "## Création des noeuds\n",
    "Nous récupérons ici la liste des localisations ainsi que la liste du nombre de fois ou chaque localisation apparait un article."
   ]
  },
  {
   "cell_type": "code",
   "execution_count": 60,
   "metadata": {
    "collapsed": false
   },
   "outputs": [
    {
     "name": "stdout",
     "output_type": "stream",
     "text": [
      "['France', 'Paris', 'États-Unis', 'État', 'Israël', 'Russie', 'Allemagne', 'Algérie', 'Iran', 'Mali', 'Europe', 'Afrique', 'Chine', 'Royaume-Uni', 'Turquie', 'Alger', 'République', 'Sahel', 'Moscou', 'Italie']\n",
      "[637, 97, 76, 70, 42, 36, 33, 26, 26, 23, 22, 20, 17, 17, 16, 16, 16, 15, 14, 14]\n"
     ]
    }
   ],
   "source": [
    "nodes = list(toplocation.keys())\n",
    "weight = list(toplocation.values())\n",
    "print(nodes)\n",
    "print(weight)"
   ]
  },
  {
   "cell_type": "markdown",
   "metadata": {},
   "source": [
    "## Création des arcs entre les noeuds\n",
    "Nous avons décidé de pondérer les arcs par le nombres d'articles où la localisation apparait afin d'obtenir des écarts entre les différents noeuds plus significatif et plus facilement représentables."
   ]
  },
  {
   "cell_type": "code",
   "execution_count": 61,
   "metadata": {
    "collapsed": false
   },
   "outputs": [
    {
     "name": "stdout",
     "output_type": "stream",
     "text": [
      "[('France', 'Paris', 97), ('France', 'États-Unis', 76), ('France', 'État', 70), ('France', 'Israël', 42), ('France', 'Russie', 36), ('France', 'Allemagne', 33), ('France', 'Algérie', 26), ('France', 'Iran', 26), ('France', 'Mali', 23), ('France', 'Europe', 22), ('France', 'Afrique', 20), ('France', 'Chine', 17), ('France', 'Royaume-Uni', 17), ('France', 'Turquie', 16), ('France', 'Alger', 16), ('France', 'République', 16), ('France', 'Sahel', 15), ('France', 'Moscou', 14), ('France', 'Italie', 14)]\n"
     ]
    }
   ],
   "source": [
    "edges = [(nodes[0], nodes[k],weight[k]) for k in range(1, len(nodes))]\n",
    "print(edges)"
   ]
  },
  {
   "cell_type": "markdown",
   "metadata": {},
   "source": [
    "## Création du graphe\n",
    "Nous créons finalement un graphe à partir des noeuds et des arcs créés précédement. Plus une localisation est citée dans des articles en lien avec la localisation centrale, plus elle apparait proche de celle-ci sur le graphe. Nous appliquons finalement un gradiant de couleur pour améliorer la lisibilité du graphe."
   ]
  },
  {
   "cell_type": "code",
   "execution_count": 63,
   "metadata": {
    "collapsed": false
   },
   "outputs": [
    {
     "data": {
      "image/png": "[encoded data removed]",
      "text/plain": [
       "<Figure size 640x480 with 1 Axes>"
      ]
     },
     "metadata": {},
     "output_type": "display_data"
    }
   ],
   "source": [
    "g = nx.Graph()\n",
    "g.add_weighted_edges_from(edges)\n",
    "g.add_nodes_from(nodes)\n",
    "n_weight = [i for i in weight]\n",
    "n_weight[0] = n_weight[1]+ n_weight[1]/2\n",
    "nx.draw_spring(g,with_labels=True,node_size = 1000,node_color = n_weight,cmap = plt.cm.get_cmap('viridis_r'))"
   ]
  },
  {
   "cell_type": "markdown",
   "metadata": {},
   "source": []
  },
  {
   "cell_type": "code",
   "execution_count": 70,
   "metadata": {},
   "outputs": [
    {
     "name": "stdout",
     "output_type": "stream",
     "text": [
      "2019-1-12\n",
      "{'janvier': 15, 'blablacar': 6, 'tolérance': 4, 'politique': 3, 'france': 3, 'bonjour': 2, 'valeur': 2, 'membre': 2, 'dm': 2, 'gauche': 2, 'migrant': 2, 'utilisateur': 2, 'limite': 2, 'bla': 2, 'accord': 2, 'personne': 2, 'opinion': 2, 'désolé': 1, 'communauté': 1, 'partage': 1, 'respect': 1, 'dernier': 1, 'détail': 1, 'florilège': 1, 'réaction': 1, 'twitter': 1, 'cher': 1, 'crain': 1, 'tiers': 1, 'français': 1, 'oeil': 1, 'passager': 1, 'infréquentable': 1, 'paul': 1, 'sugy': 1, 'trajet': 1, 'robin': 1, 'nitot': 1, 'formulaire': 1, 'orientation': 1, 'cgu': 1, '𝕭𝖔𝖓𝖓𝖊': 1, 'opposant': 1, '𝕽𝖊𝖓𝖆𝖚𝖉': 1, '𝕸𝖔𝖓𝖙𝖆𝖚𝖇𝖆𝖓': 1, 'bonsoir': 1, 'régulier': 1, 'application': 1, 'société': 1, 'antoine': 1, 'berth': 1, 'honneur': 1, 'présence': 1, 'sol': 1, 'jérém': 1, 'idée': 1, 'covoiturage': 1, 'zadiste': 1, 'smartphone': 1, 'damien': 1, 'ن': 1, 'part': 1, 'monde': 1, 'réel': 1, 'gars': 1, 'boris': 1, 'guesclin': 1, 'magnifique': 1, 'publicité': 1, 'voiture': 1, 'doigt': 1, 'sujet': 1, 'loi': 1, 'clandestin': 1, 'facebook': 1, 'tweezer': 1, 'avenir': 1, 'franz': 1, 'comte': 1, 'capacité': 1, 'pensée': 1, 'unique': 1, 'val': 1, 'critique': 1, 'migratoire': 1, 'message': 1, 'courant': 1, 'landivisio': 1, 'gaulois': 1, 'dobré': 1, 'pire': 1, 'boycott': 1, 'colere': 1}\n",
      "{'France': 4}\n",
      "2019-1-15\n",
      "{'france': 4, 'militant': 4, 'italien': 4, 'ancien': 3, 'année': 3, 'italie': 2, 'acte': 2, 'plomb': 2, 'battisti': 2, 'brigade': 2, 'rouge': 2, 'délinquant': 2, 'assassinat': 2, 'dizaine': 1, 'vertu': 1, 'doctrine': 1, 'mitterrand': 1, 'ensemble': 1, 'classe': 1, 'politique': 1, 'arrestation': 1, 'lundi': 1, 'cesare': 1, 'bolivie': 1, 'ministre': 1, 'intérieur': 1, 'matteo': 1, 'début': 1, 'gouvernement': 1, 'viseur': 1, 'salvini': 1, 'terre': 1, 'asile': 1, 'groupe': 1, 'lutte': 1, 'armée': 1, 'fête': 1, 'présent': 1, 'macron': 1, 'justice': 1, 'prison': 1, 'haut': 1, 'sécurité': 1, 'oristano': 1, 'sudouest': 1, 'presse': 1, 'transalpin': 1, 'nom': 1, 'radical': 1, 'réfugié': 1, 'giorgio': 1, 'pietrostefani': 1, 'meurtre': 1, 'commissaire': 1, 'police': 1, 'luigi': 1, 'calabresi': 1, 'narciso': 1, 'manenti': 1, 'chef': 1, 'commando': 1, 'guérilla': 1, 'prolétarien': 1, 'responsable': 1, 'gendarme': 1, 'bergame': 1, 'enrico': 1, 'membre': 1, 'perpétuité': 1, 'procès': 1, 'aldo': 1, 'moro': 1, 'enlèvement': 1, 'figure': 1, 'démocratie': 1, 'chrétien': 1, 'geôlier': 1, 'mai': 1, 'jour': 1, 'séquestration': 1, 'traumatisme': 1, 'majeur': 1, 'histoire': 1, 'refuge': 1, 'hexagone': 1, 'cas': 1, 'marina': 1, 'petrella': 1, 'extradition': 1, 'nicolas': 1, 'raison': 1, 'humanitaire': 1}\n",
      "{'France': 4, 'Italie': 2}\n",
      "2019-8-27\n",
      "{'femme': 9, 'enfant': 6, 'immigré': 5, 'fécondité': 4, 'icf': 3, 'immigrée': 3, 'france': 3, 'naissance': 3, 'an': 2, 'part': 2, 'insee': 2, 'étranger': 2, 'indicateur': 1, 'conjoncturel': 1, 'taux': 1, 'groupe': 1, 'social': 1, 'analyse': 1, 'année': 1, 'récent': 1, 'différence': 1, 'descendance': 1, 'final': 1, 'nombre': 1, 'moyen': 1, 'monde': 1, 'génération': 1, 'cours': 1, 'vie': 1, 'écart': 1, 'total': 1, 'niveau': 1, 'inférieur': 1, 'surcroît': 1, 'travers': 1, 'mère': 1, 'ensemble': 1, 'élevé': 1, 'population': 1, 'féminin': 1, 'proportion': 1, 'âge': 1, 'nationalité': 1, 'source': 1}\n",
      "{'France': 3}\n",
      "2019-8-29\n",
      "{'prison': 12, 'août': 12, 'damien': 11, 'rieu': 11, 'mois': 11, 'ferme': 11, 'identitaire': 9, 'génération': 8, 'justice': 7, 'frontière': 6, 'august': 6, 'loi': 5, 'politique': 5, 'jeune': 5, 'euro': 5, 'amende': 5, 'sudradio': 4, 'september': 4, 'français': 4, 'pays': 4, 'décision': 4, 'action': 4, 'gap': 3, 'illégal': 3, 'militant': 3, 'france': 3, 'condamnation': 3, 'col': 3, 'public': 3, 'an': 3, 'privation': 3, 'droit': 3, 'civique': 3, 'tribunal': 3, 'procureur': 2, 'opération': 2, 'soutien': 2, 'clandestin': 2, 'état': 2, 'aide': 2, 'defendeurope': 2, 'peine': 2, 'fermeté': 2, 'criminel': 2, 'délinquant': 2, 'rappel': 2, 'suite': 2, 'confusion': 2, 'exercice': 2, 'fonction': 2, 'etat': 2, 'prévenu': 2, 'groupuscule': 2, 'dauphiné': 2, 'juillet': 2, 'dernier': 2, 'échelle': 2, 'avril': 2, 'correctionnel': 2, 'interview': 1, 'sud': 1, 'radio': 1, 'vie': 1, 'timothy': 1, 'pardon': 1, 'ministère': 1, 'interieur': 1, 'bande': 1, 'étudiant': 1, 'gamin': 1, 'puissance': 1, 'mondial': 1, 'république': 1, 'départ': 1, 'grand': 1, 'nombre': 1, 'immigré': 1, 'sondage': 1, 'réaction': 1, 'tête': 1, 'ludovic': 1, 'pajot': 1, 'ami': 1, 'prisonnier': 1, 'marion': 1, 'maréchal': 1, 'invasion': 1, 'migratoire': 1, 'henda': 1, 'ayari': 1, 'cachot': 1, 'gramme': 1, 'william': 1, 'goldnadel': 1, 'premier': 1, 'instance': 1, 'cédric': 1, 'herrou': 1, 'entrée': 1, 'sursis': 1, 'cassation': 1, 'symbolique': 1, 'pacifique': 1, 'défense': 1, 'thierry': 1, 'mariani': 1, 'mal': 1, 'illégalité': 1, 'thibault': 1, 'demontbrial': 1, 'dimension': 1, 'variable': 1, 'problème': 1, 'sebastien': 1, 'pilard': 1, 'application': 1, 'peuple': 1, 'passible': 1, 'temps': 1, 'pire': 1, 'laxisme': 1, 'ahurissant': 1, 'inquiétant': 1, 'jordan': 1, 'bardella': 1, 'nouveau': 1, 'cyprien': 1, 'fait': 1, 'grave': 1, 'simple': 1, 'gilbert': 1, 'collard': 1, 'echelle': 1, 'délirant': 1, 'lanceur': 1, 'alerte': 1, 'inversion': 1, 'total': 1, 'valeur': 1, 'stéphane': 1, 'ravier': 1, 'territoire': 1, 'délit': 1, 'nadine': 1, 'morano': 1, 'vidéo': 1, 'organisation': 1, 'alpes': 1, 'honneur': 1, 'médaille': 1, 'détermination': 1, 'appel': 1, 'projet': 1, 'pouvoir': 1, 'main': 1, 'jawad': 1, 'bendaoud': 1, 'agression': 1, 'surveillant': 1, 'proxénète': 1, 'agresseur': 1, 'pompier': 1, 'violeur': 1, 'activité': 1, 'condition': 1, 'nature': 1, 'esprit': 1, 'civil': 1, 'familial': 1, 'association': 1, 'délibéré': 1, 'procès': 1, 'defendeurop': 1, 'galant': 1, 'emprisonnement': 1, 'encontre': 1, 'membre': 1, 'extrême': 1, 'droite': 1, 'mouvement': 1, 'centaine': 1, 'bannière': 1, 'europe': 1, 'semaine': 1, 'fin': 1, 'mai': 1, 'patrouillé': 1, 'passage': 1, 'migrant': 1}\n",
      "{'France': 5, 'Etat': 2, 'col de l’Échelle': 2, 'Gap': 2}\n",
      "2019-8-7\n",
      "{'train': 3, 'chance': 2, 'france': 2, 'père': 2, 'famille': 2, 'poussette': 2, 'vue': 2, 'témoin': 1, 'scène': 1, 'type': 1, 'dégonflé': 1, 'forget': 1, 'borderline': 1, 'république': 1, 'marche': 1, 'vacance': 1, 'nice': 1, 'député': 1, 'réseau': 1, 'social': 1, 'rixe': 1, 'jeudi': 1, 'avenue': 1, 'copain': 1, 'fils': 1, 'garde': 1, 'violence': 1, 'réunion': 1, 'serial': 1, 'twitter': 1, 'traduction': 1, 'milieu': 1, 'origine': 1, 'étranger': 1, 'petit': 1, 'ordure': 1, 'enfant': 1, 'direction': 1, 'gard': 1, 'grâce': 1, 'témoignage': 1, 'bravo': 1, 'police': 1, 'municipal': 1, 'joachim': 1, 'august': 1, 'matin': 1, 'niceci': 1}\n",
      "{'France': 2}\n",
      "2019-11-13\n",
      "{'france': 8, 'parent': 7, 'naissance': 6, 'cas': 6, 'étranger': 5, 'région': 3, 'père': 3, 'mère': 3, 'insee': 2, 'propos': 2, 'président': 2, 'enfant': 2, 'immigration': 2, 'chiffre': 2, 'issu': 2, 'statistique': 1, 'exact': 1, 'donnée': 1, 'total': 1, 'origine': 1, 'moitié': 1, 'département': 1, 'francilien': 1, 'check': 1, 'confirmation': 1, 'livre': 1, 'parcours': 1, 'intégration': 1, 'priorité': 1, 'politique': 1, 'urgence': 1, 'valérie': 1, 'pécress': 1, 'november': 1}\n",
      "{'Ile-de-France': 2, 'France': 8}\n",
      "2019-5-18\n",
      "{'france': 30, 'blanc': 11, 'nickconrad': 8, 'source': 5, 'clip': 5, 'mort': 4, 'haine': 4, 'rappeur': 4, 'agonie': 4, 'ouai': 4, 'noir': 3, 'supérieur': 3, 'singe': 3, 'chien': 3, 'mariann': 3, 'amende': 3, 'récidiv': 3, 'baise': 3, 'doux': 3, 'pays': 3, 'charles': 2, 'nick': 2, 'monde': 2, 'game': 2, 'jla': 2, 'génie': 2, 'provocation': 2, 'ignominie': 2, 'euro': 2, 'insupportable': 2, 'guerre': 2, 'civil': 2, 'chanson': 2, 'laxiste': 2, 'sursis': 2, 'niqu': 2, 'fin': 2, 'bite': 2, 'bouche': 2, 'enfance': 2, 'mayday': 2, 'instoppabl': 2, 'incendie': 2, 'l': 1, 't': 1, 'jsui': 1, 'voltaire': 1, 'molière': 1, 'baudelair': 1, 'ladie': 1, 'you': 1, 'this': 1, 'conrad': 1, 'out': 1, 'hang': 1, 'worldwide': 1, 'go': 1, 'court': 1, 'stupid': 1, 'bourdonnement': 1, 'colibri': 1, 'franchouillard': 1, 'condescendance': 1, 'ore': 1, 'terre': 1, 'idée': 1, 'travers': 1, 'cul': 1, 'chemise': 1, 'sodomise': 1, 'vécu': 1, 'gang': 1, 'indémnisent': 1, 'tirailleur': 1, 'sénégalais': 1, 'style': 1, 'maniquéen': 1, 'guadeloupéen': 1, 'fèt': 1, 'frère': 1, 'zanmi': 1, 'ki': 1, 'béké': 1, 'cher': 1, 'cousin': 1, 'ptite': 1, 'pine': 1, 'jlui': 1, 'anus': 1, 'cheveu': 1, 'coloré': 1, 'semence': 1, 'gorge': 1, 'minable': 1, 'talent': 1, 'oubliette': 1, 'incitation': 1, 'époque': 1, 'tension': 1, 'communautaire': 1, 'lydia': 1, 'guirou': 1, 'tweet': 1, 'publicité': 1, 'chose': 1, 'recherche': 1, 'pis': 1, 'réaction': 1, 'hauteur': 1, 'propos': 1, 'florian': 1, 'philippot': 1, 'dérisoire': 1, 'millier': 1, 'jeune': 1, 'lâcheté': 1, 'violence': 1, 'fx': 1, 'bellamy': 1, 'prédicateur': 1, 'peine': 1, 'lourd': 1, 'ridicule': 1, 'bébé': 1, 'eric': 1, 'ciotti': 1, 'immonde': 1, 'bruno': 1, 'retailleau': 1, 'an': 1, 'communautarisme': 1, 'français': 1, 'résultat': 1, 'appel': 1, 'meurtre': 1, 'gramme': 1, 'dupont': 1, 'aignan': 1, 'condamnation': 1, 'gilbert': 1, 'collard': 1, 'raciste': 1, 'grâce': 1, 'justice': 1, 'stéphane': 1, 'ravier': 1, 'justadream': 1, 'femme': 1, 'hérisson': 1, 'jouir': 1, 'porc': 1, 'liquide': 1, 'visqueux': 1, 'malabar': 1, 'hexagone': 1, 'air': 1, 'bord': 1, 'intérêt': 1, 'coup': 1, 'accord': 1, 'gros': 1, 'pute': 1, 'tort': 1, 'sang': 1, 'aéroport': 1, 'prof': 1, 'khaled': 1, 'kelkal': 1, 'doute': 1, 'raison': 1, 'story': 1, 'bombe': 1, 'panthéon': 1, 'baltringue': 1, 'attention': 1, 'vrai': 1, 'vérité': 1, 'pire': 1, 'illégal': 1, 'prison': 1, 'rentre': 1, 'drapeau': 1, 'royal': 1, 'adn': 1, 'criminel': 1, 'plume': 1, 'décortiqu': 1, 'souffrance': 1, 'origine': 1, 'con': 1, 'trenet': 1, 'bastos': 1, 'crâne': 1, 'vie': 1, 'mal': 1, 'infini': 1, 'stock': 1, 'intérieur': 1, 'énergie': 1, 'prière': 1, 'bénir': 1, 'déferai': 1, 'chronique': 1, 'coupure': 1, 'presse': 1, 'sujet': 1, 'verb': 1, 'mec': 1, 'tess': 1, 'coeur': 1, 'trace': 1, 'indélébile': 1, 'macaqu': 1, 'rengaine': 1, 'volubile': 1, 'micro': 1, 'violent': 1, 'vasavolo': 1, 'main': 1, 'volant': 1, 'pâquerette': 1, 'art': 1, 'pacotille': 1, 'défaite': 1, 'lion': 1, 'olivier': 1, 'cachin': 1, 'buzz': 1, 'effort': 1, 'catin': 1}\n",
      "{'France': 19}\n",
      "2019-5-11\n",
      "{'an': 5, 'tribunal': 3, 'narbonne': 3, 'somme': 3, 'ronald': 3, 'mois': 3, 'prévenu': 2, 'prison': 2, 'ferme': 2, 'correctionnel': 2, 'décembre': 2, 'euro': 2, 'gare': 2, 'argent': 2, 'policier': 2, 'examen': 2, 'billet': 2, 'important': 2, 'homme': 2, 'france': 2, 'preuve': 2, 'âgé': 1, 'situation': 1, 'irrégulier': 1, 'territoire': 1, 'mai': 1, 'dernier': 1, 'opération': 1, 'frauduleux': 1, 'suspect': 1, 'hypothèse': 1, 'surinamien': 1, 'niort': 1, 'sèvres': 1, 'premier': 1, 'paf': 1, 'police': 1, 'frontière': 1, 'document': 1, 'trafic': 1, 'stupéfiant': 1, 'chien': 1, 'renifleur': 1, 'arrêt': 1, 'emballage': 1, 'liasse': 1, 'garde': 1, 'vue': 1, 'rapide': 1, 'instruction': 1, 'vendredi': 1, 'propos': 1, 'vente': 1, 'toulouse': 1, 'collier': 1, 'quantité': 1, 'bijou': 1, 'pays': 1, 'natal': 1, 'suriname': 1, 'amérique': 1, 'sud': 1, 'mine': 1, 'femme': 1, 'enfant': 1, 'origine': 1, 'français': 1, 'transaction': 1, 'détail': 1, 'acheteur': 1, 'intermédiaire': 1, 'face': 1, 'manque': 1, 'blanchiment': 1, 'délibération': 1, 'juge': 1, 'interdiction': 1, 'détention': 1, 'provisoire': 1, 'peine': 1, 'mandat': 1, 'dépôt': 1, 'escorte': 1}\n",
      "{'Narbonne': 3, 'Suriname': 2, 'France': 2}\n",
      "2019-5-23\n",
      "{'france': 9, 'mélenchon': 5, 'pen': 5, 'problème': 5, 'société': 4, 'communautarisme': 4, 'flatterie': 4, 'islam': 3, 'sens': 3, 'raison': 3, 'islamiste': 3, 'point': 3, 'vue': 3, 'idéologie': 3, 'discerner': 2, 'état': 2, 'insurrection': 2, 'oublié': 2, 'central': 2, 'immigration': 2, 'marine': 2, 'doigt': 2, 'périphérique': 2, 'gilet': 2, 'jaune': 2, 'similaire': 2, 'programme': 2, 'dérive': 2, 'ivan': 1, 'figaro': 1, 'analyse': 1, 'faible': 1, 'intention': 1, 'vote': 1, 'insoumis': 1, 'cnew': 1, 'mai': 1, 'oeil': 1, 'discours': 1, 'symbole': 1, 'langage': 1, 'éthéré': 1, 'politique': 1, 'islamisme': 1, 'image': 1, 'républicain': 1, 'laïque': 1, 'corps': 1, 'revendication': 1, 'identitaire': 1, 'propos': 1, 'polémique': 1, 'électoraliste': 1, 'sorte': 1, 'acquiescement': 1, 'incompatible': 1, 'démocratie': 1, 'erreur': 1, 'fondamental': 1, 'électeur': 1, 'score': 1}\n",
      "{'France': 4}\n",
      "2019-2-20\n",
      "{'france': 4, 'monde': 2, 'migrant': 2, 'italie': 2, 'col': 2, 'frontière': 2, 'heure': 2, 'marche': 2, 'article': 1, 'salvini': 1, 'odeur': 1, 'pâte': 1, 'pizza': 1, 'endroit': 1, 'restaurant': 1, 'vitre': 1, 'commerce': 1, 'station': 1, 'sport': 1, 'hiver': 1, 'montgenèvre': 1, 'mardi': 1, 'février': 1, 'clameur': 1, 'vacancier': 1, 'part': 1, 'lieu': 1, 'convivial': 1, 'montagne': 1, 'nuit': 1, 'petit': 1, 'groupe': 1, 'personne': 1, 'train': 1, 'physique': 1, 'jour': 1, 'alpin': 1, 'contrôle': 1, 'policier': 1, 'vallée': 1, 'durance': 1, 'briançon': 1, 'kilomètre': 1, 'haut': 1, 'ville': 1, 'froid': 1, 'bonnet': 1, 'gant': 1, 'simple': 1, 'tennis': 1, 'pied': 1}\n",
      "{'France': 4}\n",
      "2019-2-12\n",
      "{'mouvement': 8, 'gilet': 6, 'jaune': 6, 'juif': 6, 'etat': 5, 'pouvoir': 5, 'antisémite': 4, 'préjugé': 3, 'contexte': 3, 'argent': 3, 'pierre': 2, 'birnbaum': 2, 'contestation': 2, 'légitimité': 2, 'institution': 2, 'français': 2, 'propice': 2, 'expression': 2, 'antisémitisme': 2, 'national': 2, 'démocratie': 2, 'année': 2, 'hostilité': 2, 'historien': 1, 'sociologue': 1, 'professeur': 1, 'émérite': 1, 'université': 1, 'pari': 1, 'sorbon': 1, 'auteur': 1, 'ouvrage': 1, 'seuil': 1, 'moment': 1, 'tour': 1, 'france': 1, 'fayard': 1, 'radical': 1, 'haine': 1, 'antijuif': 1, 'société': 1, 'discours': 1, 'important': 1, 'emblée': 1, 'riche': 1, 'extension': 1, 'solution': 1, 'problème': 1, 'économique': 1, 'injustice': 1, 'social': 1, 'réel': 1, 'emblème': 1, 'assemblée': 1, 'ministère': 1, 'elysée': 1, 'cadre': 1, 'représentatif': 1, 'main': 1, 'élite': 1, 'peuple': 1, 'opposition': 1, 'vertueux': 1, 'pur': 1, 'innocent': 1, 'compromission': 1, 'application': 1, 'vague': 1, 'occasion': 1, 'mobilisation': 1, 'sondage': 1, 'commission': 1, 'consultatif': 1, 'droit': 1, 'homme': 1, 'constat': 1, 'prégnance': 1, 'monde': 1}\n",
      "{'France': 2, 'Etat': 4}\n",
      "2019-2-22\n",
      "{'membre': 2, 'loge': 2, 'grand': 2, 'conseiller': 2, 'maçonnique': 2, 'nombre': 2, 'france': 2, 'vrai': 1, 'nature': 1, 'lien': 1, 'alexandre': 1, 'benalla': 1, 'chevalier': 1, 'espérance': 1, 'national': 1, 'français': 1, 'glnf': 1, 'emmanuel': 1, 'macron': 1, 'ismaël': 1, 'emelien': 1, 'école': 1, 'stéphane': 1, 'fouk': 1, 'tendance': 1, 'orient': 1, 'pluie': 1, 'contrat': 1, 'signe': 1, 'ancien': 1, 'garde': 1, 'corps': 1, 'amitié': 1, 'affairiste': 1, 'djouhri': 1, 'londres': 1, 'philippe': 1, 'solomon': 1, 'chef': 1, 'etat': 1, 'africain': 1, 'parano': 1, 'fois': 1, 'décision': 1, 'illogique': 1, 'monde': 1, 'affaire': 1, 'solidarité': 1, 'business': 1, 'alain': 1, 'minc': 1, 'idée': 1, 'réseau': 1, 'maçon': 1, 'survivance': 1, 'iiie': 1, 'république': 1, 'rythme': 1, 'an': 1, 'vingtaine': 1, 'obédience': 1, 'élu': 1, 'local': 1, 'médecin': 1, 'petit': 1, 'patron': 1, 'avocat': 1, 'enseignant': 1, 'policier': 1, 'militaire': 1, 'challenge': 1, 'mali': 1, 'inquiétant': 1, 'overdose': 1, 'médicament': 1, 'base': 1, 'opium': 1}\n",
      "{'France': 2}\n",
      "2019-9-6\n",
      "{'racisme': 3, 'pierre': 3, 'france': 2, 'vrai': 2, 'problème': 2, 'september': 2, 'lilian': 1, 'thuram': 1, 'football': 1, 'ménè': 1, 'plateau': 1, 'télévision': 1, 'réalité': 1, 'tancrède': 1, 'ن': 1, 'mene': 1, 'foot': 1}\n",
      "{'France': 2}\n",
      "2019-6-26\n",
      "{'france': 7, 'laurent': 5, 'obertone': 5, 'auteur': 5, 'roman': 5, 'guérilla': 4, 'librairie': 3, 'anticipation': 3, 'livre': 3, 'ouvrage': 3, 'plein': 2, 'suite': 2, 'temps': 2, 'barbare': 2, 'essai': 2, 'volet': 2, 'travail': 2, 'histoire': 2, 'an': 2, 'rentrée': 1, 'littéraire': 1, 'journaliste': 1, 'édition': 1, 'ring': 1, 'éditeur': 1, 'historique': 1, 'titre': 1, 'nouveau': 1, 'opus': 1, 'orange': 1, 'mécanique': 1, 'big': 1, 'brother': 1, 'côté': 1, 'observation': 1, 'timoré': 1, 'sceau': 1, 'chaos': 1, 'face': 1, 'menace': 1, 'actuel': 1, 'guerre': 1, 'civil': 1, 'difficile': 1, 'instant': 1, 'date': 1, 'sortie': 1, 'septembre': 1, 'logique': 1, 'affaire': 1, 'second': 1, 'fois': 1, 'fervent': 1, 'observateur': 1, 'incompréhension': 1, 'média': 1, 'parcours': 1, 'promotion': 1, 'classique': 1, 'incontournable': 1, 'lectorat': 1, 'opinion': 1, 'personnel': 1, 'présent': 1, 'force': 1, 'poids': 1, 'lourd': 1, 'texte': 1, 'tendance': 1, 'lettre': 1, 'it': 1, 'allemagne': 1, 'migrant': 1, 'allemand': 1, 'viol': 1, 'collectif': 1, 'jeune': 1, 'fille': 1, 'robotisation': 1, 'million': 1, 'emploi': 1, 'menacer': 1}\n",
      "{'France': 4, 'Allemagne': 2}\n",
      "2019-12-1\n",
      "{'art': 3, 'conversation': 3, 'français': 2, 'guerre': 2, 'civil': 2, 'historien': 1, 'perte': 1, 'débat': 1, 'essentiel': 1, 'vie': 1, 'démocratique': 1, 'impossible': 1, 'pays': 1, 'monde': 1, 'entier': 1, 'délectation': 1, 'société': 1, 'majeur': 1, 'apparence': 1, 'contradictoire': 1, 'complémentaire': 1, 'armagnac': 1, 'bourguignon': 1, 'catholique': 1, 'protestant': 1, 'frondeur': 1, 'mazarin': 1, 'révolutionnaire': 1, 'monarchiste': 1, 'huitard': 1, 'communard': 1, 'pétainiste': 1, 'résistant': 1, 'gaulliste': 1, 'liste': 1, 'guérilla': 1, 'long': 1, 'incomplet': 1, 'train': 1, 'place': 1, 'islam': 1, 'laïcité': 1, 'gros': 1, 'nouveau': 1, 'épisode': 1, 'coefficient': 1, 'haine': 1, 'nécessaire': 1, 'embrasement': 1, 'grandeur': 1, 'intellectuel': 1, 'rayonnement': 1, 'france': 1, 'figaro': 1}\n",
      "{'France': 2}\n",
      "2019-7-10\n",
      "{'enfant': 6, 'personne': 4, 'france': 4, 'année': 2, 'média': 2, 'planète': 2, 'charlotte': 2, 'debest': 2, 'population': 2, 'milliard': 2, 'habitant': 2, 'famille': 2, 'femme': 2, 'terme': 2, 'dizaine': 1, 'sociologue': 1, 'sujet': 1, 'tabou': 1, 'surmédiatiser': 1, 'juillet': 1, 'journée': 1, 'mondial': 1, 'terre': 1, 'récent': 1, 'rapport': 1, 'onu': 1, 'supplémentaire': 1, 'évolution': 1, 'moment': 1, 'écologie': 1, 'préoccupation': 1, 'majeur': 1, 'article': 1, 'docteure': 1, 'sociologie': 1, 'cours': 1, 'université': 1, 'renne': 1, 'ii': 1, 'spécialiste': 1, 'genre': 1, 'égalité': 1, 'homme': 1, 'thèse': 1, 'choix': 1, 'vie': 1, 'childfree': 1, 'appellation': 1, 'société': 1, 'civil': 1, 'association': 1, 'américain': 1, 'retard': 1, 'question': 1, 'désir': 1, 'côté': 1, 'évidence': 1, 'culture': 1}\n",
      "{'France': 4}\n",
      "2019-7-13\n",
      "{'july': 22, 'algérie': 8, 'france': 6, 'qualification': 5, 'supporter': 4, 'antoine': 4, 'baudino': 4, 'feu': 4, 'marseille': 4, 'pari': 3, 'média': 3, 'algérien': 3, 'victoire': 3, 'voiture': 3, 'gaz': 3, 'lacrymogène': 3, 'guillotière': 3, 'lyon': 3, 'direct': 2, 'champ': 2, 'juillet': 2, 'fetenational': 2, 'force': 2, 'ordre': 2, 'alex': 2, 'celebration': 2, 'bon': 2, 'enfant': 2, 'barricade': 2, 'provence': 2, 'quartier': 2, 'projectile': 2, 'algerie': 2, 'incident': 2, 'cr': 2, 'tir': 2, 'jean': 2, 'fan': 2, 'parisien': 2, 'place': 2, 'finale': 2, 'millier': 2, 'interpellation': 1, 'elysée': 1, 'pierre': 1, 'comprendre': 1, 'papier': 1, 'français': 1, 'africain': 1, 'boche': 1, 'aizendeu': 1, 'ère': 1, 'charge': 1, 'image': 1, 'mainstream': 1, 'macron': 1, 'compagnie': 1, 'laden': 1, 'pote': 1, 'doux': 1, 'lycée': 1, 'priver': 1, 'catholique': 1, 'roubaix': 1, 'damoclès': 1, 'avignon': 1, 'poubelle': 1, 'vaulx': 1, 'jet': 1, 'direction': 1, 'police': 1, 'bilan': 1, 'complet': 1, 'débordement': 1, 'agglo': 1, 'matin': 1, 'julien': 1, 'dambois': 1, 'échauffourée': 1, 'cours': 1, 'belsunce': 1, 'marge': 1, 'fetenationalefrancais': 1, 'face': 1, 'grenade': 1, 'décencerclement': 1, 'flash': 1, 'ball': 1, 'situation': 1, 'algnig': 1, 'léa': 1, 'niveau': 1, 'station': 1, 'métro': 1, 'jeanjaure': 1, 'toulouse': 1, 'occitanie': 1, 'vaul': 1, 'champselysée': 1, 'video': 1, 'marc': 1, 'morandini': 1, 'policier': 1, 'artifice': 1, 'abord': 1, 'élysée': 1, 'centaine': 1, 'personne': 1, 'jaurè': 1, 'tour': 1, 'touraine': 1, 'fumigène': 1, 'sortie': 1, 'loire': 1, 'bfmtv': 1, 'comédie': 1, 'midi': 1, 'libre': 1, 'montpellier': 1, 'scène': 1, 'liesse': 1, 'strasbourg': 1, 'mvheuacpdz': 1, 'dna': 1}\n",
      "{'France': 5, 'Paris': 2, 'Vaulx': 2, 'Guillotière': 3, 'Marseille': 2, 'Algérie': 2, 'Lyon': 2}\n",
      "2019-10-3\n",
      "{'résultat': 3, 'octobre': 3, 'tétraplégique': 2, 'grâce': 2, 'essai': 2, 'clinique': 2, 'lundi': 2, 'centre': 2, 'recherche': 2, 'biomédical': 2, 'grenoble': 2, 'isère': 2, 'france': 2, 'thibault': 1, 'jeune': 1, 'homme': 1, 'an': 1, 'mondiale': 1, 'clinatec': 1, 'juin': 1, 'patient': 1, 'vendredi': 1, 'revue': 1, 'scientifique': 1, 'américain': 1, 'lancet': 1, 'neurology': 1, 'presse': 1, 'info': 1}\n",
      "{'Clinatec': 2, 'Grenoble': 2, 'France': 2}\n",
      "2019-10-14\n",
      "{'musulman': 4, 'culture': 3, 'sonia': 3, 'mabrouk': 3, 'france': 3, 'bon': 3, 'sens': 3, 'heure': 2, 'lundi': 2, 'soir': 2, 'échange': 2, 'haut': 2, 'vol': 2, 'figaro': 2, 'salle': 2, 'tunisie': 2, 'français': 2, 'journaliste': 1, 'tunis': 1, 'lecteur': 1, 'gaveau': 1, 'pari': 1, 'rééquilibrage': 1, 'civilisation': 1, 'chrétien': 1, 'personnalité': 1, 'médiatique': 1, 'charme': 1, 'méditerranéen': 1, 'élégance': 1, 'parisien': 1, 'littérature': 1, 'terme': 1, 'rare': 1, 'éloquence': 1, 'spectateur': 1, 'verdict': 1, 'esprit': 1, 'migrant': 1, 'idée': 1, 'liberté': 1, 'appréciation': 1, 'procès': 1, 'islamophobie': 1, 'pays': 1, 'entier': 1, 'paix': 1, 'vêtement': 1, 'burkini': 1, 'provocation': 1, 'politique': 1, 'nul': 1, 'part': 1, 'issu': 1, 'tradition': 1, 'gré': 1, 'force': 1, 'vérité': 1, 'simple': 1, 'caractère': 1, 'évidence': 1, 'lumière': 1, 'enracinement': 1, 'drame': 1, 'jeune': 1, 'génération': 1, 'langue': 1, 'religion': 1}\n",
      "{'Tunisie': 2, 'France': 3}\n",
      "2019-4-28\n",
      "{'algérie': 3, 'cour': 2, 'droit': 2, 'homme': 2, 'france': 2, 'acte': 2, 'requérant': 2, 'an': 2, 'européen': 1, 'lundi': 1, 'pays': 1, 'algérien': 1, 'participation': 1, 'association': 1, 'malfaiteur': 1, 'vue': 1, 'préparation': 1, 'terroriste': 1, 'torture': 1, 'considération': 1, 'évolution': 1, 'institutionnel': 1, 'rapport': 1, 'organisation': 1, 'défense': 1, 'motif': 1, 'sérieux': 1, 'risque': 1, 'réel': 1, 'traitement': 1, 'inhumain': 1, 'fois': 1, 'arrêt': 1, 'expulsion': 1, 'terrorisme': 1, 'source': 1, 'interne': 1, 'cedh': 1, 'âgé': 1, 'septembre': 1, 'prison': 1, 'tribunal': 1, 'correctionnel': 1, 'pari': 1, 'raison': 1, 'lien': 1, 'groupe': 1, 'combattant': 1, 'maghreb': 1, 'islamique': 1, 'résidence': 1, 'loire': 1, 'figaro': 1}\n",
      "{'France': 2, 'Algérie': 4}\n",
      "2019-4-19\n",
      "{'olympique': 4, 'reconstruction': 2, 'cathédrale': 2, 'capitale': 2, 'tony': 2, 'jeu': 2, 'français': 2, 'monument': 2, 'lieu': 2, 'comité': 1, 'international': 1, 'don': 1, 'euro': 1, 'pari': 1, 'prêt': 1, 'jo': 1, 'objectif': 1, 'temps': 1, 'motivation': 1, 'supplémentaire': 1, 'lettre': 1, 'média': 1, 'message': 1, 'manière': 1, 'synonyme': 1, 'rassemblement': 1, 'sport': 1, 'service': 1, 'humanité': 1, 'mouvement': 1, 'solidarité': 1, 'parisien': 1, 'naturel': 1, 'renaissance': 1, 'cher': 1, 'coeur': 1, 'citoyen': 1, 'monde': 1, 'tour': 1, 'eiffel': 1, 'champ': 1, 'grand': 1, 'palais': 1, 'épreuve': 1, 'emblématique': 1, 'incendie': 1, 'lundi': 1, 'soir': 1, 'décor': 1, 'marathon': 1, 'cyclisme': 1, 'route': 1, 'parcours': 1}\n",
      "{'France': 2}\n",
      "2019-4-3\n",
      "{'parisien': 10, 'france': 7, 'pays': 5, 'blanc': 4, 'noir': 4, 'aya': 4, 'fille': 3, 'monde': 3, 'chic': 2, 'sexy': 2, 'look': 2, 'chose': 2, 'pari': 2, 'réalité': 2, 'couverture': 2, 'féminin': 2, 'piaf': 2, 'snob': 1, 'impertinent': 1, 'irrésistible': 1, 'question': 1, 'référence': 1, 'stylistique': 1, 'création': 1, 'fictionnel': 1, 'cas': 1, 'produit': 1, 'export': 1, 'camembert': 1, 'aoc': 1, 'lait': 1, 'cognac': 1, 'vsop': 1, 'instagram': 1, 'hashtag': 1, 'million': 1, 'occurrence': 1, 'rapide': 1, 'tour': 1, 'horizon': 1, 'photo': 1, 'archétype': 1, 'béret': 1, 'image': 1, 'entier': 1, 'montmartre': 1, 'south': 1, 'renne': 1, 'lo': 1, 'angele': 1, 'dubaï': 1, 'international': 1, 'viral': 1, 'slogan': 1, 'sweat': 1, 'shirt': 1, 'total': 1, 'état': 1, 'esprit': 1, 'rond': 1, 'mince': 1, 'diversité': 1, 'influenceuse': 1, 'populaire': 1, 'marque': 1, 'luxe': 1, 'fashion': 1, 'enquête': 1, 'terrain': 1, 'ligne': 1, 'métro': 1, 'métis': 1, 'manucure': 1, 'xxl': 1, 'from': 1, 'top': 1, 'toe': 1, 'legging': 1, 'journée': 1, 'cours': 1, 'yoga': 1, 'rihanna': 1, 'jeanne': 1, 'damas': 1, 'fressange': 1, 'article': 1, 'severinepierron': 1, 'april': 1, 'diallo': 1, 'stéréotype': 1, 'femme': 1, 'vieux': 1, 'aristocratie': 1, 'ancien': 1, 'pratique': 1, 'culturel': 1, 'raffinement': 1, 'époque': 1, 'lieu': 1, 'mode': 1, 'code': 1, 'classe': 1, 'dominant': 1, 'carte': 1, 'postal': 1, 'fantasme': 1, 'conservateur': 1, 'mythologie': 1, 'fabrication': 1, 'vision': 1, 'rétrograde': 1, 'catégorie': 1, 'population': 1, 'bourgeois': 1, 'europe': 1, 'terme': 1, 'production': 1, 'visible': 1, 'phénomène': 1, 'nakamura': 1, 'grand': 1, 'milieu': 1, 'double': 1, 'hexagone': 1, 'étranger': 1, 'artiste': 1, 'edith': 1, 'place': 1, 'numéro': 1, 'symbole': 1, 'succès': 1, 'banlieue': 1, 'figure': 1, 'mythique': 1, 'français': 1, 'excellence': 1, 'faubourg': 1, 'gouailler': 1, 'ghetto': 1, 'punchline': 1, 'argot': 1, 'much': 1, 'allure': 1, 'reine': 1, 'bourge': 1, 'inè': 1}\n",
      "{'Paris': 9, 'France': 8, 'Noirs': 2}\n",
      "2020-8-16\n",
      "{'tintin': 6, 'extrême': 3, 'droite': 3, 'ligne': 2, 'congo': 2, 'france': 2, 'internet': 1, 'personnage': 1, 'mème': 1, 'mouvance': 1, 'héros': 1, 'bande': 1, 'célèbre': 1, 'populaire': 1, 'hexagone': 1, 'jeune': 1, 'belge': 1, 'communauté': 1, 'couverture': 1, 'théorie': 1, 'grand': 1, 'remplacement': 1, 'toulouse': 1, 'molenbeek': 1, 'quartier': 1, 'bruxelle': 1, 'auteur': 1, 'attentat': 1, 'terroriste': 1, 'belgiqu': 1, 'page': 1, 'image': 1, 'bateau': 1, 'méditerranée': 1, 'titre': 1}\n",
      "{'Tintin': 2, 'France': 2}\n",
      "2020-4-7\n",
      "{'ambassade': 3, 'chine': 2, 'france': 2, 'aide': 2, 'étudiant': 2, 'april': 2, 'coronavirus': 1, 'chinois': 1, 'kit': 1, 'masque': 1, 'mediavenir': 1, 'coup': 1, 'téléphone': 1, 'agent': 1, 'commissariat': 1, 'police': 1, 'démarche': 1, 'paquet': 1, 'santé': 1}\n",
      "{'France': 2}\n",
      "2020-11-11\n",
      "{'cimetière': 5, 'explosif': 5, 'jeddah': 4, 'ville': 4, 'attentat': 3, 'arabie': 3, 'musulman': 3, 'cérémonie': 3, 'engin': 3, 'consulat': 3, 'attaque': 3, 'personne': 2, 'ouest': 2, 'saoudite': 2, 'mercredi': 2, 'armistice': 2, 'novembre': 2, 'france': 2, 'matin': 2, 'jeudi': 1, 'veille': 1, 'fond': 1, 'colère': 1, 'raison': 1, 'caricature': 1, 'prophète': 1, 'soutien': 1, 'messager': 1, 'dieu': 1, 'détachement': 1, 'soldat': 1, 'califat': 1, 'consul': 1, 'européen': 1, 'daesh': 1, 'chaine': 1, 'propagande': 1, 'telegram': 1, 'bfmtv': 1, 'annuel': 1, 'fin': 1, 'guerre': 1, 'mondial': 1, 'général': 1, 'cible': 1, 'blessé': 1, 'quai': 1, 'orsay': 1, 'jour': 1, 'couteau': 1, 'saoudien': 1, 'vigile': 1, 'français': 1, 'jedddah': 1, 'républicain': 1}\n",
      "{'Arabie saoudite': 4, 'Jeddah': 4, 'France': 2}\n",
      "2020-11-8\n",
      "{'mélenchon': 4, 'france': 2, 'mouvement': 2, 'stratégie': 2, 'insoumis': 2, 'stratégique': 2, 'cadre': 2, 'nombre': 2, 'posture': 2, 'gauchisant': 2, 'recette': 2, 'population': 2, 'classe': 2, 'populaire': 2, 'ouvrage': 1, 'réquisitoire': 1, 'implacable': 1, 'équilibré': 1, 'évolution': 1, 'chef': 1, 'incontesté': 1, 'haut': 1, 'importance': 1, 'fondamental': 1, 'facteur': 1, 'politique': 1, 'épisode': 1, 'perquisition': 1, 'octobre': 1, 'image': 1, 'élection': 1, 'européen': 1, 'municipal': 1, 'présidentielle': 1, 'élément': 1, 'dégringolade': 1, 'électoral': 1, 'livre': 1, 'centré': 1, 'choix': 1, 'campagne': 1, 'présidentiel': 1, 'auspice': 1, 'populisme': 1, 'souverainiste': 1, 'républicain': 1, 'inflexion': 1, 'rail': 1, 'traditionnel': 1, 'gauche': 1, 'tournant': 1, 'motivation': 1, 'concret': 1, 'réponse': 1, 'droitisation': 1, 'emmanuel': 1, 'macron': 1, 'parti': 1, 'socialiste': 1, 'influence': 1, 'député': 1, 'volonté': 1, 'base': 1, 'militant': 1, 'justification': 1, 'réalité': 1, 'impitoyable': 1, 'nécessaire': 1, 'nouveau': 1, 'incorrect': 1, 'interview': 1, 'ligne': 1, 'moment': 1, 'dernier': 1, 'candidat': 1, 'gabriel': 1, 'robin': 1, 'november': 1}\n",
      "{'France': 2}\n",
      "2020-11-3\n",
      "{'turc': 3, 'france': 2, 'décision': 2, 'turquie': 1, 'mercredi': 1, 'dissolution': 1, 'organisation': 1, 'ultranationaliste': 1, 'loup': 1, 'gris': 1, 'provocation': 1, 'nécessaire': 1, 'liberté': 1, 'expression': 1, 'réunion': 1, 'répliqueron': 1, 'ferme': 1, 'manière': 1, 'ministère': 1, 'affaire': 1, 'étranger': 1, 'communiqué': 1, 'figaro': 1, 'merfci': 1, 'sda': 1}\n",
      "{'Turquie': 2, 'France': 2}\n",
      "2020-12-4\n",
      "{'livre': 2, 'guerre': 2, 'civil': 2, 'point': 1, 'bascule': 1, 'étincelle': 1, 'france': 1, 'vieux': 1, 'démocratie': 1, 'pays': 1, 'mûr': 1, 'mal': 1, 'explosion': 1, 'rupture': 1, 'crainte': 1, 'risque': 1, 'élection': 1, 'présidentiel': 1, 'spectre': 1, 'analyse': 1, 'exagéré': 1, 'rédaction': 1, 'urgence': 1, 'sombre': 1, 'réaliste': 1, 'bon': 1, 'volonté': 1, 'talent': 1, 'français': 1, 'conscience': 1, 'confiance': 1, 'parisien': 1}\n",
      "{'France': 2}\n",
      "2020-12-3\n",
      "{'attentat': 7, 'islam': 5, 'réseau': 5, 'social': 5, 'mennel': 5, 'candidat': 4, 'france': 4, 'jeune': 4, 'ancien': 3, 'voile': 3, 'tweet': 3, 'nice': 3, 'coup': 3, 'internaute': 3, 'attaque': 2, 'mila': 2, 'mort': 2, 'émission': 2, 'laïcité': 2, 'violence': 2, 'fille': 2, 'école': 2, 'chef': 2, 'etat': 2, 'brut': 2, 'république': 2, 'bon': 2, 'harcèlement': 2, 'religion': 2, 'problème': 2, 'polémique': 2, 'lendemain': 2, 'ibtissem': 2, 'compte': 2, 'semaine': 2, 'terroriste': 2, 'papier': 2, 'vrai': 2, 'jour': 2, 'victime': 2, 'femme': 2, 'adolescent': 1, 'signe': 1, 'fou': 1, 'vendredi': 1, 'décembre': 1, 'macron': 1, 'situation': 1, 'permanent': 1, 'variété': 1, 'grand': 1, 'public': 1, 'critique': 1, 'entretien': 1, 'média': 1, 'ligne': 1, 'principe': 1, 'fondamental': 1, 'état': 1, 'visage': 1, 'particulier': 1, 'relation': 1, 'long': 1, 'date': 1, 'projet': 1, 'collectif': 1, 'séparation': 1, 'politique': 1, 'religieux': 1, 'région': 1, 'monde': 1, 'mal': 1, 'brutmacron': 1, 'fr': 1, 'december': 1, 'passage': 1, 'petit': 1, 'écran': 1, 'message': 1, 'surface': 1, 'blessé': 1, 'promenade': 1, 'anglais': 1, 'facebook': 1, 'routine': 1, 'fidèle': 1, 'identité': 1, 'sale': 1, 'père': 1, 'hamel': 1, 'gouvernement': 1, 'soutien': 1, 'dieudonné': 1, 'islamologue': 1, 'tariq': 1, 'ramadan': 1, 'ong': 1, 'barakacity': 1, 'djihadiste': 1, 'organisation': 1, 'islamique': 1, 'mardi': 1, 'juillet': 1, 'propos': 1, 'saison': 1, 'cours': 1, 'diffusion': 1, 'retrait': 1, 'nouveau': 1, 'vie': 1, 'tonnerre': 1, 'cœur': 1, 'tempête': 1, 'post': 1, 'chanteur': 1, 'concours': 1, 'scène': 1, 'médiatique': 1, 'an': 1, 'style': 1, 'cheveu': 1, 'abonné': 1, 'fanatisme': 1, 'sexualisation': 1, 'famille': 1, 'image': 1, 'reflet': 1, 'propre': 1, 'guerre': 1}\n",
      "{'Mennel': 3, 'France': 4}\n",
      "2020-3-12\n",
      "{'france': 5, 'espagne': 3, 'liaison': 2, 'aérien': 2, 'maritime': 2, 'mesure': 2, 'algérie': 2, 'maroc': 1, 'nouveau': 1, 'ordre': 1, 'côté': 1, 'compagnie': 1, 'national': 1, 'air': 1, 'vol': 1, 'tunisie': 1, 'frontière': 1, 'restreindre': 1, 'desserte': 1, 'europe': 1, 'egypte': 1, 'voyageur': 1, 'étranger': 1, 'jour': 1, 'arrivée': 1, 'tv': 1, 'info': 1, 'algérien': 1, 'autorité': 1, 'face': 1, 'épidémie': 1, 'coronavirus': 1, 'réseau': 1, 'social': 1, 'voix': 1, 'suspension': 1, 'circulation': 1, 'pays': 1, 'européen': 1}\n",
      "{'France': 4, 'Espagne': 2, 'Algérie': 2}\n",
      "2020-3-2\n",
      "{'zemmour': 7, 'march': 5, 'arme': 4, 'noir': 4, 'propos': 3, 'david': 3, 'eric': 3, 'migrant': 2, 'france': 2, 'blanc': 2, 'extrait': 1, 'grèce': 1, 'victime': 1, 'absolu': 1, 'an': 1, 'discours': 1, 'situation': 1, 'polansky': 1, 'ladj': 1, 'ly': 1, 'passé': 1, 'pénal': 1, 'féministe': 1, 'cologne': 1, 'mila': 1, 'mot': 1, 'homme': 1, 'salaudquand': 1, 'arabe': 1, 'saint': 1, 'facealinfo': 1, 'femme': 1, 'haine': 1, 'aïssa': 1, 'maïga': 1, 'équipe': 1, 'foot': 1, 'éric': 1, 'bout': 1, 'logique': 1, 'statistique': 1, 'ethnique': 1, 'partie': 1, 'débat': 1}\n",
      "{'France': 2}\n",
      "2020-3-17\n",
      "{'masque': 5, 'france': 5, 'chine': 3, 'million': 3, 'médical': 3, 'chinois': 3, 'pays': 2, 'belgiqu': 2, 'matériel': 2, 'mercredi': 1, 'pandémie': 1, 'moment': 1, 'face': 1, 'pénurie': 1, 'agence': 1, 'officiel': 1, 'nouveau': 1, 'lot': 1, 'avion': 1, 'don': 1, 'organisation': 1, 'caritatif': 1, 'propagation': 1, 'coronavirus': 1, 'drian': 1, 'bfmtv': 1, 'march': 1, 'groupe': 1, 'alibaba': 1, 'géant': 1, 'part': 1, 'communiqué': 1, 'atterrissage': 1, 'liège': 1, 'transportant': 1, 'européen': 1, 'chiffre': 1, 'mois': 1, 'dernier': 1, 'tonne': 1, 'wuhan': 1, 'ville': 1, 'virus': 1, 'décembre': 1, 'cargaison': 1, 'combinaison': 1, 'protection': 1, 'gant': 1, 'produit': 1, 'désinfectant': 1, 'ministère': 1, 'français': 1, 'affaire': 1, 'étranger': 1}\n",
      "{'Chine': 3, 'France': 3, 'Belgique': 2}\n",
      "2020-6-5\n",
      "{'national': 3, 'violence': 3, 'policier': 3, 'ancien': 3, 'pays': 3, 'rassemblement': 2, 'samedi': 2, 'france': 2, 'origine': 2, 'responsable': 1, 'manifestation': 1, 'racisme': 1, 'eurodéputé': 1, 'bruno': 1, 'gollnisch': 1, 'membre': 1, 'bureau': 1, 'direction': 1, 'élargir': 1, 'soir': 1, 'manifestant': 1, 'élu': 1, 'parti': 1, 'julien': 1, 'odoul': 1, 'raciste': 1, 'courant': 1, 'sage': 1, 'malheureux': 1, 'victime': 1, 'radieux': 1, 'président': 1, 'fn': 1, 'pen': 1, 'bfmtv': 1}\n",
      "{'France': 2}\n",
      "2020-6-15\n",
      "{'immigration': 2, 'france': 2, 'chance': 1, 'merveilleux': 1, 'envie': 1, 'massif': 1, 'déveine': 1, 'échantillon': 1, 'tancrède': 1, 'ن': 1, 'june': 1}\n",
      "{'France': 2}\n",
      "2020-1-20\n",
      "{'juif': 5, 'français': 4, 'acte': 3, 'antisémite': 3, 'phénomène': 3, 'france': 3, 'confession': 3, 'culture': 3, 'enquête': 3, 'regard': 2, 'donnée': 2, 'quantitatif': 2, 'échantillon': 2, 'personne': 2, 'fondapol': 2, 'multiplication': 1, 'début': 1, 'année': 1, 'ampleur': 1, 'proportion': 1, 'profil': 1, 'victime': 1, 'ressenti': 1, 'global': 1, 'prévalence': 1, 'évolution': 1, 'société': 1, 'ensemble': 1, 'antisémitisme': 1, 'statistique': 1, 'ministère': 1, 'intérieur': 1, 'réponse': 1, 'exhaustif': 1, 'question': 1, 'existant': 1, 'dépôt': 1, 'plainte': 1, 'partie': 1, 'iceberg': 1, 'face': 1, 'constat': 1, 'fondation': 1, 'innovation': 1, 'politique': 1, 'ifop': 1, 'diagnostic': 1, 'fin': 1, 'dispositif': 1, 'place': 1, 'logique': 1, 'grand': 1, 'public': 1, 'nouveau': 1, 'e': 1, 'antisemitism': 1, 'chiffre': 1, 'emmanuel': 1, 'macron': 1, 'indifférent': 1, 'jeudi': 1, 'visite': 1, 'officiel': 1, 'israël': 1, 'occasion': 1, 'forum': 1, 'mondial': 1, 'shoah': 1, 'anniversaire': 1, 'libération': 1, 'auschwitz': 1, 'tiers': 1, 'raison': 1, 'appartenance': 1, 'religieux': 1, 'exécutif': 1, 'écrasant': 1, 'majorité': 1, 'confiance': 1, 'association': 1, 'crif': 1, 'consistoir': 1, 'parisien': 1}\n",
      "{'France': 3}\n",
      "2020-1-27\n",
      "{'france': 2, 'élection': 2, 'emmanuel': 2, 'macron': 2, 'éric': 1, 'brunet': 1, 'laurent': 1, 'neumann': 1, 'français': 1, 'compte': 1}\n",
      "{'France': 3}\n",
      "2020-9-6\n",
      "{'nîmes': 3, 'france': 3, 'agression': 3, 'dimanche': 2, 'marche': 2, 'insécurité': 2, 'personne': 2, 'préfecture': 2, 'micro': 2, 'gard': 2, 'lozère': 2, 'enfant': 2, 'nouveau': 2, 'heure': 1, 'femme': 1, 'rue': 1, 'ville': 1, 'marée': 1, 'rouge': 1, 'point': 1, 'départ': 1, 'rassemblement': 1, 'initiative': 1, 'suite': 1, 'jeune': 1, 'mya': 1, 'an': 1, 'homme': 1, 'avance': 1, 'alentours': 1, 'placette': 1, 'dernier': 1, 'victime': 1, 'emmanuell': 1, 'cortège': 1, 'masque': 1, 'sang': 1, 'quarantenaire': 1, 'mère': 1, 'famille': 1, 'impression': 1, 'far': 1, 'west': 1, 'mois': 1, 'bagarre': 1, 'coup': 1, 'feu': 1, 'envie': 1, 'meilleur': 1, 'sécurité': 1}\n",
      "{'France': 3, 'Nîmes': 2}\n",
      "2020-9-25\n",
      "{'migrant': 4, 'france': 4, 'faux': 3, 'année': 3, 'europe': 2, 'européen': 2, 'million': 2, 'entrée': 2, 'nombre': 2, 'carte': 2, 'séjour': 2, 'an': 2, 'français': 2, 'pauvre': 2, 'bras': 1, 'immersion': 1, 'vue': 1, 'échelle': 1, 'solde': 1, 'sortie': 1, 'étranger': 1, 'habitant': 1, 'régulier': 1, 'augmentation': 1, 'modérer': 1, 'demande': 1, 'asile': 1, 'dernier': 1, 'taux': 1, 'acceptation': 1, 'part': 1, 'énorme': 1, 'tête': 1, 'migration': 1, 'image': 1, 'analphabète': 1, 'moyen': 1, 'diplômé': 1, 'jeune': 1, 'immigré': 1, 'âge': 1, 'secours': 1, 'catholique': 1}\n",
      "{'France': 5, 'Europe': 2}\n",
      "2020-9-22\n",
      "{'contenu': 7, 'européen': 5, 'loi': 4, 'avia': 3, 'niveau': 3, 'france': 3, 'illicite': 3, 'gouvernement': 2, 'français': 2, 'obligation': 2, 'demande': 2, 'législatif': 2, 'partie': 2, 'juin': 1, 'semaine': 1, 'conseil': 1, 'constitutionnel': 1, 'commission': 1, 'constitution': 1, 'haine': 1, 'nouveau': 1, 'plateforme': 1, 'moyen': 1, 'contrôle': 1, 'régulateur': 1, 'indépendant': 1, 'recommandation': 1, 'contraignant': 1, 'relatif': 1, 'éventuel': 1, 'manquement': 1, 'strict': 1, 'reflet': 1, 'délai': 1, 'plein': 1, 'pouvoir': 1, 'csa': 1, 'type': 1, 'préjudiciable': 1, 'exemple': 1, 'pornographique': 1, 'désinformation': 1, 'cadre': 1, 'débat': 1, 'digital': 1, 'service': 1, 'futur': 1, 'texte': 1, 'censure': 1, 'national': 1, 'séquence': 1, 'haineux': 1}\n",
      "{'France': 3}\n",
      "2020-9-2\n",
      "{'français': 9, 'an': 6, 'catholicisme': 6, 'culture': 5, 'chrétien': 4, 'fête': 3, 'chiffre': 3, 'sondage': 2, 'france': 2, 'temps': 2, 'société': 2, 'question': 2, 'rapport': 2, 'significatif': 2, 'exemple': 2, 'crucifix': 2, 'mur': 2, 'recul': 2, 'religieux': 2, 'déclin': 2, 'année': 2, 'minorité': 2, 'minoritaire': 2, 'visibilité': 2, 'majoritaire': 2, 'politique': 2, 'enquête': 1, 'institut': 1, 'ifop': 1, 'monde': 1, 'veille': 1, 'assomption': 1, 'net': 1, 'érosion': 1, 'persistance': 1, 'sein': 1, 'sociologue': 1, 'yann': 1, 'raison': 1, 'cleuziou': 1, 'donnée': 1, 'étude': 1, 'occasion': 1, 'venue': 1, 'saint': 1, 'ii': 1, 'strasbourg': 1, 'écart': 1, 'sens': 1, 'matériel': 1, 'élément': 1, 'ordinaire': 1, 'intérieur': 1, 'population': 1, 'point': 1, 'mesure': 1, 'travers': 1, 'pratique': 1, 'pratiquant': 1, 'hebdomadaire': 1, 'noël': 1, 'bible': 1, 'chapelet': 1, 'statuette': 1, 'vierge': 1, 'marqueur': 1, 'important': 1, 'indicateur': 1, 'évolution': 1, 'connaissance': 1, 'signification': 1, 'pâques': 1, 'célèbre': 1, 'résurrection': 1, 'christ': 1, 'baisse': 1, 'pentecôte': 1, 'descente': 1, 'apôtre': 1, 'cardinal': 1, 'ratzinger': 1, 'recomposition': 1, 'occident': 1, 'base': 1, 'créatif': 1, 'supérieur': 1, 'paradoxal': 1, 'dernier': 1, 'élection': 1, 'présidentiel': 1, 'catholique': 1, 'actif': 1, 'visible': 1, 'décennie': 1, 'prise': 1, 'conscience': 1, 'statut': 1, 'besoin': 1, 'intérêt': 1, 'vote': 1, 'engagement': 1, 'parti': 1, 'conservatisme': 1, 'bioéthique': 1, 'vaticannew': 1}\n",
      "{'France': 6}\n",
      "2020-2-17\n",
      "{'langue': 4, 'enfant': 2, 'école': 2, 'afrique': 2, 'nord': 2, 'ministère': 2, 'arabe': 2, 'association': 2, 'monde': 2, 'français': 2, 'primaire': 1, 'collège': 1, 'demande': 1, 'parent': 1, 'famille': 1, 'originaire': 1, 'intérieur': 1, 'personne': 1, 'cours': 1, 'communautaire': 1, 'confessionnel': 1, 'structure': 1, 'education': 1, 'national': 1, 'insuffisance': 1, 'offre': 1, 'public': 1, 'exode': 1, 'mosquée': 1, 'religieux': 1, 'officine': 1, 'idéologie': 1, 'islamiste': 1, 'enseignement': 1, 'valeur': 1, 'république': 1, 'jack': 1, 'séparatisme': 1, 'apprentissage': 1, 'stratégique': 1, 'france': 1, 'parler': 1, 'pays': 1, 'golfe': 1, 'balance': 1, 'commercial': 1, 'excédentaire': 1, 'onu': 1, 'jeunesse': 1, 'réseau': 1, 'social': 1, 'art': 1, 'littérature': 1, 'poste': 1, 'cabinet': 1, 'culture': 1, 'saoudien': 1, 'preuve': 1, 'rayonnement': 1}\n",
      "{'Afrique du Nord': 2, 'France': 2}\n",
      "2020-10-29\n",
      "{'attentat': 10, 'marocain': 5, 'attaque': 5, 'algérien': 4, 'pari': 4, 'ahmed': 3, 'monde': 3, 'ressortissant': 3, 'nationalité': 3, 'tunisien': 3, 'france': 2, 'avril': 2, 'auteur': 2, 'origine': 2, 'match': 2, 'janvier': 2, 'marseille': 2, 'express': 2, 'nice': 2, 'mohamed': 2, 'abdallah': 2, 'karoui': 1, 'essayiste': 1, 'consultant': 1, 'français': 1, 'pouvoir': 1, 'politique': 1, 'ambition': 1, 'islam': 1, 'wikipédia': 1, 'assassinat': 1, 'tentative': 1, 'victime': 1, 'aurélie': 1, 'châtelain': 1, 'ghlam': 1, 'étudiant': 1, 'source': 1, 'aout': 1, 'train': 1, 'thaly': 1, 'khazzani': 1, 'point': 1, 'novembre': 1, 'abaaoud': 1, 'commandant': 1, 'opérationnel': 1, 'belgiqu': 1, 'belge': 1, 'ramadan': 1, 'mansour': 1, 'irakien': 1, 'al': 1, 'mohammad': 1, 'identité': 1, 'incertain': 1, 'octobre': 1, 'île': 1, 'lero': 1, 'groupe': 1, 'tv': 1, 'info': 1, 'chakib': 1, 'akrouh': 1, 'belgo': 1, 'inrocks': 1, 'commissariat': 1, 'arrondissement': 1, 'casablanca': 1, 'professeur': 1, 'machette': 1, 'adolescent': 1, 'turc': 1, 'juillet': 1, 'lahouaiej': 1, 'bouhlel': 1, 'louvre': 1, 'assaillant': 1, 'hamahmy': 1, 'égyptien': 1, 'rtl': 1, 'marteau': 1, 'policier': 1, 'cathédrale': 1, 'farid': 1, 'ikken': 1, 'gare': 1, 'hanachi': 1, 'situation': 1, 'irrégulier': 1, 'reuters': 1, 'militaire': 1, 'levallois': 1, 'perret': 1, 'hamou': 1, 'benlatrèch': 1, 'parisien': 1, 'détenu': 1, 'islamiste': 1, 'surveillant': 1, 'christian': 1, 'ganczarski': 1, 'allemand': 1, 'polonais': 1, 'lci': 1, 'rue': 1, 'victor': 1, 'hugo': 1, 'lyon': 1, 'medjoub': 1, 'citoyen': 1, 'août': 1, 'visa': 1, 'touristique': 1, 'valable': 1, 'jour': 1, 'jdd': 1, 'osman': 1, 'soudanais': 1, 'figaro': 1, 'hachoir': 1, 'ancien': 1, 'local': 1, 'hebdo': 1, 'hassan': 1, 'ali': 1, 'pakistanais': 1, 'voix': 1, 'nord': 1, 'conflans': 1, 'saint': 1, 'honorine': 1, 'anzorov': 1, 'tchétchène': 1, 'russie': 1, 'basilique': 1, 'matin': 1}\n",
      "{'France': 2, 'Paris': 2, 'Nice': 3, 'Tunisie': 2}\n",
      "2020-10-24\n",
      "{'october': 5, 'cyberattaque': 3, 'centaine': 3, 'commentaire': 3, 'islamiste': 3, 'décapitation': 3, 'guerre': 3, 'site': 2, 'alerte': 1, 'cybersécurité': 1, 'vague': 1, 'défiguration': 1, 'cours': 1, 'internet': 1, 'conseil': 1, 'face': 1, 'facebook': 1, 'soir': 1, 'france': 1, 'info': 1, 'français': 1, 'direct': 1, 'maxim': 1, 'groupe': 1, 'samuel': 1, 'levy': 1, 'zone': 1, 'heure': 1, 'defiguration': 1, 'rees': 1}\n",
      "{'France': 3}\n",
      "2020-10-19\n",
      "{'mila': 13, 'october': 6, 'point': 5, 'jeune': 4, 'lycée': 4, 'islam': 4, 'affaire': 3, 'mort': 3, 'vidéo': 3, 'histoire': 3, 'an': 3, 'vie': 3, 'propos': 2, 'musulman': 2, 'pute': 2, 'femme': 2, 'janvier': 2, 'dernier': 2, 'reclus': 2, 'peur': 2, 'parent': 2, 'politique': 2, 'adolescent': 2, 'viol': 2, 'silence': 2, 'lycéen': 2, 'enquête': 2, 'france': 2, 'reportage': 1, 'jeudi': 1, 'octobre': 1, 'tête': 1, 'journal': 1, 'affolant': 1, 'part': 1, 'élève': 1, 'léonard': 1, 'vinci': 1, 'villefontaine': 1, 'passerelle': 1, 'bande': 1, 'garçon': 1, 'terminal': 1, 'balance': 1, 'buisson': 1, 'terre': 1, 'bel': 1, 'route': 1, 'grand': 1, 'groupe': 1, 'suppression': 1, 'nuancer': 1, 'inconscient': 1, 'énervé': 1, 'religion': 1, 'prison': 1, 'vérité': 1, 'coin': 1, 'excuse': 1, 'oppressant': 1, 'limite': 1, 'fille': 1, 'valeur': 1, 'matin': 1, 'harcelée': 1, 'mois': 1, 'angoisse': 1, 'établissement': 1, 'pagaille': 1, 'internat': 1, 'directeur': 1, 'charte': 1, 'internet': 1, 'mot': 1, 'écho': 1, 'soutien': 1, 'ségolène': 1, 'royal': 1, 'manque': 1, 'respect': 1, 'supposer': 1, 'protection': 1, 'phrase': 1, 'terrible': 1, 'heureux': 1, 'rtl': 1, 'isérois': 1, 'public': 1, 'gouine': 1, 'salope': 1, 'sale': 1, 'chien': 1, 'jour': 1, 'enfer': 1, 'permanent': 1, 'édifiant': 1, 'sébastien': 1, 'fol': 1, 'génération': 1, 'adulte': 1, 'sécurité': 1, 'glaçant': 1, 'immense': 1, 'impardonnable': 1, 'lâcheté': 1, 'collectif': 1, 'géraldine': 1, 'woessner': 1, 'mère': 1, 'rushdie': 1, 'étrange': 1, 'défaite': 1, 'etienn': 1, 'gernell': 1, 'butée': 1, 'islamiste': 1, 'policier': 1, 'gendarme': 1, 'juge': 1, 'sérieux': 1, 'ivann': 1, 'trippenbach': 1, 'lien': 1, 'màj': 1, 'revue': 1, 'presse': 1}\n",
      "{'Point': 2, 'France': 2}\n",
      "2020-10-21\n",
      "{'français': 3, 'france': 3, 'sondage': 2, 'ifop': 2, 'cnew': 2, 'sud': 2, 'radio': 2, 'confiance': 2, 'macron': 2, 'laïcité': 2, 'professeur': 2, 'caricature': 2, 'élève': 2, 'liberté': 2, 'expression': 2, 'religion': 2, 'islamisme': 2, 'république': 2, 'sondé': 2, 'ministre': 2, 'emmanuel': 1, 'gouvernement': 1, 'terrorisme': 1, 'train': 1, 'assassinat': 1, 'samuel': 1, 'paty': 1, 'histoire': 1, 'plein': 1, 'rue': 1, 'conflans': 1, 'saint': 1, 'honorine': 1, 'vendredi': 1, 'dernier': 1, 'inquiétude': 1, 'place': 1, 'école': 1, 'société': 1, 'danger': 1, 'fiducial': 1, 'personne': 1, 'guerre': 1, 'grand': 1, 'part': 1, 'enseignant': 1, 'but': 1, 'forme': 1, 'hiérarchie': 1, 'cas': 1, 'incident': 1, 'classe': 1, 'lieu': 1, 'patronne': 1, 'rassemblement': 1, 'national': 1, 'pen': 1, 'intérieur': 1, 'gérald': 1, 'darmanin': 1, 'ancien': 1, 'président': 1, 'nicolas': 1, 'sarkozy': 1, 'jean': 1, 'dissolution': 1, 'ccif': 1, 'collectif': 1, 'islamophobie': 1, 'collimateur': 1, 'autorité': 1, 'point': 1}\n",
      "{'France': 6}\n",
      "2020-10-25\n",
      "{'soutien': 3, 'mélenchon': 2, 'france': 2, 'octobre': 2, 'président': 2, 'république': 2, 'syrie': 2, 'dossier': 1, 'macron': 1, 'leader': 1, 'lundi': 1, 'chef': 1, 'état': 1, 'français': 1, 'cible': 1, 'attaque': 1, 'personnel': 1, 'violent': 1, 'recep': 1, 'tayyip': 1, 'erdogan': 1, 'contrôle': 1, 'situation': 1, 'libye': 1, 'ton': 1, 'temps': 1, 'problème': 1, 'allié': 1, 'otan': 1, 'ministre': 1, 'édouard': 1, 'philippe': 1, 'assemblée': 1, 'national': 1, 'invasion': 1, 'turquie': 1, 'kurde': 1, 'lieu': 1, 'mendier': 1, 'stratégie': 1, 'compte': 1, 'part': 1, 'tweet': 1, 'point': 1}\n",
      "{'France': 2, 'Syrie': 2}\n",
      "2020-10-28\n",
      "{'france': 2, 'étienn': 1, 'gonneville': 1, 'ambassadeur': 1, 'suède': 1, 'télévision': 1, 'suédois': 1, 'pays': 1, 'musulman': 1}\n",
      "{'France': 2}\n",
      "2020-10-15\n",
      "{'col': 4, 'france': 3, 'association': 2, 'migrant': 2, 'exilé': 2, 'pied': 2, 'accessible': 2, 'médecin': 2, 'monde': 2, 'fraternité': 2, 'dizaine': 1, 'collectif': 1, 'pays': 1, 'accueil': 1, 'marche': 1, 'samedi': 1, 'elysée': 1, 'alpe': 1, 'expérience': 1, 'briançon': 1, 'livre': 1, 'bus': 1, 'italie': 1, 'echelle': 1, 'début': 1, 'hiver': 1, 'froid': 1, 'neige': 1, 'montgenèvre': 1, 'tentative': 1, 'nord': 1, 'alpes': 1, 'accès': 1, 'difficile': 1, 'cause': 1, 'tunnel': 1, 'fréju': 1, 'police': 1, 'traque': 1, 'homme': 1, 'sûr': 1, 'désespoir': 1, 'vie': 1, 'maraude': 1, 'montagne': 1, 'assistance': 1, 'danger': 1, 'expertise': 1, 'sanitaire': 1, 'cas': 1, 'facile': 1, 'abri': 1, 'conseil': 1, 'constitutionnel': 1, 'droit': 1, 'chose': 1, 'dur': 1, 'asile': 1, 'an': 1, 'réponse': 1}\n",
      "{'France': 3, 'Alpes': 2}\n",
      "2020-7-24\n",
      "{'ministre': 5, 'déplacement': 2, 'jean': 2, 'méthode': 2, 'sarkozy': 2, 'intérieur': 2, 'président': 2, 'politique': 2, 'gérald': 2, 'darmanin': 2, 'confinement': 2, 'france': 2, 'cas': 1, 'ancien': 1, 'mentor': 1, 'français': 1, 'terrain': 1, 'caste': 1, 'équipe': 1, 'information': 1, 'ministère': 1, 'week': 1, 'end': 1, 'beauvau': 1, 'différence': 1, 'nuance': 1, 'politologue': 1, 'frédéric': 1, 'dabi': 1, 'instituf': 1, 'ifop': 1, 'époque': 1, 'nicolas': 1, 'dimension': 1, 'volonté': 1, 'actualité': 1, 'idée': 1, 'agenda': 1, 'médiatique': 1, 'prise': 1, 'position': 1, 'instant': 1, 'gouvernement': 1, 'réaction': 1, 'rappel': 1, 'accident': 1, 'route': 1, 'mortel': 1, 'albon': 1, 'mort': 1, 'message': 1, 'plein': 1, 'nuit': 1, 'place': 1, 'matin': 1, 'délinquance': 1, 'tourcoing': 1, 'sécuritaire': 1}\n",
      "{'France': 3}\n",
      "2020-7-6\n",
      "{'moretti': 4, 'eric': 3, 'dupond': 3, 'avocat': 3, 'affaire': 2, 'garde': 2, 'sceau': 2, 'parquet': 2, 'national': 2, 'financier': 2, 'place': 2, 'pnf': 2, 'association': 2, 'france': 2, 'remaniement': 1, 'judiciaire': 1, 'guerre': 1, 'prise': 1, 'position': 1, 'doute': 1, 'magistrat': 1, 'cœur': 1, 'fin': 1, 'impulsion': 1, 'françois': 1, 'hollande': 1, 'scandale': 1, 'jérôme': 1, 'cahuzac': 1, 'client': 1, 'patrick': 1, 'procès': 1, 'fraude': 1, 'fiscal': 1, 'ericdupond': 1, 'réquisition': 1, 'audience': 1, 'sévère': 1, 'anticor': 1, 'nomination': 1, 'mauvais': 1, 'signal': 1, 'éthique': 1, 'anticorruption': 1, 'arrivée': 1, 'vendôme': 1, 'actualité': 1, 'débat': 1, 'violence': 1, 'policier': 1, 'raciste': 1, 'thème': 1, 'jeune': 1, 'théo': 1, 'interpellation': 1, 'février': 1, 'sensible': 1, 'ombre': 1, 'mars': 1, 'ténor': 1, 'associé': 1, 'antoine': 1, 'vey': 1, 'tribune': 1, 'jdd': 1, 'bloc': 1, 'excuse': 1, 'président': 1, 'syndicat': 1, 'commissaire': 1, 'police': 1, 'contraire': 1, 'article': 1, 'intégralité': 1, 'info': 1}\n",
      "{'Sceaux': 2, 'France': 2}\n",
      "2021-6-17\n",
      "{'français': 5, 'société': 4, 'social': 4, 'vision': 3, 'politique': 3, 'fort': 3, 'population': 3, 'universalisme': 2, 'question': 2, 'immigration': 2, 'france': 2, 'citoyen': 2, 'origine': 2, 'national': 2, 'attachement': 2, 'indiscernable': 2, 'bon': 2, 'corps': 2, 'ancêtre': 2, 'symbolique': 2, 'pression': 2, 'assimilation': 2, 'universel': 2, 'philippe': 1, 'iribarne': 1, 'sociologue': 1, 'républicain': 1, 'crise': 1, 'large': 1, 'ouverture': 1, 'diversité': 1, 'exigence': 1, 'intégration': 1, 'droit': 1, 'sol': 1, 'territoire': 1, 'conception': 1, 'exigeant': 1, 'unité': 1, 'vif': 1, 'laïcité': 1, 'cours': 1, 'xix': 1, 'siècle': 1, 'début': 1, 'xxe': 1, 'universaliste': 1, 'ménage': 1, 'grand': 1, 'masse': 1, 'héritage': 1, 'particulariste': 1, 'gaulois': 1, 'issu': 1, 'raccord': 1, 'particularisme': 1, 'oeil': 1, 'loi': 1, 'manière': 1, 'faveur': 1, 'entrave': 1, 'fraction': 1, 'différence': 1, 'patrie': 1, 'portée': 1, 'situation': 1, 'côté': 1, 'résistance': 1, 'sein': 1, 'part': 1, 'diaspora': 1, 'pays': 1, 'télévision': 1, 'conjoint': 1, 'enfant': 1, 'pratique': 1, 'distance': 1, 'rapport': 1, 'accueil': 1, 'nombre': 1, 'membre': 1, 'assimilateur': 1, 'quotidien': 1, 'nom': 1, 'refus': 1, 'discrimination': 1, 'jeune': 1, 'génération': 1, 'histoire': 1, 'empreinte': 1, 'fierté': 1, 'terme': 1, 'président': 1, 'république': 1, 'emmanuel': 1, 'macron': 1, 'candidat': 1, 'campagne': 1, 'février': 1, 'culture': 1, 'monde': 1}\n",
      "{'France': 2}\n",
      "2021-6-24\n",
      "{'science': 6, 'blanc': 6, 'france': 5, 'théorie': 4, 'uni': 4, 'école': 3, 'po': 3, 'june': 3, 'professeur': 3, 'français': 3, 'université': 2, 'cadre': 2, 'scientifique': 2, 'alimentaire': 2, 'syndicat': 2, 'étudiant': 2, 'racialiste': 2, 'récent': 2, 'invité': 2, 'institution': 2, 'hiérarchie': 2, 'oppression': 2, 'racial': 2, 'blancheur': 2, 'nourriture': 2, 'domination': 2, 'national': 2, 'communiqué': 2, 'droit': 2, 'venue': 2, 'amérique': 2, 'race': 2, 'culture': 2, 'pensée': 1, 'particulier': 1, 'débat': 1, 'pluralité': 1, 'approche': 1, 'contemporain': 1, 'humain': 1, 'social': 1, 'respect': 1, 'déontologique': 1, 'sangliersympa': 1, 'dérive': 1, 'organisation': 1, 'estudiantin': 1, 'exemple': 1, 'union': 1, 'interuniversitaire': 1, 'droite': 1, 'populaire': 1, 'pari': 1, 'direct': 1, 'juin': 1, 'thème': 1, 'république': 1, 'mathilde': 1, 'cohen': 1, 'connecticut': 1, 'nation': 1, 'travail': 1, 'regard': 1, 'identité': 1, 'dominance': 1, 'monument': 1, 'gloire': 1, 'suprématie': 1, 'statue': 1, 'colbert': 1, 'assemblée': 1, 'soumission': 1, 'rapport': 1, 'whitenes': 1, 'travers': 1, 'gastronomie': 1, 'fois': 1, 'glissement': 1, 'progressif': 1, 'rigueur': 1, 'profit': 1, 'idéologie': 1}\n",
      "{'France': 4, 'Amérique': 2}\n",
      "2021-11-15\n",
      "{'migration': 5, 'rapport': 4, 'enquête': 4, 'légal': 4, 'lrem': 3, 'commission': 3, 'immigration': 3, 'voie': 3, 'membre': 3, 'député': 2, 'krimi': 2, 'mardi': 2, 'novembre': 2, 'aile': 2, 'gauche': 2, 'france': 2, 'public': 2, 'sonia': 1, 'parlementaire': 1, 'politique': 1, 'état': 1, 'caler': 1, 'approche': 1, 'sécuritaire': 1, 'territoire': 1, 'européen': 1, 'dérive': 1, 'sébastien': 1, 'nado': 1, 'ouverture': 1, 'rédaction': 1, 'ancien': 1, 'république': 1, 'marche': 1, 'manière': 1, 'pragmatique': 1, 'humain': 1, 'surenchère': 1, 'proposition': 1, 'plein': 1, 'campagne': 1, 'présidentiel': 1, 'phénomène': 1, 'constant': 1, 'limité': 1, 'réalité': 1, 'débat': 1, 'rapporteure': 1, 'déplacement': 1, 'pouvoir': 1, 'mafia': 1, 'passeur': 1, 'auteur': 1, 'impossible': 1, 'parcours': 1, 'émigration': 1, 'europe': 1, 'option': 1, 'détournement': 1, 'procédure': 1, 'asile': 1, 'opinion': 1, 'suite': 1, 'discussion': 1, 'parlement': 1}\n",
      "{'France': 2}\n",
      "2021-11-8\n",
      "{'lycée': 7, 'drôme': 6, 'france': 5, 'établissement': 5, 'gustave': 4, 'pierrelatte': 4, 'individu': 4, 'élève': 3, 'dernier': 3, 'enseignant': 3, 'cours': 3, 'octobre': 3, 'prof': 3, 'cas': 3, 'professeur': 3, 'jaume': 2, 'novembre': 2, 'chaise': 2, 'lundi': 2, 'tag': 2, 'porte': 2, 'toilette': 2, 'garçon': 2, 'niqu': 2, 'islamophobe': 2, 'proviseur': 2, 'plainte': 2, 'cause': 2, 'rep': 2, 'partie': 2, 'professionnel': 2, 'niveau': 2, 'info': 2, 'mardi': 2, 'matin': 2, 'garde': 1, 'vue': 1, 'direction': 1, 'plein': 1, 'bleu': 1, 'visage': 1, 'capuche': 1, 'intrusion': 1, 'lycéen': 1, 'ardéchois': 1, 'protection': 1, 'judiciaire': 1, 'jeunesse': 1, 'priver': 1, 'conseil': 1, 'discipline': 1, 'menaçant': 1, 'réserver': 1, 'problème': 1, 'faisceau': 1, 'damien': 1, 'challéat': 1, 'histoire': 1, 'géographie': 1, 'collège': 1, 'réseau': 1, 'éducation': 1, 'prioritaire': 1, 'bénéfice': 1, 'moyen': 1, 'surveillant': 1, 'encadrement': 1, 'cpe': 1, 'hommage': 1, 'samuel': 1, 'paty': 1, 'signification': 1, 'bêtise': 1, 'alerte': 1, 'directeur': 1, 'académique': 1, 'graffiti': 1, 'jeudi': 1, 'début': 1, 'classe': 1, 'jaum': 1, 'justesse': 1, 'fuite': 1, 'extérieur': 1, 'inspecteur': 1, 'académie': 1, 'tenue': 1, 'sac': 1, 'dos': 1, 'acte': 1, 'inadmissible': 1, 'réaction': 1, 'agression': 1, 'suite': 1, 'solution': 1, 'face': 1, 'dégradation': 1, 'vie': 1, 'scolaire': 1, 'ardèche': 1}\n",
      "{'Pierrelatte': 3, 'Drôme': 4, 'France': 3}\n",
      "2021-11-14\n",
      "{'november': 19, 'immigration': 13, 'bfmtv': 7, 'valérie': 7, 'pécress': 7, 'france': 5, 'débatdeladroite': 5, 'voile': 5, 'familial': 4, 'barnier': 4, 'ciotti': 4, 'debatdeladroite': 4, 'coup': 3, 'arrêt': 3, 'immédiat': 3, 'incontrôlé': 3, 'regroupement': 3, 'droit': 3, 'michel': 3, 'éric': 3, 'pays': 3, 'europe': 3, 'grand': 3, 'enfant': 3, 'régularisation': 2, 'urgence': 2, 'français': 2, 'étudiant': 2, 'besoin': 2, 'loi': 2, 'jeune': 2, 'interdiction': 2, 'frontière': 2, 'femme': 2, 'politique': 2, 'allocation': 2, 'philippe': 1, 'juvin': 1, 'moratoire': 1, 'hasard': 1, 'chance': 1, 'étranger': 1, 'team': 1, 'modérer': 1, 'algérie': 1, 'mali': 1, 'pakistan': 1, 'zéro': 1, 'légal': 1, 'illégal': 1, 'xavier': 1, 'bertrand': 1, 'intégration': 1, 'lien': 1, 'islamisme': 1, 'terrorisme': 1, 'insécurité': 1, 'proposition': 1, 'constitutionnel': 1, 'contrôle': 1, 'flux': 1, 'migratoire': 1, 'clair': 1, 'net': 1, 'précis': 1, 'problématique': 1, 'avecciotti': 1, 'adroit': 1, 'debatlr': 1, 'alexandre': 1, 'saradjian': 1, 'asile': 1, 'chantage': 1, 'dictateur': 1, 'genou': 1, 'polonais': 1, 'existence': 1, 'jeu': 1, 'port': 1, 'forcer': 1, 'attaque': 1, 'homme': 1, 'histoire': 1, 'repentance': 1, 'présence': 1, 'monde': 1, 'entier': 1, 'grâce': 1, 'puissance': 1, 'république': 1, 'républicain': 1, 'relance': 1, 'deuxième': 1, 'perte': 1, 'achat': 1, 'arrivée': 1, 'sécuritaire': 1, 'ordre': 1, 'peur': 1, 'camp': 1, 'société': 1, 'total': 1, 'étendard': 1, 'islam': 1, 'mineur': 1, 'usager': 1, 'service': 1, 'public': 1, 'accompagnant': 1, 'scolaire': 1, 'eric': 1}\n",
      "{'France': 5, 'Europe': 3}\n",
      "2021-11-10\n",
      "{'république': 3, 'france': 3, 'président': 2, 'cérémonie': 2, 'chef': 2, 'etat': 2, 'élection': 2, 'présidentiel': 2, 'eric': 2, 'zemmour': 2, 'joséphine': 2, 'baker': 2, 'origine': 2, 'monaco': 2, 'éloge': 1, 'funèbre': 1, 'honneur': 1, 'hubert': 1, 'germain': 1, 'octobre': 1, 'nouveau': 1, 'elysée': 1, 'jeunesse': 1, 'figure': 1, 'exemplaire': 1, 'héros': 1, 'élan': 1, 'patriotique': 1, 'grand': 1, 'loge': 1, 'legs': 1, 'universel': 1, 'fraternité': 1, 'emmanuel': 1, 'macron': 1, 'contraire': 1, 'polémiste': 1, 'extrême': 1, 'droite': 1, 'probable': 1, 'candidat': 1, 'source': 1, 'identitaire': 1, 'état': 1, 'esprit': 1, 'comparable': 1, 'entrée': 1, 'panthéon': 1, 'novembre': 1, 'icône': 1, 'résistance': 1, 'ancien': 1, 'star': 1, 'music': 1, 'hall': 1, 'américain': 1, 'travers': 1, 'enfant': 1, 'adoptif': 1, 'tribu': 1, 'tombeau': 1, 'vide': 1, 'volonté': 1, 'famille': 1, 'dépouille': 1, 'place': 1, 'cénotaphe': 1, 'terre': 1, 'avion': 1, 'ville': 1, 'natal': 1, 'pari': 1, 'heure': 1, 'gloire': 1, 'artiste': 1, 'château': 1, 'milandes': 1, 'dordogne': 1, 'hommage': 1, 'moment': 1, 'union': 1, 'national': 1, 'différence': 1, 'agitateur': 1, 'division': 1, 'haine': 1, 'délégué': 1, 'général': 1, 'marche': 1, 'lrm': 1, 'stanisla': 1, 'guerini': 1, 'usage': 1, 'politique': 1, 'mémoire': 1, 'mois': 1}\n",
      "{'Etat': 2, 'France': 2, 'Monaco': 2}\n",
      "2021-11-25\n",
      "{'immigration': 3, 'candidat': 3, 'yannick': 3, 'jadot': 3, 'naufrage': 2, 'peur': 2, 'français': 2, 'france': 2, 'problème': 1, 'niveau': 1, 'europe': 1, 'écologiste': 1, 'présidentielle': 1, 'vendredi': 1, 'caler': 1, 'hommage': 1, 'migrant': 1, 'canot': 1, 'eurodéputé': 1, 'programme': 1, 'journée': 1, 'visite': 1, 'matinal': 1, 'salarié': 1, 'grève': 1, 'leroy': 1, 'merlin': 1, 'augmentation': 1, 'salaire': 1, 'preuve': 1, 'terrain': 1, 'social': 1, 'place': 1, 'central': 1, 'gauche': 1, 'chapelle': 1, 'ardent': 1, 'église': 1, 'bouquet': 1, 'fleur': 1, 'manche': 1, 'encablure': 1, 'mercredi': 1, 'drame': 1, 'poignée': 1, 'journaliste': 1, 'cheveu': 1, 'désordonné': 1, 'vent': 1, 'partie': 1, 'image': 1, 'parcours': 1, 'personne': 1, 'lien': 1, 'sandrine': 1, 'rousseau': 1, 'eelv': 1, 'accueil': 1, 'immigré': 1, 'impôt': 1, 'débat': 1, 'politique': 1, 'danemark': 1, 'barbelé': 1, 'pologne': 1, 'construction': 1, 'mur': 1, 'grand': 1, 'remplacement': 1, 'aberration': 1, 'sondage': 1, 'sympathisant': 1, 'rn': 1, 'étranger': 1, 'insoumis': 1, 'écolo': 1, 'socialiste': 1, 'avis': 1}\n",
      "{'France': 3}\n",
      "2021-11-4\n",
      "{'voile': 15, 'campagne': 8, 'femme': 7, 'monde': 6, 'conseil': 5, 'musulman': 5, 'europe': 4, 'liberté': 4, 'hijab': 4, 'année': 4, 'islamiste': 4, 'france': 3, 'européen': 3, 'ennuyeux': 3, 'frère': 3, 'islam': 3, 'communication': 2, 'diversité': 2, 'droite': 2, 'image': 2, 'jeune': 2, 'enquête': 2, 'organisation': 2, 'islamique': 2, 'chantal': 2, 'rudder': 2, 'habit': 2, 'express': 2, 'récent': 2, 'islamisme': 2, 'religieux': 2, 'ancien': 2, 'coutume': 2, 'tunisien': 2, 'société': 2, 'dos': 2, 'révolution': 2, 'pilier': 2, 'blasphème': 2, 'arme': 2, 'pays': 2, 'polémique': 1, 'exécutif': 1, 'mercredi': 1, 'démarche': 1, 'identitaire': 1, 'retrait': 1, 'réseau': 1, 'social': 1, 'organisme': 1, 'gauche': 1, 'universaliste': 1, 'extrême': 1, 'marine': 1, 'pen': 1, 'eric': 1, 'zemmour': 1, 'opération': 1, 'union': 1, 'portrait': 1, 'moitié': 1, 'beauté': 1, 'point': 1, 'hebdomadaire': 1, 'mariann': 1, 'fd': 1, 'lien': 1, 'transnational': 1, 'association': 1, 'origine': 1, 'femyso': 1, 'forum': 1, 'étudiant': 1, 'lobbyisme': 1, 'faveur': 1, 'doute': 1, 'journaliste': 1, 'auteure': 1, 'long': 1, 'edition': 1, 'observatoire': 1, 'début': 1, 'ahurissement': 1, 'français': 1, 'charge': 1, 'norme': 1, 'juridique': 1, 'rôle': 1, 'influence': 1, 'lobby': 1, 'discrimination': 1, 'rare': 1, 'cas': 1, 'port': 1, 'promotion': 1, 'publication': 1, 'simple': 1, 'inverse': 1, 'livre': 1, 'réapparition': 1, 'montée': 1, 'fin': 1, 'époque': 1, 'monopole': 1, 'affirmation': 1, 'identité': 1, 'patriarcal': 1, 'pourtour': 1, 'méditerranée': 1, 'juif': 1, 'réussite': 1, 'remarquable': 1, 'attribut': 1, 'militant': 1, 'anticolonialiste': 1, 'egyptienne': 1, 'hoda': 1, 'charaoui': 1, 'féministe': 1, 'leader': 1, 'nationaliste': 1, 'totem': 1, 'arriération': 1, 'colonisation': 1, 'domination': 1, 'occidental': 1, 'iran': 1, 'turquie': 1, 'habib': 1, 'bourguiba': 1, 'président': 1, 'épouvantable': 1, 'chiffon': 1, 'compatriote': 1, 'caméra': 1, 'vidéo': 1, 'célèbre': 1, 'tournée': 1, 'ringard': 1, 'accord': 1, 'gouvernement': 1, 'chef': 1, 'phénomène': 1, 'stupéfiant': 1, 'mépris': 1, 'forme': 1, 'premier': 1, 'stratégie': 1, 'reconquête': 1, 'uniforme': 1, 'voie': 1, 'traditionnel': 1, 'papa': 1, 'politique': 1, 'charia': 1, 'constitution': 1, 'iranien': 1, 'coin': 1, 'planète': 1, 'ayatollah': 1, 'tombeur': 1, 'grand': 1, 'satan': 1, 'américain': 1, 'sacrer': 1, 'coup': 1, 'modernité': 1, 'loi': 1, 'républicain': 1, 'prosaïque': 1, 'chang': 1, 'statut': 1, 'etat': 1, 'droit': 1, 'coran': 1, 'revanche': 1, 'débat': 1, 'bicentenaire': 1, 'creil': 1, 'collégien': 1, 'foulard': 1, 'intérieur': 1, 'établissement': 1, 'scolaire': 1, 'moment': 1, 'fatwa': 1, 'khomeini': 1, 'salman': 1, 'rushdie': 1, 'feu': 1, 'rue': 1, 'couple': 1, 'infernal': 1, 'symbole': 1, 'slogan': 1, 'phrase': 1, 'victimisation': 1, 'intempestif': 1, 'sempiternel': 1, 'poil': 1, 'volontiers': 1, 'libre': 1, 'visuel': 1, 'occident': 1, 'burqa': 1, 'burkini': 1, 'fort': 1, 'réaction': 1, 'tolérance': 1, 'intolérant': 1, 'suite': 1}\n",
      "{'France': 4}\n",
      "2021-9-11\n",
      "{'droit': 5, 'éric': 4, 'zemmour': 4, 'france': 4, 'september': 4, 'regroupement': 3, 'familial': 3, 'nationalité': 3, 'étranger': 3, 'directzemmour': 3, 'génération': 3, 'mesure': 2, 'modification': 2, 'suppression': 2, 'famille': 2, 'question': 2, 'emission': 1, 'complet': 1, 'extrait': 1, 'maîtrise': 1, 'politique': 1, 'migratoire': 1, 'observatoir': 1, 'immigration': 1, 'démographie': 1, 'loi': 1, 'juillet': 1, 'réforme': 1, 'principal': 1, 'enfant': 1, 'parent': 1, 'français': 1, 'an': 1, 'acquisition': 1, 'automatique': 1, 'majorité': 1, 'possibilité': 1, 'ressortissant': 1, 'titulaire': 1, 'titre': 1, 'séjour': 1, 'règle': 1, 'membre': 1, 'homme': 1, 'femme': 1, 'travail': 1, 'rassemblement': 1, 'classe': 1, 'populaire': 1, 'bourgeoisie': 1, 'patriote': 1, 'synthèse': 1, 'gaullien': 1, 'état': 1, 'lamentable': 1, 'train': 1, 'thème': 1, 'présidentielle': 1, 'idée': 1, 'réponse': 1}\n",
      "{'France': 4}\n",
      "2021-9-27\n",
      "{'monument': 5, 'historique': 5, 'france': 4, 'prosper': 3, 'mérimée': 3, 'patrimoine': 3, 'année': 3, 'inspecteur': 3, 'revue': 3, 'basilique': 3, 'nouveau': 2, 'français': 2, 'général': 2, 'lycée': 2, 'littéraire': 2, 'monde': 2, 'pari': 2, 'ami': 2, 'fonction': 2, 'révolution': 2, 'château': 2, 'trésor': 2, 'architectural': 2, 'église': 2, 'restauration': 2, 'base': 2, 'auteur': 1, 'colomba': 1, 'ardent': 1, 'défenseur': 1, 'famille': 1, 'aisé': 1, 'artiste': 1, 'langue': 1, 'étranger': 1, 'napoléon': 1, 'henri': 1, 'iv': 1, 'droit': 1, 'avocat': 1, 'fréquent': 1, 'salon': 1, 'époque': 1, 'rencontre': 1, 'beau': 1, 'succès': 1, 'porte': 1, 'période': 1, 'voyage': 1, 'angleterre': 1, 'espagne': 1, 'couple': 1, 'comtal': 1, 'montijo': 1, 'fille': 1, 'eugénie': 1, 'empereur': 1, 'coeur': 1, 'entier': 1, 'diagnostic': 1, 'péril': 1, 'destruction': 1, 'pillage': 1, 'édifice': 1, 'religieux': 1, 'nombre': 1, 'état': 1, 'ruine': 1, 'situation': 1, 'dramatique': 1, 'érudit': 1, 'abbé': 1, 'grégoire': 1, 'idée': 1, 'partie': 1, 'histoire': 1, 'saccage': 1, 'saint': 1, 'denis': 1, 'roi': 1, 'tournée': 1, 'inspection': 1, 'ouest': 1, 'bretagne': 1, 'poitou': 1, 'visite': 1, 'rapport': 1, 'mesure': 1, 'conservatoire': 1, 'urgence': 1, 'long': 1, 'série': 1, 'démission': 1, 'poste': 1, 'canne': 1, 'septembre': 1, 'collaboration': 1, 'architecte': 1, 'duc': 1, 'laon': 1, 'vézelay': 1, 'cathédrale': 1, 'dame': 1, 'cité': 1, 'carcassonne': 1, 'héritage': 1, 'pionnier': 1, 'immense': 1, 'grâce': 1, 'pouvoir': 1, 'politique': 1, 'conscience': 1, 'importance': 1, 'valeur': 1, 'classement': 1, 'officiel': 1, 'tourisme': 1, 'archéologique': 1, 'destination': 1, 'touristique': 1, 'ministère': 1, 'culture': 1, 'communication': 1, 'donnée': 1, 'ensemble': 1, 'nom': 1, 'mérimé': 1, 'baladesetpatrimone': 1, 'richesheure': 1}\n",
      "{'France': 4}\n",
      "2021-2-10\n",
      "{'grand': 3, 'remplacement': 3, 'population': 3, 'origine': 3, 'étranger': 2, 'france': 2, 'prénom': 2, 'moitié': 1, 'théorie': 1, 'sérieux': 1, 'objectif': 1, 'peur': 1, 'valp': 1, 'gérald': 1, 'darmanin': 1, 'february': 1, 'lien': 1, 'baromètre': 1, 'musulman': 1, 'naissance': 1, 'département': 1, 'évolution': 1, 'part': 1, 'an': 1, 'ville': 1, 'français': 1, 'chiffre': 1, 'officiel': 1, 'màj': 1, 'révélation': 1, 'marc': 1, 'endeweld': 1, 'macron': 1, 'collaborateur': 1, 'allemagn': 1, 'berlin': 1, 'allemand': 1, 'langue': 1, 'écolier': 1, 'primaire': 1, 'belgiqu': 1, 'tiers': 1, 'pays': 1, 'bruxelle': 1, 'belge': 1, 'minoritaire': 1, 'orbán': 1, 'loi': 1, 'mathématique': 1, 'difficile': 1, 'réalité': 1}\n",
      "{'France': 2}\n",
      "2021-2-6\n",
      "{'turc': 4, 'erdogan': 4, 'direction': 3, 'jdd': 3, 'ankara': 3, 'français': 3, 'rapport': 2, 'général': 2, 'sécurité': 2, 'dgsi': 2, 'réseau': 2, 'service': 2, 'musulman': 2, 'france': 2, 'europe': 2, 'islamiste': 2, 'politique': 2, 'candidat': 2, 'élysée': 1, 'intérieur': 1, 'extérieur': 1, 'dgse': 1, 'renseignement': 1, 'préfecture': 1, 'police': 1, 'drpp': 1, 'fin': 1, 'mois': 1, 'octobre': 1, 'ampleur': 1, 'forme': 1, 'objectif': 1, 'véritable': 1, 'stratégie': 1, 'infiltration': 1, 'moyen': 1, 'ambassade': 1, 'turquie': 1, 'espionnage': 1, 'avertissement': 1, 'guise': 1, 'mot': 1, 'accueil': 1, 'visite': 1, 'officiel': 1, 'pari': 1, 'janvier': 1, 'président': 1, 'tayyip': 1, 'dirigeant': 1, 'conseil': 1, 'culte': 1, 'cfcm': 1, 'sentence': 1, 'provocateur': 1, 'protection': 1, 'accession': 1, 'pouvoir': 1, 'fort': 1, 'popularité': 1, 'diaspora': 1, 'nord': 1, 'long': 1, 'terme': 1, 'gouvernement': 1, 'édification': 1, 'école': 1, 'enfant': 1, 'précepte': 1, 'akp': 1, 'parti': 1, 'conservateur': 1, 'problème': 1, 'futur': 1, 'binationau': 1, 'expert': 1, 'état': 1, 'étranger': 1, 'sensible': 1, 'thèse': 1, 'spécialisé': 1, 'entrisme': 1, 'régime': 1, 'vie': 1, 'binational': 1, 'élection': 1, 'local': 1, 'offensive': 1, 'discret': 1, 'alsace': 1, 'allemagne': 1, 'berceau': 1, 'communauté': 1, 'concordat': 1, 'exception': 1, 'loi': 1, 'laïcité': 1, 'facilité': 1, 'organisation': 1, 'religieux': 1, 'soumis': 1, 'immixtion': 1, 'décision': 1, 'collectivité': 1, 'mise': 1, 'œuvre': 1, 'stratagème': 1, 'maximum': 1, 'liste': 1, 'ville': 1, 'vainqueur': 1, 'colistier': 1, 'intérêt': 1}\n",
      "{'Ankara': 3, 'France': 3}\n",
      "2021-10-7\n",
      "{'journaliste': 6, 'mali': 6, 'français': 6, 'olivier': 5, 'dubois': 5, 'france': 5, 'août': 3, 'vidéo': 3, 'avril': 3, 'groupe': 3, 'malien': 2, 'libération': 2, 'enlèvement': 2, 'texte': 2, 'jour': 2, 'sahel': 2, 'soutien': 2, 'islam': 2, 'musulman': 2, 'gsim': 2, 'gao': 2, 'agence': 2, 'presse': 2, 'bamako': 1, 'actualité': 1, 'national': 1, 'sujet': 1, 'sécurité': 1, 'terrorisme': 1, 'oeuvre': 1, 'accord': 1, 'paix': 1, 'alger': 1, 'coauteur': 1, 'coréalisateur': 1, 'poilorama': 1, 'web': 1, 'série': 1, 'documentaire': 1, 'arte': 1, 'créatif': 1, 'point': 1, 'afriqu': 1, 'otage': 1, 'monde': 1, 'ligne': 1, 'famille': 1, 'djihadist': 1, 'jeudi': 1, 'afp': 1, 'occasion': 1, 'anniversaire': 1, 'an': 1, 'captivité': 1, 'vendredi': 1, 'mois': 1, 'martin': 1, 'luther': 1, 'rêve': 1, 'liberté': 1, 'instant': 1, 'ensemble': 1, 'mère': 1, 'frère': 1, 'sœur': 1, 'enfant': 1, 'état': 1, 'souhait': 1, 'possibilité': 1, 's': 1, 'parisien': 1, 'mercredi': 1, 'réseau': 1, 'social': 1, 'nord': 1, 'précision': 1, 'video': 1, 'journalist': 1, 'baye': 1, 'mahmoud': 1, 'responsable': 1, 'affaire': 1, 'étranger': 1, 'pari': 1, 'disparition': 1, 'média': 1, 'chaîne': 1, 'quotidien': 1, 'bref': 1, 'vingtaine': 1, 'seconde': 1, 'jnim': 1, 'arabe': 1, 'principal': 1, 'alliance': 1, 'jihadist': 1, 'lien': 1, 'correspondant': 1, 'libé': 1, 'sain': 1}\n",
      "{'Mali': 5, 'France': 2, 'Paris': 2}\n",
      "2021-10-3\n",
      "{'vieux': 3, 'symptôme': 2, 'délitement': 2, 'société': 2, 'campagne': 2, 'rengaine': 2, 'immigration': 2, 'sujet': 2, 'français': 2, 'droite': 2, 'Monsieur': 2, 'éric': 1, 'lundi': 1, 'maire': 1, 'socialiste': 1, 'lille': 1, 'martine': 1, 'aubry': 1, 'présidentiel': 1, 'préoccupation': 1, 'encontre': 1, 'thématique': 1, 'électoral': 1, 'candidat': 1, 'officiel': 1, 'conférence': 1, 'presse': 1, 'rentrée': 1, 'court': 1, 'problème': 1, 'monsieur': 1, 'pen': 1, 'zemmour': 1, 'démocratie': 1, 'regretter': 1, 'extrême': 1, 'projet': 1, 'jour': 1, 'sondage': 1, 'impression': 1, 'position': 1, 'trash': 1, 'marotte': 1, 'politique': 1, 'bouc': 1, 'émissaire': 1, 'propos': 1, 'moment': 1, 'collectivité': 1, 'france': 1, 'minute': 1}\n",
      "{'France': 3}\n",
      "2021-7-23\n",
      "{'july': 46, 'personne': 13, 'pass': 13, 'pari': 11, 'sanitaire': 11, 'manifestant': 10, 'manifestation': 10, 'france': 9, 'liberté': 8, 'place': 8, 'passsanitaire': 8, 'nonaupassdelahont': 8, 'macron': 6, 'vaccinobligatoir': 6, 'passsanitair': 6, 'millier': 5, 'franceprotest': 5, 'rue': 4, 'marseille': 4, 'nice': 4, 'mobilisation': 4, 'cortège': 4, 'passanitair': 4, 'samedi': 3, 'juillet': 3, 'ville': 3, 'rassemblement': 3, 'important': 3, 'participant': 3, 'manif': 3, 'généralisation': 3, 'toulouse': 3, 'chambéry': 3, 'monde': 3, 'rochelle': 3, 'nonaupassedelahont': 3, 'anonyme': 3, 'citoyen': 3, 'lille': 3, 'mesure': 2, 'neuf': 2, 'vaccinal': 2, 'ministère': 2, 'intérieur': 2, 'capitale': 2, 'gilet': 2, 'jaune': 2, 'arrondissement': 2, 'trocadéro': 2, 'foule': 2, 'remy': 2, 'buisin': 2, 'fois': 2, 'organisateur': 2, 'extension': 2, 'vaccinationobligatoir': 2, 'santé': 2, 'antipas': 2, 'centaine': 2, 'figeac': 2, 'яévolt': 2, 'fiscal': 2, 'spike': 2, 'strasbourg': 2, 'jaurè': 2, 'dijon': 2, 'république': 2, 'réunion': 2, 'emmanuel': 2, 'basile': 2, 'caillaud': 2, 'narbonne': 2, 'soutien': 2, 'centre': 2, 'pau': 2, 'azur': 2, 'dictature': 2, 'dunkerque': 2, 'perpignan': 2, 'périgueux': 2, 'avignon': 2, 'rouen': 2, 'opposition': 1, 'gouvernemental': 1, 'obligation': 1, 'soignant': 1, 'cri': 1, 'total': 1, 'hausse': 1, 'conséquent': 1, 'lieu': 1, 'sud': 1, 'montpellier': 1, 'bordeaux': 1, 'baisse': 1, 'semaine': 1, 'groupe': 1, 'doigt': 1, 'engrenage': 1, 'porte': 1, 'champerret': 1, 'chemin': 1, 'incident': 1, 'sporadique': 1, 'policier': 1, 'ix': 1, 'proximité': 1, 'champ': 1, 'dispersion': 1, 'journaliste': 1, 'afp': 1, 'ministre': 1, 'gérald': 1, 'darmanin': 1, 'xv': 1, 'appel': 1, 'florian': 1, 'philippot': 1, 'ob': 1, 'militant': 1, 'bleu': 1, 'brav': 1, 'face': 1, 'rhinocéros': 1, 'nonaupasssanitair': 1, 'image': 1, 'énorme': 1, 'peuple': 1, 'colère': 1, 'minorité': 1, 'véran': 1, 'confiance': 1, 'gilbert': 1, 'collard': 1, 'parisien': 1, 'huffpost': 1, 'démission': 1, 'morgan': 1, 'profession': 1, 'charles': 1, 'baudry': 1, 'bouziar': 1, 'direct': 1, 'info': 1, 'antivaccin': 1, 'press': 1, 'dictaturesanitaire': 1, 'cours': 1, 'plein': 1, 'fou': 1, 'respect': 1, 'defilehistoriqu': 1, 'foutagedegueul': 1, 'bfm': 1, 'général': 1, 'chaud': 1, 'coeur': 1, 'kléber': 1, 'alsace': 1, 'jean': 1, 'jeanne': 1, 'arc': 1, 'dépêche': 1, 'nombre': 1, 'passsanitairedelahont': 1, 'passdelahont': 1, 'antibe': 1, 'antibes': 1, 'yacpapa': 1, 'clermont': 1, 'ferrand': 1, 'abbé': 1, 'bon': 1, 'palais': 1, 'justice': 1, 'gouvernement': 1, 'vaccination': 1, 'alerte': 1, 'stopdictaturesanitair': 1, 'moreau': 1, 'didier': 1, 'larochelle': 1, 'アレクシス': 1, 'grand': 1, 'matin': 1, 'couvre': 1, 'feu': 1, 'attestation': 1, 'île': 1, 'annonce': 1, 'aixenprovence': 1, 'vidéo': 1, 'facebook': 1, 'assassin': 1, 'partie': 1, 'mot': 1, 'grille': 1, 'préfecture': 1, 'finistère': 1, 'quimper': 1, 'personnel': 1, 'hospitalier': 1, 'aury': 1, 'vidal': 1, 'prêtre': 1, 'niçois': 1, 'fort': 1, 'côté': 1, 'côte': 1, 'vaccin': 1, 'vdn': 1, 'liberte': 1, 'joseph': 1, 'emélien': 1, 'mulhouse': 1, 'milite': 1, 'nonaupassdelahonte': 1, 'passesanitair': 1, 'marcel': 1, 'provence': 1, 'petit': 1, 'habitant': 1, 'lumen': 1, 'chambery': 1, 'violence': 1, 'vie': 1, 'marseillais': 1, 'giletsjaune': 1, 'présent': 1, 'carme': 1, 'margot': 1, 'nicodèm': 1, 'impressionnant': 1, 'antivax': 1, 'eed': 1, 'ii': 1, 'renne': 1, 'camille': 1, 'beaumont': 1, 'marche': 1, 'libre': 1, 'choix': 1, 'saintdizier': 1, 'hautemarne': 1, 'louis': 1, 'vanthournout': 1}\n",
      "{'France': 4, 'Paris': 6, 'Marseille': 3, 'Nice': 3, 'Trocadéro': 2, 'Strasbourg': 2, 'Toulouse': 3, 'Antibes': 2, 'Chambéry': 2, 'Rochelle': 3, 'Réunion': 2, 'Pau': 2, 'Lille': 2, 'Périgueux': 2, 'Saint-Dizier': 2}\n",
      "2021-7-10\n",
      "{'tunisien': 6, 'france': 6, 'ambassade': 4, 'don': 4, 'santé': 3, 'tunisie': 3, 'sanitaire': 2, 'pays': 2, 'matériel': 2, 'médical': 2, 'système': 2, 'équipement': 2, 'tunisi': 1, 'demande': 1, 'aide': 1, 'résidant': 1, 'face': 1, 'ampleur': 1, 'catastrophe': 1, 'local': 1, 'pari': 1, 'feïza': 1, 'mohamed': 1, 'july': 1, 'tunis': 1, 'dimanche': 1, 'juillet': 1, 'appel': 1, 'diaspora': 1, 'covid': 1, 'résident': 1, 'soutien': 1, 'établissement': 1, 'travers': 1, 'nature': 1, 'paramédical': 1, 'forme': 1, 'pécuniaire': 1, 'page': 1, 'facebook': 1, 'liste': 1, 'manquant': 1, 'effondrement': 1, 'opération': 1, 'collecte': 1, 'facilitation': 1, 'acheminement': 1, 'bref': 1, 'délai': 1, 'option': 1, 'avion': 1, 'spécial': 1, 'communiqué': 1, 'société': 1, 'civil': 1, 'côté': 1, 'lit': 1, 'réanimation': 1, 'public': 1, 'capitale': 1, 'plein': 1, 'ministère': 1, 'voix': 1, 'nord': 1}\n",
      "{'Ambassade de Tunisie': 2, 'France': 6, 'Tunisie': 3}\n",
      "2021-7-17\n",
      "{'nante': 43, 'cathédrale': 38, 'incendie': 28, 'july': 27, 'orgue': 16, 'feu': 14, 'bénévole': 10, 'matin': 10, 'grand': 10, 'procureur': 10, 'samedi': 10, 'an': 9, 'bfmtv': 9, 'détention': 8, 'pompier': 8, 'emmanuel': 7, 'juillet': 7, 'diocèse': 7, 'rwandais': 7, 'france': 7, 'homme': 7, 'république': 7, 'judiciaire': 6, 'départ': 6, 'vitrail': 6, 'jour': 5, 'provisoire': 5, 'juge': 5, 'presse': 5, 'pierre': 5, 'sennè': 5, 'garde': 5, 'vue': 5, 'enquête': 5, 'criminel': 5, 'liberté': 4, 'membre': 4, 'dégradation': 4, 'siècle': 4, 'examen': 4, 'français': 4, 'enquêteur': 4, 'dégât': 4, 'intérieur': 4, 'petit': 3, 'monde': 3, 'père': 3, 'recteur': 3, 'lieu': 3, 'destruction': 3, 'désespoir': 3, 'obligation': 3, 'territoire': 3, 'fidèle': 3, 'triste': 3, 'chef': 3, 'police': 3, 'soir': 3, 'parquet': 3, 'océan': 3, 'bretagne': 3, 'photo': 3, 'françois': 3, 'image': 3, 'niveau': 3, 'flamme': 3, 'frère': 2, 'famille': 2, 'information': 2, 'croix': 2, 'diable': 2, 'santé': 2, 'édifice': 2, 'aveu': 2, 'immobilier': 2, 'foyer': 2, 'veille': 2, 'acte': 2, 'nantais': 2, 'oqtf': 2, 'novembre': 2, 'revue': 2, 'migrant': 2, 'paroissien': 2, 'situation': 2, 'clandestin': 2, 'chose': 2, 'geste': 2, 'objet': 2, 'évêché': 2, 'instruction': 2, 'communiqué': 2, 'loire': 2, 'atlantique': 2, 'mise': 2, 'placement': 2, 'gav': 2, 'question': 2, 'emploi': 2, 'temps': 2, 'réfugié': 2, 'vendredi': 2, 'élément': 2, 'place': 2, 'cathédral': 2, 'stéphane': 2, 'bern': 2, 'impression': 2, 'cauchemar': 2, 'terrible': 2, 'anne': 2, 'histoire': 2, 'volontaire': 2, 'directeur': 2, 'départemental': 2, 'important': 2, 'piste': 2, 'scénario': 2, 'pari': 2, 'droite': 2, 'gauche': 2, 'nef': 2, 'cours': 2, 'contrôle': 1, 'franciscain': 1, 'hagard': 1, 'jardin': 1, 'couvent': 1, 'regard': 1, 'habituel': 1, 'camp': 1, 'concordant': 1, 'hutue': 1, 'part': 1, 'génocide': 1, 'tutsi': 1, 'village': 1, 'manière': 1, 'sommaire': 1, 'mort': 1, 'génocidaire': 1, 'tribunal': 1, 'populaire': 1, 'pays': 1, 'mission': 1, 'événement': 1, 'traumatique': 1, 'pentecôte': 1, 'message': 1, 'filigrane': 1, 'possibilité': 1, 'menace': 1, 'diabolique': 1, 'fantôme': 1, 'esprit': 1, 'sein': 1, 'service': 1, 'oeil': 1, 'état': 1, 'bénévolat': 1, 'intérêt': 1, 'commun': 1, 'agresseur': 1, 'travail': 1, 'xvii': 1, 'âgé': 1, 'autel': 1, 'clergé': 1, 'inattendu': 1, 'antécédent': 1, 'communauté': 1, 'catholique': 1, 'courtoi': 1, 'serviable': 1, 'disponible': 1, 'fiable': 1, 'explication': 1, 'demande': 1, 'régularisation': 1, 'voie': 1, 'recours': 1, 'président': 1, 'ami': 1, 'expulsabl': 1, 'clé': 1, 'impardonnable': 1, 'august': 1, 'incendiaire': 1, 'charmant': 1, 'courtois': 1, 'raisonnable': 1, 'frustré': 1, 'administratif': 1, 'immigré': 1, 'interprète': 1, 'destin': 1, 'joyau': 1, 'langue': 1, 'wtf': 1, 'lebon': 1, 'sécurité': 1, 'religieux': 1, 'préfet': 1, 'bienveillance': 1, 'dossier': 1, 'avenir': 1, 'incompréhension': 1, 'patrick': 1, 'fort': 1, 'désir': 1, 'jacqueline': 1, 'choc': 1, 'paroisse': 1, 'tête': 1, 'vie': 1, 'malheur': 1, 'magnier': 1, 'sacristain': 1, 'nowak': 1, 'clerc': 1, 'pareil': 1, 'interrogatoire': 1, 'comparution': 1, 'panneau': 1, 'électrique': 1, 'quotidien': 1, 'dépêche': 1, 'trentenaire': 1, 'nationalité': 1, 'heure': 1, 'ouest': 1, 'semaine': 1, 'sinistre': 1, 'magistrat': 1, 'instructeur': 1, 'bien': 1, 'infraction': 1, 'réquisitoire': 1, 'introductif': 1, 'peine': 1, 'emprisonnement': 1, 'euro': 1, 'amende': 1, 'décision': 1, 'fin': 1, 'soirée': 1, 'communication': 1, 'ultérieur': 1, 'utile': 1, 'poursuite': 1, 'melanie': 1, 'bertrand': 1, 'télévision': 1, 'source': 1, 'dernier': 1, 'véhémence': 1, 'titre': 1, 'séjour': 1, 'afp': 1, 'trace': 1, 'effraction': 1, 'rtl': 1, 'incendié': 1, 'visa': 1, 'damien': 1, 'rieu': 1, 'réaction': 1, 'dramatique': 1, 'émotion': 1, 'tableau': 1, 'conscience': 1, 'patrimoine': 1, 'cause': 1, 'national': 1, 'premier': 1, 'accident': 1, 'colère': 1, 'inimaginable': 1, 'monstrueux': 1, 'société': 1, 'sens': 1, 'valeur': 1, 'importance': 1, 'forme': 1, 'nihilisme': 1, 'mauvais': 1, 'problème': 1, 'ensemble': 1, 'attaque': 1, 'culte': 1, 'phrase': 1, 'parisien': 1, 'cathedraledenante': 1, 'ancien': 1, 'renaud': 1, 'eleonor': 1, 'duplay': 1, 'oeuvre': 1, 'jacques': 1, 'girardet': 1, 'henri': 1, 'clicquot': 1, 'facteur': 1, 'roi': 1, 'neuf': 1, 'jeu': 1, 'clavier': 1, 'manuel': 1, 'tombeau': 1, 'duc': 1, 'ii': 1, 'femme': 1, 'marguerite': 1, 'foi': 1, 'œuvre': 1, 'renaissance': 1, 'fille': 1, 'reine': 1, 'justesse': 1, 'alexandre': 1, 'lafore': 1, 'tribune': 1, 'art': 1, 'proie': 1, 'moment': 1, 'bleu': 1, 'hypothèse': 1, 'endroit': 1, 'hasard': 1, 'signature': 1, 'grandet': 1, 'merveille': 1, 'facture': 1, 'cliquot': 1, 'fumée': 1, 'commentateur': 1, 'gros': 1, 'hdebonnevolont': 1, 'hubert': 1, 'champenois': 1, 'plateforme': 1, 'instable': 1, 'impressionnant': 1, 'eglantin': 1, 'kâplan': 1, 'ore': 1, 'antenne': 1, 'bâtiment': 1, 'instant': 1, 'minute': 1, 'soutien': 1, 'frédéric': 1, 'vasse': 1, 'flash': 1, 'notredame': 1, 'courage': 1, 'janvier': 1, 'etienn': 1, 'loraillère': 1, 'brξizh': 1, 'i': 1, 'bξautiful': 1, 'nantesle': 1, 'ampleur': 1, 'intervention': 1, 'incident': 1, 'lci': 1}\n",
      "{'cathédrale de Nantes': 11, 'Rwanda': 3, 'France': 6, 'Nantes': 12, 'République de Nantes': 2, 'Loire-Atlantique': 2, 'Paris': 2, 'cathédrale de #Nantes': 3, 'Cathédrale de Nantes': 2, 'Ouest-France': 2}\n",
      "2021-5-4\n",
      "{'nice': 4, 'pari': 4, 'attentat': 3, 'basilique': 3, 'téléphone': 3, 'portable': 3, 'message': 3, 'terroriste': 2, 'bfmtv': 2, 'attaque': 2, 'enquêteur': 2, 'france': 2, 'homme': 2, 'destination': 2, 'info': 1, 'mois': 1, 'assaillant': 1, 'secret': 1, 'projet': 1, 'initial': 1, 'auteur': 1, 'couteau': 1, 'octobre': 1, 'dernier': 1, 'personne': 1, 'information': 1, 'police': 1, 'parcours': 1, 'tunisie': 1, 'donnée': 1, 'trajet': 1, 'migrant': 1, 'île': 1, 'lampedusa': 1, 'rome': 1, 'vintimill': 1, 'italie': 1, 'intention': 1, 'samia': 1, 'maktouf': 1, 'avocat': 1, 'party': 1, 'civil': 1, 'évidence': 1, 'idéal': 1}\n",
      "{'basilique de Nice': 2, 'Paris': 4, 'France': 2}\n",
      "2021-5-28\n",
      "{'alain': 2, 'finkielkraut': 2, 'macron': 2, 'jeanne': 2, 'rodéo': 2, 'lyon': 2, 'france': 2, 'revue': 2, 'presse': 2, 'président': 1, 'changement': 1, 'peuple': 1, 'civilisation': 1, 'acte': 1, 'occupation': 1, 'lien': 1, 'propos': 1, 'million': 1, 'jeune': 1, 'histoire': 1, 'afrique': 1, 'chance': 1, 'sauvage': 1, 'mairie': 1, 'écolo': 1, 'poste': 1, 'policier': 1, 'caméra': 1, 'vidéoprotection': 1, 'cellule': 1, 'juin': 1}\n",
      "{'Lyon': 2, 'France': 2}\n",
      "2021-5-17\n",
      "{'benzema': 3, 'france': 2, 'tpmp': 2, 'karim': 2, 'équipe': 1, 'avis': 1, 'décembre': 1, 'rmc': 1, 'algérie': 1, 'pays': 1, 'sportif': 1, 'jeanne': 1, 'lien': 1, 'liste': 1, 'deschamp': 1, 'revue': 1, 'presse': 1}\n",
      "{'France': 2}\n",
      "2021-5-15\n",
      "{'noir': 3, 'marion': 2, 'minoritaire': 2, 'france': 2, 'insecurite': 2, 'entretien': 2, 'fille': 2, 'maréchal': 1, 'donnée': 1, 'officiel': 1, 'insee': 1, 'mécanique': 1, 'français': 1, 'souche': 1, 'peuple': 1, 'historique': 1, 'alex': 1, 'remarque': 1, 'rue': 1, 'plupart': 1, 'temps': 1, 'personne': 1, 'culture': 1, 'insupportable': 1, 'oreille': 1, 'réalité': 1, 'feminisme': 1, 'livr': 1, 'colonne': 1, 'vertébral': 1, 'fauteuil': 1, 'an': 1, 'barbarie': 1, 'quotidien': 1, 'moment': 1, 'marquant': 1, 'politique': 1, 'maman': 1, 'terroriste': 1, 'islamiste': 1, 'complet': 1, 'député': 1, 'attentat': 1, 'magnanville': 1, 'couple': 1, 'policier': 1, 'islamisteentretien': 1, 'livre': 1}\n",
      "{'France': 2}\n",
      "2021-5-10\n",
      "{'mémoire': 5, 'algérie': 5, 'algérien': 4, 'macron': 3, 'français': 3, 'anniversaire': 3, 'dossier': 3, 'emmanuel': 2, 'président': 2, 'travail': 2, 'esprit': 2, 'apaisement': 2, 'peuple': 2, 'guerre': 2, 'rive': 2, 'méditerranée': 2, 'occasion': 2, 'histoire': 2, 'national': 2, 'gouvernement': 2, 'règlement': 2, 'global': 2, 'mémoriel': 2, 'officiel': 2, 'france': 2, 'crime': 2, 'lobby': 2, 'nation': 2, 'mardi': 1, 'tebboun': 1, 'pari': 1, 'alger': 1, 'élysée': 1, 'cours': 1, 'entretien': 1, 'téléphonique': 1, 'chef': 1, 'etat': 1, 'abdelmadjid': 1, 'tebboune': 1, 'réconciliation': 1, 'jeunesse': 1, 'pays': 1, 'présidence': 1, 'série': 1, 'symbolique': 1, 'approche': 1, 'indépendance': 1, 'bfmtv': 1, 'message': 1, 'célébration': 1, 'fois': 1, 'indépendant': 1, 'journée': 1, 'année': 1, 'massacre': 1, 'mai': 1, 'belhimer': 1, 'effort': 1, 'sens': 1, 'reconnaissance': 1, 'définitif': 1, 'humanité': 1, 'repentance': 1, 'indemnisation': 1, 'équitable': 1, 'conscient': 1, 'hostile': 1, 'pression': 1, 'moyen': 1, 'processus': 1, 'position': 1, 'principe': 1, 'unanimité': 1, 'entier': 1, 'citoyen': 1, 'historien': 1, 'expert': 1, 'organisation': 1, 'société': 1, 'civil': 1, 'média': 1, 'travers': 1, 'chaîne': 1, 'télévision': 1, 'déclenchement': 1, 'glorieux': 1, 'libération': 1, 'existence': 1, 'capacité': 1, 'maturation': 1, 'prise': 1, 'conscience': 1, 'populaire': 1, 'face': 1, 'manœuvre': 1, 'courant': 1, 'raciste': 1, 'temps': 1, 'scléroser': 1, 'époque': 1, 'grâce': 1, 'volonté': 1}\n",
      "{'Méditerranée': 2, 'Algérie': 2, 'France': 2}\n",
      "2021-8-11\n",
      "{'france': 2, 'association': 1, 'histoire': 1, 'groupe': 1, 'enfant': 1, 'monument': 1, 'musée': 1, 'patrimoine': 1, 'français': 1, 'château': 1, 'compagnie': 1, 'héritier': 1, 'roi': 1, 'comte': 1, 'pari': 1, 'jean': 1, 'orléans': 1, 'femme': 1}\n",
      "{'France': 2}\n",
      "2021-8-28\n",
      "{'macron': 4, 'risque': 3, 'attentat': 3, 'dimanche': 2, 'irak': 2, 'dernier': 2, 'lien': 2, 'immigration': 2, 'afghanistan': 2, 'france': 2, 'europe': 2, 'extérieur': 2, 'emmanuel': 1, 'déplacement': 1, 'phénomène': 1, 'migration': 1, 'terroriste': 1, 'contexte': 1, 'crise': 1, 'prise': 1, 'taliban': 1, 'août': 1, 'pire': 1, 'sol': 1, 'issu': 1, 'récent': 1, 'ancien': 1, 'notion': 1, 'manière': 1, 'clair': 1, 'propos': 1, 'président': 1, 'rassemblement': 1, 'national': 1, 'terrorisme': 1, 'anecdotique': 1, 'marine': 1, 'pen': 1, 'twitter': 1, 'soir': 1, 'route': 1, 'migratoire': 1, 'cité': 1, 'accueil': 1, 'ouvert': 1, 'pays': 1, 'frontalier': 1, 'sécurité': 1, 'situation': 1, 'comparable': 1, 'syrie': 1, 'fort': 1, 'mouvement': 1, 'nouveau': 1, 'entretien': 1, 'sûr': 1, 'monde': 1, 'pression': 1, 'capacité': 1, 'zéro': 1, 'matière': 1, 'année': 1, 'territoire': 1, 'individu': 1, 'isolé': 1, 'contenu': 1, 'complot': 1, 'prudent': 1, 'vigilance': 1, 'bfmtv': 1}\n",
      "{'Irak': 2, 'Afghanistan': 2, 'France': 2}\n",
      "2021-8-17\n",
      "{'français': 3, 'guardia': 3, 'civil': 3, 'portbou': 3, 'france': 2, 'force': 2, 'ordre': 2, 'voiture': 2, 'village': 2, 'véhicule': 2, 'an': 1, 'attente': 1, 'jugement': 1, 'barrage': 1, 'frontière': 1, 'coffre': 1, 'kilo': 1, 'cannabis': 1, 'alerte': 1, 'agent': 1, 'lundi': 1, 'route': 1, 'côtier': 1, 'catalogne': 1, 'cerbèr': 1, 'pyrénées': 1, 'oriental': 1, 'ressortissant': 1, 'fuite': 1, 'pied': 1, 'instant': 1, 'communiqué': 1, 'fuyard': 1, 'juge': 1, 'tribunal': 1, 'figueras': 1, 'chef': 1, 'accusation': 1, 'délit': 1, 'santé': 1, 'public': 1, 'infraction': 1, 'routier': 1, 'voie': 1, 'désobéissance': 1, 'vol': 1, 'contrefaçon': 1, 'document': 1, 'faux': 1, 'plaque': 1, 'immatriculation': 1, 'bleu': 1, 'indépendant': 1}\n",
      "{'France': 3, 'Catalogne': 2, 'Portbou': 3}\n",
      "2021-4-9\n",
      "{'chiffre': 7, 'louis': 6, 'romain': 5, 'musée': 5, 'français': 4, 'carnavalet': 4, 'culturel': 3, 'louvre': 3, 'quotidien': 3, 'page': 3, 'elisabeth': 2, 'bfmtv': 2, 'avril': 2, 'assemblée': 2, 'national': 2, 'arabe': 2, 'siècle': 2, 'roi': 2, 'culture': 2, 'italien': 2, 'décision': 2, 'pari': 2, 'visiteur': 2, 'xiv': 2, 'journal': 2, 'corriere': 2, 'della': 2, 'écrivain': 2, 'histoire': 2, 'figaro': 2, 'motif': 2, 'numérotation': 2, 'antique': 2, 'an': 2, 'henri': 2, 'proposition': 1, 'résolution': 1, 'protection': 1, 'inscription': 1, 'patrimoine': 1, 'immatériel': 1, 'présidence': 1, 'récent': 1, 'révélation': 1, 'presse': 1, 'abandon': 1, 'profit': 1, 'dénomination': 1, 'france': 1, 'nouveau': 1, 'étape': 1, 'déclin': 1, 'historique': 1, 'resolution': 1, 'foudre': 1, 'rome': 1, 'mercredi': 1, 'compréhension': 1, 'polémique': 1, 'capitale': 1, 'principal': 1, 'péninsule': 1, 'commentaire': 1, 'lapidaire': 1, 'massimo': 1, 'gramellini': 1, 'édition': 1, 'xvii': 1, 'iii': 1, 'mmxxi': 1, 'synthèse': 1, 'parfait': 1, 'catastrophe': 1, 'cours': 1, 'chose': 1, 'aise': 1, 'obstacle': 1, 'intérieur': 1, 'intellectuel': 1, 'luciano': 1, 'canfora': 1, 'stupidité': 1, 'fléau': 1, 'général': 1, 'correct': 1, 'souhaitable': 1, 'loi': 1, 'analphabétisme': 1, 'obligatoire': 1, 'communication': 1, 'oral': 1, 'historien': 1, 'philologue': 1, 'temps': 1, 'lettre': 1, 'minuscule': 1, 'majuscule': 1, 'nombre': 1, 'grandissant': 1, 'renonciation': 1, 'vain': 1, 'défenseur': 1, 'classique': 1, 'mort': 1, 'inconnu': 1, 'sketch': 1, 'révolution': 1, 'époque': 1, 'public': 1, 'bêtise': 1, 'collégien': 1, 'bonnet': 1, 'phrygien': 1, 'difficulté': 1, 'humour': 1, 'sujet': 1, 'travail': 1, 'refonte': 1, 'complet': 1, 'parcours': 1, 'partie': 1, 'cartel': 1, 'année': 1, 'distance': 1, 'étranger': 1, 'majorité': 1, 'privilège': 1, 'iv': 1, 'cas': 1}\n",
      "{'France': 2, 'Musée Carnavalet': 2, 'Louvre': 2}\n",
      "2021-4-22\n",
      "{'dupond': 3, 'moretti': 3, 'président': 3, 'policière': 3, 'vendredi': 3, 'commissariat': 3, 'rambouillet': 3, 'garde': 2, 'sceau': 2, 'éric': 2, 'mort': 2, 'ministre': 2, 'justice': 2, 'pen': 2, 'mensonge': 2, 'phrase': 2, 'gouvernement': 2, 'laxisme': 2, 'france': 2, 'yveline': 1, 'récupération': 1, 'politique': 1, 'attaque': 1, 'yvelines': 1, 'arme': 1, 'blanc': 1, 'tweet': 1, 'tronquer': 1, 'décence': 1, 'cynisme': 1, 'indignité': 1, 'ignominie': 1, 'tragédie': 1, 'profit': 1, 'heure': 1, 'circonstance': 1, 'eric': 1, 'april': 1, 'marine': 1, 'preuve': 1, 'bfmtv': 1, 'rassemblement': 1, 'national': 1, 'question': 1, 'sécuritaire': 1, 'responsable': 1, 'augmentation': 1, 'délinquance': 1, 'criminalité': 1, 'pays': 1, 'besoin': 1, 'tour': 1, 'vis': 1, 'parti': 1, 'extrême': 1, 'droite': 1, 'stéphanie': 1, 'cri': 1, 'allah': 1, 'jamel': 1, 'gorchene': 1, 'tunisien': 1}\n",
      "{'Yvelines': 2, 'France': 2}\n",
      "2021-4-18\n",
      "{'femme': 5, 'april': 5, 'homme': 4, 'arabe': 4, 'plainte': 3, 'responsable': 3, 'france': 3, 'service': 3, 'agag': 3, 'boudjahlat': 3, 'militant': 2, 'féministe': 2, 'racisme': 2, 'corapportrice': 2, 'livret': 2, 'egalité': 2, 'fi': 2, 'charge': 2, 'égalité': 2, 'laïque': 1, 'toulousaine': 1, 'lundi': 1, 'matin': 1, 'mouvement': 1, 'mélenchon': 1, 'prénom': 1, 'inès': 1, 'dictature': 1, 'doxa': 1, 'libérateur': 1, 'arabedeservice': 1, 'hijab': 1, 'feminisme': 1, 'bêtise': 1, 'sérieux': 1, 'chanson': 1, 'langue': 1, 'contrôle': 1, 'corps': 1, 'sexualité': 1, 'voilement': 1, 'outil': 1, 'symbole': 1, 'sexiste': 1, 'oppression': 1, 'bitocrat': 1, 'يخليها': 1, 'betty': 1, 'lachgar': 1, 'dépêche': 1, 'lien': 1, 'syndicaliste': 1, 'police': 1, 'linda': 1, 'kebbab': 1, 'journaliste': 1, 'taha': 1, 'bouhaf': 1, 'audience': 1, 'revue': 1, 'presse': 1}\n",
      "{'France': 2}\n",
      "2021-4-26\n",
      "{'terroriste': 5, 'étranger': 4, 'raid': 3, 'terrorisme': 3, 'attentat': 3, 'français': 3, 'ancien': 2, 'patron': 2, 'député': 2, 'droite': 2, 'immigration': 2, 'france': 2, 'problème': 2, 'lance': 1, 'fauvergue': 1, 'europe': 1, 'mardi': 1, 'soir': 1, 'lrem': 1, 'polémique': 1, 'élu': 1, 'extrême': 1, 'majorité': 1, 'lien': 1, 'policière': 1, 'rambouillet': 1, 'auteur': 1, 'fait': 1, 'tunisien': 1, 'âgé': 1, 'an': 1, 'situation': 1, 'irrégulier': 1, 'titre': 1, 'séjour': 1, 'grâce': 1, 'emploi': 1, 'chauffeur': 1, 'livreur': 1, 'valable': 1, 'fin': 1, 'année': 1, 'chef': 1, 'majeur': 1, 'côté': 1, 'analyse': 1, 'important': 1, 'évident': 1, 'bêtise': 1, 'phénomène': 1, 'largeur': 1, 'structure': 1, 'ensemble': 1, 'prisme': 1}\n",
      "{'France': 5}\n",
      "2021-3-21\n",
      "{'jeune': 6, 'idrissa': 4, 'moumouni': 4, 'éducatrice': 3, 'août': 3, 'dadaou': 3, 'enfant': 3, 'assise': 2, 'finistère': 2, 'récit': 2, 'brest': 2, 'accusé': 2, 'judiciaire': 2, 'france': 2, 'aide': 2, 'social': 2, 'libye': 2, 'soldat': 2, 'pjj': 2, 'travail': 2, 'suivi': 2, 'mort': 2, 'fait': 2, 'nuit': 2, 'expertise': 2, 'adn': 2, 'sexuel': 2, 'télégramme': 2, 'nigérian': 2, 'an': 2, 'main': 2, 'côte': 2, 'vie': 1, 'nigérien': 1, 'multiple': 1, 'deuil': 1, 'mode': 1, 'survi': 1, 'viol': 1, 'fille': 1, 'long': 1, 'précis': 1, 'professionnel': 1, 'empathie': 1, 'protection': 1, 'jeunesse': 1, 'parcours': 1, 'arrivée': 1, 'décembre': 1, 'adolescent': 1, 'attachant': 1, 'demande': 1, 'enfance': 1, 'charge': 1, 'mineur': 1, 'isolé': 1, 'soudan': 1, 'dire': 1, 'égide': 1, 'formation': 1, 'crêpier': 1, 'septembre': 1, 'stage': 1, 'auberge': 1, 'crêpe': 1, 'patronne': 1, 'homme': 1, 'père': 1, 'septicémie': 1, 'chute': 1, 'trottinette': 1, 'fracture': 1, 'clavicule': 1, 'sein': 1, 'crêperie': 1, 'mars': 1, 'frère': 1, 'attaque': 1, 'boko': 1, 'haram': 1, 'psychiatrique': 1, 'atelier': 1, 'philosophie': 1, 'régulateur': 1, 'activité': 1, 'groupe': 1, 'mai': 1, 'explosion': 1, 'camion': 1, 'citerne': 1, 'niamey': 1, 'service': 1, 'fils': 1, 'maison': 1, 'prison': 1, 'cours': 1, 'irréfutable': 1, 'monde': 1, 'relation': 1, 'verdict': 1, 'mardi': 1, 'soir': 1, 'lundi': 1, 'dizaine': 1, 'ami': 1, 'soirée': 1, 'discothèque': 1, 'collègue': 1, 'domicile': 1, 'trace': 1, 'eau': 1, 'lendemain': 1, 'commissariat': 1, 'rapport': 1, 'forcé': 1, 'banc': 1, 'souvenir': 1, 'douleur': 1, 'sentiment': 1, 'barre': 1, 'sperme': 1, 'vêtement': 1, 'objet': 1, 'mesure': 1, 'condamnation': 1, 'tribunal': 1, 'pari': 1, 'matinée': 1, 'elisa': 1, 'février': 1, 'petit': 1, 'flirt': 1, 'appartement': 1, 'baladeur': 1, 'recadre': 1, 'envie': 1, 'coup': 1, 'marque': 1, 'cou': 1, 'dos': 1, 'suite': 1, 'relance': 1, 'réseau': 1, 'prénom': 1}\n",
      "{'Finistère': 2, 'Brest': 2, 'France': 2, 'Libye': 2, 'Nigeria': 2}\n",
      "2021-3-11\n",
      "{'homme': 4, 'parcours': 3, 'mois': 3, 'france': 2, 'difficulté': 2, 'dossier': 2, 'identité': 2, 'vidéosurveillance': 2, 'camionnette': 2, 'gare': 2, 'vol': 2, 'impossible': 1, 'situation': 1, 'irrégulier': 1, 'coup': 1, 'septembre': 1, 'obligation': 1, 'territoire': 1, 'français': 1, 'oqtf': 1, 'affaire': 1, 'hasard': 1, 'mars': 1, 'dernier': 1, 'officier': 1, 'centre': 1, 'mulhouse': 1, 'individu': 1, 'voiture': 1, 'stationnement': 1, 'vue': 1, 'policier': 1, 'duo': 1, 'objet': 1, 'portefeuille': 1, 'téléphone': 1, 'portable': 1, 'exploitation': 1, 'rue': 1, 'sauvage': 1, 'magasin': 1, 'pont': 1, 'altkirch': 1, 'véhicule': 1, 'enquête': 1, 'coupable': 1, 'roulottage': 1, 'utilisation': 1, 'carte': 1, 'bancaire': 1, 'bureau': 1, 'tabac': 1, 'procureur': 1, 'république': 1, 'guetaz': 1, 'arrivée': 1, 'pénal': 1, 'unique': 1, 'chose': 1, 'activité': 1, 'principal': 1, 'peine': 1, 'respectif': 1, 'maintien': 1, 'détention': 1, 'tribunal': 1, 'mohamed': 1, 'ferme': 1, 'kamel': 1, 'alsace': 1}\n",
      "{'France': 2}\n",
      "2021-3-5\n",
      "{'march': 7, 'sénégal': 3, 'seba': 3, 'mercredi': 2, 'français': 2, 'auchan': 2, 'cher': 2, 'stella': 2, 'kamnga': 2, 'france': 2, 'manifestation': 2, 'pandémie': 2, 'centaine': 2, 'cerveau': 2, 'arrestation': 1, 'ousmane': 1, 'présidentielle': 1, 'principal': 1, 'concurrent': 1, 'saccage': 1, 'pillage': 1, 'magasin': 1, 'particulier': 1, 'capitale': 1, 'ville': 1, 'pays': 1, 'réputé': 1, 'îlot': 1, 'stabilité': 1, 'afrique': 1, 'situation': 1, 'préoccupant': 1, 'attaque': 1, 'systématique': 1, 'représentation': 1, 'économique': 1, 'alexandre': 1, 'benalla': 1, 'nord': 1, 'foire': 1, 'mr': 1, 'film': 1, 'colobane': 1, 'maison': 1, 'ami': 1, 'risque': 1, 'twitter': 1, 'rt': 1, 'max': 1, 'monde': 1, 'entier': 1, 'témoin': 1, 'patrie': 1, 'scène': 1, 'freesenegal': 1, 'lord': 1, 'my': 1, 'country': 1, 'ibrahima': 1, '𝐋𝐄𝐔𝐌𝐈𝐍𝐄': 1, 'officiel': 1, 'réponse': 1, 'grève': 1, 'lieu': 1, 'appareil': 1, 'ètatiqu': 1, 'oppresse': 1, 'entreprise': 1, 'dignité': 1, 'pingouin': 1, 'boubou': 1, 'bon': 1, 'sang': 1, 'soutien': 1, 'omar': 1, 'sy': 1, 'amour': 1, 'prochain': 1, 'distance': 1, 'villa': 1, 'beverly': 1, 'hill': 1, 'omarsy': 1, 'stéphane': 1, 'edouard': 1, 'autorité': 1, 'lutte': 1, 'personne': 1, 'force': 1, 'malien': 1, 'gaz': 1, 'lacrymogène': 1, 'bamako': 1, 'manifestant': 1, 'interdiction': 1, 'rassemblement': 1, 'raison': 1, 'caravane': 1, 'boulevard': 1, 'adresse': 1, 'dizaine': 1, 'jeune': 1, 'figure': 1, 'collectif': 1, 'origine': 1, 'appel': 1, 'adama': 1, 'sobriquet': 1, 'gauche': 1, 'droite': 1, 'siriki': 1, 'kouyaté': 1, 'parisien': 1, 'lien': 1, 'salarié': 1, 'dépité': 1, 'sénégalais': 1, 'papa': 1, 'samaba': 1, 'diouf': 1, 'lynchée': 1, 'réseau': 1, 'social': 1, 'post': 1, 'fauteur': 1, 'trouble': 1, 'hapsatou': 1, 'peuple': 1, 'nation': 1}\n",
      "{'Sénégal': 4, 'France': 2, 'Bamako': 2}\n",
      "2021-3-17\n",
      "{'français': 5, 'mort': 5, 'tribunal': 3, 'irak': 3, 'islamique': 3, 'prison': 2, 'trafic': 2, 'chine': 2, 'michael': 2, 'legrand': 2, 'stéphane': 2, 'idir': 2, 'nora': 2, 'lalam': 2, 'ressortissant': 2, 'état': 2, 'irakien': 2, 'cent': 1, 'travers': 1, 'monde': 1, 'plupart': 1, 'activité': 1, 'drogue': 1, 'couloir': 1, 'chan': 1, 'thao': 1, 'phoumy': 1, 'fabrication': 1, 'transport': 1, 'contrebande': 1, 'méthamphétamine': 1, 'canton': 1, 'sud': 1, 'louisiane': 1, 'coup': 1, 'couteau': 1, 'ami': 1, 'raphael': 1, 'santos': 1, 'immigrant': 1, 'cubain': 1, 'argent': 1, 'besoin': 1, 'loyer': 1, 'dose': 1, 'cocaïne': 1, 'voie': 1, 'intraveineux': 1, 'fois': 1, 'jour': 1, 'serge': 1, 'atlaoui': 1, 'indonésie': 1, 'homme': 1, 'an': 1, 'pilule': 1, 'ecstasy': 1, 'laboratoire': 1, 'banlieue': 1, 'djakarta': 1, 'maroc': 1, 'aït': 1, 'rédouane': 1, 'origine': 1, 'attaque': 1, 'hôtel': 1, 'marrakech': 1, 'touriste': 1, 'espagnol': 1, 'algérie': 1, 'avril': 1, 'algérien': 1, 'grand': 1, 'flou': 1, 'cause': 1, 'arrestation': 1, 'potentiel': 1, 'détention': 1, 'double': 1, 'nationalité': 1, 'france': 1, 'pays': 1, 'européen': 1, 'rang': 1, 'mai': 1, 'juin': 1, 'groupe': 1, 'djihadiste': 1, 'force': 1, 'démocratique': 1, 'syrien': 1, 'allié': 1, 'coalition': 1, 'international': 1, 'daech': 1, 'zone': 1, 'syro': 1, 'appartenance': 1, 'etat': 1, 'acte': 1, 'terrorisme': 1, 'article': 1, 'intégralité': 1, 'national': 1}\n",
      "{'France': 4, 'État Islamique': 2, 'Irak': 2}\n",
      "2021-12-28\n",
      "{'croissance': 8, 'france': 5, 'solde': 5, 'insee': 4, 'an': 4, 'habitant': 3, 'population': 3, 'naturel': 3, 'démographique': 3, 'territoire': 3, 'chiffre': 2, 'recensement': 2, 'premier': 2, 'janvier': 2, 'mayotte': 2, 'français': 2, 'ville': 2, 'bordeaux': 2, 'élevé': 2, 'migratoire': 2, 'région': 2, 'valérie': 2, 'roux': 2, 'département': 2, 'année': 2, 'atlantique': 2, 'pari': 2, 'rural': 2, 'baisse': 2, 'impact': 1, 'covid': 1, 'donnée': 1, 'ligne': 1, 'fin': 1, 'décembre': 1, 'décalage': 1, 'dernier': 1, 'équivalent': 1, 'institut': 1, 'statistique': 1, 'point': 1, 'manière': 1, 'général': 1, 'exception': 1, 'notable': 1, 'guyane': 1, 'paca': 1, 'métropole': 1, 'var': 1, 'cheffe': 1, 'démographie': 1, 'dynamique': 1, 'façade': 1, 'loire': 1, 'précédent': 1, 'période': 1, 'diagonale': 1, 'vide': 1, 'note': 1, 'autonome': 1, 'dense': 1, 'devoir': 1, 'vieillissement': 1, 'génération': 1, 'baby': 1, 'boom': 1, 'nombre': 1, 'moyen': 1, 'enfant': 1, 'femme': 1, 'porteur': 1, 'périphérie': 1, 'grand': 1, 'lyon': 1, 'marseille': 1, 'commune': 1, 'fort': 1, 'influence': 1, 'pôle': 1, 'moyenne': 1, 'étude': 1, 'ouest': 1}\n",
      "{'France': 5, 'Mayotte': 2, 'Bordeaux': 2, 'Paris': 2}\n"
     ]
    }
   ],
   "source": [
    "def filterByLocKeyWord(keyWord: str, dicLoc: dict, allLocKey: dict, data_all: dict) -> None:   \n",
    "        for year in data_all:\n",
    "                for month in data_all[year]:\n",
    "                    for date in data_all[year][month]:\n",
    "                        if keyWord in data_all[year][month][date][0][\"loc\"]:\n",
    "                            print(f'{year}-{month}-{date}')\n",
    "                            print(data_all[year][month][date][0][\"kws\"])\n",
    "                            print(data_all[year][month][date][0][\"loc\"])\n",
    "                            for loc in data_all[year][month][date][0][\"loc\"]:\n",
    "                                if  (loc in allLocKey):\n",
    "                                    dicLoc[loc] = dicLoc[loc] + 1\n",
    "                        \n",
    "dicLoc ={}\n",
    "f = open(f'all/{file}', 'r', encoding='utf-8')\n",
    "data = json.loads(f.read())\n",
    "f.close()\n",
    "\n",
    "allLocKey = data[\"metadata-all\"][\"fr\"][\"all\"][\"loc\"].keys()\n",
    "dicLoc = getLocationKey(allLocKey)\n",
    "\n",
    "data_all = data[\"data-all\"]\n",
    "filterByLocKeyWord('France', dicLoc, allLocKey, data_all)\n"
   ]
  }
 ],
 "metadata": {
  "kernelspec": {
   "display_name": "Python 3.10.8 64-bit (microsoft store)",
   "language": "python",
   "name": "python3"
  },
  "language_info": {
   "codemirror_mode": {
    "name": "ipython",
    "version": 3
   },
   "file_extension": ".py",
   "mimetype": "text/x-python",
   "name": "python",
   "nbconvert_exporter": "python",
   "pygments_lexer": "ipython3",
   "version": "3.10.8"
  },
  "orig_nbformat": 4,
  "vscode": {
   "interpreter": {
    "hash": "2b231b7f854eee15b0db175e8283bd5821fab588ddcda8dea648c0f134da2554"
   }
  }
 },
 "nbformat": 4,
 "nbformat_minor": 2
}
