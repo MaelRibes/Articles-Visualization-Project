{
 "cells": [
  {
   "attachments": {},
   "cell_type": "markdown",
   "metadata": {},
   "source": [
    "# DATA722 - PROJET VISUALISATION"
   ]
  },
  {
   "attachments": {},
   "cell_type": "markdown",
   "metadata": {},
   "source": [
    "## Import des modules nécessaires au projet"
   ]
  },
  {
   "cell_type": "code",
   "execution_count": 59,
   "metadata": {},
   "outputs": [],
   "source": [
    "import json\n",
    "import os\n",
    "import itertools\n",
    "import plotly.express as px\n",
    "import pandas as pd\n",
    "import networkx as nx\n",
    "from tqdm import tqdm\n",
    "from collections import Counter\n",
    "import matplotlib.pyplot as plt\n",
    "from collections import defaultdict\n",
    "import plotly.figure_factory as ff\n",
    "import numpy as np\n",
    "from scipy.cluster.hierarchy import dendrogram, linkage\n",
    "from scipy.cluster import hierarchy\n",
    "\n",
    "\n",
    "files_name = [file_name for file_name in os.listdir('./all') if '.json' in file_name]"
   ]
  },
  {
   "attachments": {},
   "cell_type": "markdown",
   "metadata": {},
   "source": [
    "## Définitions des fonctions"
   ]
  },
  {
   "cell_type": "code",
   "execution_count": 73,
   "metadata": {
    "collapsed": false
   },
   "outputs": [],
   "source": [
    "# Fonction récupérant le nombre d'appartion de chaque localisation en fonction d'une localisation prise en paramètre\n",
    "def filterByLocKeyWord(keyWord: str, dicLoc: dict, allLocKey: dict, data: dict) -> None:\n",
    "    data_all = data[\"data-all\"]\n",
    "    for year in data_all:\n",
    "        for month in data_all[year]:\n",
    "            for date in data_all[year][month]:\n",
    "                if keyWord in data_all[year][month][date][0][\"loc\"]:\n",
    "                    for loc in data_all[year][month][date][0][\"loc\"]:\n",
    "                        if  (loc in allLocKey):\n",
    "                            dicLoc[loc] = dicLoc[loc] + 1\n",
    "\n",
    "# Fonction récupérant le nombre d'appartion de chaque localisation en fonction d'une localisation prise en paramètre\n",
    "def filterByLocKeyAndValues(keyWord: str, top9key: list, data_all: dict, d_final, lValues) -> None:\n",
    "    for year in data_all:\n",
    "        for month in data_all[year]:\n",
    "            for date in data_all[year][month]:\n",
    "                for articleN in range(len(data_all[year][month][date])):\n",
    "                    if keyWord in data_all[year][month][date][articleN][\"loc\"]:\n",
    "                        for loc in data_all[year][month][date][articleN][\"loc\"]:\n",
    "                            if loc in top9key:\n",
    "                                kws = data_all[year][month][date][articleN][\"kws\"]\n",
    "                                for k in range(len(lValues)):\n",
    "                                    if lValues[k] in kws:\n",
    "                                        d_final[year][loc][lValues[k]] += kws[lValues[k]]\n",
    "\n",
    "# Retourne les localisations en fonction du dictionnaire des localisations\n",
    "def getLocationKey(allLocKey) -> dict:\n",
    "    dictLoc = dict.fromkeys(list(allLocKey), 0)\n",
    "    return dictLoc\n",
    "\n",
    "# Conversion tuple/dictionnaire\n",
    "def convertTupleToDict(listTuple):\n",
    "    dico = {}\n",
    "    for tuple in listTuple:\n",
    "        dico[tuple[0]] = tuple[1]\n",
    "    return dico\n",
    "\n",
    "# Nettoyage et de triage d'un dictionnaire\n",
    "def cleanDict(dictionary) -> dict:    \n",
    "    keys = list(dictionary.keys())\n",
    "    for key in keys:\n",
    "        if dictionary.get(key)==0:\n",
    "            dictionary.pop(key)\n",
    "    sortedTuple = sorted(dictionary.items(), key=lambda x:x[1], reverse=True)\n",
    "    return convertTupleToDict(sortedTuple) \n",
    "\n",
    "# Récupère les n premiers éléments du dictionnaire\n",
    "def firstElements(dictionary,n):\n",
    "    sortedTuple = sorted(dictionary.items(), key=lambda x:x[1], reverse=True)\n",
    "    return dict(list(sortedTuple[0: n+1]))\n",
    "\n",
    "# Récupère les éléments du dictionnaire dont la valeur est supérieure au seuil s \n",
    "def firstElementsValues(dictionary,s):\n",
    "    res = []\n",
    "    sortedTuple = sorted(dictionary.items(), key=lambda x:x[1], reverse=True)\n",
    "    for tuples in sortedTuple:\n",
    "        if tuples[1] >= s:\n",
    "            res.append(tuples)\n",
    "    return dict(list(res))\n",
    "\n",
    "# Récupère le dictionnaire des localisations apparaissant dans tout les articles lorsque l'on parle de 'locKws'\n",
    "def recupLoc(locKws):\n",
    "    dictionaryLoc = {}\n",
    "    for file in os.listdir(\"./all\"):\n",
    "        f = open(f'./all/{file}', 'r', encoding='utf-8')\n",
    "        data = json.loads(f.read())\n",
    "        f.close()\n",
    "        allLocKey = data[\"metadata-all\"][\"fr\"][\"all\"][\"loc\"].keys()\n",
    "        dicLoc = getLocationKey(allLocKey)\n",
    "        filterByLocKeyWord(locKws, dicLoc, allLocKey, data)\n",
    "        dictionaryLoc = Counter(dictionaryLoc) + Counter(dicLoc)\n",
    "    return dictionaryLoc\n",
    "\n",
    "# Récupère les mots clé en relations avec deux localisations\n",
    "def getKeywordsByCountries(country1: str, country2: str, data: dict) -> dict:   \n",
    "    dict_kws = {}\n",
    "    dict_apparition = {}\n",
    "    data_all = data[\"data-all\"]\n",
    "    for year in data_all:\n",
    "        for month in data_all[year]:\n",
    "            for date in data_all[year][month]:\n",
    "                for article in data_all[year][month][date]:\n",
    "                    article_location = article[\"loc\"]\n",
    "                    if (country1 in article_location) and (country2 in article_location):\n",
    "                        keywords = article[\"kws\"]\n",
    "                        for kws in keywords:\n",
    "                            if kws in dict_apparition.keys():\n",
    "                                dict_apparition[kws] += 1\n",
    "                            else:\n",
    "                                dict_apparition[kws] = 1\n",
    "                        dict_kws = Counter(dict_kws) + Counter(keywords)\n",
    "    return dict_kws, dict_apparition    \n",
    "\n",
    "# Parcours des articles et récupération des mots clés et de leurs nombres d'apparition\n",
    "def recupKws(country1, country2):\n",
    "    all_kws = {}\n",
    "    all_apparition = {}\n",
    "    for file in files_name:\n",
    "        f = open(f'./all/{file}', 'r', encoding='utf-8')\n",
    "        data = json.loads(f.read())\n",
    "        f.close()\n",
    "        years = data[\"metadata-all\"][\"fr\"][\"year\"]\n",
    "        dict_kws, dict_apparition = getKeywordsByCountries(country1, country2, data)\n",
    "        all_kws = Counter(all_kws) + Counter(dict_kws)\n",
    "        all_apparition = Counter(all_apparition) + Counter(dict_apparition)\n",
    "    return all_kws, all_apparition\n",
    "\n",
    "# Création du Dataframe pour le Barchar des mots clés\n",
    "def createDfBarchar(all_kws, all_apparition, country1, country2):\n",
    "    top_keywords = firstElements(all_kws, 100)\n",
    "    top_keywords.pop(str.lower(country1))\n",
    "    top_keywords.pop(str.lower(country2),0)\n",
    "\n",
    "    top_apparition = firstElements(all_apparition, 100)\n",
    "    top_apparition.pop(str.lower(country1))\n",
    "    top_apparition.pop(str.lower(country2),0)\n",
    "\n",
    "    df_kws = pd.DataFrame(top_keywords.items(), columns=['Keywords', 'Nb of Apparition'])\n",
    "    df_kws['Nb Articles'] = df_kws['Keywords'].map(all_apparition)\n",
    "    df_kws['Nb Apparition per Article'] = df_kws['Nb of Apparition'] / df_kws['Nb Articles']\n",
    "    df_kws = df_kws.sort_values(by = 'Nb of Apparition', ascending = False)\n",
    "\n",
    "    return df_kws\n",
    "\n",
    "# Crée un dictionnaire des apparition des mots clés par localisation et par date\n",
    "def createLinkedDict(top_location, kwsTofilter: str, yearsKey, otherCountry, pivotCountry):\n",
    "    d = defaultdict(lambda: defaultdict(dict))\n",
    "    for years in yearsKey:\n",
    "        for loc in otherCountry:\n",
    "            for kws in kwsTofilter:\n",
    "                d[years][loc][kws] = 0\n",
    "\n",
    "    for file in tqdm(os.listdir(\"./all\")):\n",
    "        f = open(f'./all/{file}', 'r', encoding='utf-8')\n",
    "        data = json.loads(f.read())\n",
    "        f.close()\n",
    "\n",
    "        data_all = data[\"data-all\"]\n",
    "        filterByLocKeyAndValues(pivotCountry, otherCountry, data_all, d, kwsTofilter)\n",
    "    return d\n",
    "\n",
    "# Créé un nuage de point des apparition de deux mots clés mis en paramètre pour chacune des localisations\n",
    "def createScatterGraph(kwsTofilter, top_location):\n",
    "    pivotCountry = list(top_location.keys())[0]\n",
    "    otherCountry = list(top_location.keys())[1:]\n",
    "    kwsOne = []\n",
    "    kwsTwo = []\n",
    "    date = []\n",
    "    dfCountry = otherCountry * 4\n",
    "    kwsTofilter = kwsTofilter.split(\",\")\n",
    "    yearsKey = [\"2018\", \"2019\", \"2020\", \"2021\"]\n",
    "    d = createLinkedDict(top_location, kwsTofilter, yearsKey, otherCountry, pivotCountry)\n",
    "    for years in yearsKey:\n",
    "        for loc in otherCountry:\n",
    "            val1 = (list(d[years][loc].values())[0])\n",
    "            val2 = (list(d[years][loc].values())[1])\n",
    "            kwsOne.append(val1)\n",
    "            kwsTwo.append(val2)\n",
    "            date.append(years)\n",
    "    weight = list(top_location.values())\n",
    "    size = weight[1:] * 4\n",
    "    data_test = {\n",
    "        'Country': dfCountry,\n",
    "        f'{kwsTofilter[0]}': kwsOne,\n",
    "        f'{kwsTofilter[1]}': kwsTwo,\n",
    "        'Date': date,\n",
    "        'Size': size\n",
    "    }\n",
    "    df1 = pd.DataFrame(data_test)\n",
    "    range_y = [min(kwsOne), max(kwsOne)]\n",
    "    range_x = [min(kwsTwo), max(kwsTwo)]\n",
    "    fig = px.scatter(df1, x=f'{kwsTofilter[0]}', y=f'{kwsTofilter[1]}', range_y=range_x, range_x=range_y, animation_frame=\"Date\", size=f'Size',\n",
    "                     size_max=55, hover_name=\"Country\", color=\"Country\", animation_group=\"Country\", width=1000, height=800, title=f\"{pivotCountry} relations\")\n",
    "    fig.show()\n",
    "    dendro(kwsTofilter,  kwsOne, kwsTwo, dfCountry, otherCountry)\n",
    "\n",
    "# Créé le dendrogramme associé au nuage de point\n",
    "def dendro(kwsTofilter, kwsOne, kwsTwo, country, otherCountry):\n",
    "    data = {\n",
    "    f'{kwsTofilter[0]}': kwsOne,\n",
    "    f'{kwsTofilter[1]}': kwsTwo,\n",
    "    }\n",
    "    countryLen = len(otherCountry)\n",
    "    df2 = pd.DataFrame(data, country)\n",
    "    x_2021 = df2[countryLen*3:countryLen*4]\n",
    "    x_2020 = df2[countryLen*2:countryLen*3]\n",
    "    x_2019 = df2[countryLen:countryLen*2]\n",
    "\n",
    "    linkageMethod = 'single'\n",
    "\n",
    "    Z = linkage(x_2019,linkageMethod )\n",
    "    Z2 = linkage(x_2020,linkageMethod )\n",
    "    Z3 = hierarchy.linkage(x_2021,linkageMethod )\n",
    "\n",
    "    fig, axes = plt.subplots(1, 3, figsize=(12 * 2, 4 * 2))\n",
    "    axes[0].set_title('2019')\n",
    "    axes[1].set_title('2020')\n",
    "    axes[2].set_title('2021')\n",
    "    axes[0].set_ylabel(f'Distance ({linkageMethod})')\n",
    "    axes[1].set_ylabel(f'Distance ({linkageMethod})')\n",
    "    axes[2].set_ylabel(f'Distance ({linkageMethod})')\n",
    "    dn1 = dendrogram(Z, ax=axes[0], labels=x_2019.index, leaf_rotation=70)\n",
    "    dn2 = dendrogram(Z2, ax=axes[1], labels=x_2020.index, leaf_rotation=70)\n",
    "    dn3 = dendrogram(Z3, ax=axes[2], labels=x_2021.index, leaf_rotation=70)\n",
    "    plt.show()\n",
    "    "
   ]
  },
  {
   "attachments": {},
   "cell_type": "markdown",
   "metadata": {},
   "source": [
    "## Récupération des localisations"
   ]
  },
  {
   "cell_type": "code",
   "execution_count": 64,
   "metadata": {},
   "outputs": [
    {
     "name": "stdout",
     "output_type": "stream",
     "text": [
      "{'France': 637, 'Paris': 97, 'États-Unis': 76, 'État': 70, 'Israël': 42, 'Russie': 36, 'Allemagne': 33, 'Algérie': 26, 'Iran': 26, 'Mali': 23, 'Europe': 22, 'Afrique': 20, 'Chine': 17, 'Royaume-Uni': 17, 'Turquie': 16, 'Alger': 16, 'République': 16, 'Sahel': 15, 'Moscou': 14, 'Italie': 14, 'Syrie': 14}\n"
     ]
    }
   ],
   "source": [
    "locKws = \"France\" # A MODIFIER \n",
    "\n",
    "dictionaryLoc = recupLoc(locKws)\n",
    "top_location = firstElements(dictionaryLoc, 20)\n",
    "\n",
    "print(top_location)"
   ]
  },
  {
   "cell_type": "markdown",
   "metadata": {},
   "source": [
    "## Création des noeuds\n",
    "Nous récupérons ici la liste des localisations ainsi que la liste du nombre de fois ou chaque localisation apparait un article."
   ]
  },
  {
   "cell_type": "code",
   "execution_count": 65,
   "metadata": {
    "collapsed": false
   },
   "outputs": [
    {
     "name": "stdout",
     "output_type": "stream",
     "text": [
      "['France', 'Paris', 'États-Unis', 'État', 'Israël', 'Russie', 'Allemagne', 'Algérie', 'Iran', 'Mali', 'Europe', 'Afrique', 'Chine', 'Royaume-Uni', 'Turquie', 'Alger', 'République', 'Sahel', 'Moscou', 'Italie', 'Syrie']\n",
      "[637, 97, 76, 70, 42, 36, 33, 26, 26, 23, 22, 20, 17, 17, 16, 16, 16, 15, 14, 14, 14]\n"
     ]
    }
   ],
   "source": [
    "nodes = list(top_location.keys())\n",
    "weight = list(top_location.values())\n",
    "\n",
    "print(nodes)\n",
    "print(weight)"
   ]
  },
  {
   "cell_type": "markdown",
   "metadata": {},
   "source": [
    "## Création des arcs entre les noeuds\n",
    "Nous avons décidé de pondérer les arcs par le nombres d'articles où la localisation apparait afin d'obtenir des écarts entre les différents noeuds plus significatif et plus facilement représentables."
   ]
  },
  {
   "cell_type": "code",
   "execution_count": 66,
   "metadata": {
    "collapsed": false
   },
   "outputs": [
    {
     "name": "stdout",
     "output_type": "stream",
     "text": [
      "[('France', 'Paris', 97), ('France', 'États-Unis', 76), ('France', 'État', 70), ('France', 'Israël', 42), ('France', 'Russie', 36), ('France', 'Allemagne', 33), ('France', 'Algérie', 26), ('France', 'Iran', 26), ('France', 'Mali', 23), ('France', 'Europe', 22), ('France', 'Afrique', 20), ('France', 'Chine', 17), ('France', 'Royaume-Uni', 17), ('France', 'Turquie', 16), ('France', 'Alger', 16), ('France', 'République', 16), ('France', 'Sahel', 15), ('France', 'Moscou', 14), ('France', 'Italie', 14), ('France', 'Syrie', 14)]\n"
     ]
    }
   ],
   "source": [
    "edges = [(nodes[0], nodes[k],weight[k]) for k in range(1, len(nodes))]\n",
    "\n",
    "print(edges)"
   ]
  },
  {
   "cell_type": "markdown",
   "metadata": {},
   "source": [
    "## Création du graphe\n",
    "Nous créons finalement un graphe à partir des noeuds et des arcs créés précédement. Plus une localisation est citée dans des articles en lien avec la localisation centrale, plus elle apparait proche de celle-ci sur le graphe. Nous appliquons finalement un gradiant de couleur pour améliorer la lisibilité du graphe."
   ]
  },
  {
   "cell_type": "code",
   "execution_count": 72,
   "metadata": {
    "collapsed": false
   },
   "outputs": [
    {
     "data": {
      "image/png": "[encoded data removed]",
      "text/plain": [
       "<Figure size 640x480 with 1 Axes>"
      ]
     },
     "metadata": {},
     "output_type": "display_data"
    }
   ],
   "source": [
    "g.add_weighted_edges_from(edges)\n",
    "g.add_nodes_from(nodes)\n",
    "n_weight = [i for i in weight]\n",
    "n_weight[0] = n_weight[1]+ n_weight[1]/2\n",
    "nx.draw_spring(g,with_labels=True,node_size = 1000,node_color = n_weight,cmap = plt.cm.get_cmap('viridis_r'))"
   ]
  },
  {
   "attachments": {},
   "cell_type": "markdown",
   "metadata": {},
   "source": [
    "## Récupération des mots clés en fonction de deux localisations"
   ]
  },
  {
   "cell_type": "code",
   "execution_count": 68,
   "metadata": {},
   "outputs": [
    {
     "name": "stdout",
     "output_type": "stream",
     "text": [
      "     Keywords  Nb of Apparition  Nb Articles  Nb Apparition per Article\n",
      "0    français              8050         1810                   4.447514\n",
      "1        pari              7410         2145                   3.454545\n",
      "2        pays              5350         1328                   4.028614\n",
      "3   président              4074         1188                   3.429293\n",
      "4        état              3634         1145                   3.173799\n",
      "..        ...               ...          ...                        ...\n",
      "95    janvier               965          483                   1.997930\n",
      "96     projet               961          453                   2.121413\n",
      "97   décision               955          556                   1.717626\n",
      "98  mouvement               954          479                   1.991649\n",
      "99    attaque               953          395                   2.412658\n",
      "\n",
      "[100 rows x 4 columns]\n"
     ]
    }
   ],
   "source": [
    "country1 = list(top_location.keys())[0] # Premier localisation (à prendre dans la liste des localisations précédentes)\n",
    "country2 = list(top_location.keys())[1] # Deuxième localisation (à prendre dans la liste des localisations précédentes)\n",
    "\n",
    "all_kws, all_apparition = recupKws(country1, country2)\n",
    "\n",
    "df_kws = createDfBarchar(all_kws, all_apparition, country1, country2)\n",
    "\n",
    "print(df_kws)\n"
   ]
  },
  {
   "cell_type": "markdown",
   "metadata": {},
   "source": [
    "## Création d'un Bar Chart\n",
    "Nous créons ensuite un graphique mettant en avant les mots clés les plus utilisés lorsque l'on parle de deux localisations."
   ]
  },
  {
   "cell_type": "code",
   "execution_count": 69,
   "metadata": {},
   "outputs": [
    {
     "data": {
      "application/vnd.plotly.v1+json": {
       "config": {
        "plotlyServerURL": "https://plot.ly"
       },
       "data": [
        {
         "alignmentgroup": "True",
         "customdata": [
          [
           1810,
           4.447513812154696
          ],
          [
           2145,
           3.4545454545454546
          ],
          [
           1328,
           4.028614457831325
          ],
          [
           1188,
           3.4292929292929295
          ],
          [
           1145,
           3.1737991266375545
          ],
          [
           1119,
           2.8668453976764967
          ],
          [
           989,
           2.8351870576339735
          ],
          [
           1056,
           2.4384469696969697
          ],
          [
           1235,
           2.0591093117408907
          ],
          [
           918,
           2.690631808278867
          ],
          [
           1077,
           2.278551532033426
          ],
          [
           644,
           3.7593167701863353
          ],
          [
           983,
           2.4201424211597153
          ],
          [
           674,
           3.5178041543026706
          ],
          [
           1083,
           2.1634349030470914
          ],
          [
           717,
           2.9860529986052997
          ],
          [
           909,
           2.198019801980198
          ],
          [
           878,
           2.2198177676537587
          ],
          [
           919,
           2.1066376496191515
          ],
          [
           920,
           1.9804347826086957
          ],
          [
           567,
           3.1922398589065257
          ],
          [
           977,
           1.8321392016376663
          ],
          [
           389,
           4.586118251928021
          ],
          [
           849,
           2.082449941107185
          ],
          [
           852,
           2.0305164319248825
          ],
          [
           429,
           3.9463869463869465
          ],
          [
           424,
           3.813679245283019
          ],
          [
           404,
           3.8935643564356437
          ],
          [
           760,
           2.0486842105263157
          ],
          [
           464,
           3.3469827586206895
          ],
          [
           796,
           1.9170854271356783
          ],
          [
           578,
           2.621107266435986
          ],
          [
           502,
           3.00199203187251
          ],
          [
           647,
           2.3106646058732614
          ],
          [
           667,
           2.2263868065967016
          ],
          [
           774,
           1.9108527131782946
          ],
          [
           708,
           2.0720338983050848
          ],
          [
           641,
           2.2605304212168487
          ],
          [
           513,
           2.8226120857699804
          ],
          [
           503,
           2.856858846918489
          ],
          [
           546,
           2.5714285714285716
          ],
          [
           752,
           1.851063829787234
          ],
          [
           249,
           5.473895582329317
          ],
          [
           695,
           1.9136690647482015
          ],
          [
           817,
           1.6034271725826192
          ],
          [
           743,
           1.7429340511440108
          ],
          [
           611,
           2.104746317512275
          ],
          [
           563,
           2.2841918294849024
          ],
          [
           788,
           1.6256345177664975
          ],
          [
           593,
           2.1450252951096123
          ],
          [
           677,
           1.8744460856720828
          ],
          [
           418,
           3.0334928229665072
          ],
          [
           650,
           1.9476923076923076
          ],
          [
           617,
           2.0032414910858996
          ],
          [
           772,
           1.5816062176165804
          ],
          [
           780,
           1.5653846153846154
          ],
          [
           301,
           4.056478405315614
          ],
          [
           633,
           1.8973143759873619
          ],
          [
           676,
           1.7736686390532543
          ],
          [
           512,
           2.31640625
          ],
          [
           769,
           1.5370611183355007
          ],
          [
           574,
           2.048780487804878
          ],
          [
           511,
           2.287671232876712
          ],
          [
           592,
           1.945945945945946
          ],
          [
           517,
           2.2263056092843327
          ],
          [
           423,
           2.699763593380615
          ],
          [
           601,
           1.8985024958402663
          ],
          [
           550,
           2.0654545454545454
          ],
          [
           461,
           2.438177874186551
          ],
          [
           377,
           2.9787798408488064
          ],
          [
           697,
           1.6083213773314204
          ],
          [
           628,
           1.7722929936305734
          ],
          [
           550,
           2.02
          ],
          [
           588,
           1.8656462585034013
          ],
          [
           722,
           1.4986149584487534
          ],
          [
           655,
           1.6473282442748092
          ],
          [
           666,
           1.602102102102102
          ],
          [
           670,
           1.5850746268656717
          ],
          [
           684,
           1.5497076023391814
          ],
          [
           376,
           2.8111702127659575
          ],
          [
           568,
           1.857394366197183
          ],
          [
           526,
           1.9866920152091254
          ],
          [
           491,
           2.116089613034623
          ],
          [
           441,
           2.3469387755102042
          ],
          [
           577,
           1.7885615251299827
          ],
          [
           551,
           1.8493647912885662
          ],
          [
           518,
           1.9594594594594594
          ],
          [
           672,
           1.4985119047619047
          ],
          [
           557,
           1.8061041292639137
          ],
          [
           470,
           2.1361702127659576
          ],
          [
           228,
           4.390350877192983
          ],
          [
           627,
           1.5757575757575757
          ],
          [
           577,
           1.708838821490468
          ],
          [
           201,
           4.895522388059701
          ],
          [
           494,
           1.9757085020242915
          ],
          [
           483,
           1.9979296066252588
          ],
          [
           453,
           2.121412803532009
          ],
          [
           556,
           1.7176258992805755
          ],
          [
           479,
           1.9916492693110648
          ],
          [
           395,
           2.4126582278481012
          ]
         ],
         "hovertemplate": "Keywords=%{x}<br>Nb of Apparition=%{y}<br>Nb Articles=%{customdata[0]}<br>Nb Apparition per Article=%{marker.color}<extra></extra>",
         "legendgroup": "",
         "marker": {
          "color": [
           4.447513812154696,
           3.4545454545454546,
           4.028614457831325,
           3.4292929292929295,
           3.1737991266375545,
           2.8668453976764967,
           2.8351870576339735,
           2.4384469696969697,
           2.0591093117408907,
           2.690631808278867,
           2.278551532033426,
           3.7593167701863353,
           2.4201424211597153,
           3.5178041543026706,
           2.1634349030470914,
           2.9860529986052997,
           2.198019801980198,
           2.2198177676537587,
           2.1066376496191515,
           1.9804347826086957,
           3.1922398589065257,
           1.8321392016376663,
           4.586118251928021,
           2.082449941107185,
           2.0305164319248825,
           3.9463869463869465,
           3.813679245283019,
           3.8935643564356437,
           2.0486842105263157,
           3.3469827586206895,
           1.9170854271356783,
           2.621107266435986,
           3.00199203187251,
           2.3106646058732614,
           2.2263868065967016,
           1.9108527131782946,
           2.0720338983050848,
           2.2605304212168487,
           2.8226120857699804,
           2.856858846918489,
           2.5714285714285716,
           1.851063829787234,
           5.473895582329317,
           1.9136690647482015,
           1.6034271725826192,
           1.7429340511440108,
           2.104746317512275,
           2.2841918294849024,
           1.6256345177664975,
           2.1450252951096123,
           1.8744460856720828,
           3.0334928229665072,
           1.9476923076923076,
           2.0032414910858996,
           1.5816062176165804,
           1.5653846153846154,
           4.056478405315614,
           1.8973143759873619,
           1.7736686390532543,
           2.31640625,
           1.5370611183355007,
           2.048780487804878,
           2.287671232876712,
           1.945945945945946,
           2.2263056092843327,
           2.699763593380615,
           1.8985024958402663,
           2.0654545454545454,
           2.438177874186551,
           2.9787798408488064,
           1.6083213773314204,
           1.7722929936305734,
           2.02,
           1.8656462585034013,
           1.4986149584487534,
           1.6473282442748092,
           1.602102102102102,
           1.5850746268656717,
           1.5497076023391814,
           2.8111702127659575,
           1.857394366197183,
           1.9866920152091254,
           2.116089613034623,
           2.3469387755102042,
           1.7885615251299827,
           1.8493647912885662,
           1.9594594594594594,
           1.4985119047619047,
           1.8061041292639137,
           2.1361702127659576,
           4.390350877192983,
           1.5757575757575757,
           1.708838821490468,
           4.895522388059701,
           1.9757085020242915,
           1.9979296066252588,
           2.121412803532009,
           1.7176258992805755,
           1.9916492693110648,
           2.4126582278481012
          ],
          "coloraxis": "coloraxis",
          "pattern": {
           "shape": ""
          }
         },
         "name": "",
         "offsetgroup": "",
         "orientation": "v",
         "showlegend": false,
         "textposition": "auto",
         "type": "bar",
         "x": [
          "français",
          "pari",
          "pays",
          "président",
          "état",
          "politique",
          "macron",
          "ministre",
          "dernier",
          "force",
          "an",
          "américain",
          "gouvernement",
          "militaire",
          "grand",
          "européen",
          "affaire",
          "place",
          "national",
          "nouveau",
          "armée",
          "jour",
          "afrique",
          "personne",
          "monde",
          "jaune",
          "gilet",
          "russe",
          "étranger",
          "terroriste",
          "année",
          "sputnik",
          "russie",
          "groupe",
          "sécurité",
          "question",
          "homme",
          "guerre",
          "manifestation",
          "police",
          "accord",
          "chef",
          "mali",
          "cas",
          "face",
          "situation",
          "droit",
          "région",
          "mois",
          "média",
          "public",
          "policier",
          "général",
          "international",
          "fin",
          "fois",
          "africain",
          "république",
          "emmanuel",
          "défense",
          "part",
          "ville",
          "source",
          "parisien",
          "mars",
          "samedi",
          "ancien",
          "ordre",
          "population",
          "occidental",
          "côté",
          "mesure",
          "crise",
          "social",
          "lieu",
          "point",
          "autorité",
          "temps",
          "partie",
          "manifestant",
          "presse",
          "europe",
          "novembre",
          "euro",
          "coup",
          "service",
          "mort",
          "semaine",
          "heure",
          "octobre",
          "iran",
          "bon",
          "ministère",
          "trump",
          "relation",
          "janvier",
          "projet",
          "décision",
          "mouvement",
          "attaque"
         ],
         "xaxis": "x",
         "y": [
          8050,
          7410,
          5350,
          4074,
          3634,
          3208,
          2804,
          2575,
          2543,
          2470,
          2454,
          2421,
          2379,
          2371,
          2343,
          2141,
          1998,
          1949,
          1936,
          1822,
          1810,
          1790,
          1784,
          1768,
          1730,
          1693,
          1617,
          1573,
          1557,
          1553,
          1526,
          1515,
          1507,
          1495,
          1485,
          1479,
          1467,
          1449,
          1448,
          1437,
          1404,
          1392,
          1363,
          1330,
          1310,
          1295,
          1286,
          1286,
          1281,
          1272,
          1269,
          1268,
          1266,
          1236,
          1221,
          1221,
          1221,
          1201,
          1199,
          1186,
          1182,
          1176,
          1169,
          1152,
          1151,
          1142,
          1141,
          1136,
          1124,
          1123,
          1121,
          1113,
          1111,
          1097,
          1082,
          1079,
          1067,
          1062,
          1060,
          1057,
          1055,
          1045,
          1039,
          1035,
          1032,
          1019,
          1015,
          1007,
          1006,
          1004,
          1001,
          988,
          986,
          984,
          976,
          965,
          961,
          955,
          954,
          953
         ],
         "yaxis": "y"
        }
       ],
       "layout": {
        "barmode": "relative",
        "coloraxis": {
         "colorbar": {
          "title": {
           "text": "Nb Apparition per Article"
          }
         },
         "colorscale": [
          [
           0,
           "rgb(253, 237, 176)"
          ],
          [
           0.09090909090909091,
           "rgb(250, 205, 145)"
          ],
          [
           0.18181818181818182,
           "rgb(246, 173, 119)"
          ],
          [
           0.2727272727272727,
           "rgb(240, 142, 98)"
          ],
          [
           0.36363636363636365,
           "rgb(231, 109, 84)"
          ],
          [
           0.45454545454545453,
           "rgb(216, 80, 83)"
          ],
          [
           0.5454545454545454,
           "rgb(195, 56, 90)"
          ],
          [
           0.6363636363636364,
           "rgb(168, 40, 96)"
          ],
          [
           0.7272727272727273,
           "rgb(138, 29, 99)"
          ],
          [
           0.8181818181818182,
           "rgb(107, 24, 93)"
          ],
          [
           0.9090909090909091,
           "rgb(76, 21, 80)"
          ],
          [
           1,
           "rgb(47, 15, 61)"
          ]
         ]
        },
        "legend": {
         "tracegroupgap": 0
        },
        "template": {
         "data": {
          "bar": [
           {
            "error_x": {
             "color": "#2a3f5f"
            },
            "error_y": {
             "color": "#2a3f5f"
            },
            "marker": {
             "line": {
              "color": "#E5ECF6",
              "width": 0.5
             },
             "pattern": {
              "fillmode": "overlay",
              "size": 10,
              "solidity": 0.2
             }
            },
            "type": "bar"
           }
          ],
          "barpolar": [
           {
            "marker": {
             "line": {
              "color": "#E5ECF6",
              "width": 0.5
             },
             "pattern": {
              "fillmode": "overlay",
              "size": 10,
              "solidity": 0.2
             }
            },
            "type": "barpolar"
           }
          ],
          "carpet": [
           {
            "aaxis": {
             "endlinecolor": "#2a3f5f",
             "gridcolor": "white",
             "linecolor": "white",
             "minorgridcolor": "white",
             "startlinecolor": "#2a3f5f"
            },
            "baxis": {
             "endlinecolor": "#2a3f5f",
             "gridcolor": "white",
             "linecolor": "white",
             "minorgridcolor": "white",
             "startlinecolor": "#2a3f5f"
            },
            "type": "carpet"
           }
          ],
          "choropleth": [
           {
            "colorbar": {
             "outlinewidth": 0,
             "ticks": ""
            },
            "type": "choropleth"
           }
          ],
          "contour": [
           {
            "colorbar": {
             "outlinewidth": 0,
             "ticks": ""
            },
            "colorscale": [
             [
              0,
              "#0d0887"
             ],
             [
              0.1111111111111111,
              "#46039f"
             ],
             [
              0.2222222222222222,
              "#7201a8"
             ],
             [
              0.3333333333333333,
              "#9c179e"
             ],
             [
              0.4444444444444444,
              "#bd3786"
             ],
             [
              0.5555555555555556,
              "#d8576b"
             ],
             [
              0.6666666666666666,
              "#ed7953"
             ],
             [
              0.7777777777777778,
              "#fb9f3a"
             ],
             [
              0.8888888888888888,
              "#fdca26"
             ],
             [
              1,
              "#f0f921"
             ]
            ],
            "type": "contour"
           }
          ],
          "contourcarpet": [
           {
            "colorbar": {
             "outlinewidth": 0,
             "ticks": ""
            },
            "type": "contourcarpet"
           }
          ],
          "heatmap": [
           {
            "colorbar": {
             "outlinewidth": 0,
             "ticks": ""
            },
            "colorscale": [
             [
              0,
              "#0d0887"
             ],
             [
              0.1111111111111111,
              "#46039f"
             ],
             [
              0.2222222222222222,
              "#7201a8"
             ],
             [
              0.3333333333333333,
              "#9c179e"
             ],
             [
              0.4444444444444444,
              "#bd3786"
             ],
             [
              0.5555555555555556,
              "#d8576b"
             ],
             [
              0.6666666666666666,
              "#ed7953"
             ],
             [
              0.7777777777777778,
              "#fb9f3a"
             ],
             [
              0.8888888888888888,
              "#fdca26"
             ],
             [
              1,
              "#f0f921"
             ]
            ],
            "type": "heatmap"
           }
          ],
          "heatmapgl": [
           {
            "colorbar": {
             "outlinewidth": 0,
             "ticks": ""
            },
            "colorscale": [
             [
              0,
              "#0d0887"
             ],
             [
              0.1111111111111111,
              "#46039f"
             ],
             [
              0.2222222222222222,
              "#7201a8"
             ],
             [
              0.3333333333333333,
              "#9c179e"
             ],
             [
              0.4444444444444444,
              "#bd3786"
             ],
             [
              0.5555555555555556,
              "#d8576b"
             ],
             [
              0.6666666666666666,
              "#ed7953"
             ],
             [
              0.7777777777777778,
              "#fb9f3a"
             ],
             [
              0.8888888888888888,
              "#fdca26"
             ],
             [
              1,
              "#f0f921"
             ]
            ],
            "type": "heatmapgl"
           }
          ],
          "histogram": [
           {
            "marker": {
             "pattern": {
              "fillmode": "overlay",
              "size": 10,
              "solidity": 0.2
             }
            },
            "type": "histogram"
           }
          ],
          "histogram2d": [
           {
            "colorbar": {
             "outlinewidth": 0,
             "ticks": ""
            },
            "colorscale": [
             [
              0,
              "#0d0887"
             ],
             [
              0.1111111111111111,
              "#46039f"
             ],
             [
              0.2222222222222222,
              "#7201a8"
             ],
             [
              0.3333333333333333,
              "#9c179e"
             ],
             [
              0.4444444444444444,
              "#bd3786"
             ],
             [
              0.5555555555555556,
              "#d8576b"
             ],
             [
              0.6666666666666666,
              "#ed7953"
             ],
             [
              0.7777777777777778,
              "#fb9f3a"
             ],
             [
              0.8888888888888888,
              "#fdca26"
             ],
             [
              1,
              "#f0f921"
             ]
            ],
            "type": "histogram2d"
           }
          ],
          "histogram2dcontour": [
           {
            "colorbar": {
             "outlinewidth": 0,
             "ticks": ""
            },
            "colorscale": [
             [
              0,
              "#0d0887"
             ],
             [
              0.1111111111111111,
              "#46039f"
             ],
             [
              0.2222222222222222,
              "#7201a8"
             ],
             [
              0.3333333333333333,
              "#9c179e"
             ],
             [
              0.4444444444444444,
              "#bd3786"
             ],
             [
              0.5555555555555556,
              "#d8576b"
             ],
             [
              0.6666666666666666,
              "#ed7953"
             ],
             [
              0.7777777777777778,
              "#fb9f3a"
             ],
             [
              0.8888888888888888,
              "#fdca26"
             ],
             [
              1,
              "#f0f921"
             ]
            ],
            "type": "histogram2dcontour"
           }
          ],
          "mesh3d": [
           {
            "colorbar": {
             "outlinewidth": 0,
             "ticks": ""
            },
            "type": "mesh3d"
           }
          ],
          "parcoords": [
           {
            "line": {
             "colorbar": {
              "outlinewidth": 0,
              "ticks": ""
             }
            },
            "type": "parcoords"
           }
          ],
          "pie": [
           {
            "automargin": true,
            "type": "pie"
           }
          ],
          "scatter": [
           {
            "fillpattern": {
             "fillmode": "overlay",
             "size": 10,
             "solidity": 0.2
            },
            "type": "scatter"
           }
          ],
          "scatter3d": [
           {
            "line": {
             "colorbar": {
              "outlinewidth": 0,
              "ticks": ""
             }
            },
            "marker": {
             "colorbar": {
              "outlinewidth": 0,
              "ticks": ""
             }
            },
            "type": "scatter3d"
           }
          ],
          "scattercarpet": [
           {
            "marker": {
             "colorbar": {
              "outlinewidth": 0,
              "ticks": ""
             }
            },
            "type": "scattercarpet"
           }
          ],
          "scattergeo": [
           {
            "marker": {
             "colorbar": {
              "outlinewidth": 0,
              "ticks": ""
             }
            },
            "type": "scattergeo"
           }
          ],
          "scattergl": [
           {
            "marker": {
             "colorbar": {
              "outlinewidth": 0,
              "ticks": ""
             }
            },
            "type": "scattergl"
           }
          ],
          "scattermapbox": [
           {
            "marker": {
             "colorbar": {
              "outlinewidth": 0,
              "ticks": ""
             }
            },
            "type": "scattermapbox"
           }
          ],
          "scatterpolar": [
           {
            "marker": {
             "colorbar": {
              "outlinewidth": 0,
              "ticks": ""
             }
            },
            "type": "scatterpolar"
           }
          ],
          "scatterpolargl": [
           {
            "marker": {
             "colorbar": {
              "outlinewidth": 0,
              "ticks": ""
             }
            },
            "type": "scatterpolargl"
           }
          ],
          "scatterternary": [
           {
            "marker": {
             "colorbar": {
              "outlinewidth": 0,
              "ticks": ""
             }
            },
            "type": "scatterternary"
           }
          ],
          "surface": [
           {
            "colorbar": {
             "outlinewidth": 0,
             "ticks": ""
            },
            "colorscale": [
             [
              0,
              "#0d0887"
             ],
             [
              0.1111111111111111,
              "#46039f"
             ],
             [
              0.2222222222222222,
              "#7201a8"
             ],
             [
              0.3333333333333333,
              "#9c179e"
             ],
             [
              0.4444444444444444,
              "#bd3786"
             ],
             [
              0.5555555555555556,
              "#d8576b"
             ],
             [
              0.6666666666666666,
              "#ed7953"
             ],
             [
              0.7777777777777778,
              "#fb9f3a"
             ],
             [
              0.8888888888888888,
              "#fdca26"
             ],
             [
              1,
              "#f0f921"
             ]
            ],
            "type": "surface"
           }
          ],
          "table": [
           {
            "cells": {
             "fill": {
              "color": "#EBF0F8"
             },
             "line": {
              "color": "white"
             }
            },
            "header": {
             "fill": {
              "color": "#C8D4E3"
             },
             "line": {
              "color": "white"
             }
            },
            "type": "table"
           }
          ]
         },
         "layout": {
          "annotationdefaults": {
           "arrowcolor": "#2a3f5f",
           "arrowhead": 0,
           "arrowwidth": 1
          },
          "autotypenumbers": "strict",
          "coloraxis": {
           "colorbar": {
            "outlinewidth": 0,
            "ticks": ""
           }
          },
          "colorscale": {
           "diverging": [
            [
             0,
             "#8e0152"
            ],
            [
             0.1,
             "#c51b7d"
            ],
            [
             0.2,
             "#de77ae"
            ],
            [
             0.3,
             "#f1b6da"
            ],
            [
             0.4,
             "#fde0ef"
            ],
            [
             0.5,
             "#f7f7f7"
            ],
            [
             0.6,
             "#e6f5d0"
            ],
            [
             0.7,
             "#b8e186"
            ],
            [
             0.8,
             "#7fbc41"
            ],
            [
             0.9,
             "#4d9221"
            ],
            [
             1,
             "#276419"
            ]
           ],
           "sequential": [
            [
             0,
             "#0d0887"
            ],
            [
             0.1111111111111111,
             "#46039f"
            ],
            [
             0.2222222222222222,
             "#7201a8"
            ],
            [
             0.3333333333333333,
             "#9c179e"
            ],
            [
             0.4444444444444444,
             "#bd3786"
            ],
            [
             0.5555555555555556,
             "#d8576b"
            ],
            [
             0.6666666666666666,
             "#ed7953"
            ],
            [
             0.7777777777777778,
             "#fb9f3a"
            ],
            [
             0.8888888888888888,
             "#fdca26"
            ],
            [
             1,
             "#f0f921"
            ]
           ],
           "sequentialminus": [
            [
             0,
             "#0d0887"
            ],
            [
             0.1111111111111111,
             "#46039f"
            ],
            [
             0.2222222222222222,
             "#7201a8"
            ],
            [
             0.3333333333333333,
             "#9c179e"
            ],
            [
             0.4444444444444444,
             "#bd3786"
            ],
            [
             0.5555555555555556,
             "#d8576b"
            ],
            [
             0.6666666666666666,
             "#ed7953"
            ],
            [
             0.7777777777777778,
             "#fb9f3a"
            ],
            [
             0.8888888888888888,
             "#fdca26"
            ],
            [
             1,
             "#f0f921"
            ]
           ]
          },
          "colorway": [
           "#636efa",
           "#EF553B",
           "#00cc96",
           "#ab63fa",
           "#FFA15A",
           "#19d3f3",
           "#FF6692",
           "#B6E880",
           "#FF97FF",
           "#FECB52"
          ],
          "font": {
           "color": "#2a3f5f"
          },
          "geo": {
           "bgcolor": "white",
           "lakecolor": "white",
           "landcolor": "#E5ECF6",
           "showlakes": true,
           "showland": true,
           "subunitcolor": "white"
          },
          "hoverlabel": {
           "align": "left"
          },
          "hovermode": "closest",
          "mapbox": {
           "style": "light"
          },
          "paper_bgcolor": "white",
          "plot_bgcolor": "#E5ECF6",
          "polar": {
           "angularaxis": {
            "gridcolor": "white",
            "linecolor": "white",
            "ticks": ""
           },
           "bgcolor": "#E5ECF6",
           "radialaxis": {
            "gridcolor": "white",
            "linecolor": "white",
            "ticks": ""
           }
          },
          "scene": {
           "xaxis": {
            "backgroundcolor": "#E5ECF6",
            "gridcolor": "white",
            "gridwidth": 2,
            "linecolor": "white",
            "showbackground": true,
            "ticks": "",
            "zerolinecolor": "white"
           },
           "yaxis": {
            "backgroundcolor": "#E5ECF6",
            "gridcolor": "white",
            "gridwidth": 2,
            "linecolor": "white",
            "showbackground": true,
            "ticks": "",
            "zerolinecolor": "white"
           },
           "zaxis": {
            "backgroundcolor": "#E5ECF6",
            "gridcolor": "white",
            "gridwidth": 2,
            "linecolor": "white",
            "showbackground": true,
            "ticks": "",
            "zerolinecolor": "white"
           }
          },
          "shapedefaults": {
           "line": {
            "color": "#2a3f5f"
           }
          },
          "ternary": {
           "aaxis": {
            "gridcolor": "white",
            "linecolor": "white",
            "ticks": ""
           },
           "baxis": {
            "gridcolor": "white",
            "linecolor": "white",
            "ticks": ""
           },
           "bgcolor": "#E5ECF6",
           "caxis": {
            "gridcolor": "white",
            "linecolor": "white",
            "ticks": ""
           }
          },
          "title": {
           "x": 0.05
          },
          "xaxis": {
           "automargin": true,
           "gridcolor": "white",
           "linecolor": "white",
           "ticks": "",
           "title": {
            "standoff": 15
           },
           "zerolinecolor": "white",
           "zerolinewidth": 2
          },
          "yaxis": {
           "automargin": true,
           "gridcolor": "white",
           "linecolor": "white",
           "ticks": "",
           "title": {
            "standoff": 15
           },
           "zerolinecolor": "white",
           "zerolinewidth": 2
          }
         }
        },
        "title": {
         "text": "Number of apparition of the most used keywords related France and Paris"
        },
        "xaxis": {
         "anchor": "y",
         "domain": [
          0,
          1
         ],
         "tickangle": -70,
         "title": {
          "text": "Keywords"
         }
        },
        "yaxis": {
         "anchor": "x",
         "domain": [
          0,
          1
         ],
         "title": {
          "text": "Nb of Apparition"
         }
        }
       }
      }
     },
     "metadata": {},
     "output_type": "display_data"
    }
   ],
   "source": [
    "fig = px.bar(df_kws,title=f'Number of apparition of the most used keywords related {country1} and {country2}',x='Keywords',y='Nb of Apparition',color='Nb Apparition per Article',color_continuous_scale=px.colors.sequential.matter,hover_data=df_kws)\n",
    "fig.update_layout(xaxis_tickangle=-70)\n",
    "fig.show()"
   ]
  },
  {
   "attachments": {},
   "cell_type": "markdown",
   "metadata": {},
   "source": [
    "# Nuage de points \n",
    "Ce graphique en nuage de points (également connu sous le nom de nuage de mots ou nuage de tags) est un outil visuel utilisé pour représenter les relations entre différents éléments, en l'occurrence les pays et les mots-clés mentionnés dans les articles liés au pays donné. Il permet d'illustrer les différences dans l'utilisation des mots-clés en fonction des pays mentionnés.\n",
    "\n",
    "Pour réaliser ce graphique, vous devez d'abord sélectionner un pays racine (par exemple, la France) et rechercher dans tous les articles qui mentionnent ce pays les autres pays qui sont également mentionnés. Ensuite, vous devez compter le nombre de fois où les mots-clés sont mentionnés dans ces articles, et représenter ces données sous la forme d'un nuage de points où l'abscisse correspond au nombre de mentions du premier mot-clé et l'ordonnée au nombre de mentions du deuxième mot-clé.\n",
    "\n",
    "Ainsi, si vous choisissez les mots-clés \"armée\" et \"arabe\" et que vous constatez qu'il y a un nombre élevé de mentions de ces mots-clés lorsqu'on parle de la France et de la Syrie dans les articles, le point représentant la Syrie sera situé tout en haut à droite du graphique. Si, en revanche, il y a peu de mentions de ces mots-clés lorsqu'on parle de la France et de la Chine dans les articles, le point représentant la Chine sera situé beaucoup plus bas sur le graphique.\n",
    "\n",
    "En utilisant ce graphique, vous pouvez facilement visualiser les différences dans l'utilisation des mots-clés en fonction des pays mentionnés dans les articles liés au pays racine. Cela peut vous aider à mieux comprendre les relations entre ces pays et à identifier des tendances ou des thèmes communs dans leur traitement par les médias."
   ]
  },
  {
   "attachments": {},
   "cell_type": "markdown",
   "metadata": {},
   "source": [
    "# Dendrogramme\n",
    "Une fois que vous avez calculé la distance entre chaque point du nuage de points, vous pouvez utiliser ces données pour créer un dendrogramme. Le dendrogramme représentera les pays comme des branches reliées entre elles, et la distance entre les branches reflétera la distance entre les points correspondants du nuage de points. Plus les branches sont proches les unes des autres, plus les points correspondants du nuage de points sont similaires en termes d'utilisation des mots-clés.\n",
    "\n",
    "Le dendrogramme vous permet de visualiser les relations entre les pays en fonction de leur utilisation des mots-clés sélectionnés, et vous permet également de voir les regroupements de pays qui utilisent ces mots-clés de manière similaire.\n"
   ]
  },
  {
   "cell_type": "code",
   "execution_count": 74,
   "metadata": {
    "collapsed": false
   },
   "outputs": [
    {
     "name": "stderr",
     "output_type": "stream",
     "text": [
      "100%|██████████| 4/4 [00:07<00:00,  1.89s/it]\n"
     ]
    },
    {
     "data": {
      "application/vnd.plotly.v1+json": {
       "config": {
        "plotlyServerURL": "https://plot.ly"
       },
       "data": [
        {
         "hovertemplate": "<b>%{hovertext}</b><br><br>Country=Paris<br>Date=2018<br>arabe=%{x}<br>juif=%{y}<br>Size=%{marker.size}<extra></extra>",
         "hovertext": [
          "Paris"
         ],
         "ids": [
          "Paris"
         ],
         "legendgroup": "Paris",
         "marker": {
          "color": "#636efa",
          "size": [
           97
          ],
          "sizemode": "area",
          "sizeref": 0.03206611570247934,
          "symbol": "circle"
         },
         "mode": "markers",
         "name": "Paris",
         "orientation": "v",
         "showlegend": true,
         "type": "scatter",
         "x": [
          0
         ],
         "xaxis": "x",
         "y": [
          1
         ],
         "yaxis": "y"
        },
        {
         "hovertemplate": "<b>%{hovertext}</b><br><br>Country=États-Unis<br>Date=2018<br>arabe=%{x}<br>juif=%{y}<br>Size=%{marker.size}<extra></extra>",
         "hovertext": [
          "États-Unis"
         ],
         "ids": [
          "États-Unis"
         ],
         "legendgroup": "États-Unis",
         "marker": {
          "color": "#EF553B",
          "size": [
           76
          ],
          "sizemode": "area",
          "sizeref": 0.03206611570247934,
          "symbol": "circle"
         },
         "mode": "markers",
         "name": "États-Unis",
         "orientation": "v",
         "showlegend": true,
         "type": "scatter",
         "x": [
          0
         ],
         "xaxis": "x",
         "y": [
          0
         ],
         "yaxis": "y"
        },
        {
         "hovertemplate": "<b>%{hovertext}</b><br><br>Country=État<br>Date=2018<br>arabe=%{x}<br>juif=%{y}<br>Size=%{marker.size}<extra></extra>",
         "hovertext": [
          "État"
         ],
         "ids": [
          "État"
         ],
         "legendgroup": "État",
         "marker": {
          "color": "#00cc96",
          "size": [
           70
          ],
          "sizemode": "area",
          "sizeref": 0.03206611570247934,
          "symbol": "circle"
         },
         "mode": "markers",
         "name": "État",
         "orientation": "v",
         "showlegend": true,
         "type": "scatter",
         "x": [
          0
         ],
         "xaxis": "x",
         "y": [
          0
         ],
         "yaxis": "y"
        },
        {
         "hovertemplate": "<b>%{hovertext}</b><br><br>Country=Israël<br>Date=2018<br>arabe=%{x}<br>juif=%{y}<br>Size=%{marker.size}<extra></extra>",
         "hovertext": [
          "Israël"
         ],
         "ids": [
          "Israël"
         ],
         "legendgroup": "Israël",
         "marker": {
          "color": "#ab63fa",
          "size": [
           42
          ],
          "sizemode": "area",
          "sizeref": 0.03206611570247934,
          "symbol": "circle"
         },
         "mode": "markers",
         "name": "Israël",
         "orientation": "v",
         "showlegend": true,
         "type": "scatter",
         "x": [
          0
         ],
         "xaxis": "x",
         "y": [
          0
         ],
         "yaxis": "y"
        },
        {
         "hovertemplate": "<b>%{hovertext}</b><br><br>Country=Russie<br>Date=2018<br>arabe=%{x}<br>juif=%{y}<br>Size=%{marker.size}<extra></extra>",
         "hovertext": [
          "Russie"
         ],
         "ids": [
          "Russie"
         ],
         "legendgroup": "Russie",
         "marker": {
          "color": "#FFA15A",
          "size": [
           36
          ],
          "sizemode": "area",
          "sizeref": 0.03206611570247934,
          "symbol": "circle"
         },
         "mode": "markers",
         "name": "Russie",
         "orientation": "v",
         "showlegend": true,
         "type": "scatter",
         "x": [
          0
         ],
         "xaxis": "x",
         "y": [
          0
         ],
         "yaxis": "y"
        },
        {
         "hovertemplate": "<b>%{hovertext}</b><br><br>Country=Allemagne<br>Date=2018<br>arabe=%{x}<br>juif=%{y}<br>Size=%{marker.size}<extra></extra>",
         "hovertext": [
          "Allemagne"
         ],
         "ids": [
          "Allemagne"
         ],
         "legendgroup": "Allemagne",
         "marker": {
          "color": "#19d3f3",
          "size": [
           33
          ],
          "sizemode": "area",
          "sizeref": 0.03206611570247934,
          "symbol": "circle"
         },
         "mode": "markers",
         "name": "Allemagne",
         "orientation": "v",
         "showlegend": true,
         "type": "scatter",
         "x": [
          0
         ],
         "xaxis": "x",
         "y": [
          0
         ],
         "yaxis": "y"
        },
        {
         "hovertemplate": "<b>%{hovertext}</b><br><br>Country=Algérie<br>Date=2018<br>arabe=%{x}<br>juif=%{y}<br>Size=%{marker.size}<extra></extra>",
         "hovertext": [
          "Algérie"
         ],
         "ids": [
          "Algérie"
         ],
         "legendgroup": "Algérie",
         "marker": {
          "color": "#FF6692",
          "size": [
           26
          ],
          "sizemode": "area",
          "sizeref": 0.03206611570247934,
          "symbol": "circle"
         },
         "mode": "markers",
         "name": "Algérie",
         "orientation": "v",
         "showlegend": true,
         "type": "scatter",
         "x": [
          0
         ],
         "xaxis": "x",
         "y": [
          0
         ],
         "yaxis": "y"
        },
        {
         "hovertemplate": "<b>%{hovertext}</b><br><br>Country=Iran<br>Date=2018<br>arabe=%{x}<br>juif=%{y}<br>Size=%{marker.size}<extra></extra>",
         "hovertext": [
          "Iran"
         ],
         "ids": [
          "Iran"
         ],
         "legendgroup": "Iran",
         "marker": {
          "color": "#B6E880",
          "size": [
           26
          ],
          "sizemode": "area",
          "sizeref": 0.03206611570247934,
          "symbol": "circle"
         },
         "mode": "markers",
         "name": "Iran",
         "orientation": "v",
         "showlegend": true,
         "type": "scatter",
         "x": [
          0
         ],
         "xaxis": "x",
         "y": [
          0
         ],
         "yaxis": "y"
        },
        {
         "hovertemplate": "<b>%{hovertext}</b><br><br>Country=Mali<br>Date=2018<br>arabe=%{x}<br>juif=%{y}<br>Size=%{marker.size}<extra></extra>",
         "hovertext": [
          "Mali"
         ],
         "ids": [
          "Mali"
         ],
         "legendgroup": "Mali",
         "marker": {
          "color": "#FF97FF",
          "size": [
           23
          ],
          "sizemode": "area",
          "sizeref": 0.03206611570247934,
          "symbol": "circle"
         },
         "mode": "markers",
         "name": "Mali",
         "orientation": "v",
         "showlegend": true,
         "type": "scatter",
         "x": [
          0
         ],
         "xaxis": "x",
         "y": [
          0
         ],
         "yaxis": "y"
        },
        {
         "hovertemplate": "<b>%{hovertext}</b><br><br>Country=Europe<br>Date=2018<br>arabe=%{x}<br>juif=%{y}<br>Size=%{marker.size}<extra></extra>",
         "hovertext": [
          "Europe"
         ],
         "ids": [
          "Europe"
         ],
         "legendgroup": "Europe",
         "marker": {
          "color": "#FECB52",
          "size": [
           22
          ],
          "sizemode": "area",
          "sizeref": 0.03206611570247934,
          "symbol": "circle"
         },
         "mode": "markers",
         "name": "Europe",
         "orientation": "v",
         "showlegend": true,
         "type": "scatter",
         "x": [
          0
         ],
         "xaxis": "x",
         "y": [
          0
         ],
         "yaxis": "y"
        },
        {
         "hovertemplate": "<b>%{hovertext}</b><br><br>Country=Afrique<br>Date=2018<br>arabe=%{x}<br>juif=%{y}<br>Size=%{marker.size}<extra></extra>",
         "hovertext": [
          "Afrique"
         ],
         "ids": [
          "Afrique"
         ],
         "legendgroup": "Afrique",
         "marker": {
          "color": "#636efa",
          "size": [
           20
          ],
          "sizemode": "area",
          "sizeref": 0.03206611570247934,
          "symbol": "circle"
         },
         "mode": "markers",
         "name": "Afrique",
         "orientation": "v",
         "showlegend": true,
         "type": "scatter",
         "x": [
          0
         ],
         "xaxis": "x",
         "y": [
          0
         ],
         "yaxis": "y"
        },
        {
         "hovertemplate": "<b>%{hovertext}</b><br><br>Country=Chine<br>Date=2018<br>arabe=%{x}<br>juif=%{y}<br>Size=%{marker.size}<extra></extra>",
         "hovertext": [
          "Chine"
         ],
         "ids": [
          "Chine"
         ],
         "legendgroup": "Chine",
         "marker": {
          "color": "#EF553B",
          "size": [
           17
          ],
          "sizemode": "area",
          "sizeref": 0.03206611570247934,
          "symbol": "circle"
         },
         "mode": "markers",
         "name": "Chine",
         "orientation": "v",
         "showlegend": true,
         "type": "scatter",
         "x": [
          0
         ],
         "xaxis": "x",
         "y": [
          0
         ],
         "yaxis": "y"
        },
        {
         "hovertemplate": "<b>%{hovertext}</b><br><br>Country=Royaume-Uni<br>Date=2018<br>arabe=%{x}<br>juif=%{y}<br>Size=%{marker.size}<extra></extra>",
         "hovertext": [
          "Royaume-Uni"
         ],
         "ids": [
          "Royaume-Uni"
         ],
         "legendgroup": "Royaume-Uni",
         "marker": {
          "color": "#00cc96",
          "size": [
           17
          ],
          "sizemode": "area",
          "sizeref": 0.03206611570247934,
          "symbol": "circle"
         },
         "mode": "markers",
         "name": "Royaume-Uni",
         "orientation": "v",
         "showlegend": true,
         "type": "scatter",
         "x": [
          0
         ],
         "xaxis": "x",
         "y": [
          0
         ],
         "yaxis": "y"
        },
        {
         "hovertemplate": "<b>%{hovertext}</b><br><br>Country=Turquie<br>Date=2018<br>arabe=%{x}<br>juif=%{y}<br>Size=%{marker.size}<extra></extra>",
         "hovertext": [
          "Turquie"
         ],
         "ids": [
          "Turquie"
         ],
         "legendgroup": "Turquie",
         "marker": {
          "color": "#ab63fa",
          "size": [
           16
          ],
          "sizemode": "area",
          "sizeref": 0.03206611570247934,
          "symbol": "circle"
         },
         "mode": "markers",
         "name": "Turquie",
         "orientation": "v",
         "showlegend": true,
         "type": "scatter",
         "x": [
          0
         ],
         "xaxis": "x",
         "y": [
          0
         ],
         "yaxis": "y"
        },
        {
         "hovertemplate": "<b>%{hovertext}</b><br><br>Country=Alger<br>Date=2018<br>arabe=%{x}<br>juif=%{y}<br>Size=%{marker.size}<extra></extra>",
         "hovertext": [
          "Alger"
         ],
         "ids": [
          "Alger"
         ],
         "legendgroup": "Alger",
         "marker": {
          "color": "#FFA15A",
          "size": [
           16
          ],
          "sizemode": "area",
          "sizeref": 0.03206611570247934,
          "symbol": "circle"
         },
         "mode": "markers",
         "name": "Alger",
         "orientation": "v",
         "showlegend": true,
         "type": "scatter",
         "x": [
          0
         ],
         "xaxis": "x",
         "y": [
          0
         ],
         "yaxis": "y"
        },
        {
         "hovertemplate": "<b>%{hovertext}</b><br><br>Country=République<br>Date=2018<br>arabe=%{x}<br>juif=%{y}<br>Size=%{marker.size}<extra></extra>",
         "hovertext": [
          "République"
         ],
         "ids": [
          "République"
         ],
         "legendgroup": "République",
         "marker": {
          "color": "#19d3f3",
          "size": [
           16
          ],
          "sizemode": "area",
          "sizeref": 0.03206611570247934,
          "symbol": "circle"
         },
         "mode": "markers",
         "name": "République",
         "orientation": "v",
         "showlegend": true,
         "type": "scatter",
         "x": [
          0
         ],
         "xaxis": "x",
         "y": [
          0
         ],
         "yaxis": "y"
        },
        {
         "hovertemplate": "<b>%{hovertext}</b><br><br>Country=Sahel<br>Date=2018<br>arabe=%{x}<br>juif=%{y}<br>Size=%{marker.size}<extra></extra>",
         "hovertext": [
          "Sahel"
         ],
         "ids": [
          "Sahel"
         ],
         "legendgroup": "Sahel",
         "marker": {
          "color": "#FF6692",
          "size": [
           15
          ],
          "sizemode": "area",
          "sizeref": 0.03206611570247934,
          "symbol": "circle"
         },
         "mode": "markers",
         "name": "Sahel",
         "orientation": "v",
         "showlegend": true,
         "type": "scatter",
         "x": [
          0
         ],
         "xaxis": "x",
         "y": [
          0
         ],
         "yaxis": "y"
        },
        {
         "hovertemplate": "<b>%{hovertext}</b><br><br>Country=Moscou<br>Date=2018<br>arabe=%{x}<br>juif=%{y}<br>Size=%{marker.size}<extra></extra>",
         "hovertext": [
          "Moscou"
         ],
         "ids": [
          "Moscou"
         ],
         "legendgroup": "Moscou",
         "marker": {
          "color": "#B6E880",
          "size": [
           14
          ],
          "sizemode": "area",
          "sizeref": 0.03206611570247934,
          "symbol": "circle"
         },
         "mode": "markers",
         "name": "Moscou",
         "orientation": "v",
         "showlegend": true,
         "type": "scatter",
         "x": [
          0
         ],
         "xaxis": "x",
         "y": [
          0
         ],
         "yaxis": "y"
        },
        {
         "hovertemplate": "<b>%{hovertext}</b><br><br>Country=Italie<br>Date=2018<br>arabe=%{x}<br>juif=%{y}<br>Size=%{marker.size}<extra></extra>",
         "hovertext": [
          "Italie"
         ],
         "ids": [
          "Italie"
         ],
         "legendgroup": "Italie",
         "marker": {
          "color": "#FF97FF",
          "size": [
           14
          ],
          "sizemode": "area",
          "sizeref": 0.03206611570247934,
          "symbol": "circle"
         },
         "mode": "markers",
         "name": "Italie",
         "orientation": "v",
         "showlegend": true,
         "type": "scatter",
         "x": [
          0
         ],
         "xaxis": "x",
         "y": [
          1
         ],
         "yaxis": "y"
        },
        {
         "hovertemplate": "<b>%{hovertext}</b><br><br>Country=Syrie<br>Date=2018<br>arabe=%{x}<br>juif=%{y}<br>Size=%{marker.size}<extra></extra>",
         "hovertext": [
          "Syrie"
         ],
         "ids": [
          "Syrie"
         ],
         "legendgroup": "Syrie",
         "marker": {
          "color": "#FECB52",
          "size": [
           14
          ],
          "sizemode": "area",
          "sizeref": 0.03206611570247934,
          "symbol": "circle"
         },
         "mode": "markers",
         "name": "Syrie",
         "orientation": "v",
         "showlegend": true,
         "type": "scatter",
         "x": [
          0
         ],
         "xaxis": "x",
         "y": [
          0
         ],
         "yaxis": "y"
        }
       ],
       "frames": [
        {
         "data": [
          {
           "hovertemplate": "<b>%{hovertext}</b><br><br>Country=Paris<br>Date=2018<br>arabe=%{x}<br>juif=%{y}<br>Size=%{marker.size}<extra></extra>",
           "hovertext": [
            "Paris"
           ],
           "ids": [
            "Paris"
           ],
           "legendgroup": "Paris",
           "marker": {
            "color": "#636efa",
            "size": [
             97
            ],
            "sizemode": "area",
            "sizeref": 0.03206611570247934,
            "symbol": "circle"
           },
           "mode": "markers",
           "name": "Paris",
           "orientation": "v",
           "showlegend": true,
           "type": "scatter",
           "x": [
            0
           ],
           "xaxis": "x",
           "y": [
            1
           ],
           "yaxis": "y"
          },
          {
           "hovertemplate": "<b>%{hovertext}</b><br><br>Country=États-Unis<br>Date=2018<br>arabe=%{x}<br>juif=%{y}<br>Size=%{marker.size}<extra></extra>",
           "hovertext": [
            "États-Unis"
           ],
           "ids": [
            "États-Unis"
           ],
           "legendgroup": "États-Unis",
           "marker": {
            "color": "#EF553B",
            "size": [
             76
            ],
            "sizemode": "area",
            "sizeref": 0.03206611570247934,
            "symbol": "circle"
           },
           "mode": "markers",
           "name": "États-Unis",
           "orientation": "v",
           "showlegend": true,
           "type": "scatter",
           "x": [
            0
           ],
           "xaxis": "x",
           "y": [
            0
           ],
           "yaxis": "y"
          },
          {
           "hovertemplate": "<b>%{hovertext}</b><br><br>Country=État<br>Date=2018<br>arabe=%{x}<br>juif=%{y}<br>Size=%{marker.size}<extra></extra>",
           "hovertext": [
            "État"
           ],
           "ids": [
            "État"
           ],
           "legendgroup": "État",
           "marker": {
            "color": "#00cc96",
            "size": [
             70
            ],
            "sizemode": "area",
            "sizeref": 0.03206611570247934,
            "symbol": "circle"
           },
           "mode": "markers",
           "name": "État",
           "orientation": "v",
           "showlegend": true,
           "type": "scatter",
           "x": [
            0
           ],
           "xaxis": "x",
           "y": [
            0
           ],
           "yaxis": "y"
          },
          {
           "hovertemplate": "<b>%{hovertext}</b><br><br>Country=Israël<br>Date=2018<br>arabe=%{x}<br>juif=%{y}<br>Size=%{marker.size}<extra></extra>",
           "hovertext": [
            "Israël"
           ],
           "ids": [
            "Israël"
           ],
           "legendgroup": "Israël",
           "marker": {
            "color": "#ab63fa",
            "size": [
             42
            ],
            "sizemode": "area",
            "sizeref": 0.03206611570247934,
            "symbol": "circle"
           },
           "mode": "markers",
           "name": "Israël",
           "orientation": "v",
           "showlegend": true,
           "type": "scatter",
           "x": [
            0
           ],
           "xaxis": "x",
           "y": [
            0
           ],
           "yaxis": "y"
          },
          {
           "hovertemplate": "<b>%{hovertext}</b><br><br>Country=Russie<br>Date=2018<br>arabe=%{x}<br>juif=%{y}<br>Size=%{marker.size}<extra></extra>",
           "hovertext": [
            "Russie"
           ],
           "ids": [
            "Russie"
           ],
           "legendgroup": "Russie",
           "marker": {
            "color": "#FFA15A",
            "size": [
             36
            ],
            "sizemode": "area",
            "sizeref": 0.03206611570247934,
            "symbol": "circle"
           },
           "mode": "markers",
           "name": "Russie",
           "orientation": "v",
           "showlegend": true,
           "type": "scatter",
           "x": [
            0
           ],
           "xaxis": "x",
           "y": [
            0
           ],
           "yaxis": "y"
          },
          {
           "hovertemplate": "<b>%{hovertext}</b><br><br>Country=Allemagne<br>Date=2018<br>arabe=%{x}<br>juif=%{y}<br>Size=%{marker.size}<extra></extra>",
           "hovertext": [
            "Allemagne"
           ],
           "ids": [
            "Allemagne"
           ],
           "legendgroup": "Allemagne",
           "marker": {
            "color": "#19d3f3",
            "size": [
             33
            ],
            "sizemode": "area",
            "sizeref": 0.03206611570247934,
            "symbol": "circle"
           },
           "mode": "markers",
           "name": "Allemagne",
           "orientation": "v",
           "showlegend": true,
           "type": "scatter",
           "x": [
            0
           ],
           "xaxis": "x",
           "y": [
            0
           ],
           "yaxis": "y"
          },
          {
           "hovertemplate": "<b>%{hovertext}</b><br><br>Country=Algérie<br>Date=2018<br>arabe=%{x}<br>juif=%{y}<br>Size=%{marker.size}<extra></extra>",
           "hovertext": [
            "Algérie"
           ],
           "ids": [
            "Algérie"
           ],
           "legendgroup": "Algérie",
           "marker": {
            "color": "#FF6692",
            "size": [
             26
            ],
            "sizemode": "area",
            "sizeref": 0.03206611570247934,
            "symbol": "circle"
           },
           "mode": "markers",
           "name": "Algérie",
           "orientation": "v",
           "showlegend": true,
           "type": "scatter",
           "x": [
            0
           ],
           "xaxis": "x",
           "y": [
            0
           ],
           "yaxis": "y"
          },
          {
           "hovertemplate": "<b>%{hovertext}</b><br><br>Country=Iran<br>Date=2018<br>arabe=%{x}<br>juif=%{y}<br>Size=%{marker.size}<extra></extra>",
           "hovertext": [
            "Iran"
           ],
           "ids": [
            "Iran"
           ],
           "legendgroup": "Iran",
           "marker": {
            "color": "#B6E880",
            "size": [
             26
            ],
            "sizemode": "area",
            "sizeref": 0.03206611570247934,
            "symbol": "circle"
           },
           "mode": "markers",
           "name": "Iran",
           "orientation": "v",
           "showlegend": true,
           "type": "scatter",
           "x": [
            0
           ],
           "xaxis": "x",
           "y": [
            0
           ],
           "yaxis": "y"
          },
          {
           "hovertemplate": "<b>%{hovertext}</b><br><br>Country=Mali<br>Date=2018<br>arabe=%{x}<br>juif=%{y}<br>Size=%{marker.size}<extra></extra>",
           "hovertext": [
            "Mali"
           ],
           "ids": [
            "Mali"
           ],
           "legendgroup": "Mali",
           "marker": {
            "color": "#FF97FF",
            "size": [
             23
            ],
            "sizemode": "area",
            "sizeref": 0.03206611570247934,
            "symbol": "circle"
           },
           "mode": "markers",
           "name": "Mali",
           "orientation": "v",
           "showlegend": true,
           "type": "scatter",
           "x": [
            0
           ],
           "xaxis": "x",
           "y": [
            0
           ],
           "yaxis": "y"
          },
          {
           "hovertemplate": "<b>%{hovertext}</b><br><br>Country=Europe<br>Date=2018<br>arabe=%{x}<br>juif=%{y}<br>Size=%{marker.size}<extra></extra>",
           "hovertext": [
            "Europe"
           ],
           "ids": [
            "Europe"
           ],
           "legendgroup": "Europe",
           "marker": {
            "color": "#FECB52",
            "size": [
             22
            ],
            "sizemode": "area",
            "sizeref": 0.03206611570247934,
            "symbol": "circle"
           },
           "mode": "markers",
           "name": "Europe",
           "orientation": "v",
           "showlegend": true,
           "type": "scatter",
           "x": [
            0
           ],
           "xaxis": "x",
           "y": [
            0
           ],
           "yaxis": "y"
          },
          {
           "hovertemplate": "<b>%{hovertext}</b><br><br>Country=Afrique<br>Date=2018<br>arabe=%{x}<br>juif=%{y}<br>Size=%{marker.size}<extra></extra>",
           "hovertext": [
            "Afrique"
           ],
           "ids": [
            "Afrique"
           ],
           "legendgroup": "Afrique",
           "marker": {
            "color": "#636efa",
            "size": [
             20
            ],
            "sizemode": "area",
            "sizeref": 0.03206611570247934,
            "symbol": "circle"
           },
           "mode": "markers",
           "name": "Afrique",
           "orientation": "v",
           "showlegend": true,
           "type": "scatter",
           "x": [
            0
           ],
           "xaxis": "x",
           "y": [
            0
           ],
           "yaxis": "y"
          },
          {
           "hovertemplate": "<b>%{hovertext}</b><br><br>Country=Chine<br>Date=2018<br>arabe=%{x}<br>juif=%{y}<br>Size=%{marker.size}<extra></extra>",
           "hovertext": [
            "Chine"
           ],
           "ids": [
            "Chine"
           ],
           "legendgroup": "Chine",
           "marker": {
            "color": "#EF553B",
            "size": [
             17
            ],
            "sizemode": "area",
            "sizeref": 0.03206611570247934,
            "symbol": "circle"
           },
           "mode": "markers",
           "name": "Chine",
           "orientation": "v",
           "showlegend": true,
           "type": "scatter",
           "x": [
            0
           ],
           "xaxis": "x",
           "y": [
            0
           ],
           "yaxis": "y"
          },
          {
           "hovertemplate": "<b>%{hovertext}</b><br><br>Country=Royaume-Uni<br>Date=2018<br>arabe=%{x}<br>juif=%{y}<br>Size=%{marker.size}<extra></extra>",
           "hovertext": [
            "Royaume-Uni"
           ],
           "ids": [
            "Royaume-Uni"
           ],
           "legendgroup": "Royaume-Uni",
           "marker": {
            "color": "#00cc96",
            "size": [
             17
            ],
            "sizemode": "area",
            "sizeref": 0.03206611570247934,
            "symbol": "circle"
           },
           "mode": "markers",
           "name": "Royaume-Uni",
           "orientation": "v",
           "showlegend": true,
           "type": "scatter",
           "x": [
            0
           ],
           "xaxis": "x",
           "y": [
            0
           ],
           "yaxis": "y"
          },
          {
           "hovertemplate": "<b>%{hovertext}</b><br><br>Country=Turquie<br>Date=2018<br>arabe=%{x}<br>juif=%{y}<br>Size=%{marker.size}<extra></extra>",
           "hovertext": [
            "Turquie"
           ],
           "ids": [
            "Turquie"
           ],
           "legendgroup": "Turquie",
           "marker": {
            "color": "#ab63fa",
            "size": [
             16
            ],
            "sizemode": "area",
            "sizeref": 0.03206611570247934,
            "symbol": "circle"
           },
           "mode": "markers",
           "name": "Turquie",
           "orientation": "v",
           "showlegend": true,
           "type": "scatter",
           "x": [
            0
           ],
           "xaxis": "x",
           "y": [
            0
           ],
           "yaxis": "y"
          },
          {
           "hovertemplate": "<b>%{hovertext}</b><br><br>Country=Alger<br>Date=2018<br>arabe=%{x}<br>juif=%{y}<br>Size=%{marker.size}<extra></extra>",
           "hovertext": [
            "Alger"
           ],
           "ids": [
            "Alger"
           ],
           "legendgroup": "Alger",
           "marker": {
            "color": "#FFA15A",
            "size": [
             16
            ],
            "sizemode": "area",
            "sizeref": 0.03206611570247934,
            "symbol": "circle"
           },
           "mode": "markers",
           "name": "Alger",
           "orientation": "v",
           "showlegend": true,
           "type": "scatter",
           "x": [
            0
           ],
           "xaxis": "x",
           "y": [
            0
           ],
           "yaxis": "y"
          },
          {
           "hovertemplate": "<b>%{hovertext}</b><br><br>Country=République<br>Date=2018<br>arabe=%{x}<br>juif=%{y}<br>Size=%{marker.size}<extra></extra>",
           "hovertext": [
            "République"
           ],
           "ids": [
            "République"
           ],
           "legendgroup": "République",
           "marker": {
            "color": "#19d3f3",
            "size": [
             16
            ],
            "sizemode": "area",
            "sizeref": 0.03206611570247934,
            "symbol": "circle"
           },
           "mode": "markers",
           "name": "République",
           "orientation": "v",
           "showlegend": true,
           "type": "scatter",
           "x": [
            0
           ],
           "xaxis": "x",
           "y": [
            0
           ],
           "yaxis": "y"
          },
          {
           "hovertemplate": "<b>%{hovertext}</b><br><br>Country=Sahel<br>Date=2018<br>arabe=%{x}<br>juif=%{y}<br>Size=%{marker.size}<extra></extra>",
           "hovertext": [
            "Sahel"
           ],
           "ids": [
            "Sahel"
           ],
           "legendgroup": "Sahel",
           "marker": {
            "color": "#FF6692",
            "size": [
             15
            ],
            "sizemode": "area",
            "sizeref": 0.03206611570247934,
            "symbol": "circle"
           },
           "mode": "markers",
           "name": "Sahel",
           "orientation": "v",
           "showlegend": true,
           "type": "scatter",
           "x": [
            0
           ],
           "xaxis": "x",
           "y": [
            0
           ],
           "yaxis": "y"
          },
          {
           "hovertemplate": "<b>%{hovertext}</b><br><br>Country=Moscou<br>Date=2018<br>arabe=%{x}<br>juif=%{y}<br>Size=%{marker.size}<extra></extra>",
           "hovertext": [
            "Moscou"
           ],
           "ids": [
            "Moscou"
           ],
           "legendgroup": "Moscou",
           "marker": {
            "color": "#B6E880",
            "size": [
             14
            ],
            "sizemode": "area",
            "sizeref": 0.03206611570247934,
            "symbol": "circle"
           },
           "mode": "markers",
           "name": "Moscou",
           "orientation": "v",
           "showlegend": true,
           "type": "scatter",
           "x": [
            0
           ],
           "xaxis": "x",
           "y": [
            0
           ],
           "yaxis": "y"
          },
          {
           "hovertemplate": "<b>%{hovertext}</b><br><br>Country=Italie<br>Date=2018<br>arabe=%{x}<br>juif=%{y}<br>Size=%{marker.size}<extra></extra>",
           "hovertext": [
            "Italie"
           ],
           "ids": [
            "Italie"
           ],
           "legendgroup": "Italie",
           "marker": {
            "color": "#FF97FF",
            "size": [
             14
            ],
            "sizemode": "area",
            "sizeref": 0.03206611570247934,
            "symbol": "circle"
           },
           "mode": "markers",
           "name": "Italie",
           "orientation": "v",
           "showlegend": true,
           "type": "scatter",
           "x": [
            0
           ],
           "xaxis": "x",
           "y": [
            1
           ],
           "yaxis": "y"
          },
          {
           "hovertemplate": "<b>%{hovertext}</b><br><br>Country=Syrie<br>Date=2018<br>arabe=%{x}<br>juif=%{y}<br>Size=%{marker.size}<extra></extra>",
           "hovertext": [
            "Syrie"
           ],
           "ids": [
            "Syrie"
           ],
           "legendgroup": "Syrie",
           "marker": {
            "color": "#FECB52",
            "size": [
             14
            ],
            "sizemode": "area",
            "sizeref": 0.03206611570247934,
            "symbol": "circle"
           },
           "mode": "markers",
           "name": "Syrie",
           "orientation": "v",
           "showlegend": true,
           "type": "scatter",
           "x": [
            0
           ],
           "xaxis": "x",
           "y": [
            0
           ],
           "yaxis": "y"
          }
         ],
         "name": "2018"
        },
        {
         "data": [
          {
           "hovertemplate": "<b>%{hovertext}</b><br><br>Country=Paris<br>Date=2019<br>arabe=%{x}<br>juif=%{y}<br>Size=%{marker.size}<extra></extra>",
           "hovertext": [
            "Paris"
           ],
           "ids": [
            "Paris"
           ],
           "legendgroup": "Paris",
           "marker": {
            "color": "#636efa",
            "size": [
             97
            ],
            "sizemode": "area",
            "sizeref": 0.03206611570247934,
            "symbol": "circle"
           },
           "mode": "markers",
           "name": "Paris",
           "orientation": "v",
           "showlegend": true,
           "type": "scatter",
           "x": [
            130
           ],
           "xaxis": "x",
           "y": [
            304
           ],
           "yaxis": "y"
          },
          {
           "hovertemplate": "<b>%{hovertext}</b><br><br>Country=États-Unis<br>Date=2019<br>arabe=%{x}<br>juif=%{y}<br>Size=%{marker.size}<extra></extra>",
           "hovertext": [
            "États-Unis"
           ],
           "ids": [
            "États-Unis"
           ],
           "legendgroup": "États-Unis",
           "marker": {
            "color": "#EF553B",
            "size": [
             76
            ],
            "sizemode": "area",
            "sizeref": 0.03206611570247934,
            "symbol": "circle"
           },
           "mode": "markers",
           "name": "États-Unis",
           "orientation": "v",
           "showlegend": true,
           "type": "scatter",
           "x": [
            192
           ],
           "xaxis": "x",
           "y": [
            157
           ],
           "yaxis": "y"
          },
          {
           "hovertemplate": "<b>%{hovertext}</b><br><br>Country=État<br>Date=2019<br>arabe=%{x}<br>juif=%{y}<br>Size=%{marker.size}<extra></extra>",
           "hovertext": [
            "État"
           ],
           "ids": [
            "État"
           ],
           "legendgroup": "État",
           "marker": {
            "color": "#00cc96",
            "size": [
             70
            ],
            "sizemode": "area",
            "sizeref": 0.03206611570247934,
            "symbol": "circle"
           },
           "mode": "markers",
           "name": "État",
           "orientation": "v",
           "showlegend": true,
           "type": "scatter",
           "x": [
            126
           ],
           "xaxis": "x",
           "y": [
            346
           ],
           "yaxis": "y"
          },
          {
           "hovertemplate": "<b>%{hovertext}</b><br><br>Country=Israël<br>Date=2019<br>arabe=%{x}<br>juif=%{y}<br>Size=%{marker.size}<extra></extra>",
           "hovertext": [
            "Israël"
           ],
           "ids": [
            "Israël"
           ],
           "legendgroup": "Israël",
           "marker": {
            "color": "#ab63fa",
            "size": [
             42
            ],
            "sizemode": "area",
            "sizeref": 0.03206611570247934,
            "symbol": "circle"
           },
           "mode": "markers",
           "name": "Israël",
           "orientation": "v",
           "showlegend": true,
           "type": "scatter",
           "x": [
            104
           ],
           "xaxis": "x",
           "y": [
            492
           ],
           "yaxis": "y"
          },
          {
           "hovertemplate": "<b>%{hovertext}</b><br><br>Country=Russie<br>Date=2019<br>arabe=%{x}<br>juif=%{y}<br>Size=%{marker.size}<extra></extra>",
           "hovertext": [
            "Russie"
           ],
           "ids": [
            "Russie"
           ],
           "legendgroup": "Russie",
           "marker": {
            "color": "#FFA15A",
            "size": [
             36
            ],
            "sizemode": "area",
            "sizeref": 0.03206611570247934,
            "symbol": "circle"
           },
           "mode": "markers",
           "name": "Russie",
           "orientation": "v",
           "showlegend": true,
           "type": "scatter",
           "x": [
            157
           ],
           "xaxis": "x",
           "y": [
            119
           ],
           "yaxis": "y"
          },
          {
           "hovertemplate": "<b>%{hovertext}</b><br><br>Country=Allemagne<br>Date=2019<br>arabe=%{x}<br>juif=%{y}<br>Size=%{marker.size}<extra></extra>",
           "hovertext": [
            "Allemagne"
           ],
           "ids": [
            "Allemagne"
           ],
           "legendgroup": "Allemagne",
           "marker": {
            "color": "#19d3f3",
            "size": [
             33
            ],
            "sizemode": "area",
            "sizeref": 0.03206611570247934,
            "symbol": "circle"
           },
           "mode": "markers",
           "name": "Allemagne",
           "orientation": "v",
           "showlegend": true,
           "type": "scatter",
           "x": [
            57
           ],
           "xaxis": "x",
           "y": [
            124
           ],
           "yaxis": "y"
          },
          {
           "hovertemplate": "<b>%{hovertext}</b><br><br>Country=Algérie<br>Date=2019<br>arabe=%{x}<br>juif=%{y}<br>Size=%{marker.size}<extra></extra>",
           "hovertext": [
            "Algérie"
           ],
           "ids": [
            "Algérie"
           ],
           "legendgroup": "Algérie",
           "marker": {
            "color": "#FF6692",
            "size": [
             26
            ],
            "sizemode": "area",
            "sizeref": 0.03206611570247934,
            "symbol": "circle"
           },
           "mode": "markers",
           "name": "Algérie",
           "orientation": "v",
           "showlegend": true,
           "type": "scatter",
           "x": [
            155
           ],
           "xaxis": "x",
           "y": [
            10
           ],
           "yaxis": "y"
          },
          {
           "hovertemplate": "<b>%{hovertext}</b><br><br>Country=Iran<br>Date=2019<br>arabe=%{x}<br>juif=%{y}<br>Size=%{marker.size}<extra></extra>",
           "hovertext": [
            "Iran"
           ],
           "ids": [
            "Iran"
           ],
           "legendgroup": "Iran",
           "marker": {
            "color": "#B6E880",
            "size": [
             26
            ],
            "sizemode": "area",
            "sizeref": 0.03206611570247934,
            "symbol": "circle"
           },
           "mode": "markers",
           "name": "Iran",
           "orientation": "v",
           "showlegend": true,
           "type": "scatter",
           "x": [
            79
           ],
           "xaxis": "x",
           "y": [
            70
           ],
           "yaxis": "y"
          },
          {
           "hovertemplate": "<b>%{hovertext}</b><br><br>Country=Mali<br>Date=2019<br>arabe=%{x}<br>juif=%{y}<br>Size=%{marker.size}<extra></extra>",
           "hovertext": [
            "Mali"
           ],
           "ids": [
            "Mali"
           ],
           "legendgroup": "Mali",
           "marker": {
            "color": "#FF97FF",
            "size": [
             23
            ],
            "sizemode": "area",
            "sizeref": 0.03206611570247934,
            "symbol": "circle"
           },
           "mode": "markers",
           "name": "Mali",
           "orientation": "v",
           "showlegend": true,
           "type": "scatter",
           "x": [
            25
           ],
           "xaxis": "x",
           "y": [
            12
           ],
           "yaxis": "y"
          },
          {
           "hovertemplate": "<b>%{hovertext}</b><br><br>Country=Europe<br>Date=2019<br>arabe=%{x}<br>juif=%{y}<br>Size=%{marker.size}<extra></extra>",
           "hovertext": [
            "Europe"
           ],
           "ids": [
            "Europe"
           ],
           "legendgroup": "Europe",
           "marker": {
            "color": "#FECB52",
            "size": [
             22
            ],
            "sizemode": "area",
            "sizeref": 0.03206611570247934,
            "symbol": "circle"
           },
           "mode": "markers",
           "name": "Europe",
           "orientation": "v",
           "showlegend": true,
           "type": "scatter",
           "x": [
            79
           ],
           "xaxis": "x",
           "y": [
            173
           ],
           "yaxis": "y"
          },
          {
           "hovertemplate": "<b>%{hovertext}</b><br><br>Country=Afrique<br>Date=2019<br>arabe=%{x}<br>juif=%{y}<br>Size=%{marker.size}<extra></extra>",
           "hovertext": [
            "Afrique"
           ],
           "ids": [
            "Afrique"
           ],
           "legendgroup": "Afrique",
           "marker": {
            "color": "#636efa",
            "size": [
             20
            ],
            "sizemode": "area",
            "sizeref": 0.03206611570247934,
            "symbol": "circle"
           },
           "mode": "markers",
           "name": "Afrique",
           "orientation": "v",
           "showlegend": true,
           "type": "scatter",
           "x": [
            52
           ],
           "xaxis": "x",
           "y": [
            2
           ],
           "yaxis": "y"
          },
          {
           "hovertemplate": "<b>%{hovertext}</b><br><br>Country=Chine<br>Date=2019<br>arabe=%{x}<br>juif=%{y}<br>Size=%{marker.size}<extra></extra>",
           "hovertext": [
            "Chine"
           ],
           "ids": [
            "Chine"
           ],
           "legendgroup": "Chine",
           "marker": {
            "color": "#EF553B",
            "size": [
             17
            ],
            "sizemode": "area",
            "sizeref": 0.03206611570247934,
            "symbol": "circle"
           },
           "mode": "markers",
           "name": "Chine",
           "orientation": "v",
           "showlegend": true,
           "type": "scatter",
           "x": [
            53
           ],
           "xaxis": "x",
           "y": [
            19
           ],
           "yaxis": "y"
          },
          {
           "hovertemplate": "<b>%{hovertext}</b><br><br>Country=Royaume-Uni<br>Date=2019<br>arabe=%{x}<br>juif=%{y}<br>Size=%{marker.size}<extra></extra>",
           "hovertext": [
            "Royaume-Uni"
           ],
           "ids": [
            "Royaume-Uni"
           ],
           "legendgroup": "Royaume-Uni",
           "marker": {
            "color": "#00cc96",
            "size": [
             17
            ],
            "sizemode": "area",
            "sizeref": 0.03206611570247934,
            "symbol": "circle"
           },
           "mode": "markers",
           "name": "Royaume-Uni",
           "orientation": "v",
           "showlegend": true,
           "type": "scatter",
           "x": [
            38
           ],
           "xaxis": "x",
           "y": [
            53
           ],
           "yaxis": "y"
          },
          {
           "hovertemplate": "<b>%{hovertext}</b><br><br>Country=Turquie<br>Date=2019<br>arabe=%{x}<br>juif=%{y}<br>Size=%{marker.size}<extra></extra>",
           "hovertext": [
            "Turquie"
           ],
           "ids": [
            "Turquie"
           ],
           "legendgroup": "Turquie",
           "marker": {
            "color": "#ab63fa",
            "size": [
             16
            ],
            "sizemode": "area",
            "sizeref": 0.03206611570247934,
            "symbol": "circle"
           },
           "mode": "markers",
           "name": "Turquie",
           "orientation": "v",
           "showlegend": true,
           "type": "scatter",
           "x": [
            58
           ],
           "xaxis": "x",
           "y": [
            52
           ],
           "yaxis": "y"
          },
          {
           "hovertemplate": "<b>%{hovertext}</b><br><br>Country=Alger<br>Date=2019<br>arabe=%{x}<br>juif=%{y}<br>Size=%{marker.size}<extra></extra>",
           "hovertext": [
            "Alger"
           ],
           "ids": [
            "Alger"
           ],
           "legendgroup": "Alger",
           "marker": {
            "color": "#FFA15A",
            "size": [
             16
            ],
            "sizemode": "area",
            "sizeref": 0.03206611570247934,
            "symbol": "circle"
           },
           "mode": "markers",
           "name": "Alger",
           "orientation": "v",
           "showlegend": true,
           "type": "scatter",
           "x": [
            34
           ],
           "xaxis": "x",
           "y": [
            1
           ],
           "yaxis": "y"
          },
          {
           "hovertemplate": "<b>%{hovertext}</b><br><br>Country=République<br>Date=2019<br>arabe=%{x}<br>juif=%{y}<br>Size=%{marker.size}<extra></extra>",
           "hovertext": [
            "République"
           ],
           "ids": [
            "République"
           ],
           "legendgroup": "République",
           "marker": {
            "color": "#19d3f3",
            "size": [
             16
            ],
            "sizemode": "area",
            "sizeref": 0.03206611570247934,
            "symbol": "circle"
           },
           "mode": "markers",
           "name": "République",
           "orientation": "v",
           "showlegend": true,
           "type": "scatter",
           "x": [
            5
           ],
           "xaxis": "x",
           "y": [
            101
           ],
           "yaxis": "y"
          },
          {
           "hovertemplate": "<b>%{hovertext}</b><br><br>Country=Sahel<br>Date=2019<br>arabe=%{x}<br>juif=%{y}<br>Size=%{marker.size}<extra></extra>",
           "hovertext": [
            "Sahel"
           ],
           "ids": [
            "Sahel"
           ],
           "legendgroup": "Sahel",
           "marker": {
            "color": "#FF6692",
            "size": [
             15
            ],
            "sizemode": "area",
            "sizeref": 0.03206611570247934,
            "symbol": "circle"
           },
           "mode": "markers",
           "name": "Sahel",
           "orientation": "v",
           "showlegend": true,
           "type": "scatter",
           "x": [
            18
           ],
           "xaxis": "x",
           "y": [
            0
           ],
           "yaxis": "y"
          },
          {
           "hovertemplate": "<b>%{hovertext}</b><br><br>Country=Moscou<br>Date=2019<br>arabe=%{x}<br>juif=%{y}<br>Size=%{marker.size}<extra></extra>",
           "hovertext": [
            "Moscou"
           ],
           "ids": [
            "Moscou"
           ],
           "legendgroup": "Moscou",
           "marker": {
            "color": "#B6E880",
            "size": [
             14
            ],
            "sizemode": "area",
            "sizeref": 0.03206611570247934,
            "symbol": "circle"
           },
           "mode": "markers",
           "name": "Moscou",
           "orientation": "v",
           "showlegend": true,
           "type": "scatter",
           "x": [
            33
           ],
           "xaxis": "x",
           "y": [
            82
           ],
           "yaxis": "y"
          },
          {
           "hovertemplate": "<b>%{hovertext}</b><br><br>Country=Italie<br>Date=2019<br>arabe=%{x}<br>juif=%{y}<br>Size=%{marker.size}<extra></extra>",
           "hovertext": [
            "Italie"
           ],
           "ids": [
            "Italie"
           ],
           "legendgroup": "Italie",
           "marker": {
            "color": "#FF97FF",
            "size": [
             14
            ],
            "sizemode": "area",
            "sizeref": 0.03206611570247934,
            "symbol": "circle"
           },
           "mode": "markers",
           "name": "Italie",
           "orientation": "v",
           "showlegend": true,
           "type": "scatter",
           "x": [
            36
           ],
           "xaxis": "x",
           "y": [
            27
           ],
           "yaxis": "y"
          },
          {
           "hovertemplate": "<b>%{hovertext}</b><br><br>Country=Syrie<br>Date=2019<br>arabe=%{x}<br>juif=%{y}<br>Size=%{marker.size}<extra></extra>",
           "hovertext": [
            "Syrie"
           ],
           "ids": [
            "Syrie"
           ],
           "legendgroup": "Syrie",
           "marker": {
            "color": "#FECB52",
            "size": [
             14
            ],
            "sizemode": "area",
            "sizeref": 0.03206611570247934,
            "symbol": "circle"
           },
           "mode": "markers",
           "name": "Syrie",
           "orientation": "v",
           "showlegend": true,
           "type": "scatter",
           "x": [
            159
           ],
           "xaxis": "x",
           "y": [
            79
           ],
           "yaxis": "y"
          }
         ],
         "name": "2019"
        },
        {
         "data": [
          {
           "hovertemplate": "<b>%{hovertext}</b><br><br>Country=Paris<br>Date=2020<br>arabe=%{x}<br>juif=%{y}<br>Size=%{marker.size}<extra></extra>",
           "hovertext": [
            "Paris"
           ],
           "ids": [
            "Paris"
           ],
           "legendgroup": "Paris",
           "marker": {
            "color": "#636efa",
            "size": [
             97
            ],
            "sizemode": "area",
            "sizeref": 0.03206611570247934,
            "symbol": "circle"
           },
           "mode": "markers",
           "name": "Paris",
           "orientation": "v",
           "showlegend": true,
           "type": "scatter",
           "x": [
            48
           ],
           "xaxis": "x",
           "y": [
            286
           ],
           "yaxis": "y"
          },
          {
           "hovertemplate": "<b>%{hovertext}</b><br><br>Country=États-Unis<br>Date=2020<br>arabe=%{x}<br>juif=%{y}<br>Size=%{marker.size}<extra></extra>",
           "hovertext": [
            "États-Unis"
           ],
           "ids": [
            "États-Unis"
           ],
           "legendgroup": "États-Unis",
           "marker": {
            "color": "#EF553B",
            "size": [
             76
            ],
            "sizemode": "area",
            "sizeref": 0.03206611570247934,
            "symbol": "circle"
           },
           "mode": "markers",
           "name": "États-Unis",
           "orientation": "v",
           "showlegend": true,
           "type": "scatter",
           "x": [
            98
           ],
           "xaxis": "x",
           "y": [
            207
           ],
           "yaxis": "y"
          },
          {
           "hovertemplate": "<b>%{hovertext}</b><br><br>Country=État<br>Date=2020<br>arabe=%{x}<br>juif=%{y}<br>Size=%{marker.size}<extra></extra>",
           "hovertext": [
            "État"
           ],
           "ids": [
            "État"
           ],
           "legendgroup": "État",
           "marker": {
            "color": "#00cc96",
            "size": [
             70
            ],
            "sizemode": "area",
            "sizeref": 0.03206611570247934,
            "symbol": "circle"
           },
           "mode": "markers",
           "name": "État",
           "orientation": "v",
           "showlegend": true,
           "type": "scatter",
           "x": [
            88
           ],
           "xaxis": "x",
           "y": [
            366
           ],
           "yaxis": "y"
          },
          {
           "hovertemplate": "<b>%{hovertext}</b><br><br>Country=Israël<br>Date=2020<br>arabe=%{x}<br>juif=%{y}<br>Size=%{marker.size}<extra></extra>",
           "hovertext": [
            "Israël"
           ],
           "ids": [
            "Israël"
           ],
           "legendgroup": "Israël",
           "marker": {
            "color": "#ab63fa",
            "size": [
             42
            ],
            "sizemode": "area",
            "sizeref": 0.03206611570247934,
            "symbol": "circle"
           },
           "mode": "markers",
           "name": "Israël",
           "orientation": "v",
           "showlegend": true,
           "type": "scatter",
           "x": [
            95
           ],
           "xaxis": "x",
           "y": [
            532
           ],
           "yaxis": "y"
          },
          {
           "hovertemplate": "<b>%{hovertext}</b><br><br>Country=Russie<br>Date=2020<br>arabe=%{x}<br>juif=%{y}<br>Size=%{marker.size}<extra></extra>",
           "hovertext": [
            "Russie"
           ],
           "ids": [
            "Russie"
           ],
           "legendgroup": "Russie",
           "marker": {
            "color": "#FFA15A",
            "size": [
             36
            ],
            "sizemode": "area",
            "sizeref": 0.03206611570247934,
            "symbol": "circle"
           },
           "mode": "markers",
           "name": "Russie",
           "orientation": "v",
           "showlegend": true,
           "type": "scatter",
           "x": [
            75
           ],
           "xaxis": "x",
           "y": [
            75
           ],
           "yaxis": "y"
          },
          {
           "hovertemplate": "<b>%{hovertext}</b><br><br>Country=Allemagne<br>Date=2020<br>arabe=%{x}<br>juif=%{y}<br>Size=%{marker.size}<extra></extra>",
           "hovertext": [
            "Allemagne"
           ],
           "ids": [
            "Allemagne"
           ],
           "legendgroup": "Allemagne",
           "marker": {
            "color": "#19d3f3",
            "size": [
             33
            ],
            "sizemode": "area",
            "sizeref": 0.03206611570247934,
            "symbol": "circle"
           },
           "mode": "markers",
           "name": "Allemagne",
           "orientation": "v",
           "showlegend": true,
           "type": "scatter",
           "x": [
            25
           ],
           "xaxis": "x",
           "y": [
            265
           ],
           "yaxis": "y"
          },
          {
           "hovertemplate": "<b>%{hovertext}</b><br><br>Country=Algérie<br>Date=2020<br>arabe=%{x}<br>juif=%{y}<br>Size=%{marker.size}<extra></extra>",
           "hovertext": [
            "Algérie"
           ],
           "ids": [
            "Algérie"
           ],
           "legendgroup": "Algérie",
           "marker": {
            "color": "#FF6692",
            "size": [
             26
            ],
            "sizemode": "area",
            "sizeref": 0.03206611570247934,
            "symbol": "circle"
           },
           "mode": "markers",
           "name": "Algérie",
           "orientation": "v",
           "showlegend": true,
           "type": "scatter",
           "x": [
            59
           ],
           "xaxis": "x",
           "y": [
            46
           ],
           "yaxis": "y"
          },
          {
           "hovertemplate": "<b>%{hovertext}</b><br><br>Country=Iran<br>Date=2020<br>arabe=%{x}<br>juif=%{y}<br>Size=%{marker.size}<extra></extra>",
           "hovertext": [
            "Iran"
           ],
           "ids": [
            "Iran"
           ],
           "legendgroup": "Iran",
           "marker": {
            "color": "#B6E880",
            "size": [
             26
            ],
            "sizemode": "area",
            "sizeref": 0.03206611570247934,
            "symbol": "circle"
           },
           "mode": "markers",
           "name": "Iran",
           "orientation": "v",
           "showlegend": true,
           "type": "scatter",
           "x": [
            60
           ],
           "xaxis": "x",
           "y": [
            21
           ],
           "yaxis": "y"
          },
          {
           "hovertemplate": "<b>%{hovertext}</b><br><br>Country=Mali<br>Date=2020<br>arabe=%{x}<br>juif=%{y}<br>Size=%{marker.size}<extra></extra>",
           "hovertext": [
            "Mali"
           ],
           "ids": [
            "Mali"
           ],
           "legendgroup": "Mali",
           "marker": {
            "color": "#FF97FF",
            "size": [
             23
            ],
            "sizemode": "area",
            "sizeref": 0.03206611570247934,
            "symbol": "circle"
           },
           "mode": "markers",
           "name": "Mali",
           "orientation": "v",
           "showlegend": true,
           "type": "scatter",
           "x": [
            28
           ],
           "xaxis": "x",
           "y": [
            5
           ],
           "yaxis": "y"
          },
          {
           "hovertemplate": "<b>%{hovertext}</b><br><br>Country=Europe<br>Date=2020<br>arabe=%{x}<br>juif=%{y}<br>Size=%{marker.size}<extra></extra>",
           "hovertext": [
            "Europe"
           ],
           "ids": [
            "Europe"
           ],
           "legendgroup": "Europe",
           "marker": {
            "color": "#FECB52",
            "size": [
             22
            ],
            "sizemode": "area",
            "sizeref": 0.03206611570247934,
            "symbol": "circle"
           },
           "mode": "markers",
           "name": "Europe",
           "orientation": "v",
           "showlegend": true,
           "type": "scatter",
           "x": [
            48
           ],
           "xaxis": "x",
           "y": [
            158
           ],
           "yaxis": "y"
          },
          {
           "hovertemplate": "<b>%{hovertext}</b><br><br>Country=Afrique<br>Date=2020<br>arabe=%{x}<br>juif=%{y}<br>Size=%{marker.size}<extra></extra>",
           "hovertext": [
            "Afrique"
           ],
           "ids": [
            "Afrique"
           ],
           "legendgroup": "Afrique",
           "marker": {
            "color": "#636efa",
            "size": [
             20
            ],
            "sizemode": "area",
            "sizeref": 0.03206611570247934,
            "symbol": "circle"
           },
           "mode": "markers",
           "name": "Afrique",
           "orientation": "v",
           "showlegend": true,
           "type": "scatter",
           "x": [
            39
           ],
           "xaxis": "x",
           "y": [
            10
           ],
           "yaxis": "y"
          },
          {
           "hovertemplate": "<b>%{hovertext}</b><br><br>Country=Chine<br>Date=2020<br>arabe=%{x}<br>juif=%{y}<br>Size=%{marker.size}<extra></extra>",
           "hovertext": [
            "Chine"
           ],
           "ids": [
            "Chine"
           ],
           "legendgroup": "Chine",
           "marker": {
            "color": "#EF553B",
            "size": [
             17
            ],
            "sizemode": "area",
            "sizeref": 0.03206611570247934,
            "symbol": "circle"
           },
           "mode": "markers",
           "name": "Chine",
           "orientation": "v",
           "showlegend": true,
           "type": "scatter",
           "x": [
            26
           ],
           "xaxis": "x",
           "y": [
            18
           ],
           "yaxis": "y"
          },
          {
           "hovertemplate": "<b>%{hovertext}</b><br><br>Country=Royaume-Uni<br>Date=2020<br>arabe=%{x}<br>juif=%{y}<br>Size=%{marker.size}<extra></extra>",
           "hovertext": [
            "Royaume-Uni"
           ],
           "ids": [
            "Royaume-Uni"
           ],
           "legendgroup": "Royaume-Uni",
           "marker": {
            "color": "#00cc96",
            "size": [
             17
            ],
            "sizemode": "area",
            "sizeref": 0.03206611570247934,
            "symbol": "circle"
           },
           "mode": "markers",
           "name": "Royaume-Uni",
           "orientation": "v",
           "showlegend": true,
           "type": "scatter",
           "x": [
            13
           ],
           "xaxis": "x",
           "y": [
            41
           ],
           "yaxis": "y"
          },
          {
           "hovertemplate": "<b>%{hovertext}</b><br><br>Country=Turquie<br>Date=2020<br>arabe=%{x}<br>juif=%{y}<br>Size=%{marker.size}<extra></extra>",
           "hovertext": [
            "Turquie"
           ],
           "ids": [
            "Turquie"
           ],
           "legendgroup": "Turquie",
           "marker": {
            "color": "#ab63fa",
            "size": [
             16
            ],
            "sizemode": "area",
            "sizeref": 0.03206611570247934,
            "symbol": "circle"
           },
           "mode": "markers",
           "name": "Turquie",
           "orientation": "v",
           "showlegend": true,
           "type": "scatter",
           "x": [
            81
           ],
           "xaxis": "x",
           "y": [
            26
           ],
           "yaxis": "y"
          },
          {
           "hovertemplate": "<b>%{hovertext}</b><br><br>Country=Alger<br>Date=2020<br>arabe=%{x}<br>juif=%{y}<br>Size=%{marker.size}<extra></extra>",
           "hovertext": [
            "Alger"
           ],
           "ids": [
            "Alger"
           ],
           "legendgroup": "Alger",
           "marker": {
            "color": "#FFA15A",
            "size": [
             16
            ],
            "sizemode": "area",
            "sizeref": 0.03206611570247934,
            "symbol": "circle"
           },
           "mode": "markers",
           "name": "Alger",
           "orientation": "v",
           "showlegend": true,
           "type": "scatter",
           "x": [
            15
           ],
           "xaxis": "x",
           "y": [
            4
           ],
           "yaxis": "y"
          },
          {
           "hovertemplate": "<b>%{hovertext}</b><br><br>Country=République<br>Date=2020<br>arabe=%{x}<br>juif=%{y}<br>Size=%{marker.size}<extra></extra>",
           "hovertext": [
            "République"
           ],
           "ids": [
            "République"
           ],
           "legendgroup": "République",
           "marker": {
            "color": "#19d3f3",
            "size": [
             16
            ],
            "sizemode": "area",
            "sizeref": 0.03206611570247934,
            "symbol": "circle"
           },
           "mode": "markers",
           "name": "République",
           "orientation": "v",
           "showlegend": true,
           "type": "scatter",
           "x": [
            37
           ],
           "xaxis": "x",
           "y": [
            119
           ],
           "yaxis": "y"
          },
          {
           "hovertemplate": "<b>%{hovertext}</b><br><br>Country=Sahel<br>Date=2020<br>arabe=%{x}<br>juif=%{y}<br>Size=%{marker.size}<extra></extra>",
           "hovertext": [
            "Sahel"
           ],
           "ids": [
            "Sahel"
           ],
           "legendgroup": "Sahel",
           "marker": {
            "color": "#FF6692",
            "size": [
             15
            ],
            "sizemode": "area",
            "sizeref": 0.03206611570247934,
            "symbol": "circle"
           },
           "mode": "markers",
           "name": "Sahel",
           "orientation": "v",
           "showlegend": true,
           "type": "scatter",
           "x": [
            12
           ],
           "xaxis": "x",
           "y": [
            2
           ],
           "yaxis": "y"
          },
          {
           "hovertemplate": "<b>%{hovertext}</b><br><br>Country=Moscou<br>Date=2020<br>arabe=%{x}<br>juif=%{y}<br>Size=%{marker.size}<extra></extra>",
           "hovertext": [
            "Moscou"
           ],
           "ids": [
            "Moscou"
           ],
           "legendgroup": "Moscou",
           "marker": {
            "color": "#B6E880",
            "size": [
             14
            ],
            "sizemode": "area",
            "sizeref": 0.03206611570247934,
            "symbol": "circle"
           },
           "mode": "markers",
           "name": "Moscou",
           "orientation": "v",
           "showlegend": true,
           "type": "scatter",
           "x": [
            29
           ],
           "xaxis": "x",
           "y": [
            30
           ],
           "yaxis": "y"
          },
          {
           "hovertemplate": "<b>%{hovertext}</b><br><br>Country=Italie<br>Date=2020<br>arabe=%{x}<br>juif=%{y}<br>Size=%{marker.size}<extra></extra>",
           "hovertext": [
            "Italie"
           ],
           "ids": [
            "Italie"
           ],
           "legendgroup": "Italie",
           "marker": {
            "color": "#FF97FF",
            "size": [
             14
            ],
            "sizemode": "area",
            "sizeref": 0.03206611570247934,
            "symbol": "circle"
           },
           "mode": "markers",
           "name": "Italie",
           "orientation": "v",
           "showlegend": true,
           "type": "scatter",
           "x": [
            10
           ],
           "xaxis": "x",
           "y": [
            14
           ],
           "yaxis": "y"
          },
          {
           "hovertemplate": "<b>%{hovertext}</b><br><br>Country=Syrie<br>Date=2020<br>arabe=%{x}<br>juif=%{y}<br>Size=%{marker.size}<extra></extra>",
           "hovertext": [
            "Syrie"
           ],
           "ids": [
            "Syrie"
           ],
           "legendgroup": "Syrie",
           "marker": {
            "color": "#FECB52",
            "size": [
             14
            ],
            "sizemode": "area",
            "sizeref": 0.03206611570247934,
            "symbol": "circle"
           },
           "mode": "markers",
           "name": "Syrie",
           "orientation": "v",
           "showlegend": true,
           "type": "scatter",
           "x": [
            70
           ],
           "xaxis": "x",
           "y": [
            13
           ],
           "yaxis": "y"
          }
         ],
         "name": "2020"
        },
        {
         "data": [
          {
           "hovertemplate": "<b>%{hovertext}</b><br><br>Country=Paris<br>Date=2021<br>arabe=%{x}<br>juif=%{y}<br>Size=%{marker.size}<extra></extra>",
           "hovertext": [
            "Paris"
           ],
           "ids": [
            "Paris"
           ],
           "legendgroup": "Paris",
           "marker": {
            "color": "#636efa",
            "size": [
             97
            ],
            "sizemode": "area",
            "sizeref": 0.03206611570247934,
            "symbol": "circle"
           },
           "mode": "markers",
           "name": "Paris",
           "orientation": "v",
           "showlegend": true,
           "type": "scatter",
           "x": [
            147
           ],
           "xaxis": "x",
           "y": [
            308
           ],
           "yaxis": "y"
          },
          {
           "hovertemplate": "<b>%{hovertext}</b><br><br>Country=États-Unis<br>Date=2021<br>arabe=%{x}<br>juif=%{y}<br>Size=%{marker.size}<extra></extra>",
           "hovertext": [
            "États-Unis"
           ],
           "ids": [
            "États-Unis"
           ],
           "legendgroup": "États-Unis",
           "marker": {
            "color": "#EF553B",
            "size": [
             76
            ],
            "sizemode": "area",
            "sizeref": 0.03206611570247934,
            "symbol": "circle"
           },
           "mode": "markers",
           "name": "États-Unis",
           "orientation": "v",
           "showlegend": true,
           "type": "scatter",
           "x": [
            246
           ],
           "xaxis": "x",
           "y": [
            342
           ],
           "yaxis": "y"
          },
          {
           "hovertemplate": "<b>%{hovertext}</b><br><br>Country=État<br>Date=2021<br>arabe=%{x}<br>juif=%{y}<br>Size=%{marker.size}<extra></extra>",
           "hovertext": [
            "État"
           ],
           "ids": [
            "État"
           ],
           "legendgroup": "État",
           "marker": {
            "color": "#00cc96",
            "size": [
             70
            ],
            "sizemode": "area",
            "sizeref": 0.03206611570247934,
            "symbol": "circle"
           },
           "mode": "markers",
           "name": "État",
           "orientation": "v",
           "showlegend": true,
           "type": "scatter",
           "x": [
            185
           ],
           "xaxis": "x",
           "y": [
            442
           ],
           "yaxis": "y"
          },
          {
           "hovertemplate": "<b>%{hovertext}</b><br><br>Country=Israël<br>Date=2021<br>arabe=%{x}<br>juif=%{y}<br>Size=%{marker.size}<extra></extra>",
           "hovertext": [
            "Israël"
           ],
           "ids": [
            "Israël"
           ],
           "legendgroup": "Israël",
           "marker": {
            "color": "#ab63fa",
            "size": [
             42
            ],
            "sizemode": "area",
            "sizeref": 0.03206611570247934,
            "symbol": "circle"
           },
           "mode": "markers",
           "name": "Israël",
           "orientation": "v",
           "showlegend": true,
           "type": "scatter",
           "x": [
            197
           ],
           "xaxis": "x",
           "y": [
            525
           ],
           "yaxis": "y"
          },
          {
           "hovertemplate": "<b>%{hovertext}</b><br><br>Country=Russie<br>Date=2021<br>arabe=%{x}<br>juif=%{y}<br>Size=%{marker.size}<extra></extra>",
           "hovertext": [
            "Russie"
           ],
           "ids": [
            "Russie"
           ],
           "legendgroup": "Russie",
           "marker": {
            "color": "#FFA15A",
            "size": [
             36
            ],
            "sizemode": "area",
            "sizeref": 0.03206611570247934,
            "symbol": "circle"
           },
           "mode": "markers",
           "name": "Russie",
           "orientation": "v",
           "showlegend": true,
           "type": "scatter",
           "x": [
            145
           ],
           "xaxis": "x",
           "y": [
            119
           ],
           "yaxis": "y"
          },
          {
           "hovertemplate": "<b>%{hovertext}</b><br><br>Country=Allemagne<br>Date=2021<br>arabe=%{x}<br>juif=%{y}<br>Size=%{marker.size}<extra></extra>",
           "hovertext": [
            "Allemagne"
           ],
           "ids": [
            "Allemagne"
           ],
           "legendgroup": "Allemagne",
           "marker": {
            "color": "#19d3f3",
            "size": [
             33
            ],
            "sizemode": "area",
            "sizeref": 0.03206611570247934,
            "symbol": "circle"
           },
           "mode": "markers",
           "name": "Allemagne",
           "orientation": "v",
           "showlegend": true,
           "type": "scatter",
           "x": [
            90
           ],
           "xaxis": "x",
           "y": [
            282
           ],
           "yaxis": "y"
          },
          {
           "hovertemplate": "<b>%{hovertext}</b><br><br>Country=Algérie<br>Date=2021<br>arabe=%{x}<br>juif=%{y}<br>Size=%{marker.size}<extra></extra>",
           "hovertext": [
            "Algérie"
           ],
           "ids": [
            "Algérie"
           ],
           "legendgroup": "Algérie",
           "marker": {
            "color": "#FF6692",
            "size": [
             26
            ],
            "sizemode": "area",
            "sizeref": 0.03206611570247934,
            "symbol": "circle"
           },
           "mode": "markers",
           "name": "Algérie",
           "orientation": "v",
           "showlegend": true,
           "type": "scatter",
           "x": [
            86
           ],
           "xaxis": "x",
           "y": [
            161
           ],
           "yaxis": "y"
          },
          {
           "hovertemplate": "<b>%{hovertext}</b><br><br>Country=Iran<br>Date=2021<br>arabe=%{x}<br>juif=%{y}<br>Size=%{marker.size}<extra></extra>",
           "hovertext": [
            "Iran"
           ],
           "ids": [
            "Iran"
           ],
           "legendgroup": "Iran",
           "marker": {
            "color": "#B6E880",
            "size": [
             26
            ],
            "sizemode": "area",
            "sizeref": 0.03206611570247934,
            "symbol": "circle"
           },
           "mode": "markers",
           "name": "Iran",
           "orientation": "v",
           "showlegend": true,
           "type": "scatter",
           "x": [
            160
           ],
           "xaxis": "x",
           "y": [
            120
           ],
           "yaxis": "y"
          },
          {
           "hovertemplate": "<b>%{hovertext}</b><br><br>Country=Mali<br>Date=2021<br>arabe=%{x}<br>juif=%{y}<br>Size=%{marker.size}<extra></extra>",
           "hovertext": [
            "Mali"
           ],
           "ids": [
            "Mali"
           ],
           "legendgroup": "Mali",
           "marker": {
            "color": "#FF97FF",
            "size": [
             23
            ],
            "sizemode": "area",
            "sizeref": 0.03206611570247934,
            "symbol": "circle"
           },
           "mode": "markers",
           "name": "Mali",
           "orientation": "v",
           "showlegend": true,
           "type": "scatter",
           "x": [
            57
           ],
           "xaxis": "x",
           "y": [
            7
           ],
           "yaxis": "y"
          },
          {
           "hovertemplate": "<b>%{hovertext}</b><br><br>Country=Europe<br>Date=2021<br>arabe=%{x}<br>juif=%{y}<br>Size=%{marker.size}<extra></extra>",
           "hovertext": [
            "Europe"
           ],
           "ids": [
            "Europe"
           ],
           "legendgroup": "Europe",
           "marker": {
            "color": "#FECB52",
            "size": [
             22
            ],
            "sizemode": "area",
            "sizeref": 0.03206611570247934,
            "symbol": "circle"
           },
           "mode": "markers",
           "name": "Europe",
           "orientation": "v",
           "showlegend": true,
           "type": "scatter",
           "x": [
            82
           ],
           "xaxis": "x",
           "y": [
            233
           ],
           "yaxis": "y"
          },
          {
           "hovertemplate": "<b>%{hovertext}</b><br><br>Country=Afrique<br>Date=2021<br>arabe=%{x}<br>juif=%{y}<br>Size=%{marker.size}<extra></extra>",
           "hovertext": [
            "Afrique"
           ],
           "ids": [
            "Afrique"
           ],
           "legendgroup": "Afrique",
           "marker": {
            "color": "#636efa",
            "size": [
             20
            ],
            "sizemode": "area",
            "sizeref": 0.03206611570247934,
            "symbol": "circle"
           },
           "mode": "markers",
           "name": "Afrique",
           "orientation": "v",
           "showlegend": true,
           "type": "scatter",
           "x": [
            55
           ],
           "xaxis": "x",
           "y": [
            14
           ],
           "yaxis": "y"
          },
          {
           "hovertemplate": "<b>%{hovertext}</b><br><br>Country=Chine<br>Date=2021<br>arabe=%{x}<br>juif=%{y}<br>Size=%{marker.size}<extra></extra>",
           "hovertext": [
            "Chine"
           ],
           "ids": [
            "Chine"
           ],
           "legendgroup": "Chine",
           "marker": {
            "color": "#EF553B",
            "size": [
             17
            ],
            "sizemode": "area",
            "sizeref": 0.03206611570247934,
            "symbol": "circle"
           },
           "mode": "markers",
           "name": "Chine",
           "orientation": "v",
           "showlegend": true,
           "type": "scatter",
           "x": [
            82
           ],
           "xaxis": "x",
           "y": [
            38
           ],
           "yaxis": "y"
          },
          {
           "hovertemplate": "<b>%{hovertext}</b><br><br>Country=Royaume-Uni<br>Date=2021<br>arabe=%{x}<br>juif=%{y}<br>Size=%{marker.size}<extra></extra>",
           "hovertext": [
            "Royaume-Uni"
           ],
           "ids": [
            "Royaume-Uni"
           ],
           "legendgroup": "Royaume-Uni",
           "marker": {
            "color": "#00cc96",
            "size": [
             17
            ],
            "sizemode": "area",
            "sizeref": 0.03206611570247934,
            "symbol": "circle"
           },
           "mode": "markers",
           "name": "Royaume-Uni",
           "orientation": "v",
           "showlegend": true,
           "type": "scatter",
           "x": [
            44
           ],
           "xaxis": "x",
           "y": [
            16
           ],
           "yaxis": "y"
          },
          {
           "hovertemplate": "<b>%{hovertext}</b><br><br>Country=Turquie<br>Date=2021<br>arabe=%{x}<br>juif=%{y}<br>Size=%{marker.size}<extra></extra>",
           "hovertext": [
            "Turquie"
           ],
           "ids": [
            "Turquie"
           ],
           "legendgroup": "Turquie",
           "marker": {
            "color": "#ab63fa",
            "size": [
             16
            ],
            "sizemode": "area",
            "sizeref": 0.03206611570247934,
            "symbol": "circle"
           },
           "mode": "markers",
           "name": "Turquie",
           "orientation": "v",
           "showlegend": true,
           "type": "scatter",
           "x": [
            72
           ],
           "xaxis": "x",
           "y": [
            100
           ],
           "yaxis": "y"
          },
          {
           "hovertemplate": "<b>%{hovertext}</b><br><br>Country=Alger<br>Date=2021<br>arabe=%{x}<br>juif=%{y}<br>Size=%{marker.size}<extra></extra>",
           "hovertext": [
            "Alger"
           ],
           "ids": [
            "Alger"
           ],
           "legendgroup": "Alger",
           "marker": {
            "color": "#FFA15A",
            "size": [
             16
            ],
            "sizemode": "area",
            "sizeref": 0.03206611570247934,
            "symbol": "circle"
           },
           "mode": "markers",
           "name": "Alger",
           "orientation": "v",
           "showlegend": true,
           "type": "scatter",
           "x": [
            30
           ],
           "xaxis": "x",
           "y": [
            3
           ],
           "yaxis": "y"
          },
          {
           "hovertemplate": "<b>%{hovertext}</b><br><br>Country=République<br>Date=2021<br>arabe=%{x}<br>juif=%{y}<br>Size=%{marker.size}<extra></extra>",
           "hovertext": [
            "République"
           ],
           "ids": [
            "République"
           ],
           "legendgroup": "République",
           "marker": {
            "color": "#19d3f3",
            "size": [
             16
            ],
            "sizemode": "area",
            "sizeref": 0.03206611570247934,
            "symbol": "circle"
           },
           "mode": "markers",
           "name": "République",
           "orientation": "v",
           "showlegend": true,
           "type": "scatter",
           "x": [
            27
           ],
           "xaxis": "x",
           "y": [
            238
           ],
           "yaxis": "y"
          },
          {
           "hovertemplate": "<b>%{hovertext}</b><br><br>Country=Sahel<br>Date=2021<br>arabe=%{x}<br>juif=%{y}<br>Size=%{marker.size}<extra></extra>",
           "hovertext": [
            "Sahel"
           ],
           "ids": [
            "Sahel"
           ],
           "legendgroup": "Sahel",
           "marker": {
            "color": "#FF6692",
            "size": [
             15
            ],
            "sizemode": "area",
            "sizeref": 0.03206611570247934,
            "symbol": "circle"
           },
           "mode": "markers",
           "name": "Sahel",
           "orientation": "v",
           "showlegend": true,
           "type": "scatter",
           "x": [
            40
           ],
           "xaxis": "x",
           "y": [
            4
           ],
           "yaxis": "y"
          },
          {
           "hovertemplate": "<b>%{hovertext}</b><br><br>Country=Moscou<br>Date=2021<br>arabe=%{x}<br>juif=%{y}<br>Size=%{marker.size}<extra></extra>",
           "hovertext": [
            "Moscou"
           ],
           "ids": [
            "Moscou"
           ],
           "legendgroup": "Moscou",
           "marker": {
            "color": "#B6E880",
            "size": [
             14
            ],
            "sizemode": "area",
            "sizeref": 0.03206611570247934,
            "symbol": "circle"
           },
           "mode": "markers",
           "name": "Moscou",
           "orientation": "v",
           "showlegend": true,
           "type": "scatter",
           "x": [
            54
           ],
           "xaxis": "x",
           "y": [
            5
           ],
           "yaxis": "y"
          },
          {
           "hovertemplate": "<b>%{hovertext}</b><br><br>Country=Italie<br>Date=2021<br>arabe=%{x}<br>juif=%{y}<br>Size=%{marker.size}<extra></extra>",
           "hovertext": [
            "Italie"
           ],
           "ids": [
            "Italie"
           ],
           "legendgroup": "Italie",
           "marker": {
            "color": "#FF97FF",
            "size": [
             14
            ],
            "sizemode": "area",
            "sizeref": 0.03206611570247934,
            "symbol": "circle"
           },
           "mode": "markers",
           "name": "Italie",
           "orientation": "v",
           "showlegend": true,
           "type": "scatter",
           "x": [
            25
           ],
           "xaxis": "x",
           "y": [
            9
           ],
           "yaxis": "y"
          },
          {
           "hovertemplate": "<b>%{hovertext}</b><br><br>Country=Syrie<br>Date=2021<br>arabe=%{x}<br>juif=%{y}<br>Size=%{marker.size}<extra></extra>",
           "hovertext": [
            "Syrie"
           ],
           "ids": [
            "Syrie"
           ],
           "legendgroup": "Syrie",
           "marker": {
            "color": "#FECB52",
            "size": [
             14
            ],
            "sizemode": "area",
            "sizeref": 0.03206611570247934,
            "symbol": "circle"
           },
           "mode": "markers",
           "name": "Syrie",
           "orientation": "v",
           "showlegend": true,
           "type": "scatter",
           "x": [
            106
           ],
           "xaxis": "x",
           "y": [
            100
           ],
           "yaxis": "y"
          }
         ],
         "name": "2021"
        }
       ],
       "layout": {
        "height": 800,
        "legend": {
         "itemsizing": "constant",
         "title": {
          "text": "Country"
         },
         "tracegroupgap": 0
        },
        "sliders": [
         {
          "active": 0,
          "currentvalue": {
           "prefix": "Date="
          },
          "len": 0.9,
          "pad": {
           "b": 10,
           "t": 60
          },
          "steps": [
           {
            "args": [
             [
              "2018"
             ],
             {
              "frame": {
               "duration": 0,
               "redraw": false
              },
              "fromcurrent": true,
              "mode": "immediate",
              "transition": {
               "duration": 0,
               "easing": "linear"
              }
             }
            ],
            "label": "2018",
            "method": "animate"
           },
           {
            "args": [
             [
              "2019"
             ],
             {
              "frame": {
               "duration": 0,
               "redraw": false
              },
              "fromcurrent": true,
              "mode": "immediate",
              "transition": {
               "duration": 0,
               "easing": "linear"
              }
             }
            ],
            "label": "2019",
            "method": "animate"
           },
           {
            "args": [
             [
              "2020"
             ],
             {
              "frame": {
               "duration": 0,
               "redraw": false
              },
              "fromcurrent": true,
              "mode": "immediate",
              "transition": {
               "duration": 0,
               "easing": "linear"
              }
             }
            ],
            "label": "2020",
            "method": "animate"
           },
           {
            "args": [
             [
              "2021"
             ],
             {
              "frame": {
               "duration": 0,
               "redraw": false
              },
              "fromcurrent": true,
              "mode": "immediate",
              "transition": {
               "duration": 0,
               "easing": "linear"
              }
             }
            ],
            "label": "2021",
            "method": "animate"
           }
          ],
          "x": 0.1,
          "xanchor": "left",
          "y": 0,
          "yanchor": "top"
         }
        ],
        "template": {
         "data": {
          "bar": [
           {
            "error_x": {
             "color": "#2a3f5f"
            },
            "error_y": {
             "color": "#2a3f5f"
            },
            "marker": {
             "line": {
              "color": "#E5ECF6",
              "width": 0.5
             },
             "pattern": {
              "fillmode": "overlay",
              "size": 10,
              "solidity": 0.2
             }
            },
            "type": "bar"
           }
          ],
          "barpolar": [
           {
            "marker": {
             "line": {
              "color": "#E5ECF6",
              "width": 0.5
             },
             "pattern": {
              "fillmode": "overlay",
              "size": 10,
              "solidity": 0.2
             }
            },
            "type": "barpolar"
           }
          ],
          "carpet": [
           {
            "aaxis": {
             "endlinecolor": "#2a3f5f",
             "gridcolor": "white",
             "linecolor": "white",
             "minorgridcolor": "white",
             "startlinecolor": "#2a3f5f"
            },
            "baxis": {
             "endlinecolor": "#2a3f5f",
             "gridcolor": "white",
             "linecolor": "white",
             "minorgridcolor": "white",
             "startlinecolor": "#2a3f5f"
            },
            "type": "carpet"
           }
          ],
          "choropleth": [
           {
            "colorbar": {
             "outlinewidth": 0,
             "ticks": ""
            },
            "type": "choropleth"
           }
          ],
          "contour": [
           {
            "colorbar": {
             "outlinewidth": 0,
             "ticks": ""
            },
            "colorscale": [
             [
              0,
              "#0d0887"
             ],
             [
              0.1111111111111111,
              "#46039f"
             ],
             [
              0.2222222222222222,
              "#7201a8"
             ],
             [
              0.3333333333333333,
              "#9c179e"
             ],
             [
              0.4444444444444444,
              "#bd3786"
             ],
             [
              0.5555555555555556,
              "#d8576b"
             ],
             [
              0.6666666666666666,
              "#ed7953"
             ],
             [
              0.7777777777777778,
              "#fb9f3a"
             ],
             [
              0.8888888888888888,
              "#fdca26"
             ],
             [
              1,
              "#f0f921"
             ]
            ],
            "type": "contour"
           }
          ],
          "contourcarpet": [
           {
            "colorbar": {
             "outlinewidth": 0,
             "ticks": ""
            },
            "type": "contourcarpet"
           }
          ],
          "heatmap": [
           {
            "colorbar": {
             "outlinewidth": 0,
             "ticks": ""
            },
            "colorscale": [
             [
              0,
              "#0d0887"
             ],
             [
              0.1111111111111111,
              "#46039f"
             ],
             [
              0.2222222222222222,
              "#7201a8"
             ],
             [
              0.3333333333333333,
              "#9c179e"
             ],
             [
              0.4444444444444444,
              "#bd3786"
             ],
             [
              0.5555555555555556,
              "#d8576b"
             ],
             [
              0.6666666666666666,
              "#ed7953"
             ],
             [
              0.7777777777777778,
              "#fb9f3a"
             ],
             [
              0.8888888888888888,
              "#fdca26"
             ],
             [
              1,
              "#f0f921"
             ]
            ],
            "type": "heatmap"
           }
          ],
          "heatmapgl": [
           {
            "colorbar": {
             "outlinewidth": 0,
             "ticks": ""
            },
            "colorscale": [
             [
              0,
              "#0d0887"
             ],
             [
              0.1111111111111111,
              "#46039f"
             ],
             [
              0.2222222222222222,
              "#7201a8"
             ],
             [
              0.3333333333333333,
              "#9c179e"
             ],
             [
              0.4444444444444444,
              "#bd3786"
             ],
             [
              0.5555555555555556,
              "#d8576b"
             ],
             [
              0.6666666666666666,
              "#ed7953"
             ],
             [
              0.7777777777777778,
              "#fb9f3a"
             ],
             [
              0.8888888888888888,
              "#fdca26"
             ],
             [
              1,
              "#f0f921"
             ]
            ],
            "type": "heatmapgl"
           }
          ],
          "histogram": [
           {
            "marker": {
             "pattern": {
              "fillmode": "overlay",
              "size": 10,
              "solidity": 0.2
             }
            },
            "type": "histogram"
           }
          ],
          "histogram2d": [
           {
            "colorbar": {
             "outlinewidth": 0,
             "ticks": ""
            },
            "colorscale": [
             [
              0,
              "#0d0887"
             ],
             [
              0.1111111111111111,
              "#46039f"
             ],
             [
              0.2222222222222222,
              "#7201a8"
             ],
             [
              0.3333333333333333,
              "#9c179e"
             ],
             [
              0.4444444444444444,
              "#bd3786"
             ],
             [
              0.5555555555555556,
              "#d8576b"
             ],
             [
              0.6666666666666666,
              "#ed7953"
             ],
             [
              0.7777777777777778,
              "#fb9f3a"
             ],
             [
              0.8888888888888888,
              "#fdca26"
             ],
             [
              1,
              "#f0f921"
             ]
            ],
            "type": "histogram2d"
           }
          ],
          "histogram2dcontour": [
           {
            "colorbar": {
             "outlinewidth": 0,
             "ticks": ""
            },
            "colorscale": [
             [
              0,
              "#0d0887"
             ],
             [
              0.1111111111111111,
              "#46039f"
             ],
             [
              0.2222222222222222,
              "#7201a8"
             ],
             [
              0.3333333333333333,
              "#9c179e"
             ],
             [
              0.4444444444444444,
              "#bd3786"
             ],
             [
              0.5555555555555556,
              "#d8576b"
             ],
             [
              0.6666666666666666,
              "#ed7953"
             ],
             [
              0.7777777777777778,
              "#fb9f3a"
             ],
             [
              0.8888888888888888,
              "#fdca26"
             ],
             [
              1,
              "#f0f921"
             ]
            ],
            "type": "histogram2dcontour"
           }
          ],
          "mesh3d": [
           {
            "colorbar": {
             "outlinewidth": 0,
             "ticks": ""
            },
            "type": "mesh3d"
           }
          ],
          "parcoords": [
           {
            "line": {
             "colorbar": {
              "outlinewidth": 0,
              "ticks": ""
             }
            },
            "type": "parcoords"
           }
          ],
          "pie": [
           {
            "automargin": true,
            "type": "pie"
           }
          ],
          "scatter": [
           {
            "fillpattern": {
             "fillmode": "overlay",
             "size": 10,
             "solidity": 0.2
            },
            "type": "scatter"
           }
          ],
          "scatter3d": [
           {
            "line": {
             "colorbar": {
              "outlinewidth": 0,
              "ticks": ""
             }
            },
            "marker": {
             "colorbar": {
              "outlinewidth": 0,
              "ticks": ""
             }
            },
            "type": "scatter3d"
           }
          ],
          "scattercarpet": [
           {
            "marker": {
             "colorbar": {
              "outlinewidth": 0,
              "ticks": ""
             }
            },
            "type": "scattercarpet"
           }
          ],
          "scattergeo": [
           {
            "marker": {
             "colorbar": {
              "outlinewidth": 0,
              "ticks": ""
             }
            },
            "type": "scattergeo"
           }
          ],
          "scattergl": [
           {
            "marker": {
             "colorbar": {
              "outlinewidth": 0,
              "ticks": ""
             }
            },
            "type": "scattergl"
           }
          ],
          "scattermapbox": [
           {
            "marker": {
             "colorbar": {
              "outlinewidth": 0,
              "ticks": ""
             }
            },
            "type": "scattermapbox"
           }
          ],
          "scatterpolar": [
           {
            "marker": {
             "colorbar": {
              "outlinewidth": 0,
              "ticks": ""
             }
            },
            "type": "scatterpolar"
           }
          ],
          "scatterpolargl": [
           {
            "marker": {
             "colorbar": {
              "outlinewidth": 0,
              "ticks": ""
             }
            },
            "type": "scatterpolargl"
           }
          ],
          "scatterternary": [
           {
            "marker": {
             "colorbar": {
              "outlinewidth": 0,
              "ticks": ""
             }
            },
            "type": "scatterternary"
           }
          ],
          "surface": [
           {
            "colorbar": {
             "outlinewidth": 0,
             "ticks": ""
            },
            "colorscale": [
             [
              0,
              "#0d0887"
             ],
             [
              0.1111111111111111,
              "#46039f"
             ],
             [
              0.2222222222222222,
              "#7201a8"
             ],
             [
              0.3333333333333333,
              "#9c179e"
             ],
             [
              0.4444444444444444,
              "#bd3786"
             ],
             [
              0.5555555555555556,
              "#d8576b"
             ],
             [
              0.6666666666666666,
              "#ed7953"
             ],
             [
              0.7777777777777778,
              "#fb9f3a"
             ],
             [
              0.8888888888888888,
              "#fdca26"
             ],
             [
              1,
              "#f0f921"
             ]
            ],
            "type": "surface"
           }
          ],
          "table": [
           {
            "cells": {
             "fill": {
              "color": "#EBF0F8"
             },
             "line": {
              "color": "white"
             }
            },
            "header": {
             "fill": {
              "color": "#C8D4E3"
             },
             "line": {
              "color": "white"
             }
            },
            "type": "table"
           }
          ]
         },
         "layout": {
          "annotationdefaults": {
           "arrowcolor": "#2a3f5f",
           "arrowhead": 0,
           "arrowwidth": 1
          },
          "autotypenumbers": "strict",
          "coloraxis": {
           "colorbar": {
            "outlinewidth": 0,
            "ticks": ""
           }
          },
          "colorscale": {
           "diverging": [
            [
             0,
             "#8e0152"
            ],
            [
             0.1,
             "#c51b7d"
            ],
            [
             0.2,
             "#de77ae"
            ],
            [
             0.3,
             "#f1b6da"
            ],
            [
             0.4,
             "#fde0ef"
            ],
            [
             0.5,
             "#f7f7f7"
            ],
            [
             0.6,
             "#e6f5d0"
            ],
            [
             0.7,
             "#b8e186"
            ],
            [
             0.8,
             "#7fbc41"
            ],
            [
             0.9,
             "#4d9221"
            ],
            [
             1,
             "#276419"
            ]
           ],
           "sequential": [
            [
             0,
             "#0d0887"
            ],
            [
             0.1111111111111111,
             "#46039f"
            ],
            [
             0.2222222222222222,
             "#7201a8"
            ],
            [
             0.3333333333333333,
             "#9c179e"
            ],
            [
             0.4444444444444444,
             "#bd3786"
            ],
            [
             0.5555555555555556,
             "#d8576b"
            ],
            [
             0.6666666666666666,
             "#ed7953"
            ],
            [
             0.7777777777777778,
             "#fb9f3a"
            ],
            [
             0.8888888888888888,
             "#fdca26"
            ],
            [
             1,
             "#f0f921"
            ]
           ],
           "sequentialminus": [
            [
             0,
             "#0d0887"
            ],
            [
             0.1111111111111111,
             "#46039f"
            ],
            [
             0.2222222222222222,
             "#7201a8"
            ],
            [
             0.3333333333333333,
             "#9c179e"
            ],
            [
             0.4444444444444444,
             "#bd3786"
            ],
            [
             0.5555555555555556,
             "#d8576b"
            ],
            [
             0.6666666666666666,
             "#ed7953"
            ],
            [
             0.7777777777777778,
             "#fb9f3a"
            ],
            [
             0.8888888888888888,
             "#fdca26"
            ],
            [
             1,
             "#f0f921"
            ]
           ]
          },
          "colorway": [
           "#636efa",
           "#EF553B",
           "#00cc96",
           "#ab63fa",
           "#FFA15A",
           "#19d3f3",
           "#FF6692",
           "#B6E880",
           "#FF97FF",
           "#FECB52"
          ],
          "font": {
           "color": "#2a3f5f"
          },
          "geo": {
           "bgcolor": "white",
           "lakecolor": "white",
           "landcolor": "#E5ECF6",
           "showlakes": true,
           "showland": true,
           "subunitcolor": "white"
          },
          "hoverlabel": {
           "align": "left"
          },
          "hovermode": "closest",
          "mapbox": {
           "style": "light"
          },
          "paper_bgcolor": "white",
          "plot_bgcolor": "#E5ECF6",
          "polar": {
           "angularaxis": {
            "gridcolor": "white",
            "linecolor": "white",
            "ticks": ""
           },
           "bgcolor": "#E5ECF6",
           "radialaxis": {
            "gridcolor": "white",
            "linecolor": "white",
            "ticks": ""
           }
          },
          "scene": {
           "xaxis": {
            "backgroundcolor": "#E5ECF6",
            "gridcolor": "white",
            "gridwidth": 2,
            "linecolor": "white",
            "showbackground": true,
            "ticks": "",
            "zerolinecolor": "white"
           },
           "yaxis": {
            "backgroundcolor": "#E5ECF6",
            "gridcolor": "white",
            "gridwidth": 2,
            "linecolor": "white",
            "showbackground": true,
            "ticks": "",
            "zerolinecolor": "white"
           },
           "zaxis": {
            "backgroundcolor": "#E5ECF6",
            "gridcolor": "white",
            "gridwidth": 2,
            "linecolor": "white",
            "showbackground": true,
            "ticks": "",
            "zerolinecolor": "white"
           }
          },
          "shapedefaults": {
           "line": {
            "color": "#2a3f5f"
           }
          },
          "ternary": {
           "aaxis": {
            "gridcolor": "white",
            "linecolor": "white",
            "ticks": ""
           },
           "baxis": {
            "gridcolor": "white",
            "linecolor": "white",
            "ticks": ""
           },
           "bgcolor": "#E5ECF6",
           "caxis": {
            "gridcolor": "white",
            "linecolor": "white",
            "ticks": ""
           }
          },
          "title": {
           "x": 0.05
          },
          "xaxis": {
           "automargin": true,
           "gridcolor": "white",
           "linecolor": "white",
           "ticks": "",
           "title": {
            "standoff": 15
           },
           "zerolinecolor": "white",
           "zerolinewidth": 2
          },
          "yaxis": {
           "automargin": true,
           "gridcolor": "white",
           "linecolor": "white",
           "ticks": "",
           "title": {
            "standoff": 15
           },
           "zerolinecolor": "white",
           "zerolinewidth": 2
          }
         }
        },
        "title": {
         "text": "France relations"
        },
        "updatemenus": [
         {
          "buttons": [
           {
            "args": [
             null,
             {
              "frame": {
               "duration": 500,
               "redraw": false
              },
              "fromcurrent": true,
              "mode": "immediate",
              "transition": {
               "duration": 500,
               "easing": "linear"
              }
             }
            ],
            "label": "&#9654;",
            "method": "animate"
           },
           {
            "args": [
             [
              null
             ],
             {
              "frame": {
               "duration": 0,
               "redraw": false
              },
              "fromcurrent": true,
              "mode": "immediate",
              "transition": {
               "duration": 0,
               "easing": "linear"
              }
             }
            ],
            "label": "&#9724;",
            "method": "animate"
           }
          ],
          "direction": "left",
          "pad": {
           "r": 10,
           "t": 70
          },
          "showactive": false,
          "type": "buttons",
          "x": 0.1,
          "xanchor": "right",
          "y": 0,
          "yanchor": "top"
         }
        ],
        "width": 1000,
        "xaxis": {
         "anchor": "y",
         "domain": [
          0,
          1
         ],
         "range": [
          0,
          246
         ],
         "title": {
          "text": "arabe"
         }
        },
        "yaxis": {
         "anchor": "x",
         "domain": [
          0,
          1
         ],
         "range": [
          0,
          532
         ],
         "title": {
          "text": "juif"
         }
        }
       }
      }
     },
     "metadata": {},
     "output_type": "display_data"
    },
    {
     "data": {
      "image/png": "[encoded data removed]",
      "text/plain": [
       "<Figure size 2400x800 with 3 Axes>"
      ]
     },
     "metadata": {},
     "output_type": "display_data"
    }
   ],
   "source": [
    "kw1 = \"arabe\" # A MODIFIER\n",
    "kw2 = \"juif\" # A MODIFIER\n",
    "\n",
    "createScatterGraph(f\"{kw1},{kw2}\", top_location)"
   ]
  }
 ],
 "metadata": {
  "kernelspec": {
   "display_name": "Python 3",
   "language": "python",
   "name": "python3"
  },
  "language_info": {
   "codemirror_mode": {
    "name": "ipython",
    "version": 3
   },
   "file_extension": ".py",
   "mimetype": "text/x-python",
   "name": "python",
   "nbconvert_exporter": "python",
   "pygments_lexer": "ipython3",
   "version": "3.10.9"
  },
  "orig_nbformat": 4,
  "vscode": {
   "interpreter": {
    "hash": "2b231b7f854eee15b0db175e8283bd5821fab588ddcda8dea648c0f134da2554"
   }
  }
 },
 "nbformat": 4,
 "nbformat_minor": 2
}
