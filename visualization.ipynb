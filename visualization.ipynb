{
 "cells": [
  {
   "cell_type": "code",
   "execution_count": 13,
   "metadata": {},
   "outputs": [],
   "source": [
    "import json\n",
    "import os\n",
    "import itertools\n",
    "import plotly.express as px\n",
    "import pandas as pd\n",
    "import networkx as nx\n",
    "from collections import Counter\n",
    "import matplotlib.pyplot as plt\n",
    "from collections import defaultdict\n",
    "\n",
    "files_name = [file_name for file_name in os.listdir('../all') if '.json' in file_name]"
   ]
  },
  {
   "cell_type": "code",
   "execution_count": 14,
   "metadata": {},
   "outputs": [
    {
     "name": "stdout",
     "output_type": "stream",
     "text": [
      "      Month  Nb of Article\n",
      "36  2018-12            104\n",
      "35  2019-01           4023\n",
      "34  2019-02           3774\n",
      "33  2019-03           3911\n",
      "32  2019-04           3683\n",
      "31  2019-05           3743\n",
      "30  2019-06           3545\n",
      "29  2019-07           3847\n",
      "28  2019-08           3438\n",
      "27  2019-09           3960\n",
      "26  2019-10           4187\n",
      "25  2019-11           3911\n",
      "24  2019-12           3742\n",
      "23  2020-01           3695\n",
      "22  2020-02           3650\n",
      "21  2020-03           3727\n",
      "20  2020-04           3391\n",
      "19  2020-05           3510\n",
      "18  2020-06           3588\n",
      "17  2020-07           3596\n",
      "16  2020-08           3465\n",
      "15  2020-09           3708\n",
      "14  2020-10           3669\n",
      "13  2020-11           3648\n",
      "12  2020-12           3425\n",
      "11  2021-01           3674\n",
      "10  2021-02           3457\n",
      "9   2021-03           3562\n",
      "8   2021-04           2898\n",
      "7   2021-05           2953\n",
      "6   2021-06           3249\n",
      "5   2021-07           3217\n",
      "4   2021-08           3091\n",
      "3   2021-09           3262\n",
      "2   2021-10           3554\n",
      "1   2021-11           3238\n",
      "0   2021-12           3017\n"
     ]
    }
   ],
   "source": [
    "dictionary = {}\n",
    "\n",
    "for file in files_name:\n",
    "    f = open(f'../all/{file}', 'r', encoding='utf-8')\n",
    "    data = json.loads(f.read())\n",
    "    f.close()\n",
    "    data_month = data[\"metadata-all\"]['fr']['month']\n",
    "    for years in data_month:\n",
    "        for month in data_month[years]:\n",
    "            m = month\n",
    "            if len(month)==1:\n",
    "                m = '0' + month\n",
    "            if f'{years}-{m}' in dictionary.keys():\n",
    "                dictionary[f'{years}-{m}'] += data_month[years][str(month)][\"num\"]\n",
    "            else:\n",
    "                dictionary[f'{years}-{m}'] = data_month[years][str(month)][\"num\"]\n",
    "\n",
    "\n",
    "sorted_keys = sorted(dictionary.keys(), reverse = True)\n",
    "dict_sorted = {key:dictionary[key] for key in sorted_keys}\n",
    "\n",
    "df = pd.DataFrame(dict_sorted.items(), columns=['Month', 'Nb of Article'])\n",
    "df = df.sort_index(axis = 0, ascending = False)\n",
    "print(df)"
   ]
  },
  {
   "cell_type": "code",
   "execution_count": 15,
   "metadata": {
    "collapsed": false
   },
   "outputs": [
    {
     "data": {
      "application/vnd.plotly.v1+json": {
       "data": [
        {
         "alignmentgroup": "True",
         "hovertemplate": "Month=%{x}<br>Nb of Article=%{marker.color}<extra></extra>",
         "legendgroup": "",
         "marker": {
          "color": [
           104,
           4023,
           3774,
           3911,
           3683,
           3743,
           3545,
           3847,
           3438,
           3960,
           4187,
           3911,
           3742,
           3695,
           3650,
           3727,
           3391,
           3510,
           3588,
           3596,
           3465,
           3708,
           3669,
           3648,
           3425,
           3674,
           3457,
           3562,
           2898,
           2953,
           3249,
           3217,
           3091,
           3262,
           3554,
           3238,
           3017
          ],
          "coloraxis": "coloraxis",
          "pattern": {
           "shape": ""
          }
         },
         "name": "",
         "offsetgroup": "",
         "orientation": "v",
         "showlegend": false,
         "textposition": "auto",
         "x": [
          "2018-12",
          "2019-01",
          "2019-02",
          "2019-03",
          "2019-04",
          "2019-05",
          "2019-06",
          "2019-07",
          "2019-08",
          "2019-09",
          "2019-10",
          "2019-11",
          "2019-12",
          "2020-01",
          "2020-02",
          "2020-03",
          "2020-04",
          "2020-05",
          "2020-06",
          "2020-07",
          "2020-08",
          "2020-09",
          "2020-10",
          "2020-11",
          "2020-12",
          "2021-01",
          "2021-02",
          "2021-03",
          "2021-04",
          "2021-05",
          "2021-06",
          "2021-07",
          "2021-08",
          "2021-09",
          "2021-10",
          "2021-11",
          "2021-12"
         ],
         "xaxis": "x",
         "y": [
          104,
          4023,
          3774,
          3911,
          3683,
          3743,
          3545,
          3847,
          3438,
          3960,
          4187,
          3911,
          3742,
          3695,
          3650,
          3727,
          3391,
          3510,
          3588,
          3596,
          3465,
          3708,
          3669,
          3648,
          3425,
          3674,
          3457,
          3562,
          2898,
          2953,
          3249,
          3217,
          3091,
          3262,
          3554,
          3238,
          3017
         ],
         "yaxis": "y",
         "type": "bar"
        }
       ],
       "layout": {
        "template": {
         "data": {
          "histogram2dcontour": [
           {
            "type": "histogram2dcontour",
            "colorbar": {
             "outlinewidth": 0,
             "ticks": ""
            },
            "colorscale": [
             [
              0.0,
              "#0d0887"
             ],
             [
              0.1111111111111111,
              "#46039f"
             ],
             [
              0.2222222222222222,
              "#7201a8"
             ],
             [
              0.3333333333333333,
              "#9c179e"
             ],
             [
              0.4444444444444444,
              "#bd3786"
             ],
             [
              0.5555555555555556,
              "#d8576b"
             ],
             [
              0.6666666666666666,
              "#ed7953"
             ],
             [
              0.7777777777777778,
              "#fb9f3a"
             ],
             [
              0.8888888888888888,
              "#fdca26"
             ],
             [
              1.0,
              "#f0f921"
             ]
            ]
           }
          ],
          "choropleth": [
           {
            "type": "choropleth",
            "colorbar": {
             "outlinewidth": 0,
             "ticks": ""
            }
           }
          ],
          "histogram2d": [
           {
            "type": "histogram2d",
            "colorbar": {
             "outlinewidth": 0,
             "ticks": ""
            },
            "colorscale": [
             [
              0.0,
              "#0d0887"
             ],
             [
              0.1111111111111111,
              "#46039f"
             ],
             [
              0.2222222222222222,
              "#7201a8"
             ],
             [
              0.3333333333333333,
              "#9c179e"
             ],
             [
              0.4444444444444444,
              "#bd3786"
             ],
             [
              0.5555555555555556,
              "#d8576b"
             ],
             [
              0.6666666666666666,
              "#ed7953"
             ],
             [
              0.7777777777777778,
              "#fb9f3a"
             ],
             [
              0.8888888888888888,
              "#fdca26"
             ],
             [
              1.0,
              "#f0f921"
             ]
            ]
           }
          ],
          "heatmap": [
           {
            "type": "heatmap",
            "colorbar": {
             "outlinewidth": 0,
             "ticks": ""
            },
            "colorscale": [
             [
              0.0,
              "#0d0887"
             ],
             [
              0.1111111111111111,
              "#46039f"
             ],
             [
              0.2222222222222222,
              "#7201a8"
             ],
             [
              0.3333333333333333,
              "#9c179e"
             ],
             [
              0.4444444444444444,
              "#bd3786"
             ],
             [
              0.5555555555555556,
              "#d8576b"
             ],
             [
              0.6666666666666666,
              "#ed7953"
             ],
             [
              0.7777777777777778,
              "#fb9f3a"
             ],
             [
              0.8888888888888888,
              "#fdca26"
             ],
             [
              1.0,
              "#f0f921"
             ]
            ]
           }
          ],
          "heatmapgl": [
           {
            "type": "heatmapgl",
            "colorbar": {
             "outlinewidth": 0,
             "ticks": ""
            },
            "colorscale": [
             [
              0.0,
              "#0d0887"
             ],
             [
              0.1111111111111111,
              "#46039f"
             ],
             [
              0.2222222222222222,
              "#7201a8"
             ],
             [
              0.3333333333333333,
              "#9c179e"
             ],
             [
              0.4444444444444444,
              "#bd3786"
             ],
             [
              0.5555555555555556,
              "#d8576b"
             ],
             [
              0.6666666666666666,
              "#ed7953"
             ],
             [
              0.7777777777777778,
              "#fb9f3a"
             ],
             [
              0.8888888888888888,
              "#fdca26"
             ],
             [
              1.0,
              "#f0f921"
             ]
            ]
           }
          ],
          "contourcarpet": [
           {
            "type": "contourcarpet",
            "colorbar": {
             "outlinewidth": 0,
             "ticks": ""
            }
           }
          ],
          "contour": [
           {
            "type": "contour",
            "colorbar": {
             "outlinewidth": 0,
             "ticks": ""
            },
            "colorscale": [
             [
              0.0,
              "#0d0887"
             ],
             [
              0.1111111111111111,
              "#46039f"
             ],
             [
              0.2222222222222222,
              "#7201a8"
             ],
             [
              0.3333333333333333,
              "#9c179e"
             ],
             [
              0.4444444444444444,
              "#bd3786"
             ],
             [
              0.5555555555555556,
              "#d8576b"
             ],
             [
              0.6666666666666666,
              "#ed7953"
             ],
             [
              0.7777777777777778,
              "#fb9f3a"
             ],
             [
              0.8888888888888888,
              "#fdca26"
             ],
             [
              1.0,
              "#f0f921"
             ]
            ]
           }
          ],
          "surface": [
           {
            "type": "surface",
            "colorbar": {
             "outlinewidth": 0,
             "ticks": ""
            },
            "colorscale": [
             [
              0.0,
              "#0d0887"
             ],
             [
              0.1111111111111111,
              "#46039f"
             ],
             [
              0.2222222222222222,
              "#7201a8"
             ],
             [
              0.3333333333333333,
              "#9c179e"
             ],
             [
              0.4444444444444444,
              "#bd3786"
             ],
             [
              0.5555555555555556,
              "#d8576b"
             ],
             [
              0.6666666666666666,
              "#ed7953"
             ],
             [
              0.7777777777777778,
              "#fb9f3a"
             ],
             [
              0.8888888888888888,
              "#fdca26"
             ],
             [
              1.0,
              "#f0f921"
             ]
            ]
           }
          ],
          "mesh3d": [
           {
            "type": "mesh3d",
            "colorbar": {
             "outlinewidth": 0,
             "ticks": ""
            }
           }
          ],
          "scatter": [
           {
            "marker": {
             "line": {
              "color": "#283442"
             }
            },
            "type": "scatter"
           }
          ],
          "parcoords": [
           {
            "type": "parcoords",
            "line": {
             "colorbar": {
              "outlinewidth": 0,
              "ticks": ""
             }
            }
           }
          ],
          "scatterpolargl": [
           {
            "type": "scatterpolargl",
            "marker": {
             "colorbar": {
              "outlinewidth": 0,
              "ticks": ""
             }
            }
           }
          ],
          "bar": [
           {
            "error_x": {
             "color": "#f2f5fa"
            },
            "error_y": {
             "color": "#f2f5fa"
            },
            "marker": {
             "line": {
              "color": "rgb(17,17,17)",
              "width": 0.5
             },
             "pattern": {
              "fillmode": "overlay",
              "size": 10,
              "solidity": 0.2
             }
            },
            "type": "bar"
           }
          ],
          "scattergeo": [
           {
            "type": "scattergeo",
            "marker": {
             "colorbar": {
              "outlinewidth": 0,
              "ticks": ""
             }
            }
           }
          ],
          "scatterpolar": [
           {
            "type": "scatterpolar",
            "marker": {
             "colorbar": {
              "outlinewidth": 0,
              "ticks": ""
             }
            }
           }
          ],
          "histogram": [
           {
            "marker": {
             "pattern": {
              "fillmode": "overlay",
              "size": 10,
              "solidity": 0.2
             }
            },
            "type": "histogram"
           }
          ],
          "scattergl": [
           {
            "marker": {
             "line": {
              "color": "#283442"
             }
            },
            "type": "scattergl"
           }
          ],
          "scatter3d": [
           {
            "type": "scatter3d",
            "line": {
             "colorbar": {
              "outlinewidth": 0,
              "ticks": ""
             }
            },
            "marker": {
             "colorbar": {
              "outlinewidth": 0,
              "ticks": ""
             }
            }
           }
          ],
          "scattermapbox": [
           {
            "type": "scattermapbox",
            "marker": {
             "colorbar": {
              "outlinewidth": 0,
              "ticks": ""
             }
            }
           }
          ],
          "scatterternary": [
           {
            "type": "scatterternary",
            "marker": {
             "colorbar": {
              "outlinewidth": 0,
              "ticks": ""
             }
            }
           }
          ],
          "scattercarpet": [
           {
            "type": "scattercarpet",
            "marker": {
             "colorbar": {
              "outlinewidth": 0,
              "ticks": ""
             }
            }
           }
          ],
          "carpet": [
           {
            "aaxis": {
             "endlinecolor": "#A2B1C6",
             "gridcolor": "#506784",
             "linecolor": "#506784",
             "minorgridcolor": "#506784",
             "startlinecolor": "#A2B1C6"
            },
            "baxis": {
             "endlinecolor": "#A2B1C6",
             "gridcolor": "#506784",
             "linecolor": "#506784",
             "minorgridcolor": "#506784",
             "startlinecolor": "#A2B1C6"
            },
            "type": "carpet"
           }
          ],
          "table": [
           {
            "cells": {
             "fill": {
              "color": "#506784"
             },
             "line": {
              "color": "rgb(17,17,17)"
             }
            },
            "header": {
             "fill": {
              "color": "#2a3f5f"
             },
             "line": {
              "color": "rgb(17,17,17)"
             }
            },
            "type": "table"
           }
          ],
          "barpolar": [
           {
            "marker": {
             "line": {
              "color": "rgb(17,17,17)",
              "width": 0.5
             },
             "pattern": {
              "fillmode": "overlay",
              "size": 10,
              "solidity": 0.2
             }
            },
            "type": "barpolar"
           }
          ],
          "pie": [
           {
            "automargin": true,
            "type": "pie"
           }
          ]
         },
         "layout": {
          "autotypenumbers": "strict",
          "colorway": [
           "#636efa",
           "#EF553B",
           "#00cc96",
           "#ab63fa",
           "#FFA15A",
           "#19d3f3",
           "#FF6692",
           "#B6E880",
           "#FF97FF",
           "#FECB52"
          ],
          "font": {
           "color": "#f2f5fa"
          },
          "hovermode": "closest",
          "hoverlabel": {
           "align": "left"
          },
          "paper_bgcolor": "rgb(17,17,17)",
          "plot_bgcolor": "rgb(17,17,17)",
          "polar": {
           "bgcolor": "rgb(17,17,17)",
           "angularaxis": {
            "gridcolor": "#506784",
            "linecolor": "#506784",
            "ticks": ""
           },
           "radialaxis": {
            "gridcolor": "#506784",
            "linecolor": "#506784",
            "ticks": ""
           }
          },
          "ternary": {
           "bgcolor": "rgb(17,17,17)",
           "aaxis": {
            "gridcolor": "#506784",
            "linecolor": "#506784",
            "ticks": ""
           },
           "baxis": {
            "gridcolor": "#506784",
            "linecolor": "#506784",
            "ticks": ""
           },
           "caxis": {
            "gridcolor": "#506784",
            "linecolor": "#506784",
            "ticks": ""
           }
          },
          "coloraxis": {
           "colorbar": {
            "outlinewidth": 0,
            "ticks": ""
           }
          },
          "colorscale": {
           "sequential": [
            [
             0.0,
             "#0d0887"
            ],
            [
             0.1111111111111111,
             "#46039f"
            ],
            [
             0.2222222222222222,
             "#7201a8"
            ],
            [
             0.3333333333333333,
             "#9c179e"
            ],
            [
             0.4444444444444444,
             "#bd3786"
            ],
            [
             0.5555555555555556,
             "#d8576b"
            ],
            [
             0.6666666666666666,
             "#ed7953"
            ],
            [
             0.7777777777777778,
             "#fb9f3a"
            ],
            [
             0.8888888888888888,
             "#fdca26"
            ],
            [
             1.0,
             "#f0f921"
            ]
           ],
           "sequentialminus": [
            [
             0.0,
             "#0d0887"
            ],
            [
             0.1111111111111111,
             "#46039f"
            ],
            [
             0.2222222222222222,
             "#7201a8"
            ],
            [
             0.3333333333333333,
             "#9c179e"
            ],
            [
             0.4444444444444444,
             "#bd3786"
            ],
            [
             0.5555555555555556,
             "#d8576b"
            ],
            [
             0.6666666666666666,
             "#ed7953"
            ],
            [
             0.7777777777777778,
             "#fb9f3a"
            ],
            [
             0.8888888888888888,
             "#fdca26"
            ],
            [
             1.0,
             "#f0f921"
            ]
           ],
           "diverging": [
            [
             0,
             "#8e0152"
            ],
            [
             0.1,
             "#c51b7d"
            ],
            [
             0.2,
             "#de77ae"
            ],
            [
             0.3,
             "#f1b6da"
            ],
            [
             0.4,
             "#fde0ef"
            ],
            [
             0.5,
             "#f7f7f7"
            ],
            [
             0.6,
             "#e6f5d0"
            ],
            [
             0.7,
             "#b8e186"
            ],
            [
             0.8,
             "#7fbc41"
            ],
            [
             0.9,
             "#4d9221"
            ],
            [
             1,
             "#276419"
            ]
           ]
          },
          "xaxis": {
           "gridcolor": "#283442",
           "linecolor": "#506784",
           "ticks": "",
           "title": {
            "standoff": 15
           },
           "zerolinecolor": "#283442",
           "automargin": true,
           "zerolinewidth": 2
          },
          "yaxis": {
           "gridcolor": "#283442",
           "linecolor": "#506784",
           "ticks": "",
           "title": {
            "standoff": 15
           },
           "zerolinecolor": "#283442",
           "automargin": true,
           "zerolinewidth": 2
          },
          "scene": {
           "xaxis": {
            "backgroundcolor": "rgb(17,17,17)",
            "gridcolor": "#506784",
            "linecolor": "#506784",
            "showbackground": true,
            "ticks": "",
            "zerolinecolor": "#C8D4E3",
            "gridwidth": 2
           },
           "yaxis": {
            "backgroundcolor": "rgb(17,17,17)",
            "gridcolor": "#506784",
            "linecolor": "#506784",
            "showbackground": true,
            "ticks": "",
            "zerolinecolor": "#C8D4E3",
            "gridwidth": 2
           },
           "zaxis": {
            "backgroundcolor": "rgb(17,17,17)",
            "gridcolor": "#506784",
            "linecolor": "#506784",
            "showbackground": true,
            "ticks": "",
            "zerolinecolor": "#C8D4E3",
            "gridwidth": 2
           }
          },
          "shapedefaults": {
           "line": {
            "color": "#f2f5fa"
           }
          },
          "annotationdefaults": {
           "arrowcolor": "#f2f5fa",
           "arrowhead": 0,
           "arrowwidth": 1
          },
          "geo": {
           "bgcolor": "rgb(17,17,17)",
           "landcolor": "rgb(17,17,17)",
           "subunitcolor": "#506784",
           "showland": true,
           "showlakes": true,
           "lakecolor": "rgb(17,17,17)"
          },
          "title": {
           "x": 0.05
          },
          "updatemenudefaults": {
           "bgcolor": "#506784",
           "borderwidth": 0
          },
          "sliderdefaults": {
           "bgcolor": "#C8D4E3",
           "borderwidth": 1,
           "bordercolor": "rgb(17,17,17)",
           "tickwidth": 0
          },
          "mapbox": {
           "style": "dark"
          }
         }
        },
        "xaxis": {
         "anchor": "y",
         "domain": [
          0.0,
          1.0
         ],
         "title": {
          "text": "Month"
         }
        },
        "yaxis": {
         "anchor": "x",
         "domain": [
          0.0,
          1.0
         ],
         "title": {
          "text": "Nb of Article"
         }
        },
        "coloraxis": {
         "colorbar": {
          "title": {
           "text": "Nb of Article"
          }
         },
         "colorscale": [
          [
           0.0,
           "rgb(253, 237, 176)"
          ],
          [
           0.09090909090909091,
           "rgb(250, 205, 145)"
          ],
          [
           0.18181818181818182,
           "rgb(246, 173, 119)"
          ],
          [
           0.2727272727272727,
           "rgb(240, 142, 98)"
          ],
          [
           0.36363636363636365,
           "rgb(231, 109, 84)"
          ],
          [
           0.45454545454545453,
           "rgb(216, 80, 83)"
          ],
          [
           0.5454545454545454,
           "rgb(195, 56, 90)"
          ],
          [
           0.6363636363636364,
           "rgb(168, 40, 96)"
          ],
          [
           0.7272727272727273,
           "rgb(138, 29, 99)"
          ],
          [
           0.8181818181818182,
           "rgb(107, 24, 93)"
          ],
          [
           0.9090909090909091,
           "rgb(76, 21, 80)"
          ],
          [
           1.0,
           "rgb(47, 15, 61)"
          ]
         ]
        },
        "legend": {
         "tracegroupgap": 0
        },
        "margin": {
         "t": 60
        },
        "barmode": "relative"
       },
       "config": {
        "plotlyServerURL": "https://plot.ly"
       }
      },
      "text/html": "<div>                            <div id=\"517d5b08-02fa-4d06-b976-6a85033e6d88\" class=\"plotly-graph-div\" style=\"height:525px; width:100%;\"></div>            <script type=\"text/javascript\">                require([\"plotly\"], function(Plotly) {                    window.PLOTLYENV=window.PLOTLYENV || {};                                    if (document.getElementById(\"517d5b08-02fa-4d06-b976-6a85033e6d88\")) {                    Plotly.newPlot(                        \"517d5b08-02fa-4d06-b976-6a85033e6d88\",                        [{\"alignmentgroup\":\"True\",\"hovertemplate\":\"Month=%{x}<br>Nb of Article=%{marker.color}<extra></extra>\",\"legendgroup\":\"\",\"marker\":{\"color\":[104,4023,3774,3911,3683,3743,3545,3847,3438,3960,4187,3911,3742,3695,3650,3727,3391,3510,3588,3596,3465,3708,3669,3648,3425,3674,3457,3562,2898,2953,3249,3217,3091,3262,3554,3238,3017],\"coloraxis\":\"coloraxis\",\"pattern\":{\"shape\":\"\"}},\"name\":\"\",\"offsetgroup\":\"\",\"orientation\":\"v\",\"showlegend\":false,\"textposition\":\"auto\",\"x\":[\"2018-12\",\"2019-01\",\"2019-02\",\"2019-03\",\"2019-04\",\"2019-05\",\"2019-06\",\"2019-07\",\"2019-08\",\"2019-09\",\"2019-10\",\"2019-11\",\"2019-12\",\"2020-01\",\"2020-02\",\"2020-03\",\"2020-04\",\"2020-05\",\"2020-06\",\"2020-07\",\"2020-08\",\"2020-09\",\"2020-10\",\"2020-11\",\"2020-12\",\"2021-01\",\"2021-02\",\"2021-03\",\"2021-04\",\"2021-05\",\"2021-06\",\"2021-07\",\"2021-08\",\"2021-09\",\"2021-10\",\"2021-11\",\"2021-12\"],\"xaxis\":\"x\",\"y\":[104,4023,3774,3911,3683,3743,3545,3847,3438,3960,4187,3911,3742,3695,3650,3727,3391,3510,3588,3596,3465,3708,3669,3648,3425,3674,3457,3562,2898,2953,3249,3217,3091,3262,3554,3238,3017],\"yaxis\":\"y\",\"type\":\"bar\"}],                        {\"template\":{\"data\":{\"histogram2dcontour\":[{\"type\":\"histogram2dcontour\",\"colorbar\":{\"outlinewidth\":0,\"ticks\":\"\"},\"colorscale\":[[0.0,\"#0d0887\"],[0.1111111111111111,\"#46039f\"],[0.2222222222222222,\"#7201a8\"],[0.3333333333333333,\"#9c179e\"],[0.4444444444444444,\"#bd3786\"],[0.5555555555555556,\"#d8576b\"],[0.6666666666666666,\"#ed7953\"],[0.7777777777777778,\"#fb9f3a\"],[0.8888888888888888,\"#fdca26\"],[1.0,\"#f0f921\"]]}],\"choropleth\":[{\"type\":\"choropleth\",\"colorbar\":{\"outlinewidth\":0,\"ticks\":\"\"}}],\"histogram2d\":[{\"type\":\"histogram2d\",\"colorbar\":{\"outlinewidth\":0,\"ticks\":\"\"},\"colorscale\":[[0.0,\"#0d0887\"],[0.1111111111111111,\"#46039f\"],[0.2222222222222222,\"#7201a8\"],[0.3333333333333333,\"#9c179e\"],[0.4444444444444444,\"#bd3786\"],[0.5555555555555556,\"#d8576b\"],[0.6666666666666666,\"#ed7953\"],[0.7777777777777778,\"#fb9f3a\"],[0.8888888888888888,\"#fdca26\"],[1.0,\"#f0f921\"]]}],\"heatmap\":[{\"type\":\"heatmap\",\"colorbar\":{\"outlinewidth\":0,\"ticks\":\"\"},\"colorscale\":[[0.0,\"#0d0887\"],[0.1111111111111111,\"#46039f\"],[0.2222222222222222,\"#7201a8\"],[0.3333333333333333,\"#9c179e\"],[0.4444444444444444,\"#bd3786\"],[0.5555555555555556,\"#d8576b\"],[0.6666666666666666,\"#ed7953\"],[0.7777777777777778,\"#fb9f3a\"],[0.8888888888888888,\"#fdca26\"],[1.0,\"#f0f921\"]]}],\"heatmapgl\":[{\"type\":\"heatmapgl\",\"colorbar\":{\"outlinewidth\":0,\"ticks\":\"\"},\"colorscale\":[[0.0,\"#0d0887\"],[0.1111111111111111,\"#46039f\"],[0.2222222222222222,\"#7201a8\"],[0.3333333333333333,\"#9c179e\"],[0.4444444444444444,\"#bd3786\"],[0.5555555555555556,\"#d8576b\"],[0.6666666666666666,\"#ed7953\"],[0.7777777777777778,\"#fb9f3a\"],[0.8888888888888888,\"#fdca26\"],[1.0,\"#f0f921\"]]}],\"contourcarpet\":[{\"type\":\"contourcarpet\",\"colorbar\":{\"outlinewidth\":0,\"ticks\":\"\"}}],\"contour\":[{\"type\":\"contour\",\"colorbar\":{\"outlinewidth\":0,\"ticks\":\"\"},\"colorscale\":[[0.0,\"#0d0887\"],[0.1111111111111111,\"#46039f\"],[0.2222222222222222,\"#7201a8\"],[0.3333333333333333,\"#9c179e\"],[0.4444444444444444,\"#bd3786\"],[0.5555555555555556,\"#d8576b\"],[0.6666666666666666,\"#ed7953\"],[0.7777777777777778,\"#fb9f3a\"],[0.8888888888888888,\"#fdca26\"],[1.0,\"#f0f921\"]]}],\"surface\":[{\"type\":\"surface\",\"colorbar\":{\"outlinewidth\":0,\"ticks\":\"\"},\"colorscale\":[[0.0,\"#0d0887\"],[0.1111111111111111,\"#46039f\"],[0.2222222222222222,\"#7201a8\"],[0.3333333333333333,\"#9c179e\"],[0.4444444444444444,\"#bd3786\"],[0.5555555555555556,\"#d8576b\"],[0.6666666666666666,\"#ed7953\"],[0.7777777777777778,\"#fb9f3a\"],[0.8888888888888888,\"#fdca26\"],[1.0,\"#f0f921\"]]}],\"mesh3d\":[{\"type\":\"mesh3d\",\"colorbar\":{\"outlinewidth\":0,\"ticks\":\"\"}}],\"scatter\":[{\"marker\":{\"line\":{\"color\":\"#283442\"}},\"type\":\"scatter\"}],\"parcoords\":[{\"type\":\"parcoords\",\"line\":{\"colorbar\":{\"outlinewidth\":0,\"ticks\":\"\"}}}],\"scatterpolargl\":[{\"type\":\"scatterpolargl\",\"marker\":{\"colorbar\":{\"outlinewidth\":0,\"ticks\":\"\"}}}],\"bar\":[{\"error_x\":{\"color\":\"#f2f5fa\"},\"error_y\":{\"color\":\"#f2f5fa\"},\"marker\":{\"line\":{\"color\":\"rgb(17,17,17)\",\"width\":0.5},\"pattern\":{\"fillmode\":\"overlay\",\"size\":10,\"solidity\":0.2}},\"type\":\"bar\"}],\"scattergeo\":[{\"type\":\"scattergeo\",\"marker\":{\"colorbar\":{\"outlinewidth\":0,\"ticks\":\"\"}}}],\"scatterpolar\":[{\"type\":\"scatterpolar\",\"marker\":{\"colorbar\":{\"outlinewidth\":0,\"ticks\":\"\"}}}],\"histogram\":[{\"marker\":{\"pattern\":{\"fillmode\":\"overlay\",\"size\":10,\"solidity\":0.2}},\"type\":\"histogram\"}],\"scattergl\":[{\"marker\":{\"line\":{\"color\":\"#283442\"}},\"type\":\"scattergl\"}],\"scatter3d\":[{\"type\":\"scatter3d\",\"line\":{\"colorbar\":{\"outlinewidth\":0,\"ticks\":\"\"}},\"marker\":{\"colorbar\":{\"outlinewidth\":0,\"ticks\":\"\"}}}],\"scattermapbox\":[{\"type\":\"scattermapbox\",\"marker\":{\"colorbar\":{\"outlinewidth\":0,\"ticks\":\"\"}}}],\"scatterternary\":[{\"type\":\"scatterternary\",\"marker\":{\"colorbar\":{\"outlinewidth\":0,\"ticks\":\"\"}}}],\"scattercarpet\":[{\"type\":\"scattercarpet\",\"marker\":{\"colorbar\":{\"outlinewidth\":0,\"ticks\":\"\"}}}],\"carpet\":[{\"aaxis\":{\"endlinecolor\":\"#A2B1C6\",\"gridcolor\":\"#506784\",\"linecolor\":\"#506784\",\"minorgridcolor\":\"#506784\",\"startlinecolor\":\"#A2B1C6\"},\"baxis\":{\"endlinecolor\":\"#A2B1C6\",\"gridcolor\":\"#506784\",\"linecolor\":\"#506784\",\"minorgridcolor\":\"#506784\",\"startlinecolor\":\"#A2B1C6\"},\"type\":\"carpet\"}],\"table\":[{\"cells\":{\"fill\":{\"color\":\"#506784\"},\"line\":{\"color\":\"rgb(17,17,17)\"}},\"header\":{\"fill\":{\"color\":\"#2a3f5f\"},\"line\":{\"color\":\"rgb(17,17,17)\"}},\"type\":\"table\"}],\"barpolar\":[{\"marker\":{\"line\":{\"color\":\"rgb(17,17,17)\",\"width\":0.5},\"pattern\":{\"fillmode\":\"overlay\",\"size\":10,\"solidity\":0.2}},\"type\":\"barpolar\"}],\"pie\":[{\"automargin\":true,\"type\":\"pie\"}]},\"layout\":{\"autotypenumbers\":\"strict\",\"colorway\":[\"#636efa\",\"#EF553B\",\"#00cc96\",\"#ab63fa\",\"#FFA15A\",\"#19d3f3\",\"#FF6692\",\"#B6E880\",\"#FF97FF\",\"#FECB52\"],\"font\":{\"color\":\"#f2f5fa\"},\"hovermode\":\"closest\",\"hoverlabel\":{\"align\":\"left\"},\"paper_bgcolor\":\"rgb(17,17,17)\",\"plot_bgcolor\":\"rgb(17,17,17)\",\"polar\":{\"bgcolor\":\"rgb(17,17,17)\",\"angularaxis\":{\"gridcolor\":\"#506784\",\"linecolor\":\"#506784\",\"ticks\":\"\"},\"radialaxis\":{\"gridcolor\":\"#506784\",\"linecolor\":\"#506784\",\"ticks\":\"\"}},\"ternary\":{\"bgcolor\":\"rgb(17,17,17)\",\"aaxis\":{\"gridcolor\":\"#506784\",\"linecolor\":\"#506784\",\"ticks\":\"\"},\"baxis\":{\"gridcolor\":\"#506784\",\"linecolor\":\"#506784\",\"ticks\":\"\"},\"caxis\":{\"gridcolor\":\"#506784\",\"linecolor\":\"#506784\",\"ticks\":\"\"}},\"coloraxis\":{\"colorbar\":{\"outlinewidth\":0,\"ticks\":\"\"}},\"colorscale\":{\"sequential\":[[0.0,\"#0d0887\"],[0.1111111111111111,\"#46039f\"],[0.2222222222222222,\"#7201a8\"],[0.3333333333333333,\"#9c179e\"],[0.4444444444444444,\"#bd3786\"],[0.5555555555555556,\"#d8576b\"],[0.6666666666666666,\"#ed7953\"],[0.7777777777777778,\"#fb9f3a\"],[0.8888888888888888,\"#fdca26\"],[1.0,\"#f0f921\"]],\"sequentialminus\":[[0.0,\"#0d0887\"],[0.1111111111111111,\"#46039f\"],[0.2222222222222222,\"#7201a8\"],[0.3333333333333333,\"#9c179e\"],[0.4444444444444444,\"#bd3786\"],[0.5555555555555556,\"#d8576b\"],[0.6666666666666666,\"#ed7953\"],[0.7777777777777778,\"#fb9f3a\"],[0.8888888888888888,\"#fdca26\"],[1.0,\"#f0f921\"]],\"diverging\":[[0,\"#8e0152\"],[0.1,\"#c51b7d\"],[0.2,\"#de77ae\"],[0.3,\"#f1b6da\"],[0.4,\"#fde0ef\"],[0.5,\"#f7f7f7\"],[0.6,\"#e6f5d0\"],[0.7,\"#b8e186\"],[0.8,\"#7fbc41\"],[0.9,\"#4d9221\"],[1,\"#276419\"]]},\"xaxis\":{\"gridcolor\":\"#283442\",\"linecolor\":\"#506784\",\"ticks\":\"\",\"title\":{\"standoff\":15},\"zerolinecolor\":\"#283442\",\"automargin\":true,\"zerolinewidth\":2},\"yaxis\":{\"gridcolor\":\"#283442\",\"linecolor\":\"#506784\",\"ticks\":\"\",\"title\":{\"standoff\":15},\"zerolinecolor\":\"#283442\",\"automargin\":true,\"zerolinewidth\":2},\"scene\":{\"xaxis\":{\"backgroundcolor\":\"rgb(17,17,17)\",\"gridcolor\":\"#506784\",\"linecolor\":\"#506784\",\"showbackground\":true,\"ticks\":\"\",\"zerolinecolor\":\"#C8D4E3\",\"gridwidth\":2},\"yaxis\":{\"backgroundcolor\":\"rgb(17,17,17)\",\"gridcolor\":\"#506784\",\"linecolor\":\"#506784\",\"showbackground\":true,\"ticks\":\"\",\"zerolinecolor\":\"#C8D4E3\",\"gridwidth\":2},\"zaxis\":{\"backgroundcolor\":\"rgb(17,17,17)\",\"gridcolor\":\"#506784\",\"linecolor\":\"#506784\",\"showbackground\":true,\"ticks\":\"\",\"zerolinecolor\":\"#C8D4E3\",\"gridwidth\":2}},\"shapedefaults\":{\"line\":{\"color\":\"#f2f5fa\"}},\"annotationdefaults\":{\"arrowcolor\":\"#f2f5fa\",\"arrowhead\":0,\"arrowwidth\":1},\"geo\":{\"bgcolor\":\"rgb(17,17,17)\",\"landcolor\":\"rgb(17,17,17)\",\"subunitcolor\":\"#506784\",\"showland\":true,\"showlakes\":true,\"lakecolor\":\"rgb(17,17,17)\"},\"title\":{\"x\":0.05},\"updatemenudefaults\":{\"bgcolor\":\"#506784\",\"borderwidth\":0},\"sliderdefaults\":{\"bgcolor\":\"#C8D4E3\",\"borderwidth\":1,\"bordercolor\":\"rgb(17,17,17)\",\"tickwidth\":0},\"mapbox\":{\"style\":\"dark\"}}},\"xaxis\":{\"anchor\":\"y\",\"domain\":[0.0,1.0],\"title\":{\"text\":\"Month\"}},\"yaxis\":{\"anchor\":\"x\",\"domain\":[0.0,1.0],\"title\":{\"text\":\"Nb of Article\"}},\"coloraxis\":{\"colorbar\":{\"title\":{\"text\":\"Nb of Article\"}},\"colorscale\":[[0.0,\"rgb(253, 237, 176)\"],[0.09090909090909091,\"rgb(250, 205, 145)\"],[0.18181818181818182,\"rgb(246, 173, 119)\"],[0.2727272727272727,\"rgb(240, 142, 98)\"],[0.36363636363636365,\"rgb(231, 109, 84)\"],[0.45454545454545453,\"rgb(216, 80, 83)\"],[0.5454545454545454,\"rgb(195, 56, 90)\"],[0.6363636363636364,\"rgb(168, 40, 96)\"],[0.7272727272727273,\"rgb(138, 29, 99)\"],[0.8181818181818182,\"rgb(107, 24, 93)\"],[0.9090909090909091,\"rgb(76, 21, 80)\"],[1.0,\"rgb(47, 15, 61)\"]]},\"legend\":{\"tracegroupgap\":0},\"margin\":{\"t\":60},\"barmode\":\"relative\"},                        {\"responsive\": true}                    ).then(function(){\n                            \nvar gd = document.getElementById('517d5b08-02fa-4d06-b976-6a85033e6d88');\nvar x = new MutationObserver(function (mutations, observer) {{\n        var display = window.getComputedStyle(gd).display;\n        if (!display || display === 'none') {{\n            console.log([gd, 'removed!']);\n            Plotly.purge(gd);\n            observer.disconnect();\n        }}\n}});\n\n// Listen for the removal of the full notebook cells\nvar notebookContainer = gd.closest('#notebook-container');\nif (notebookContainer) {{\n    x.observe(notebookContainer, {childList: true});\n}}\n\n// Listen for the clearing of the current output cell\nvar outputEl = gd.closest('.output');\nif (outputEl) {{\n    x.observe(outputEl, {childList: true});\n}}\n\n                        })                };                });            </script>        </div>"
     },
     "metadata": {},
     "output_type": "display_data"
    }
   ],
   "source": [
    "fig = px.bar(df,x= 'Month', y = 'Nb of Article',color=\"Nb of Article\",color_continuous_scale=px.colors.sequential.matter)\n",
    "fig.show()"
   ]
  },
  {
   "cell_type": "code",
   "execution_count": 16,
   "metadata": {
    "collapsed": false
   },
   "outputs": [],
   "source": [
    "def filterByLocKeyWord(keyWord: str, dicLoc: dict, allLocKey: dict, data: dict) -> None:\n",
    "    data_all = data[\"data-all\"]\n",
    "    for year in data_all:\n",
    "        for month in data_all[year]:\n",
    "            for date in data_all[year][month]:\n",
    "                if keyWord in data_all[year][month][date][0][\"loc\"]:\n",
    "                    # print(f'{year}-{month}-{date}')\n",
    "                    # print(data_all[year][month][date][0][\"title\"])\n",
    "                    # print(data_all[year][month][date][0][\"loc\"])\n",
    "                    for loc in data_all[year][month][date][0][\"loc\"]:\n",
    "                        if  (loc in allLocKey):\n",
    "                            dicLoc[loc] = dicLoc[loc] + 1\n",
    "\n",
    "def filterByLocKeyAndValues(keyWord: str, top9key: list, data_all: dict, d_final, lValues) -> None:\n",
    "    for year in data_all:\n",
    "        for month in data_all[year]:\n",
    "            for date in data_all[year][month]:\n",
    "                for articleN in range(len(data_all[year][month][date])):\n",
    "                    if keyWord in data_all[year][month][date][articleN][\"loc\"]:\n",
    "                        for loc in data_all[year][month][date][articleN][\"loc\"]:\n",
    "                            if loc in top9key:\n",
    "                                kws = data_all[year][month][date][articleN][\"kws\"]\n",
    "                                for k in range(len(lValues)):\n",
    "                                    if lValues[k] in kws:\n",
    "                                        d_final[year][loc][lValues[k]] += kws[lValues[k]]\n",
    "def getLocationKey(allLocKey) -> dict:\n",
    "    dictLoc = dict.fromkeys(list(allLocKey), 0)\n",
    "    return dictLoc\n",
    "\n",
    "\n",
    "def convertTupleToDict(listTuple):\n",
    "    dico = {}\n",
    "    for tuple in listTuple:\n",
    "        dico[tuple[0]] = tuple[1]\n",
    "    return dico\n",
    "\n",
    "\n",
    "def cleanDict(dictionary: dictionary) -> dict:    \n",
    "    keys = list(dictionary.keys())\n",
    "    for key in keys:\n",
    "        if dictionary.get(key)==0:\n",
    "            dictionary.pop(key)\n",
    "    sortedTuple = sorted(dictionary.items(), key=lambda x:x[1], reverse=True)\n",
    "    return convertTupleToDict(sortedTuple) \n",
    "\n",
    "def firstElements(dictionary,nb):\n",
    "    sortedTuple = sorted(dictionary.items(), key=lambda x:x[1], reverse=True)\n",
    "    return dict(list(sortedTuple[0: nb+1]))\n",
    "\n",
    "def firstElementsValues(dictionary,nb):\n",
    "    res = []\n",
    "    sortedTuple = sorted(dictionary.items(), key=lambda x:x[1], reverse=True)\n",
    "    for tuples in sortedTuple:\n",
    "        if tuples[1] >= nb:\n",
    "            res.append(tuples)\n",
    "    return dict(list(res))"
   ]
  },
  {
   "cell_type": "code",
   "execution_count": 17,
   "metadata": {},
   "outputs": [
    {
     "name": "stdout",
     "output_type": "stream",
     "text": [
      "{'France': 637, 'Paris': 97, 'États-Unis': 76, 'État': 70, 'Israël': 42, 'Russie': 36, 'Allemagne': 33, 'Algérie': 26, 'Iran': 26, 'Mali': 23, 'Europe': 22, 'Afrique': 20, 'Chine': 17, 'Royaume-Uni': 17, 'Turquie': 16, 'Alger': 16, 'République': 16, 'Sahel': 15, 'Moscou': 14, 'Italie': 14, 'Syrie': 14}\n"
     ]
    }
   ],
   "source": [
    "listOfDict = [] #liste des dictionnaire des localisations apparaissant dans chaque site lorsque l'on parle de la France\n",
    "dictionaryLoc = {} #dictionnaire des localisations apparaissant dans tout les sites lorsque l'on parle de la France\n",
    "\n",
    "for file in os.listdir(\"../all\"):\n",
    "    f = open(f'../all/{file}', 'r', encoding='utf-8')\n",
    "    data = json.loads(f.read())\n",
    "    f.close()\n",
    "\n",
    "    allLocKey = data[\"metadata-all\"][\"fr\"][\"all\"][\"loc\"].keys()\n",
    "    dicLoc = getLocationKey(allLocKey)\n",
    "\n",
    "    filterByLocKeyWord('France', dicLoc, allLocKey, data)\n",
    "    listOfDict.append(dicLoc)\n",
    "\n",
    "    dictionaryLoc = Counter(dictionaryLoc) + Counter(dicLoc)\n",
    "\n",
    "for d in listOfDict:\n",
    "    d = cleanDict(d)\n",
    "\n",
    "top_location = firstElements(dictionaryLoc, 20)\n",
    "print(top_location)"
   ]
  },
  {
   "cell_type": "markdown",
   "metadata": {},
   "source": [
    "## Création des noeuds\n",
    "Nous récupérons ici la liste des localisations ainsi que la liste du nombre de fois ou chaque localisation apparait un article."
   ]
  },
  {
   "cell_type": "code",
   "execution_count": 18,
   "metadata": {
    "collapsed": false
   },
   "outputs": [
    {
     "name": "stdout",
     "output_type": "stream",
     "text": [
      "['France', 'Paris', 'États-Unis', 'État', 'Israël', 'Russie', 'Allemagne', 'Algérie', 'Iran', 'Mali', 'Europe', 'Afrique', 'Chine', 'Royaume-Uni', 'Turquie', 'Alger', 'République', 'Sahel', 'Moscou', 'Italie', 'Syrie']\n",
      "[637, 97, 76, 70, 42, 36, 33, 26, 26, 23, 22, 20, 17, 17, 16, 16, 16, 15, 14, 14, 14]\n"
     ]
    }
   ],
   "source": [
    "nodes = list(top_location.keys())\n",
    "weight = list(top_location.values())\n",
    "print(nodes)\n",
    "print(weight)"
   ]
  },
  {
   "cell_type": "markdown",
   "metadata": {},
   "source": [
    "## Création des arcs entre les noeuds\n",
    "Nous avons décidé de pondérer les arcs par le nombres d'articles où la localisation apparait afin d'obtenir des écarts entre les différents noeuds plus significatif et plus facilement représentables."
   ]
  },
  {
   "cell_type": "code",
   "execution_count": 19,
   "metadata": {
    "collapsed": false
   },
   "outputs": [
    {
     "name": "stdout",
     "output_type": "stream",
     "text": [
      "[('France', 'Paris', 97), ('France', 'États-Unis', 76), ('France', 'État', 70), ('France', 'Israël', 42), ('France', 'Russie', 36), ('France', 'Allemagne', 33), ('France', 'Algérie', 26), ('France', 'Iran', 26), ('France', 'Mali', 23), ('France', 'Europe', 22), ('France', 'Afrique', 20), ('France', 'Chine', 17), ('France', 'Royaume-Uni', 17), ('France', 'Turquie', 16), ('France', 'Alger', 16), ('France', 'République', 16), ('France', 'Sahel', 15), ('France', 'Moscou', 14), ('France', 'Italie', 14), ('France', 'Syrie', 14)]\n"
     ]
    }
   ],
   "source": [
    "edges = [(nodes[0], nodes[k],weight[k]) for k in range(1, len(nodes))]\n",
    "print(edges)"
   ]
  },
  {
   "cell_type": "markdown",
   "metadata": {},
   "source": [
    "## Création du graphe\n",
    "Nous créons finalement un graphe à partir des noeuds et des arcs créés précédement. Plus une localisation est citée dans des articles en lien avec la localisation centrale, plus elle apparait proche de celle-ci sur le graphe. Nous appliquons finalement un gradiant de couleur pour améliorer la lisibilité du graphe."
   ]
  },
  {
   "cell_type": "code",
   "execution_count": 20,
   "metadata": {
    "collapsed": false
   },
   "outputs": [
    {
     "data": {
      "text/plain": "<Figure size 640x480 with 1 Axes>",
      "image/png": "[encoded data removed]"
     },
     "metadata": {},
     "output_type": "display_data"
    }
   ],
   "source": [
    "g = nx.Graph()\n",
    "g.add_weighted_edges_from(edges)\n",
    "g.add_nodes_from(nodes)\n",
    "n_weight = [i for i in weight]\n",
    "n_weight[0] = n_weight[1]+ n_weight[1]/2\n",
    "nx.draw_spring(g,with_labels=True,node_size = 1000,node_color = n_weight,cmap = plt.cm.get_cmap('viridis_r'))"
   ]
  },
  {
   "cell_type": "markdown",
   "metadata": {},
   "source": [
    "## Création d'une fonction récupérant les mots clés en fonction de deux localisations"
   ]
  },
  {
   "cell_type": "code",
   "execution_count": 21,
   "metadata": {},
   "outputs": [
    {
     "name": "stdout",
     "output_type": "stream",
     "text": [
      "     Keywords  Nb of Apparition  Nb Articles  Nb Apparition per Article\n",
      "0        pays              7869         1562                   5.037772\n",
      "1   américain              7377         1563                   4.719770\n",
      "2    français              6280         1463                   4.292550\n",
      "3   président              4795         1260                   3.805556\n",
      "4        état              4411         1298                   3.398305\n",
      "..        ...               ...          ...                        ...\n",
      "95   décision              1060          599                   1.769616\n",
      "96      union              1056          513                   2.058480\n",
      "97       zone              1054          518                   2.034749\n",
      "98     peuple              1045          502                   2.081673\n",
      "99   présence              1045          519                   2.013487\n",
      "\n",
      "[100 rows x 4 columns]\n"
     ]
    }
   ],
   "source": [
    "def getKeywordsByCountries(country1: str, country2: str, data: dict) -> dict:   \n",
    "    dict_kws = {}\n",
    "    dict_apparition = {}\n",
    "    data_all = data[\"data-all\"]\n",
    "    for year in data_all:\n",
    "        for month in data_all[year]:\n",
    "            for date in data_all[year][month]:\n",
    "                for article in data_all[year][month][date]:\n",
    "                    article_location = article[\"loc\"]\n",
    "                    if (country1 in article_location) and (country2 in article_location):\n",
    "                        keywords = article[\"kws\"]\n",
    "                        for kws in keywords:\n",
    "                            if kws in dict_apparition.keys():\n",
    "                                dict_apparition[kws] += 1\n",
    "                            else:\n",
    "                                dict_apparition[kws] = 1\n",
    "                        dict_kws = Counter(dict_kws) + Counter(keywords)\n",
    "    return dict_kws, dict_apparition\n",
    "\n",
    "\n",
    "country1 = list(top_location.keys())[0]\n",
    "country2 = list(top_location.keys())[2]\n",
    "\n",
    "all_kws = {}\n",
    "all_apparition = {}\n",
    "\n",
    "for file in files_name:\n",
    "    f = open(f'../all/{file}', 'r', encoding='utf-8')\n",
    "    data = json.loads(f.read())\n",
    "    f.close()\n",
    "\n",
    "    years = data[\"metadata-all\"][\"fr\"][\"year\"]\n",
    "    dict_kws, dict_apparition = getKeywordsByCountries(country1, country2, data)\n",
    "    all_kws = Counter(all_kws) + Counter(dict_kws)\n",
    "    all_apparition = Counter(all_apparition) + Counter(dict_apparition)\n",
    "\n",
    "top_keywords = firstElements(all_kws, 100)\n",
    "top_keywords.pop(str.lower(country1))\n",
    "top_keywords.pop(str.lower(country2),0)\n",
    "\n",
    "top_apparition = firstElements(all_apparition, 100)\n",
    "top_apparition.pop(str.lower(country1))\n",
    "top_apparition.pop(str.lower(country2),0)\n",
    "\n",
    "df_kws = pd.DataFrame(top_keywords.items(), columns=['Keywords', 'Nb of Apparition'])\n",
    "df_kws['Nb Articles'] = df_kws['Keywords'].map(all_apparition)\n",
    "df_kws['Nb Apparition per Article'] = df_kws['Nb of Apparition'] / df_kws['Nb Articles']\n",
    "df_kws = df_kws.sort_values(by = 'Nb of Apparition', ascending = False)\n",
    "print(df_kws)\n"
   ]
  },
  {
   "cell_type": "markdown",
   "metadata": {},
   "source": [
    "## Création d'un Bar Chart\n",
    "Nous créons ensuite un graphique mettant en avant les mots clés les plus utilisés lorsque l'on parle de deux localisations."
   ]
  },
  {
   "cell_type": "code",
   "execution_count": 22,
   "metadata": {},
   "outputs": [
    {
     "data": {
      "application/vnd.plotly.v1+json": {
       "data": [
        {
         "alignmentgroup": "True",
         "customdata": [
          [
           1562.0,
           5.037772087067862
          ],
          [
           1563.0,
           4.719769673704414
          ],
          [
           1463.0,
           4.29254955570745
          ],
          [
           1260.0,
           3.8055555555555554
          ],
          [
           1298.0,
           3.3983050847457625
          ],
          [
           1019.0,
           3.7968596663395484
          ],
          [
           1126.0,
           3.119893428063943
          ],
          [
           930.0,
           3.513978494623656
          ],
          [
           1039.0,
           3.1357074109720884
          ],
          [
           873.0,
           3.540664375715922
          ],
          [
           838.0,
           3.471360381861575
          ],
          [
           924.0,
           3.0508658008658007
          ],
          [
           1226.0,
           2.2650897226753672
          ],
          [
           575.0,
           4.8017391304347825
          ],
          [
           1071.0,
           2.5014005602240896
          ],
          [
           668.0,
           3.820359281437126
          ],
          [
           627.0,
           3.9984051036682615
          ],
          [
           948.0,
           2.6223628691983123
          ],
          [
           967.0,
           2.5046535677352635
          ],
          [
           782.0,
           3.079283887468031
          ],
          [
           717.0,
           3.312412831241283
          ],
          [
           501.0,
           4.656686626746507
          ],
          [
           979.0,
           2.265577119509704
          ],
          [
           971.0,
           2.263645726055613
          ],
          [
           1027.0,
           2.1382667964946447
          ],
          [
           906.0,
           2.2869757174392937
          ],
          [
           782.0,
           2.612531969309463
          ],
          [
           924.0,
           2.207792207792208
          ],
          [
           904.0,
           2.25
          ],
          [
           872.0,
           2.3096330275229358
          ],
          [
           680.0,
           2.9558823529411766
          ],
          [
           723.0,
           2.704011065006916
          ],
          [
           710.0,
           2.6464788732394364
          ],
          [
           906.0,
           2.066225165562914
          ],
          [
           726.0,
           2.53168044077135
          ],
          [
           836.0,
           2.188995215311005
          ],
          [
           908.0,
           1.9823788546255507
          ],
          [
           683.0,
           2.5988286969253296
          ],
          [
           615.0,
           2.8796747967479677
          ],
          [
           451.0,
           3.920177383592018
          ],
          [
           819.0,
           2.1587301587301586
          ],
          [
           813.0,
           2.146371463714637
          ],
          [
           556.0,
           3.0161870503597124
          ],
          [
           430.0,
           3.7046511627906975
          ],
          [
           742.0,
           2.1132075471698113
          ],
          [
           831.0,
           1.8303249097472925
          ],
          [
           694.0,
           2.1512968299711814
          ],
          [
           609.0,
           2.4466338259441707
          ],
          [
           625.0,
           2.3536
          ],
          [
           447.0,
           3.2885906040268456
          ],
          [
           741.0,
           1.9743589743589745
          ],
          [
           878.0,
           1.6594533029612757
          ],
          [
           778.0,
           1.8496143958868894
          ],
          [
           738.0,
           1.9214092140921408
          ],
          [
           596.0,
           2.3640939597315436
          ],
          [
           745.0,
           1.8859060402684564
          ],
          [
           398.0,
           3.5050251256281406
          ],
          [
           654.0,
           2.099388379204893
          ],
          [
           798.0,
           1.7030075187969924
          ],
          [
           385.0,
           3.449350649350649
          ],
          [
           767.0,
           1.727509778357236
          ],
          [
           621.0,
           2.1288244766505637
          ],
          [
           526.0,
           2.4771863117870723
          ],
          [
           585.0,
           2.1965811965811968
          ],
          [
           350.0,
           3.6685714285714286
          ],
          [
           514.0,
           2.4883268482490273
          ],
          [
           288.0,
           4.4375
          ],
          [
           571.0,
           2.222416812609457
          ],
          [
           421.0,
           3.014251781472684
          ],
          [
           505.0,
           2.504950495049505
          ],
          [
           756.0,
           1.667989417989418
          ],
          [
           786.0,
           1.5966921119592876
          ],
          [
           680.0,
           1.8058823529411765
          ],
          [
           574.0,
           2.1271777003484322
          ],
          [
           565.0,
           2.1415929203539825
          ],
          [
           535.0,
           2.22803738317757
          ],
          [
           503.0,
           2.3618290258449304
          ],
          [
           709.0,
           1.6657263751763047
          ],
          [
           596.0,
           1.9630872483221478
          ],
          [
           706.0,
           1.6458923512747876
          ],
          [
           657.0,
           1.76103500761035
          ],
          [
           531.0,
           2.177024482109228
          ],
          [
           369.0,
           3.102981029810298
          ],
          [
           574.0,
           1.9878048780487805
          ],
          [
           444.0,
           2.5675675675675675
          ],
          [
           599.0,
           1.8814691151919867
          ],
          [
           542.0,
           2.0682656826568264
          ],
          [
           542.0,
           2.047970479704797
          ],
          [
           468.0,
           2.371794871794872
          ],
          [
           677.0,
           1.6395864106351552
          ],
          [
           579.0,
           1.915371329879102
          ],
          [
           515.0,
           2.1184466019417476
          ],
          [
           694.0,
           1.557636887608069
          ],
          [
           682.0,
           1.5806451612903225
          ],
          [
           582.0,
           1.8350515463917525
          ],
          [
           599.0,
           1.7696160267111853
          ],
          [
           513.0,
           2.0584795321637426
          ],
          [
           518.0,
           2.034749034749035
          ],
          [
           502.0,
           2.0816733067729083
          ],
          [
           519.0,
           2.0134874759152215
          ]
         ],
         "hovertemplate": "Keywords=%{x}<br>Nb of Apparition=%{y}<br>Nb Articles=%{customdata[0]}<br>Nb Apparition per Article=%{marker.color}<extra></extra>",
         "legendgroup": "",
         "marker": {
          "color": [
           5.037772087067862,
           4.719769673704414,
           4.29254955570745,
           3.8055555555555554,
           3.3983050847457625,
           3.7968596663395484,
           3.119893428063943,
           3.513978494623656,
           3.1357074109720884,
           3.540664375715922,
           3.471360381861575,
           3.0508658008658007,
           2.2650897226753672,
           4.8017391304347825,
           2.5014005602240896,
           3.820359281437126,
           3.9984051036682615,
           2.6223628691983123,
           2.5046535677352635,
           3.079283887468031,
           3.312412831241283,
           4.656686626746507,
           2.265577119509704,
           2.263645726055613,
           2.1382667964946447,
           2.2869757174392937,
           2.612531969309463,
           2.207792207792208,
           2.25,
           2.3096330275229358,
           2.9558823529411766,
           2.704011065006916,
           2.6464788732394364,
           2.066225165562914,
           2.53168044077135,
           2.188995215311005,
           1.9823788546255507,
           2.5988286969253296,
           2.8796747967479677,
           3.920177383592018,
           2.1587301587301586,
           2.146371463714637,
           3.0161870503597124,
           3.7046511627906975,
           2.1132075471698113,
           1.8303249097472925,
           2.1512968299711814,
           2.4466338259441707,
           2.3536,
           3.2885906040268456,
           1.9743589743589745,
           1.6594533029612757,
           1.8496143958868894,
           1.9214092140921408,
           2.3640939597315436,
           1.8859060402684564,
           3.5050251256281406,
           2.099388379204893,
           1.7030075187969924,
           3.449350649350649,
           1.727509778357236,
           2.1288244766505637,
           2.4771863117870723,
           2.1965811965811968,
           3.6685714285714286,
           2.4883268482490273,
           4.4375,
           2.222416812609457,
           3.014251781472684,
           2.504950495049505,
           1.667989417989418,
           1.5966921119592876,
           1.8058823529411765,
           2.1271777003484322,
           2.1415929203539825,
           2.22803738317757,
           2.3618290258449304,
           1.6657263751763047,
           1.9630872483221478,
           1.6458923512747876,
           1.76103500761035,
           2.177024482109228,
           3.102981029810298,
           1.9878048780487805,
           2.5675675675675675,
           1.8814691151919867,
           2.0682656826568264,
           2.047970479704797,
           2.371794871794872,
           1.6395864106351552,
           1.915371329879102,
           2.1184466019417476,
           1.557636887608069,
           1.5806451612903225,
           1.8350515463917525,
           1.7696160267111853,
           2.0584795321637426,
           2.034749034749035,
           2.0816733067729083,
           2.0134874759152215
          ],
          "coloraxis": "coloraxis",
          "pattern": {
           "shape": ""
          }
         },
         "name": "",
         "offsetgroup": "",
         "orientation": "v",
         "showlegend": false,
         "textposition": "auto",
         "x": [
          "pays",
          "américain",
          "français",
          "président",
          "état",
          "militaire",
          "politique",
          "européen",
          "force",
          "russie",
          "armée",
          "guerre",
          "dernier",
          "iran",
          "grand",
          "russe",
          "trump",
          "gouvernement",
          "ministre",
          "accord",
          "chine",
          "afrique",
          "affaire",
          "monde",
          "nouveau",
          "étranger",
          "région",
          "international",
          "an",
          "sécurité",
          "occidental",
          "macron",
          "europe",
          "année",
          "groupe",
          "washington",
          "jour",
          "défense",
          "source",
          "iranien",
          "national",
          "pari",
          "terroriste",
          "nucléaire",
          "général",
          "question",
          "économique",
          "base",
          "média",
          "otan",
          "cas",
          "face",
          "chef",
          "place",
          "arme",
          "situation",
          "israël",
          "droit",
          "fois",
          "syrie",
          "fin",
          "crise",
          "population",
          "opération",
          "africain",
          "sputnik",
          "mali",
          "allemagne",
          "chinois",
          "système",
          "partie",
          "part",
          "intérêt",
          "rapport",
          "mondial",
          "projet",
          "attaque",
          "mois",
          "membre",
          "temps",
          "mesure",
          "million",
          "élection",
          "homme",
          "sanction",
          "puissance",
          "personne",
          "relation",
          "milliard",
          "important",
          "information",
          "nord",
          "point",
          "côté",
          "ancien",
          "décision",
          "union",
          "zone",
          "peuple",
          "présence"
         ],
         "xaxis": "x",
         "y": [
          7869,
          7377,
          6280,
          4795,
          4411,
          3869,
          3513,
          3268,
          3258,
          3091,
          2909,
          2819,
          2777,
          2761,
          2679,
          2552,
          2507,
          2486,
          2422,
          2408,
          2375,
          2333,
          2218,
          2198,
          2196,
          2072,
          2043,
          2040,
          2034,
          2014,
          2010,
          1955,
          1879,
          1872,
          1838,
          1830,
          1800,
          1775,
          1771,
          1768,
          1768,
          1745,
          1677,
          1593,
          1568,
          1521,
          1493,
          1490,
          1471,
          1470,
          1463,
          1457,
          1439,
          1418,
          1409,
          1405,
          1395,
          1373,
          1359,
          1328,
          1325,
          1322,
          1303,
          1285,
          1284,
          1279,
          1278,
          1269,
          1269,
          1265,
          1261,
          1255,
          1228,
          1221,
          1210,
          1192,
          1188,
          1181,
          1170,
          1162,
          1157,
          1156,
          1145,
          1141,
          1140,
          1127,
          1121,
          1110,
          1110,
          1110,
          1109,
          1091,
          1081,
          1078,
          1068,
          1060,
          1056,
          1054,
          1045,
          1045
         ],
         "yaxis": "y",
         "type": "bar"
        }
       ],
       "layout": {
        "template": {
         "data": {
          "histogram2dcontour": [
           {
            "type": "histogram2dcontour",
            "colorbar": {
             "outlinewidth": 0,
             "ticks": ""
            },
            "colorscale": [
             [
              0.0,
              "#0d0887"
             ],
             [
              0.1111111111111111,
              "#46039f"
             ],
             [
              0.2222222222222222,
              "#7201a8"
             ],
             [
              0.3333333333333333,
              "#9c179e"
             ],
             [
              0.4444444444444444,
              "#bd3786"
             ],
             [
              0.5555555555555556,
              "#d8576b"
             ],
             [
              0.6666666666666666,
              "#ed7953"
             ],
             [
              0.7777777777777778,
              "#fb9f3a"
             ],
             [
              0.8888888888888888,
              "#fdca26"
             ],
             [
              1.0,
              "#f0f921"
             ]
            ]
           }
          ],
          "choropleth": [
           {
            "type": "choropleth",
            "colorbar": {
             "outlinewidth": 0,
             "ticks": ""
            }
           }
          ],
          "histogram2d": [
           {
            "type": "histogram2d",
            "colorbar": {
             "outlinewidth": 0,
             "ticks": ""
            },
            "colorscale": [
             [
              0.0,
              "#0d0887"
             ],
             [
              0.1111111111111111,
              "#46039f"
             ],
             [
              0.2222222222222222,
              "#7201a8"
             ],
             [
              0.3333333333333333,
              "#9c179e"
             ],
             [
              0.4444444444444444,
              "#bd3786"
             ],
             [
              0.5555555555555556,
              "#d8576b"
             ],
             [
              0.6666666666666666,
              "#ed7953"
             ],
             [
              0.7777777777777778,
              "#fb9f3a"
             ],
             [
              0.8888888888888888,
              "#fdca26"
             ],
             [
              1.0,
              "#f0f921"
             ]
            ]
           }
          ],
          "heatmap": [
           {
            "type": "heatmap",
            "colorbar": {
             "outlinewidth": 0,
             "ticks": ""
            },
            "colorscale": [
             [
              0.0,
              "#0d0887"
             ],
             [
              0.1111111111111111,
              "#46039f"
             ],
             [
              0.2222222222222222,
              "#7201a8"
             ],
             [
              0.3333333333333333,
              "#9c179e"
             ],
             [
              0.4444444444444444,
              "#bd3786"
             ],
             [
              0.5555555555555556,
              "#d8576b"
             ],
             [
              0.6666666666666666,
              "#ed7953"
             ],
             [
              0.7777777777777778,
              "#fb9f3a"
             ],
             [
              0.8888888888888888,
              "#fdca26"
             ],
             [
              1.0,
              "#f0f921"
             ]
            ]
           }
          ],
          "heatmapgl": [
           {
            "type": "heatmapgl",
            "colorbar": {
             "outlinewidth": 0,
             "ticks": ""
            },
            "colorscale": [
             [
              0.0,
              "#0d0887"
             ],
             [
              0.1111111111111111,
              "#46039f"
             ],
             [
              0.2222222222222222,
              "#7201a8"
             ],
             [
              0.3333333333333333,
              "#9c179e"
             ],
             [
              0.4444444444444444,
              "#bd3786"
             ],
             [
              0.5555555555555556,
              "#d8576b"
             ],
             [
              0.6666666666666666,
              "#ed7953"
             ],
             [
              0.7777777777777778,
              "#fb9f3a"
             ],
             [
              0.8888888888888888,
              "#fdca26"
             ],
             [
              1.0,
              "#f0f921"
             ]
            ]
           }
          ],
          "contourcarpet": [
           {
            "type": "contourcarpet",
            "colorbar": {
             "outlinewidth": 0,
             "ticks": ""
            }
           }
          ],
          "contour": [
           {
            "type": "contour",
            "colorbar": {
             "outlinewidth": 0,
             "ticks": ""
            },
            "colorscale": [
             [
              0.0,
              "#0d0887"
             ],
             [
              0.1111111111111111,
              "#46039f"
             ],
             [
              0.2222222222222222,
              "#7201a8"
             ],
             [
              0.3333333333333333,
              "#9c179e"
             ],
             [
              0.4444444444444444,
              "#bd3786"
             ],
             [
              0.5555555555555556,
              "#d8576b"
             ],
             [
              0.6666666666666666,
              "#ed7953"
             ],
             [
              0.7777777777777778,
              "#fb9f3a"
             ],
             [
              0.8888888888888888,
              "#fdca26"
             ],
             [
              1.0,
              "#f0f921"
             ]
            ]
           }
          ],
          "surface": [
           {
            "type": "surface",
            "colorbar": {
             "outlinewidth": 0,
             "ticks": ""
            },
            "colorscale": [
             [
              0.0,
              "#0d0887"
             ],
             [
              0.1111111111111111,
              "#46039f"
             ],
             [
              0.2222222222222222,
              "#7201a8"
             ],
             [
              0.3333333333333333,
              "#9c179e"
             ],
             [
              0.4444444444444444,
              "#bd3786"
             ],
             [
              0.5555555555555556,
              "#d8576b"
             ],
             [
              0.6666666666666666,
              "#ed7953"
             ],
             [
              0.7777777777777778,
              "#fb9f3a"
             ],
             [
              0.8888888888888888,
              "#fdca26"
             ],
             [
              1.0,
              "#f0f921"
             ]
            ]
           }
          ],
          "mesh3d": [
           {
            "type": "mesh3d",
            "colorbar": {
             "outlinewidth": 0,
             "ticks": ""
            }
           }
          ],
          "scatter": [
           {
            "marker": {
             "line": {
              "color": "#283442"
             }
            },
            "type": "scatter"
           }
          ],
          "parcoords": [
           {
            "type": "parcoords",
            "line": {
             "colorbar": {
              "outlinewidth": 0,
              "ticks": ""
             }
            }
           }
          ],
          "scatterpolargl": [
           {
            "type": "scatterpolargl",
            "marker": {
             "colorbar": {
              "outlinewidth": 0,
              "ticks": ""
             }
            }
           }
          ],
          "bar": [
           {
            "error_x": {
             "color": "#f2f5fa"
            },
            "error_y": {
             "color": "#f2f5fa"
            },
            "marker": {
             "line": {
              "color": "rgb(17,17,17)",
              "width": 0.5
             },
             "pattern": {
              "fillmode": "overlay",
              "size": 10,
              "solidity": 0.2
             }
            },
            "type": "bar"
           }
          ],
          "scattergeo": [
           {
            "type": "scattergeo",
            "marker": {
             "colorbar": {
              "outlinewidth": 0,
              "ticks": ""
             }
            }
           }
          ],
          "scatterpolar": [
           {
            "type": "scatterpolar",
            "marker": {
             "colorbar": {
              "outlinewidth": 0,
              "ticks": ""
             }
            }
           }
          ],
          "histogram": [
           {
            "marker": {
             "pattern": {
              "fillmode": "overlay",
              "size": 10,
              "solidity": 0.2
             }
            },
            "type": "histogram"
           }
          ],
          "scattergl": [
           {
            "marker": {
             "line": {
              "color": "#283442"
             }
            },
            "type": "scattergl"
           }
          ],
          "scatter3d": [
           {
            "type": "scatter3d",
            "line": {
             "colorbar": {
              "outlinewidth": 0,
              "ticks": ""
             }
            },
            "marker": {
             "colorbar": {
              "outlinewidth": 0,
              "ticks": ""
             }
            }
           }
          ],
          "scattermapbox": [
           {
            "type": "scattermapbox",
            "marker": {
             "colorbar": {
              "outlinewidth": 0,
              "ticks": ""
             }
            }
           }
          ],
          "scatterternary": [
           {
            "type": "scatterternary",
            "marker": {
             "colorbar": {
              "outlinewidth": 0,
              "ticks": ""
             }
            }
           }
          ],
          "scattercarpet": [
           {
            "type": "scattercarpet",
            "marker": {
             "colorbar": {
              "outlinewidth": 0,
              "ticks": ""
             }
            }
           }
          ],
          "carpet": [
           {
            "aaxis": {
             "endlinecolor": "#A2B1C6",
             "gridcolor": "#506784",
             "linecolor": "#506784",
             "minorgridcolor": "#506784",
             "startlinecolor": "#A2B1C6"
            },
            "baxis": {
             "endlinecolor": "#A2B1C6",
             "gridcolor": "#506784",
             "linecolor": "#506784",
             "minorgridcolor": "#506784",
             "startlinecolor": "#A2B1C6"
            },
            "type": "carpet"
           }
          ],
          "table": [
           {
            "cells": {
             "fill": {
              "color": "#506784"
             },
             "line": {
              "color": "rgb(17,17,17)"
             }
            },
            "header": {
             "fill": {
              "color": "#2a3f5f"
             },
             "line": {
              "color": "rgb(17,17,17)"
             }
            },
            "type": "table"
           }
          ],
          "barpolar": [
           {
            "marker": {
             "line": {
              "color": "rgb(17,17,17)",
              "width": 0.5
             },
             "pattern": {
              "fillmode": "overlay",
              "size": 10,
              "solidity": 0.2
             }
            },
            "type": "barpolar"
           }
          ],
          "pie": [
           {
            "automargin": true,
            "type": "pie"
           }
          ]
         },
         "layout": {
          "autotypenumbers": "strict",
          "colorway": [
           "#636efa",
           "#EF553B",
           "#00cc96",
           "#ab63fa",
           "#FFA15A",
           "#19d3f3",
           "#FF6692",
           "#B6E880",
           "#FF97FF",
           "#FECB52"
          ],
          "font": {
           "color": "#f2f5fa"
          },
          "hovermode": "closest",
          "hoverlabel": {
           "align": "left"
          },
          "paper_bgcolor": "rgb(17,17,17)",
          "plot_bgcolor": "rgb(17,17,17)",
          "polar": {
           "bgcolor": "rgb(17,17,17)",
           "angularaxis": {
            "gridcolor": "#506784",
            "linecolor": "#506784",
            "ticks": ""
           },
           "radialaxis": {
            "gridcolor": "#506784",
            "linecolor": "#506784",
            "ticks": ""
           }
          },
          "ternary": {
           "bgcolor": "rgb(17,17,17)",
           "aaxis": {
            "gridcolor": "#506784",
            "linecolor": "#506784",
            "ticks": ""
           },
           "baxis": {
            "gridcolor": "#506784",
            "linecolor": "#506784",
            "ticks": ""
           },
           "caxis": {
            "gridcolor": "#506784",
            "linecolor": "#506784",
            "ticks": ""
           }
          },
          "coloraxis": {
           "colorbar": {
            "outlinewidth": 0,
            "ticks": ""
           }
          },
          "colorscale": {
           "sequential": [
            [
             0.0,
             "#0d0887"
            ],
            [
             0.1111111111111111,
             "#46039f"
            ],
            [
             0.2222222222222222,
             "#7201a8"
            ],
            [
             0.3333333333333333,
             "#9c179e"
            ],
            [
             0.4444444444444444,
             "#bd3786"
            ],
            [
             0.5555555555555556,
             "#d8576b"
            ],
            [
             0.6666666666666666,
             "#ed7953"
            ],
            [
             0.7777777777777778,
             "#fb9f3a"
            ],
            [
             0.8888888888888888,
             "#fdca26"
            ],
            [
             1.0,
             "#f0f921"
            ]
           ],
           "sequentialminus": [
            [
             0.0,
             "#0d0887"
            ],
            [
             0.1111111111111111,
             "#46039f"
            ],
            [
             0.2222222222222222,
             "#7201a8"
            ],
            [
             0.3333333333333333,
             "#9c179e"
            ],
            [
             0.4444444444444444,
             "#bd3786"
            ],
            [
             0.5555555555555556,
             "#d8576b"
            ],
            [
             0.6666666666666666,
             "#ed7953"
            ],
            [
             0.7777777777777778,
             "#fb9f3a"
            ],
            [
             0.8888888888888888,
             "#fdca26"
            ],
            [
             1.0,
             "#f0f921"
            ]
           ],
           "diverging": [
            [
             0,
             "#8e0152"
            ],
            [
             0.1,
             "#c51b7d"
            ],
            [
             0.2,
             "#de77ae"
            ],
            [
             0.3,
             "#f1b6da"
            ],
            [
             0.4,
             "#fde0ef"
            ],
            [
             0.5,
             "#f7f7f7"
            ],
            [
             0.6,
             "#e6f5d0"
            ],
            [
             0.7,
             "#b8e186"
            ],
            [
             0.8,
             "#7fbc41"
            ],
            [
             0.9,
             "#4d9221"
            ],
            [
             1,
             "#276419"
            ]
           ]
          },
          "xaxis": {
           "gridcolor": "#283442",
           "linecolor": "#506784",
           "ticks": "",
           "title": {
            "standoff": 15
           },
           "zerolinecolor": "#283442",
           "automargin": true,
           "zerolinewidth": 2
          },
          "yaxis": {
           "gridcolor": "#283442",
           "linecolor": "#506784",
           "ticks": "",
           "title": {
            "standoff": 15
           },
           "zerolinecolor": "#283442",
           "automargin": true,
           "zerolinewidth": 2
          },
          "scene": {
           "xaxis": {
            "backgroundcolor": "rgb(17,17,17)",
            "gridcolor": "#506784",
            "linecolor": "#506784",
            "showbackground": true,
            "ticks": "",
            "zerolinecolor": "#C8D4E3",
            "gridwidth": 2
           },
           "yaxis": {
            "backgroundcolor": "rgb(17,17,17)",
            "gridcolor": "#506784",
            "linecolor": "#506784",
            "showbackground": true,
            "ticks": "",
            "zerolinecolor": "#C8D4E3",
            "gridwidth": 2
           },
           "zaxis": {
            "backgroundcolor": "rgb(17,17,17)",
            "gridcolor": "#506784",
            "linecolor": "#506784",
            "showbackground": true,
            "ticks": "",
            "zerolinecolor": "#C8D4E3",
            "gridwidth": 2
           }
          },
          "shapedefaults": {
           "line": {
            "color": "#f2f5fa"
           }
          },
          "annotationdefaults": {
           "arrowcolor": "#f2f5fa",
           "arrowhead": 0,
           "arrowwidth": 1
          },
          "geo": {
           "bgcolor": "rgb(17,17,17)",
           "landcolor": "rgb(17,17,17)",
           "subunitcolor": "#506784",
           "showland": true,
           "showlakes": true,
           "lakecolor": "rgb(17,17,17)"
          },
          "title": {
           "x": 0.05
          },
          "updatemenudefaults": {
           "bgcolor": "#506784",
           "borderwidth": 0
          },
          "sliderdefaults": {
           "bgcolor": "#C8D4E3",
           "borderwidth": 1,
           "bordercolor": "rgb(17,17,17)",
           "tickwidth": 0
          },
          "mapbox": {
           "style": "dark"
          }
         }
        },
        "xaxis": {
         "anchor": "y",
         "domain": [
          0.0,
          1.0
         ],
         "title": {
          "text": "Keywords"
         },
         "tickangle": -70
        },
        "yaxis": {
         "anchor": "x",
         "domain": [
          0.0,
          1.0
         ],
         "title": {
          "text": "Nb of Apparition"
         }
        },
        "coloraxis": {
         "colorbar": {
          "title": {
           "text": "Nb Apparition per Article"
          }
         },
         "colorscale": [
          [
           0.0,
           "rgb(253, 237, 176)"
          ],
          [
           0.09090909090909091,
           "rgb(250, 205, 145)"
          ],
          [
           0.18181818181818182,
           "rgb(246, 173, 119)"
          ],
          [
           0.2727272727272727,
           "rgb(240, 142, 98)"
          ],
          [
           0.36363636363636365,
           "rgb(231, 109, 84)"
          ],
          [
           0.45454545454545453,
           "rgb(216, 80, 83)"
          ],
          [
           0.5454545454545454,
           "rgb(195, 56, 90)"
          ],
          [
           0.6363636363636364,
           "rgb(168, 40, 96)"
          ],
          [
           0.7272727272727273,
           "rgb(138, 29, 99)"
          ],
          [
           0.8181818181818182,
           "rgb(107, 24, 93)"
          ],
          [
           0.9090909090909091,
           "rgb(76, 21, 80)"
          ],
          [
           1.0,
           "rgb(47, 15, 61)"
          ]
         ]
        },
        "legend": {
         "tracegroupgap": 0
        },
        "title": {
         "text": "Number of apparition of the most used keywords related France and États-Unis"
        },
        "barmode": "relative"
       },
       "config": {
        "plotlyServerURL": "https://plot.ly"
       }
      },
      "text/html": "<div>                            <div id=\"22cd485a-8620-4203-85b3-2913acf273ee\" class=\"plotly-graph-div\" style=\"height:525px; width:100%;\"></div>            <script type=\"text/javascript\">                require([\"plotly\"], function(Plotly) {                    window.PLOTLYENV=window.PLOTLYENV || {};                                    if (document.getElementById(\"22cd485a-8620-4203-85b3-2913acf273ee\")) {                    Plotly.newPlot(                        \"22cd485a-8620-4203-85b3-2913acf273ee\",                        [{\"alignmentgroup\":\"True\",\"customdata\":[[1562.0,5.037772087067862],[1563.0,4.719769673704414],[1463.0,4.29254955570745],[1260.0,3.8055555555555554],[1298.0,3.3983050847457625],[1019.0,3.7968596663395484],[1126.0,3.119893428063943],[930.0,3.513978494623656],[1039.0,3.1357074109720884],[873.0,3.540664375715922],[838.0,3.471360381861575],[924.0,3.0508658008658007],[1226.0,2.2650897226753672],[575.0,4.8017391304347825],[1071.0,2.5014005602240896],[668.0,3.820359281437126],[627.0,3.9984051036682615],[948.0,2.6223628691983123],[967.0,2.5046535677352635],[782.0,3.079283887468031],[717.0,3.312412831241283],[501.0,4.656686626746507],[979.0,2.265577119509704],[971.0,2.263645726055613],[1027.0,2.1382667964946447],[906.0,2.2869757174392937],[782.0,2.612531969309463],[924.0,2.207792207792208],[904.0,2.25],[872.0,2.3096330275229358],[680.0,2.9558823529411766],[723.0,2.704011065006916],[710.0,2.6464788732394364],[906.0,2.066225165562914],[726.0,2.53168044077135],[836.0,2.188995215311005],[908.0,1.9823788546255507],[683.0,2.5988286969253296],[615.0,2.8796747967479677],[451.0,3.920177383592018],[819.0,2.1587301587301586],[813.0,2.146371463714637],[556.0,3.0161870503597124],[430.0,3.7046511627906975],[742.0,2.1132075471698113],[831.0,1.8303249097472925],[694.0,2.1512968299711814],[609.0,2.4466338259441707],[625.0,2.3536],[447.0,3.2885906040268456],[741.0,1.9743589743589745],[878.0,1.6594533029612757],[778.0,1.8496143958868894],[738.0,1.9214092140921408],[596.0,2.3640939597315436],[745.0,1.8859060402684564],[398.0,3.5050251256281406],[654.0,2.099388379204893],[798.0,1.7030075187969924],[385.0,3.449350649350649],[767.0,1.727509778357236],[621.0,2.1288244766505637],[526.0,2.4771863117870723],[585.0,2.1965811965811968],[350.0,3.6685714285714286],[514.0,2.4883268482490273],[288.0,4.4375],[571.0,2.222416812609457],[421.0,3.014251781472684],[505.0,2.504950495049505],[756.0,1.667989417989418],[786.0,1.5966921119592876],[680.0,1.8058823529411765],[574.0,2.1271777003484322],[565.0,2.1415929203539825],[535.0,2.22803738317757],[503.0,2.3618290258449304],[709.0,1.6657263751763047],[596.0,1.9630872483221478],[706.0,1.6458923512747876],[657.0,1.76103500761035],[531.0,2.177024482109228],[369.0,3.102981029810298],[574.0,1.9878048780487805],[444.0,2.5675675675675675],[599.0,1.8814691151919867],[542.0,2.0682656826568264],[542.0,2.047970479704797],[468.0,2.371794871794872],[677.0,1.6395864106351552],[579.0,1.915371329879102],[515.0,2.1184466019417476],[694.0,1.557636887608069],[682.0,1.5806451612903225],[582.0,1.8350515463917525],[599.0,1.7696160267111853],[513.0,2.0584795321637426],[518.0,2.034749034749035],[502.0,2.0816733067729083],[519.0,2.0134874759152215]],\"hovertemplate\":\"Keywords=%{x}<br>Nb of Apparition=%{y}<br>Nb Articles=%{customdata[0]}<br>Nb Apparition per Article=%{marker.color}<extra></extra>\",\"legendgroup\":\"\",\"marker\":{\"color\":[5.037772087067862,4.719769673704414,4.29254955570745,3.8055555555555554,3.3983050847457625,3.7968596663395484,3.119893428063943,3.513978494623656,3.1357074109720884,3.540664375715922,3.471360381861575,3.0508658008658007,2.2650897226753672,4.8017391304347825,2.5014005602240896,3.820359281437126,3.9984051036682615,2.6223628691983123,2.5046535677352635,3.079283887468031,3.312412831241283,4.656686626746507,2.265577119509704,2.263645726055613,2.1382667964946447,2.2869757174392937,2.612531969309463,2.207792207792208,2.25,2.3096330275229358,2.9558823529411766,2.704011065006916,2.6464788732394364,2.066225165562914,2.53168044077135,2.188995215311005,1.9823788546255507,2.5988286969253296,2.8796747967479677,3.920177383592018,2.1587301587301586,2.146371463714637,3.0161870503597124,3.7046511627906975,2.1132075471698113,1.8303249097472925,2.1512968299711814,2.4466338259441707,2.3536,3.2885906040268456,1.9743589743589745,1.6594533029612757,1.8496143958868894,1.9214092140921408,2.3640939597315436,1.8859060402684564,3.5050251256281406,2.099388379204893,1.7030075187969924,3.449350649350649,1.727509778357236,2.1288244766505637,2.4771863117870723,2.1965811965811968,3.6685714285714286,2.4883268482490273,4.4375,2.222416812609457,3.014251781472684,2.504950495049505,1.667989417989418,1.5966921119592876,1.8058823529411765,2.1271777003484322,2.1415929203539825,2.22803738317757,2.3618290258449304,1.6657263751763047,1.9630872483221478,1.6458923512747876,1.76103500761035,2.177024482109228,3.102981029810298,1.9878048780487805,2.5675675675675675,1.8814691151919867,2.0682656826568264,2.047970479704797,2.371794871794872,1.6395864106351552,1.915371329879102,2.1184466019417476,1.557636887608069,1.5806451612903225,1.8350515463917525,1.7696160267111853,2.0584795321637426,2.034749034749035,2.0816733067729083,2.0134874759152215],\"coloraxis\":\"coloraxis\",\"pattern\":{\"shape\":\"\"}},\"name\":\"\",\"offsetgroup\":\"\",\"orientation\":\"v\",\"showlegend\":false,\"textposition\":\"auto\",\"x\":[\"pays\",\"am\\u00e9ricain\",\"fran\\u00e7ais\",\"pr\\u00e9sident\",\"\\u00e9tat\",\"militaire\",\"politique\",\"europ\\u00e9en\",\"force\",\"russie\",\"arm\\u00e9e\",\"guerre\",\"dernier\",\"iran\",\"grand\",\"russe\",\"trump\",\"gouvernement\",\"ministre\",\"accord\",\"chine\",\"afrique\",\"affaire\",\"monde\",\"nouveau\",\"\\u00e9tranger\",\"r\\u00e9gion\",\"international\",\"an\",\"s\\u00e9curit\\u00e9\",\"occidental\",\"macron\",\"europe\",\"ann\\u00e9e\",\"groupe\",\"washington\",\"jour\",\"d\\u00e9fense\",\"source\",\"iranien\",\"national\",\"pari\",\"terroriste\",\"nucl\\u00e9aire\",\"g\\u00e9n\\u00e9ral\",\"question\",\"\\u00e9conomique\",\"base\",\"m\\u00e9dia\",\"otan\",\"cas\",\"face\",\"chef\",\"place\",\"arme\",\"situation\",\"isra\\u00ebl\",\"droit\",\"fois\",\"syrie\",\"fin\",\"crise\",\"population\",\"op\\u00e9ration\",\"africain\",\"sputnik\",\"mali\",\"allemagne\",\"chinois\",\"syst\\u00e8me\",\"partie\",\"part\",\"int\\u00e9r\\u00eat\",\"rapport\",\"mondial\",\"projet\",\"attaque\",\"mois\",\"membre\",\"temps\",\"mesure\",\"million\",\"\\u00e9lection\",\"homme\",\"sanction\",\"puissance\",\"personne\",\"relation\",\"milliard\",\"important\",\"information\",\"nord\",\"point\",\"c\\u00f4t\\u00e9\",\"ancien\",\"d\\u00e9cision\",\"union\",\"zone\",\"peuple\",\"pr\\u00e9sence\"],\"xaxis\":\"x\",\"y\":[7869,7377,6280,4795,4411,3869,3513,3268,3258,3091,2909,2819,2777,2761,2679,2552,2507,2486,2422,2408,2375,2333,2218,2198,2196,2072,2043,2040,2034,2014,2010,1955,1879,1872,1838,1830,1800,1775,1771,1768,1768,1745,1677,1593,1568,1521,1493,1490,1471,1470,1463,1457,1439,1418,1409,1405,1395,1373,1359,1328,1325,1322,1303,1285,1284,1279,1278,1269,1269,1265,1261,1255,1228,1221,1210,1192,1188,1181,1170,1162,1157,1156,1145,1141,1140,1127,1121,1110,1110,1110,1109,1091,1081,1078,1068,1060,1056,1054,1045,1045],\"yaxis\":\"y\",\"type\":\"bar\"}],                        {\"template\":{\"data\":{\"histogram2dcontour\":[{\"type\":\"histogram2dcontour\",\"colorbar\":{\"outlinewidth\":0,\"ticks\":\"\"},\"colorscale\":[[0.0,\"#0d0887\"],[0.1111111111111111,\"#46039f\"],[0.2222222222222222,\"#7201a8\"],[0.3333333333333333,\"#9c179e\"],[0.4444444444444444,\"#bd3786\"],[0.5555555555555556,\"#d8576b\"],[0.6666666666666666,\"#ed7953\"],[0.7777777777777778,\"#fb9f3a\"],[0.8888888888888888,\"#fdca26\"],[1.0,\"#f0f921\"]]}],\"choropleth\":[{\"type\":\"choropleth\",\"colorbar\":{\"outlinewidth\":0,\"ticks\":\"\"}}],\"histogram2d\":[{\"type\":\"histogram2d\",\"colorbar\":{\"outlinewidth\":0,\"ticks\":\"\"},\"colorscale\":[[0.0,\"#0d0887\"],[0.1111111111111111,\"#46039f\"],[0.2222222222222222,\"#7201a8\"],[0.3333333333333333,\"#9c179e\"],[0.4444444444444444,\"#bd3786\"],[0.5555555555555556,\"#d8576b\"],[0.6666666666666666,\"#ed7953\"],[0.7777777777777778,\"#fb9f3a\"],[0.8888888888888888,\"#fdca26\"],[1.0,\"#f0f921\"]]}],\"heatmap\":[{\"type\":\"heatmap\",\"colorbar\":{\"outlinewidth\":0,\"ticks\":\"\"},\"colorscale\":[[0.0,\"#0d0887\"],[0.1111111111111111,\"#46039f\"],[0.2222222222222222,\"#7201a8\"],[0.3333333333333333,\"#9c179e\"],[0.4444444444444444,\"#bd3786\"],[0.5555555555555556,\"#d8576b\"],[0.6666666666666666,\"#ed7953\"],[0.7777777777777778,\"#fb9f3a\"],[0.8888888888888888,\"#fdca26\"],[1.0,\"#f0f921\"]]}],\"heatmapgl\":[{\"type\":\"heatmapgl\",\"colorbar\":{\"outlinewidth\":0,\"ticks\":\"\"},\"colorscale\":[[0.0,\"#0d0887\"],[0.1111111111111111,\"#46039f\"],[0.2222222222222222,\"#7201a8\"],[0.3333333333333333,\"#9c179e\"],[0.4444444444444444,\"#bd3786\"],[0.5555555555555556,\"#d8576b\"],[0.6666666666666666,\"#ed7953\"],[0.7777777777777778,\"#fb9f3a\"],[0.8888888888888888,\"#fdca26\"],[1.0,\"#f0f921\"]]}],\"contourcarpet\":[{\"type\":\"contourcarpet\",\"colorbar\":{\"outlinewidth\":0,\"ticks\":\"\"}}],\"contour\":[{\"type\":\"contour\",\"colorbar\":{\"outlinewidth\":0,\"ticks\":\"\"},\"colorscale\":[[0.0,\"#0d0887\"],[0.1111111111111111,\"#46039f\"],[0.2222222222222222,\"#7201a8\"],[0.3333333333333333,\"#9c179e\"],[0.4444444444444444,\"#bd3786\"],[0.5555555555555556,\"#d8576b\"],[0.6666666666666666,\"#ed7953\"],[0.7777777777777778,\"#fb9f3a\"],[0.8888888888888888,\"#fdca26\"],[1.0,\"#f0f921\"]]}],\"surface\":[{\"type\":\"surface\",\"colorbar\":{\"outlinewidth\":0,\"ticks\":\"\"},\"colorscale\":[[0.0,\"#0d0887\"],[0.1111111111111111,\"#46039f\"],[0.2222222222222222,\"#7201a8\"],[0.3333333333333333,\"#9c179e\"],[0.4444444444444444,\"#bd3786\"],[0.5555555555555556,\"#d8576b\"],[0.6666666666666666,\"#ed7953\"],[0.7777777777777778,\"#fb9f3a\"],[0.8888888888888888,\"#fdca26\"],[1.0,\"#f0f921\"]]}],\"mesh3d\":[{\"type\":\"mesh3d\",\"colorbar\":{\"outlinewidth\":0,\"ticks\":\"\"}}],\"scatter\":[{\"marker\":{\"line\":{\"color\":\"#283442\"}},\"type\":\"scatter\"}],\"parcoords\":[{\"type\":\"parcoords\",\"line\":{\"colorbar\":{\"outlinewidth\":0,\"ticks\":\"\"}}}],\"scatterpolargl\":[{\"type\":\"scatterpolargl\",\"marker\":{\"colorbar\":{\"outlinewidth\":0,\"ticks\":\"\"}}}],\"bar\":[{\"error_x\":{\"color\":\"#f2f5fa\"},\"error_y\":{\"color\":\"#f2f5fa\"},\"marker\":{\"line\":{\"color\":\"rgb(17,17,17)\",\"width\":0.5},\"pattern\":{\"fillmode\":\"overlay\",\"size\":10,\"solidity\":0.2}},\"type\":\"bar\"}],\"scattergeo\":[{\"type\":\"scattergeo\",\"marker\":{\"colorbar\":{\"outlinewidth\":0,\"ticks\":\"\"}}}],\"scatterpolar\":[{\"type\":\"scatterpolar\",\"marker\":{\"colorbar\":{\"outlinewidth\":0,\"ticks\":\"\"}}}],\"histogram\":[{\"marker\":{\"pattern\":{\"fillmode\":\"overlay\",\"size\":10,\"solidity\":0.2}},\"type\":\"histogram\"}],\"scattergl\":[{\"marker\":{\"line\":{\"color\":\"#283442\"}},\"type\":\"scattergl\"}],\"scatter3d\":[{\"type\":\"scatter3d\",\"line\":{\"colorbar\":{\"outlinewidth\":0,\"ticks\":\"\"}},\"marker\":{\"colorbar\":{\"outlinewidth\":0,\"ticks\":\"\"}}}],\"scattermapbox\":[{\"type\":\"scattermapbox\",\"marker\":{\"colorbar\":{\"outlinewidth\":0,\"ticks\":\"\"}}}],\"scatterternary\":[{\"type\":\"scatterternary\",\"marker\":{\"colorbar\":{\"outlinewidth\":0,\"ticks\":\"\"}}}],\"scattercarpet\":[{\"type\":\"scattercarpet\",\"marker\":{\"colorbar\":{\"outlinewidth\":0,\"ticks\":\"\"}}}],\"carpet\":[{\"aaxis\":{\"endlinecolor\":\"#A2B1C6\",\"gridcolor\":\"#506784\",\"linecolor\":\"#506784\",\"minorgridcolor\":\"#506784\",\"startlinecolor\":\"#A2B1C6\"},\"baxis\":{\"endlinecolor\":\"#A2B1C6\",\"gridcolor\":\"#506784\",\"linecolor\":\"#506784\",\"minorgridcolor\":\"#506784\",\"startlinecolor\":\"#A2B1C6\"},\"type\":\"carpet\"}],\"table\":[{\"cells\":{\"fill\":{\"color\":\"#506784\"},\"line\":{\"color\":\"rgb(17,17,17)\"}},\"header\":{\"fill\":{\"color\":\"#2a3f5f\"},\"line\":{\"color\":\"rgb(17,17,17)\"}},\"type\":\"table\"}],\"barpolar\":[{\"marker\":{\"line\":{\"color\":\"rgb(17,17,17)\",\"width\":0.5},\"pattern\":{\"fillmode\":\"overlay\",\"size\":10,\"solidity\":0.2}},\"type\":\"barpolar\"}],\"pie\":[{\"automargin\":true,\"type\":\"pie\"}]},\"layout\":{\"autotypenumbers\":\"strict\",\"colorway\":[\"#636efa\",\"#EF553B\",\"#00cc96\",\"#ab63fa\",\"#FFA15A\",\"#19d3f3\",\"#FF6692\",\"#B6E880\",\"#FF97FF\",\"#FECB52\"],\"font\":{\"color\":\"#f2f5fa\"},\"hovermode\":\"closest\",\"hoverlabel\":{\"align\":\"left\"},\"paper_bgcolor\":\"rgb(17,17,17)\",\"plot_bgcolor\":\"rgb(17,17,17)\",\"polar\":{\"bgcolor\":\"rgb(17,17,17)\",\"angularaxis\":{\"gridcolor\":\"#506784\",\"linecolor\":\"#506784\",\"ticks\":\"\"},\"radialaxis\":{\"gridcolor\":\"#506784\",\"linecolor\":\"#506784\",\"ticks\":\"\"}},\"ternary\":{\"bgcolor\":\"rgb(17,17,17)\",\"aaxis\":{\"gridcolor\":\"#506784\",\"linecolor\":\"#506784\",\"ticks\":\"\"},\"baxis\":{\"gridcolor\":\"#506784\",\"linecolor\":\"#506784\",\"ticks\":\"\"},\"caxis\":{\"gridcolor\":\"#506784\",\"linecolor\":\"#506784\",\"ticks\":\"\"}},\"coloraxis\":{\"colorbar\":{\"outlinewidth\":0,\"ticks\":\"\"}},\"colorscale\":{\"sequential\":[[0.0,\"#0d0887\"],[0.1111111111111111,\"#46039f\"],[0.2222222222222222,\"#7201a8\"],[0.3333333333333333,\"#9c179e\"],[0.4444444444444444,\"#bd3786\"],[0.5555555555555556,\"#d8576b\"],[0.6666666666666666,\"#ed7953\"],[0.7777777777777778,\"#fb9f3a\"],[0.8888888888888888,\"#fdca26\"],[1.0,\"#f0f921\"]],\"sequentialminus\":[[0.0,\"#0d0887\"],[0.1111111111111111,\"#46039f\"],[0.2222222222222222,\"#7201a8\"],[0.3333333333333333,\"#9c179e\"],[0.4444444444444444,\"#bd3786\"],[0.5555555555555556,\"#d8576b\"],[0.6666666666666666,\"#ed7953\"],[0.7777777777777778,\"#fb9f3a\"],[0.8888888888888888,\"#fdca26\"],[1.0,\"#f0f921\"]],\"diverging\":[[0,\"#8e0152\"],[0.1,\"#c51b7d\"],[0.2,\"#de77ae\"],[0.3,\"#f1b6da\"],[0.4,\"#fde0ef\"],[0.5,\"#f7f7f7\"],[0.6,\"#e6f5d0\"],[0.7,\"#b8e186\"],[0.8,\"#7fbc41\"],[0.9,\"#4d9221\"],[1,\"#276419\"]]},\"xaxis\":{\"gridcolor\":\"#283442\",\"linecolor\":\"#506784\",\"ticks\":\"\",\"title\":{\"standoff\":15},\"zerolinecolor\":\"#283442\",\"automargin\":true,\"zerolinewidth\":2},\"yaxis\":{\"gridcolor\":\"#283442\",\"linecolor\":\"#506784\",\"ticks\":\"\",\"title\":{\"standoff\":15},\"zerolinecolor\":\"#283442\",\"automargin\":true,\"zerolinewidth\":2},\"scene\":{\"xaxis\":{\"backgroundcolor\":\"rgb(17,17,17)\",\"gridcolor\":\"#506784\",\"linecolor\":\"#506784\",\"showbackground\":true,\"ticks\":\"\",\"zerolinecolor\":\"#C8D4E3\",\"gridwidth\":2},\"yaxis\":{\"backgroundcolor\":\"rgb(17,17,17)\",\"gridcolor\":\"#506784\",\"linecolor\":\"#506784\",\"showbackground\":true,\"ticks\":\"\",\"zerolinecolor\":\"#C8D4E3\",\"gridwidth\":2},\"zaxis\":{\"backgroundcolor\":\"rgb(17,17,17)\",\"gridcolor\":\"#506784\",\"linecolor\":\"#506784\",\"showbackground\":true,\"ticks\":\"\",\"zerolinecolor\":\"#C8D4E3\",\"gridwidth\":2}},\"shapedefaults\":{\"line\":{\"color\":\"#f2f5fa\"}},\"annotationdefaults\":{\"arrowcolor\":\"#f2f5fa\",\"arrowhead\":0,\"arrowwidth\":1},\"geo\":{\"bgcolor\":\"rgb(17,17,17)\",\"landcolor\":\"rgb(17,17,17)\",\"subunitcolor\":\"#506784\",\"showland\":true,\"showlakes\":true,\"lakecolor\":\"rgb(17,17,17)\"},\"title\":{\"x\":0.05},\"updatemenudefaults\":{\"bgcolor\":\"#506784\",\"borderwidth\":0},\"sliderdefaults\":{\"bgcolor\":\"#C8D4E3\",\"borderwidth\":1,\"bordercolor\":\"rgb(17,17,17)\",\"tickwidth\":0},\"mapbox\":{\"style\":\"dark\"}}},\"xaxis\":{\"anchor\":\"y\",\"domain\":[0.0,1.0],\"title\":{\"text\":\"Keywords\"},\"tickangle\":-70},\"yaxis\":{\"anchor\":\"x\",\"domain\":[0.0,1.0],\"title\":{\"text\":\"Nb of Apparition\"}},\"coloraxis\":{\"colorbar\":{\"title\":{\"text\":\"Nb Apparition per Article\"}},\"colorscale\":[[0.0,\"rgb(253, 237, 176)\"],[0.09090909090909091,\"rgb(250, 205, 145)\"],[0.18181818181818182,\"rgb(246, 173, 119)\"],[0.2727272727272727,\"rgb(240, 142, 98)\"],[0.36363636363636365,\"rgb(231, 109, 84)\"],[0.45454545454545453,\"rgb(216, 80, 83)\"],[0.5454545454545454,\"rgb(195, 56, 90)\"],[0.6363636363636364,\"rgb(168, 40, 96)\"],[0.7272727272727273,\"rgb(138, 29, 99)\"],[0.8181818181818182,\"rgb(107, 24, 93)\"],[0.9090909090909091,\"rgb(76, 21, 80)\"],[1.0,\"rgb(47, 15, 61)\"]]},\"legend\":{\"tracegroupgap\":0},\"title\":{\"text\":\"Number of apparition of the most used keywords related France and \\u00c9tats-Unis\"},\"barmode\":\"relative\"},                        {\"responsive\": true}                    ).then(function(){\n                            \nvar gd = document.getElementById('22cd485a-8620-4203-85b3-2913acf273ee');\nvar x = new MutationObserver(function (mutations, observer) {{\n        var display = window.getComputedStyle(gd).display;\n        if (!display || display === 'none') {{\n            console.log([gd, 'removed!']);\n            Plotly.purge(gd);\n            observer.disconnect();\n        }}\n}});\n\n// Listen for the removal of the full notebook cells\nvar notebookContainer = gd.closest('#notebook-container');\nif (notebookContainer) {{\n    x.observe(notebookContainer, {childList: true});\n}}\n\n// Listen for the clearing of the current output cell\nvar outputEl = gd.closest('.output');\nif (outputEl) {{\n    x.observe(outputEl, {childList: true});\n}}\n\n                        })                };                });            </script>        </div>"
     },
     "metadata": {},
     "output_type": "display_data"
    }
   ],
   "source": [
    "fig = px.bar(df_kws,title=f'Number of apparition of the most used keywords related {country1} and {country2}',x='Keywords',y='Nb of Apparition',color='Nb Apparition per Article',color_continuous_scale=px.colors.sequential.matter,hover_data=df_kws)\n",
    "fig.update_layout(xaxis_tickangle=-70)\n",
    "fig.show()"
   ]
  },
  {
   "cell_type": "code",
   "execution_count": 23,
   "outputs": [
    {
     "name": "stderr",
     "output_type": "stream",
     "text": [
      "100%|██████████| 4/4 [00:26<00:00,  6.64s/it]\n"
     ]
    }
   ],
   "source": [
    "from tqdm import tqdm\n",
    "\n",
    "data = top_location\n",
    "top10keys = list(data.keys())\n",
    "pivot = top10keys[0]\n",
    "top9key = top10keys[1:]\n",
    "\n",
    "kwsTofilter = [\"armée\", \"juif\"]\n",
    "yearsKey = [\"2018\", \"2019\", \"2020\", \"2021\"]\n",
    "d = defaultdict(lambda: defaultdict(dict))\n",
    "for years in yearsKey:\n",
    "    for loc in top9key:\n",
    "        for kws in kwsTofilter:\n",
    "            d[years][loc][kws] = 0\n",
    "\n",
    "for file in tqdm(os.listdir(\"../all\")):\n",
    "    f = open(f'../all/{file}', 'r', encoding='utf-8')\n",
    "    data = json.loads(f.read())\n",
    "    f.close()\n",
    "\n",
    "    allLocKey = data[\"metadata-all\"][\"fr\"][\"all\"][\"loc\"].keys()\n",
    "    dicLoc = getLocationKey(allLocKey)\n",
    "\n",
    "    data_all = data[\"data-all\"]\n",
    "    filterByLocKeyAndValues(pivot, top9key, data_all, d, kwsTofilter)\n"
   ],
   "metadata": {
    "collapsed": false
   }
  },
  {
   "cell_type": "code",
   "execution_count": 24,
   "outputs": [
    {
     "data": {
      "application/vnd.plotly.v1+json": {
       "data": [
        {
         "hovertemplate": "<b>%{hovertext}</b><br><br>Country=Paris<br>Date=2018<br>armée=%{x}<br>juif=%{y}<br>Size=%{marker.size}<extra></extra>",
         "hovertext": [
          "Paris"
         ],
         "ids": [
          "Paris"
         ],
         "legendgroup": "Paris",
         "marker": {
          "color": "#636efa",
          "size": [
           97
          ],
          "sizemode": "area",
          "sizeref": 0.03206611570247934,
          "symbol": "circle"
         },
         "mode": "markers",
         "name": "Paris",
         "orientation": "v",
         "showlegend": true,
         "x": [
          0
         ],
         "xaxis": "x",
         "y": [
          1
         ],
         "yaxis": "y",
         "type": "scatter"
        },
        {
         "hovertemplate": "<b>%{hovertext}</b><br><br>Country=États-Unis<br>Date=2018<br>armée=%{x}<br>juif=%{y}<br>Size=%{marker.size}<extra></extra>",
         "hovertext": [
          "États-Unis"
         ],
         "ids": [
          "États-Unis"
         ],
         "legendgroup": "États-Unis",
         "marker": {
          "color": "#EF553B",
          "size": [
           76
          ],
          "sizemode": "area",
          "sizeref": 0.03206611570247934,
          "symbol": "circle"
         },
         "mode": "markers",
         "name": "États-Unis",
         "orientation": "v",
         "showlegend": true,
         "x": [
          0
         ],
         "xaxis": "x",
         "y": [
          0
         ],
         "yaxis": "y",
         "type": "scatter"
        },
        {
         "hovertemplate": "<b>%{hovertext}</b><br><br>Country=État<br>Date=2018<br>armée=%{x}<br>juif=%{y}<br>Size=%{marker.size}<extra></extra>",
         "hovertext": [
          "État"
         ],
         "ids": [
          "État"
         ],
         "legendgroup": "État",
         "marker": {
          "color": "#00cc96",
          "size": [
           70
          ],
          "sizemode": "area",
          "sizeref": 0.03206611570247934,
          "symbol": "circle"
         },
         "mode": "markers",
         "name": "État",
         "orientation": "v",
         "showlegend": true,
         "x": [
          0
         ],
         "xaxis": "x",
         "y": [
          0
         ],
         "yaxis": "y",
         "type": "scatter"
        },
        {
         "hovertemplate": "<b>%{hovertext}</b><br><br>Country=Israël<br>Date=2018<br>armée=%{x}<br>juif=%{y}<br>Size=%{marker.size}<extra></extra>",
         "hovertext": [
          "Israël"
         ],
         "ids": [
          "Israël"
         ],
         "legendgroup": "Israël",
         "marker": {
          "color": "#ab63fa",
          "size": [
           42
          ],
          "sizemode": "area",
          "sizeref": 0.03206611570247934,
          "symbol": "circle"
         },
         "mode": "markers",
         "name": "Israël",
         "orientation": "v",
         "showlegend": true,
         "x": [
          0
         ],
         "xaxis": "x",
         "y": [
          0
         ],
         "yaxis": "y",
         "type": "scatter"
        },
        {
         "hovertemplate": "<b>%{hovertext}</b><br><br>Country=Russie<br>Date=2018<br>armée=%{x}<br>juif=%{y}<br>Size=%{marker.size}<extra></extra>",
         "hovertext": [
          "Russie"
         ],
         "ids": [
          "Russie"
         ],
         "legendgroup": "Russie",
         "marker": {
          "color": "#FFA15A",
          "size": [
           36
          ],
          "sizemode": "area",
          "sizeref": 0.03206611570247934,
          "symbol": "circle"
         },
         "mode": "markers",
         "name": "Russie",
         "orientation": "v",
         "showlegend": true,
         "x": [
          0
         ],
         "xaxis": "x",
         "y": [
          0
         ],
         "yaxis": "y",
         "type": "scatter"
        },
        {
         "hovertemplate": "<b>%{hovertext}</b><br><br>Country=Allemagne<br>Date=2018<br>armée=%{x}<br>juif=%{y}<br>Size=%{marker.size}<extra></extra>",
         "hovertext": [
          "Allemagne"
         ],
         "ids": [
          "Allemagne"
         ],
         "legendgroup": "Allemagne",
         "marker": {
          "color": "#19d3f3",
          "size": [
           33
          ],
          "sizemode": "area",
          "sizeref": 0.03206611570247934,
          "symbol": "circle"
         },
         "mode": "markers",
         "name": "Allemagne",
         "orientation": "v",
         "showlegend": true,
         "x": [
          0
         ],
         "xaxis": "x",
         "y": [
          0
         ],
         "yaxis": "y",
         "type": "scatter"
        },
        {
         "hovertemplate": "<b>%{hovertext}</b><br><br>Country=Algérie<br>Date=2018<br>armée=%{x}<br>juif=%{y}<br>Size=%{marker.size}<extra></extra>",
         "hovertext": [
          "Algérie"
         ],
         "ids": [
          "Algérie"
         ],
         "legendgroup": "Algérie",
         "marker": {
          "color": "#FF6692",
          "size": [
           26
          ],
          "sizemode": "area",
          "sizeref": 0.03206611570247934,
          "symbol": "circle"
         },
         "mode": "markers",
         "name": "Algérie",
         "orientation": "v",
         "showlegend": true,
         "x": [
          0
         ],
         "xaxis": "x",
         "y": [
          0
         ],
         "yaxis": "y",
         "type": "scatter"
        },
        {
         "hovertemplate": "<b>%{hovertext}</b><br><br>Country=Iran<br>Date=2018<br>armée=%{x}<br>juif=%{y}<br>Size=%{marker.size}<extra></extra>",
         "hovertext": [
          "Iran"
         ],
         "ids": [
          "Iran"
         ],
         "legendgroup": "Iran",
         "marker": {
          "color": "#B6E880",
          "size": [
           26
          ],
          "sizemode": "area",
          "sizeref": 0.03206611570247934,
          "symbol": "circle"
         },
         "mode": "markers",
         "name": "Iran",
         "orientation": "v",
         "showlegend": true,
         "x": [
          0
         ],
         "xaxis": "x",
         "y": [
          0
         ],
         "yaxis": "y",
         "type": "scatter"
        },
        {
         "hovertemplate": "<b>%{hovertext}</b><br><br>Country=Mali<br>Date=2018<br>armée=%{x}<br>juif=%{y}<br>Size=%{marker.size}<extra></extra>",
         "hovertext": [
          "Mali"
         ],
         "ids": [
          "Mali"
         ],
         "legendgroup": "Mali",
         "marker": {
          "color": "#FF97FF",
          "size": [
           23
          ],
          "sizemode": "area",
          "sizeref": 0.03206611570247934,
          "symbol": "circle"
         },
         "mode": "markers",
         "name": "Mali",
         "orientation": "v",
         "showlegend": true,
         "x": [
          0
         ],
         "xaxis": "x",
         "y": [
          0
         ],
         "yaxis": "y",
         "type": "scatter"
        },
        {
         "hovertemplate": "<b>%{hovertext}</b><br><br>Country=Europe<br>Date=2018<br>armée=%{x}<br>juif=%{y}<br>Size=%{marker.size}<extra></extra>",
         "hovertext": [
          "Europe"
         ],
         "ids": [
          "Europe"
         ],
         "legendgroup": "Europe",
         "marker": {
          "color": "#FECB52",
          "size": [
           22
          ],
          "sizemode": "area",
          "sizeref": 0.03206611570247934,
          "symbol": "circle"
         },
         "mode": "markers",
         "name": "Europe",
         "orientation": "v",
         "showlegend": true,
         "x": [
          0
         ],
         "xaxis": "x",
         "y": [
          0
         ],
         "yaxis": "y",
         "type": "scatter"
        },
        {
         "hovertemplate": "<b>%{hovertext}</b><br><br>Country=Afrique<br>Date=2018<br>armée=%{x}<br>juif=%{y}<br>Size=%{marker.size}<extra></extra>",
         "hovertext": [
          "Afrique"
         ],
         "ids": [
          "Afrique"
         ],
         "legendgroup": "Afrique",
         "marker": {
          "color": "#636efa",
          "size": [
           20
          ],
          "sizemode": "area",
          "sizeref": 0.03206611570247934,
          "symbol": "circle"
         },
         "mode": "markers",
         "name": "Afrique",
         "orientation": "v",
         "showlegend": true,
         "x": [
          0
         ],
         "xaxis": "x",
         "y": [
          0
         ],
         "yaxis": "y",
         "type": "scatter"
        },
        {
         "hovertemplate": "<b>%{hovertext}</b><br><br>Country=Chine<br>Date=2018<br>armée=%{x}<br>juif=%{y}<br>Size=%{marker.size}<extra></extra>",
         "hovertext": [
          "Chine"
         ],
         "ids": [
          "Chine"
         ],
         "legendgroup": "Chine",
         "marker": {
          "color": "#EF553B",
          "size": [
           17
          ],
          "sizemode": "area",
          "sizeref": 0.03206611570247934,
          "symbol": "circle"
         },
         "mode": "markers",
         "name": "Chine",
         "orientation": "v",
         "showlegend": true,
         "x": [
          0
         ],
         "xaxis": "x",
         "y": [
          0
         ],
         "yaxis": "y",
         "type": "scatter"
        },
        {
         "hovertemplate": "<b>%{hovertext}</b><br><br>Country=Royaume-Uni<br>Date=2018<br>armée=%{x}<br>juif=%{y}<br>Size=%{marker.size}<extra></extra>",
         "hovertext": [
          "Royaume-Uni"
         ],
         "ids": [
          "Royaume-Uni"
         ],
         "legendgroup": "Royaume-Uni",
         "marker": {
          "color": "#00cc96",
          "size": [
           17
          ],
          "sizemode": "area",
          "sizeref": 0.03206611570247934,
          "symbol": "circle"
         },
         "mode": "markers",
         "name": "Royaume-Uni",
         "orientation": "v",
         "showlegend": true,
         "x": [
          0
         ],
         "xaxis": "x",
         "y": [
          0
         ],
         "yaxis": "y",
         "type": "scatter"
        },
        {
         "hovertemplate": "<b>%{hovertext}</b><br><br>Country=Turquie<br>Date=2018<br>armée=%{x}<br>juif=%{y}<br>Size=%{marker.size}<extra></extra>",
         "hovertext": [
          "Turquie"
         ],
         "ids": [
          "Turquie"
         ],
         "legendgroup": "Turquie",
         "marker": {
          "color": "#ab63fa",
          "size": [
           16
          ],
          "sizemode": "area",
          "sizeref": 0.03206611570247934,
          "symbol": "circle"
         },
         "mode": "markers",
         "name": "Turquie",
         "orientation": "v",
         "showlegend": true,
         "x": [
          0
         ],
         "xaxis": "x",
         "y": [
          0
         ],
         "yaxis": "y",
         "type": "scatter"
        },
        {
         "hovertemplate": "<b>%{hovertext}</b><br><br>Country=Alger<br>Date=2018<br>armée=%{x}<br>juif=%{y}<br>Size=%{marker.size}<extra></extra>",
         "hovertext": [
          "Alger"
         ],
         "ids": [
          "Alger"
         ],
         "legendgroup": "Alger",
         "marker": {
          "color": "#FFA15A",
          "size": [
           16
          ],
          "sizemode": "area",
          "sizeref": 0.03206611570247934,
          "symbol": "circle"
         },
         "mode": "markers",
         "name": "Alger",
         "orientation": "v",
         "showlegend": true,
         "x": [
          0
         ],
         "xaxis": "x",
         "y": [
          0
         ],
         "yaxis": "y",
         "type": "scatter"
        },
        {
         "hovertemplate": "<b>%{hovertext}</b><br><br>Country=République<br>Date=2018<br>armée=%{x}<br>juif=%{y}<br>Size=%{marker.size}<extra></extra>",
         "hovertext": [
          "République"
         ],
         "ids": [
          "République"
         ],
         "legendgroup": "République",
         "marker": {
          "color": "#19d3f3",
          "size": [
           16
          ],
          "sizemode": "area",
          "sizeref": 0.03206611570247934,
          "symbol": "circle"
         },
         "mode": "markers",
         "name": "République",
         "orientation": "v",
         "showlegend": true,
         "x": [
          0
         ],
         "xaxis": "x",
         "y": [
          0
         ],
         "yaxis": "y",
         "type": "scatter"
        },
        {
         "hovertemplate": "<b>%{hovertext}</b><br><br>Country=Sahel<br>Date=2018<br>armée=%{x}<br>juif=%{y}<br>Size=%{marker.size}<extra></extra>",
         "hovertext": [
          "Sahel"
         ],
         "ids": [
          "Sahel"
         ],
         "legendgroup": "Sahel",
         "marker": {
          "color": "#FF6692",
          "size": [
           15
          ],
          "sizemode": "area",
          "sizeref": 0.03206611570247934,
          "symbol": "circle"
         },
         "mode": "markers",
         "name": "Sahel",
         "orientation": "v",
         "showlegend": true,
         "x": [
          0
         ],
         "xaxis": "x",
         "y": [
          0
         ],
         "yaxis": "y",
         "type": "scatter"
        },
        {
         "hovertemplate": "<b>%{hovertext}</b><br><br>Country=Moscou<br>Date=2018<br>armée=%{x}<br>juif=%{y}<br>Size=%{marker.size}<extra></extra>",
         "hovertext": [
          "Moscou"
         ],
         "ids": [
          "Moscou"
         ],
         "legendgroup": "Moscou",
         "marker": {
          "color": "#B6E880",
          "size": [
           14
          ],
          "sizemode": "area",
          "sizeref": 0.03206611570247934,
          "symbol": "circle"
         },
         "mode": "markers",
         "name": "Moscou",
         "orientation": "v",
         "showlegend": true,
         "x": [
          0
         ],
         "xaxis": "x",
         "y": [
          0
         ],
         "yaxis": "y",
         "type": "scatter"
        },
        {
         "hovertemplate": "<b>%{hovertext}</b><br><br>Country=Italie<br>Date=2018<br>armée=%{x}<br>juif=%{y}<br>Size=%{marker.size}<extra></extra>",
         "hovertext": [
          "Italie"
         ],
         "ids": [
          "Italie"
         ],
         "legendgroup": "Italie",
         "marker": {
          "color": "#FF97FF",
          "size": [
           14
          ],
          "sizemode": "area",
          "sizeref": 0.03206611570247934,
          "symbol": "circle"
         },
         "mode": "markers",
         "name": "Italie",
         "orientation": "v",
         "showlegend": true,
         "x": [
          0
         ],
         "xaxis": "x",
         "y": [
          1
         ],
         "yaxis": "y",
         "type": "scatter"
        },
        {
         "hovertemplate": "<b>%{hovertext}</b><br><br>Country=Syrie<br>Date=2018<br>armée=%{x}<br>juif=%{y}<br>Size=%{marker.size}<extra></extra>",
         "hovertext": [
          "Syrie"
         ],
         "ids": [
          "Syrie"
         ],
         "legendgroup": "Syrie",
         "marker": {
          "color": "#FECB52",
          "size": [
           14
          ],
          "sizemode": "area",
          "sizeref": 0.03206611570247934,
          "symbol": "circle"
         },
         "mode": "markers",
         "name": "Syrie",
         "orientation": "v",
         "showlegend": true,
         "x": [
          0
         ],
         "xaxis": "x",
         "y": [
          0
         ],
         "yaxis": "y",
         "type": "scatter"
        }
       ],
       "layout": {
        "template": {
         "data": {
          "histogram2dcontour": [
           {
            "type": "histogram2dcontour",
            "colorbar": {
             "outlinewidth": 0,
             "ticks": ""
            },
            "colorscale": [
             [
              0.0,
              "#0d0887"
             ],
             [
              0.1111111111111111,
              "#46039f"
             ],
             [
              0.2222222222222222,
              "#7201a8"
             ],
             [
              0.3333333333333333,
              "#9c179e"
             ],
             [
              0.4444444444444444,
              "#bd3786"
             ],
             [
              0.5555555555555556,
              "#d8576b"
             ],
             [
              0.6666666666666666,
              "#ed7953"
             ],
             [
              0.7777777777777778,
              "#fb9f3a"
             ],
             [
              0.8888888888888888,
              "#fdca26"
             ],
             [
              1.0,
              "#f0f921"
             ]
            ]
           }
          ],
          "choropleth": [
           {
            "type": "choropleth",
            "colorbar": {
             "outlinewidth": 0,
             "ticks": ""
            }
           }
          ],
          "histogram2d": [
           {
            "type": "histogram2d",
            "colorbar": {
             "outlinewidth": 0,
             "ticks": ""
            },
            "colorscale": [
             [
              0.0,
              "#0d0887"
             ],
             [
              0.1111111111111111,
              "#46039f"
             ],
             [
              0.2222222222222222,
              "#7201a8"
             ],
             [
              0.3333333333333333,
              "#9c179e"
             ],
             [
              0.4444444444444444,
              "#bd3786"
             ],
             [
              0.5555555555555556,
              "#d8576b"
             ],
             [
              0.6666666666666666,
              "#ed7953"
             ],
             [
              0.7777777777777778,
              "#fb9f3a"
             ],
             [
              0.8888888888888888,
              "#fdca26"
             ],
             [
              1.0,
              "#f0f921"
             ]
            ]
           }
          ],
          "heatmap": [
           {
            "type": "heatmap",
            "colorbar": {
             "outlinewidth": 0,
             "ticks": ""
            },
            "colorscale": [
             [
              0.0,
              "#0d0887"
             ],
             [
              0.1111111111111111,
              "#46039f"
             ],
             [
              0.2222222222222222,
              "#7201a8"
             ],
             [
              0.3333333333333333,
              "#9c179e"
             ],
             [
              0.4444444444444444,
              "#bd3786"
             ],
             [
              0.5555555555555556,
              "#d8576b"
             ],
             [
              0.6666666666666666,
              "#ed7953"
             ],
             [
              0.7777777777777778,
              "#fb9f3a"
             ],
             [
              0.8888888888888888,
              "#fdca26"
             ],
             [
              1.0,
              "#f0f921"
             ]
            ]
           }
          ],
          "heatmapgl": [
           {
            "type": "heatmapgl",
            "colorbar": {
             "outlinewidth": 0,
             "ticks": ""
            },
            "colorscale": [
             [
              0.0,
              "#0d0887"
             ],
             [
              0.1111111111111111,
              "#46039f"
             ],
             [
              0.2222222222222222,
              "#7201a8"
             ],
             [
              0.3333333333333333,
              "#9c179e"
             ],
             [
              0.4444444444444444,
              "#bd3786"
             ],
             [
              0.5555555555555556,
              "#d8576b"
             ],
             [
              0.6666666666666666,
              "#ed7953"
             ],
             [
              0.7777777777777778,
              "#fb9f3a"
             ],
             [
              0.8888888888888888,
              "#fdca26"
             ],
             [
              1.0,
              "#f0f921"
             ]
            ]
           }
          ],
          "contourcarpet": [
           {
            "type": "contourcarpet",
            "colorbar": {
             "outlinewidth": 0,
             "ticks": ""
            }
           }
          ],
          "contour": [
           {
            "type": "contour",
            "colorbar": {
             "outlinewidth": 0,
             "ticks": ""
            },
            "colorscale": [
             [
              0.0,
              "#0d0887"
             ],
             [
              0.1111111111111111,
              "#46039f"
             ],
             [
              0.2222222222222222,
              "#7201a8"
             ],
             [
              0.3333333333333333,
              "#9c179e"
             ],
             [
              0.4444444444444444,
              "#bd3786"
             ],
             [
              0.5555555555555556,
              "#d8576b"
             ],
             [
              0.6666666666666666,
              "#ed7953"
             ],
             [
              0.7777777777777778,
              "#fb9f3a"
             ],
             [
              0.8888888888888888,
              "#fdca26"
             ],
             [
              1.0,
              "#f0f921"
             ]
            ]
           }
          ],
          "surface": [
           {
            "type": "surface",
            "colorbar": {
             "outlinewidth": 0,
             "ticks": ""
            },
            "colorscale": [
             [
              0.0,
              "#0d0887"
             ],
             [
              0.1111111111111111,
              "#46039f"
             ],
             [
              0.2222222222222222,
              "#7201a8"
             ],
             [
              0.3333333333333333,
              "#9c179e"
             ],
             [
              0.4444444444444444,
              "#bd3786"
             ],
             [
              0.5555555555555556,
              "#d8576b"
             ],
             [
              0.6666666666666666,
              "#ed7953"
             ],
             [
              0.7777777777777778,
              "#fb9f3a"
             ],
             [
              0.8888888888888888,
              "#fdca26"
             ],
             [
              1.0,
              "#f0f921"
             ]
            ]
           }
          ],
          "mesh3d": [
           {
            "type": "mesh3d",
            "colorbar": {
             "outlinewidth": 0,
             "ticks": ""
            }
           }
          ],
          "scatter": [
           {
            "marker": {
             "line": {
              "color": "#283442"
             }
            },
            "type": "scatter"
           }
          ],
          "parcoords": [
           {
            "type": "parcoords",
            "line": {
             "colorbar": {
              "outlinewidth": 0,
              "ticks": ""
             }
            }
           }
          ],
          "scatterpolargl": [
           {
            "type": "scatterpolargl",
            "marker": {
             "colorbar": {
              "outlinewidth": 0,
              "ticks": ""
             }
            }
           }
          ],
          "bar": [
           {
            "error_x": {
             "color": "#f2f5fa"
            },
            "error_y": {
             "color": "#f2f5fa"
            },
            "marker": {
             "line": {
              "color": "rgb(17,17,17)",
              "width": 0.5
             },
             "pattern": {
              "fillmode": "overlay",
              "size": 10,
              "solidity": 0.2
             }
            },
            "type": "bar"
           }
          ],
          "scattergeo": [
           {
            "type": "scattergeo",
            "marker": {
             "colorbar": {
              "outlinewidth": 0,
              "ticks": ""
             }
            }
           }
          ],
          "scatterpolar": [
           {
            "type": "scatterpolar",
            "marker": {
             "colorbar": {
              "outlinewidth": 0,
              "ticks": ""
             }
            }
           }
          ],
          "histogram": [
           {
            "marker": {
             "pattern": {
              "fillmode": "overlay",
              "size": 10,
              "solidity": 0.2
             }
            },
            "type": "histogram"
           }
          ],
          "scattergl": [
           {
            "marker": {
             "line": {
              "color": "#283442"
             }
            },
            "type": "scattergl"
           }
          ],
          "scatter3d": [
           {
            "type": "scatter3d",
            "line": {
             "colorbar": {
              "outlinewidth": 0,
              "ticks": ""
             }
            },
            "marker": {
             "colorbar": {
              "outlinewidth": 0,
              "ticks": ""
             }
            }
           }
          ],
          "scattermapbox": [
           {
            "type": "scattermapbox",
            "marker": {
             "colorbar": {
              "outlinewidth": 0,
              "ticks": ""
             }
            }
           }
          ],
          "scatterternary": [
           {
            "type": "scatterternary",
            "marker": {
             "colorbar": {
              "outlinewidth": 0,
              "ticks": ""
             }
            }
           }
          ],
          "scattercarpet": [
           {
            "type": "scattercarpet",
            "marker": {
             "colorbar": {
              "outlinewidth": 0,
              "ticks": ""
             }
            }
           }
          ],
          "carpet": [
           {
            "aaxis": {
             "endlinecolor": "#A2B1C6",
             "gridcolor": "#506784",
             "linecolor": "#506784",
             "minorgridcolor": "#506784",
             "startlinecolor": "#A2B1C6"
            },
            "baxis": {
             "endlinecolor": "#A2B1C6",
             "gridcolor": "#506784",
             "linecolor": "#506784",
             "minorgridcolor": "#506784",
             "startlinecolor": "#A2B1C6"
            },
            "type": "carpet"
           }
          ],
          "table": [
           {
            "cells": {
             "fill": {
              "color": "#506784"
             },
             "line": {
              "color": "rgb(17,17,17)"
             }
            },
            "header": {
             "fill": {
              "color": "#2a3f5f"
             },
             "line": {
              "color": "rgb(17,17,17)"
             }
            },
            "type": "table"
           }
          ],
          "barpolar": [
           {
            "marker": {
             "line": {
              "color": "rgb(17,17,17)",
              "width": 0.5
             },
             "pattern": {
              "fillmode": "overlay",
              "size": 10,
              "solidity": 0.2
             }
            },
            "type": "barpolar"
           }
          ],
          "pie": [
           {
            "automargin": true,
            "type": "pie"
           }
          ]
         },
         "layout": {
          "autotypenumbers": "strict",
          "colorway": [
           "#636efa",
           "#EF553B",
           "#00cc96",
           "#ab63fa",
           "#FFA15A",
           "#19d3f3",
           "#FF6692",
           "#B6E880",
           "#FF97FF",
           "#FECB52"
          ],
          "font": {
           "color": "#f2f5fa"
          },
          "hovermode": "closest",
          "hoverlabel": {
           "align": "left"
          },
          "paper_bgcolor": "rgb(17,17,17)",
          "plot_bgcolor": "rgb(17,17,17)",
          "polar": {
           "bgcolor": "rgb(17,17,17)",
           "angularaxis": {
            "gridcolor": "#506784",
            "linecolor": "#506784",
            "ticks": ""
           },
           "radialaxis": {
            "gridcolor": "#506784",
            "linecolor": "#506784",
            "ticks": ""
           }
          },
          "ternary": {
           "bgcolor": "rgb(17,17,17)",
           "aaxis": {
            "gridcolor": "#506784",
            "linecolor": "#506784",
            "ticks": ""
           },
           "baxis": {
            "gridcolor": "#506784",
            "linecolor": "#506784",
            "ticks": ""
           },
           "caxis": {
            "gridcolor": "#506784",
            "linecolor": "#506784",
            "ticks": ""
           }
          },
          "coloraxis": {
           "colorbar": {
            "outlinewidth": 0,
            "ticks": ""
           }
          },
          "colorscale": {
           "sequential": [
            [
             0.0,
             "#0d0887"
            ],
            [
             0.1111111111111111,
             "#46039f"
            ],
            [
             0.2222222222222222,
             "#7201a8"
            ],
            [
             0.3333333333333333,
             "#9c179e"
            ],
            [
             0.4444444444444444,
             "#bd3786"
            ],
            [
             0.5555555555555556,
             "#d8576b"
            ],
            [
             0.6666666666666666,
             "#ed7953"
            ],
            [
             0.7777777777777778,
             "#fb9f3a"
            ],
            [
             0.8888888888888888,
             "#fdca26"
            ],
            [
             1.0,
             "#f0f921"
            ]
           ],
           "sequentialminus": [
            [
             0.0,
             "#0d0887"
            ],
            [
             0.1111111111111111,
             "#46039f"
            ],
            [
             0.2222222222222222,
             "#7201a8"
            ],
            [
             0.3333333333333333,
             "#9c179e"
            ],
            [
             0.4444444444444444,
             "#bd3786"
            ],
            [
             0.5555555555555556,
             "#d8576b"
            ],
            [
             0.6666666666666666,
             "#ed7953"
            ],
            [
             0.7777777777777778,
             "#fb9f3a"
            ],
            [
             0.8888888888888888,
             "#fdca26"
            ],
            [
             1.0,
             "#f0f921"
            ]
           ],
           "diverging": [
            [
             0,
             "#8e0152"
            ],
            [
             0.1,
             "#c51b7d"
            ],
            [
             0.2,
             "#de77ae"
            ],
            [
             0.3,
             "#f1b6da"
            ],
            [
             0.4,
             "#fde0ef"
            ],
            [
             0.5,
             "#f7f7f7"
            ],
            [
             0.6,
             "#e6f5d0"
            ],
            [
             0.7,
             "#b8e186"
            ],
            [
             0.8,
             "#7fbc41"
            ],
            [
             0.9,
             "#4d9221"
            ],
            [
             1,
             "#276419"
            ]
           ]
          },
          "xaxis": {
           "gridcolor": "#283442",
           "linecolor": "#506784",
           "ticks": "",
           "title": {
            "standoff": 15
           },
           "zerolinecolor": "#283442",
           "automargin": true,
           "zerolinewidth": 2
          },
          "yaxis": {
           "gridcolor": "#283442",
           "linecolor": "#506784",
           "ticks": "",
           "title": {
            "standoff": 15
           },
           "zerolinecolor": "#283442",
           "automargin": true,
           "zerolinewidth": 2
          },
          "scene": {
           "xaxis": {
            "backgroundcolor": "rgb(17,17,17)",
            "gridcolor": "#506784",
            "linecolor": "#506784",
            "showbackground": true,
            "ticks": "",
            "zerolinecolor": "#C8D4E3",
            "gridwidth": 2
           },
           "yaxis": {
            "backgroundcolor": "rgb(17,17,17)",
            "gridcolor": "#506784",
            "linecolor": "#506784",
            "showbackground": true,
            "ticks": "",
            "zerolinecolor": "#C8D4E3",
            "gridwidth": 2
           },
           "zaxis": {
            "backgroundcolor": "rgb(17,17,17)",
            "gridcolor": "#506784",
            "linecolor": "#506784",
            "showbackground": true,
            "ticks": "",
            "zerolinecolor": "#C8D4E3",
            "gridwidth": 2
           }
          },
          "shapedefaults": {
           "line": {
            "color": "#f2f5fa"
           }
          },
          "annotationdefaults": {
           "arrowcolor": "#f2f5fa",
           "arrowhead": 0,
           "arrowwidth": 1
          },
          "geo": {
           "bgcolor": "rgb(17,17,17)",
           "landcolor": "rgb(17,17,17)",
           "subunitcolor": "#506784",
           "showland": true,
           "showlakes": true,
           "lakecolor": "rgb(17,17,17)"
          },
          "title": {
           "x": 0.05
          },
          "updatemenudefaults": {
           "bgcolor": "#506784",
           "borderwidth": 0
          },
          "sliderdefaults": {
           "bgcolor": "#C8D4E3",
           "borderwidth": 1,
           "bordercolor": "rgb(17,17,17)",
           "tickwidth": 0
          },
          "mapbox": {
           "style": "dark"
          }
         }
        },
        "xaxis": {
         "anchor": "y",
         "domain": [
          0.0,
          1.0
         ],
         "title": {
          "text": "armée"
         },
         "range": [
          0,
          1446
         ]
        },
        "yaxis": {
         "anchor": "x",
         "domain": [
          0.0,
          1.0
         ],
         "title": {
          "text": "juif"
         },
         "range": [
          0,
          532
         ]
        },
        "legend": {
         "title": {
          "text": "Country"
         },
         "tracegroupgap": 0,
         "itemsizing": "constant"
        },
        "margin": {
         "t": 60
        },
        "height": 800,
        "width": 1000,
        "updatemenus": [
         {
          "buttons": [
           {
            "args": [
             null,
             {
              "frame": {
               "duration": 500,
               "redraw": false
              },
              "mode": "immediate",
              "fromcurrent": true,
              "transition": {
               "duration": 500,
               "easing": "linear"
              }
             }
            ],
            "label": "&#9654;",
            "method": "animate"
           },
           {
            "args": [
             [
              null
             ],
             {
              "frame": {
               "duration": 0,
               "redraw": false
              },
              "mode": "immediate",
              "fromcurrent": true,
              "transition": {
               "duration": 0,
               "easing": "linear"
              }
             }
            ],
            "label": "&#9724;",
            "method": "animate"
           }
          ],
          "direction": "left",
          "pad": {
           "r": 10,
           "t": 70
          },
          "showactive": false,
          "type": "buttons",
          "x": 0.1,
          "xanchor": "right",
          "y": 0,
          "yanchor": "top"
         }
        ],
        "sliders": [
         {
          "active": 0,
          "currentvalue": {
           "prefix": "Date="
          },
          "len": 0.9,
          "pad": {
           "b": 10,
           "t": 60
          },
          "steps": [
           {
            "args": [
             [
              "2018"
             ],
             {
              "frame": {
               "duration": 0,
               "redraw": false
              },
              "mode": "immediate",
              "fromcurrent": true,
              "transition": {
               "duration": 0,
               "easing": "linear"
              }
             }
            ],
            "label": "2018",
            "method": "animate"
           },
           {
            "args": [
             [
              "2019"
             ],
             {
              "frame": {
               "duration": 0,
               "redraw": false
              },
              "mode": "immediate",
              "fromcurrent": true,
              "transition": {
               "duration": 0,
               "easing": "linear"
              }
             }
            ],
            "label": "2019",
            "method": "animate"
           },
           {
            "args": [
             [
              "2020"
             ],
             {
              "frame": {
               "duration": 0,
               "redraw": false
              },
              "mode": "immediate",
              "fromcurrent": true,
              "transition": {
               "duration": 0,
               "easing": "linear"
              }
             }
            ],
            "label": "2020",
            "method": "animate"
           },
           {
            "args": [
             [
              "2021"
             ],
             {
              "frame": {
               "duration": 0,
               "redraw": false
              },
              "mode": "immediate",
              "fromcurrent": true,
              "transition": {
               "duration": 0,
               "easing": "linear"
              }
             }
            ],
            "label": "2021",
            "method": "animate"
           }
          ],
          "x": 0.1,
          "xanchor": "left",
          "y": 0,
          "yanchor": "top"
         }
        ]
       },
       "frames": [
        {
         "data": [
          {
           "hovertemplate": "<b>%{hovertext}</b><br><br>Country=Paris<br>Date=2018<br>armée=%{x}<br>juif=%{y}<br>Size=%{marker.size}<extra></extra>",
           "hovertext": [
            "Paris"
           ],
           "ids": [
            "Paris"
           ],
           "legendgroup": "Paris",
           "marker": {
            "color": "#636efa",
            "size": [
             97
            ],
            "sizemode": "area",
            "sizeref": 0.03206611570247934,
            "symbol": "circle"
           },
           "mode": "markers",
           "name": "Paris",
           "orientation": "v",
           "showlegend": true,
           "x": [
            0
           ],
           "xaxis": "x",
           "y": [
            1
           ],
           "yaxis": "y",
           "type": "scatter"
          },
          {
           "hovertemplate": "<b>%{hovertext}</b><br><br>Country=États-Unis<br>Date=2018<br>armée=%{x}<br>juif=%{y}<br>Size=%{marker.size}<extra></extra>",
           "hovertext": [
            "États-Unis"
           ],
           "ids": [
            "États-Unis"
           ],
           "legendgroup": "États-Unis",
           "marker": {
            "color": "#EF553B",
            "size": [
             76
            ],
            "sizemode": "area",
            "sizeref": 0.03206611570247934,
            "symbol": "circle"
           },
           "mode": "markers",
           "name": "États-Unis",
           "orientation": "v",
           "showlegend": true,
           "x": [
            0
           ],
           "xaxis": "x",
           "y": [
            0
           ],
           "yaxis": "y",
           "type": "scatter"
          },
          {
           "hovertemplate": "<b>%{hovertext}</b><br><br>Country=État<br>Date=2018<br>armée=%{x}<br>juif=%{y}<br>Size=%{marker.size}<extra></extra>",
           "hovertext": [
            "État"
           ],
           "ids": [
            "État"
           ],
           "legendgroup": "État",
           "marker": {
            "color": "#00cc96",
            "size": [
             70
            ],
            "sizemode": "area",
            "sizeref": 0.03206611570247934,
            "symbol": "circle"
           },
           "mode": "markers",
           "name": "État",
           "orientation": "v",
           "showlegend": true,
           "x": [
            0
           ],
           "xaxis": "x",
           "y": [
            0
           ],
           "yaxis": "y",
           "type": "scatter"
          },
          {
           "hovertemplate": "<b>%{hovertext}</b><br><br>Country=Israël<br>Date=2018<br>armée=%{x}<br>juif=%{y}<br>Size=%{marker.size}<extra></extra>",
           "hovertext": [
            "Israël"
           ],
           "ids": [
            "Israël"
           ],
           "legendgroup": "Israël",
           "marker": {
            "color": "#ab63fa",
            "size": [
             42
            ],
            "sizemode": "area",
            "sizeref": 0.03206611570247934,
            "symbol": "circle"
           },
           "mode": "markers",
           "name": "Israël",
           "orientation": "v",
           "showlegend": true,
           "x": [
            0
           ],
           "xaxis": "x",
           "y": [
            0
           ],
           "yaxis": "y",
           "type": "scatter"
          },
          {
           "hovertemplate": "<b>%{hovertext}</b><br><br>Country=Russie<br>Date=2018<br>armée=%{x}<br>juif=%{y}<br>Size=%{marker.size}<extra></extra>",
           "hovertext": [
            "Russie"
           ],
           "ids": [
            "Russie"
           ],
           "legendgroup": "Russie",
           "marker": {
            "color": "#FFA15A",
            "size": [
             36
            ],
            "sizemode": "area",
            "sizeref": 0.03206611570247934,
            "symbol": "circle"
           },
           "mode": "markers",
           "name": "Russie",
           "orientation": "v",
           "showlegend": true,
           "x": [
            0
           ],
           "xaxis": "x",
           "y": [
            0
           ],
           "yaxis": "y",
           "type": "scatter"
          },
          {
           "hovertemplate": "<b>%{hovertext}</b><br><br>Country=Allemagne<br>Date=2018<br>armée=%{x}<br>juif=%{y}<br>Size=%{marker.size}<extra></extra>",
           "hovertext": [
            "Allemagne"
           ],
           "ids": [
            "Allemagne"
           ],
           "legendgroup": "Allemagne",
           "marker": {
            "color": "#19d3f3",
            "size": [
             33
            ],
            "sizemode": "area",
            "sizeref": 0.03206611570247934,
            "symbol": "circle"
           },
           "mode": "markers",
           "name": "Allemagne",
           "orientation": "v",
           "showlegend": true,
           "x": [
            0
           ],
           "xaxis": "x",
           "y": [
            0
           ],
           "yaxis": "y",
           "type": "scatter"
          },
          {
           "hovertemplate": "<b>%{hovertext}</b><br><br>Country=Algérie<br>Date=2018<br>armée=%{x}<br>juif=%{y}<br>Size=%{marker.size}<extra></extra>",
           "hovertext": [
            "Algérie"
           ],
           "ids": [
            "Algérie"
           ],
           "legendgroup": "Algérie",
           "marker": {
            "color": "#FF6692",
            "size": [
             26
            ],
            "sizemode": "area",
            "sizeref": 0.03206611570247934,
            "symbol": "circle"
           },
           "mode": "markers",
           "name": "Algérie",
           "orientation": "v",
           "showlegend": true,
           "x": [
            0
           ],
           "xaxis": "x",
           "y": [
            0
           ],
           "yaxis": "y",
           "type": "scatter"
          },
          {
           "hovertemplate": "<b>%{hovertext}</b><br><br>Country=Iran<br>Date=2018<br>armée=%{x}<br>juif=%{y}<br>Size=%{marker.size}<extra></extra>",
           "hovertext": [
            "Iran"
           ],
           "ids": [
            "Iran"
           ],
           "legendgroup": "Iran",
           "marker": {
            "color": "#B6E880",
            "size": [
             26
            ],
            "sizemode": "area",
            "sizeref": 0.03206611570247934,
            "symbol": "circle"
           },
           "mode": "markers",
           "name": "Iran",
           "orientation": "v",
           "showlegend": true,
           "x": [
            0
           ],
           "xaxis": "x",
           "y": [
            0
           ],
           "yaxis": "y",
           "type": "scatter"
          },
          {
           "hovertemplate": "<b>%{hovertext}</b><br><br>Country=Mali<br>Date=2018<br>armée=%{x}<br>juif=%{y}<br>Size=%{marker.size}<extra></extra>",
           "hovertext": [
            "Mali"
           ],
           "ids": [
            "Mali"
           ],
           "legendgroup": "Mali",
           "marker": {
            "color": "#FF97FF",
            "size": [
             23
            ],
            "sizemode": "area",
            "sizeref": 0.03206611570247934,
            "symbol": "circle"
           },
           "mode": "markers",
           "name": "Mali",
           "orientation": "v",
           "showlegend": true,
           "x": [
            0
           ],
           "xaxis": "x",
           "y": [
            0
           ],
           "yaxis": "y",
           "type": "scatter"
          },
          {
           "hovertemplate": "<b>%{hovertext}</b><br><br>Country=Europe<br>Date=2018<br>armée=%{x}<br>juif=%{y}<br>Size=%{marker.size}<extra></extra>",
           "hovertext": [
            "Europe"
           ],
           "ids": [
            "Europe"
           ],
           "legendgroup": "Europe",
           "marker": {
            "color": "#FECB52",
            "size": [
             22
            ],
            "sizemode": "area",
            "sizeref": 0.03206611570247934,
            "symbol": "circle"
           },
           "mode": "markers",
           "name": "Europe",
           "orientation": "v",
           "showlegend": true,
           "x": [
            0
           ],
           "xaxis": "x",
           "y": [
            0
           ],
           "yaxis": "y",
           "type": "scatter"
          },
          {
           "hovertemplate": "<b>%{hovertext}</b><br><br>Country=Afrique<br>Date=2018<br>armée=%{x}<br>juif=%{y}<br>Size=%{marker.size}<extra></extra>",
           "hovertext": [
            "Afrique"
           ],
           "ids": [
            "Afrique"
           ],
           "legendgroup": "Afrique",
           "marker": {
            "color": "#636efa",
            "size": [
             20
            ],
            "sizemode": "area",
            "sizeref": 0.03206611570247934,
            "symbol": "circle"
           },
           "mode": "markers",
           "name": "Afrique",
           "orientation": "v",
           "showlegend": true,
           "x": [
            0
           ],
           "xaxis": "x",
           "y": [
            0
           ],
           "yaxis": "y",
           "type": "scatter"
          },
          {
           "hovertemplate": "<b>%{hovertext}</b><br><br>Country=Chine<br>Date=2018<br>armée=%{x}<br>juif=%{y}<br>Size=%{marker.size}<extra></extra>",
           "hovertext": [
            "Chine"
           ],
           "ids": [
            "Chine"
           ],
           "legendgroup": "Chine",
           "marker": {
            "color": "#EF553B",
            "size": [
             17
            ],
            "sizemode": "area",
            "sizeref": 0.03206611570247934,
            "symbol": "circle"
           },
           "mode": "markers",
           "name": "Chine",
           "orientation": "v",
           "showlegend": true,
           "x": [
            0
           ],
           "xaxis": "x",
           "y": [
            0
           ],
           "yaxis": "y",
           "type": "scatter"
          },
          {
           "hovertemplate": "<b>%{hovertext}</b><br><br>Country=Royaume-Uni<br>Date=2018<br>armée=%{x}<br>juif=%{y}<br>Size=%{marker.size}<extra></extra>",
           "hovertext": [
            "Royaume-Uni"
           ],
           "ids": [
            "Royaume-Uni"
           ],
           "legendgroup": "Royaume-Uni",
           "marker": {
            "color": "#00cc96",
            "size": [
             17
            ],
            "sizemode": "area",
            "sizeref": 0.03206611570247934,
            "symbol": "circle"
           },
           "mode": "markers",
           "name": "Royaume-Uni",
           "orientation": "v",
           "showlegend": true,
           "x": [
            0
           ],
           "xaxis": "x",
           "y": [
            0
           ],
           "yaxis": "y",
           "type": "scatter"
          },
          {
           "hovertemplate": "<b>%{hovertext}</b><br><br>Country=Turquie<br>Date=2018<br>armée=%{x}<br>juif=%{y}<br>Size=%{marker.size}<extra></extra>",
           "hovertext": [
            "Turquie"
           ],
           "ids": [
            "Turquie"
           ],
           "legendgroup": "Turquie",
           "marker": {
            "color": "#ab63fa",
            "size": [
             16
            ],
            "sizemode": "area",
            "sizeref": 0.03206611570247934,
            "symbol": "circle"
           },
           "mode": "markers",
           "name": "Turquie",
           "orientation": "v",
           "showlegend": true,
           "x": [
            0
           ],
           "xaxis": "x",
           "y": [
            0
           ],
           "yaxis": "y",
           "type": "scatter"
          },
          {
           "hovertemplate": "<b>%{hovertext}</b><br><br>Country=Alger<br>Date=2018<br>armée=%{x}<br>juif=%{y}<br>Size=%{marker.size}<extra></extra>",
           "hovertext": [
            "Alger"
           ],
           "ids": [
            "Alger"
           ],
           "legendgroup": "Alger",
           "marker": {
            "color": "#FFA15A",
            "size": [
             16
            ],
            "sizemode": "area",
            "sizeref": 0.03206611570247934,
            "symbol": "circle"
           },
           "mode": "markers",
           "name": "Alger",
           "orientation": "v",
           "showlegend": true,
           "x": [
            0
           ],
           "xaxis": "x",
           "y": [
            0
           ],
           "yaxis": "y",
           "type": "scatter"
          },
          {
           "hovertemplate": "<b>%{hovertext}</b><br><br>Country=République<br>Date=2018<br>armée=%{x}<br>juif=%{y}<br>Size=%{marker.size}<extra></extra>",
           "hovertext": [
            "République"
           ],
           "ids": [
            "République"
           ],
           "legendgroup": "République",
           "marker": {
            "color": "#19d3f3",
            "size": [
             16
            ],
            "sizemode": "area",
            "sizeref": 0.03206611570247934,
            "symbol": "circle"
           },
           "mode": "markers",
           "name": "République",
           "orientation": "v",
           "showlegend": true,
           "x": [
            0
           ],
           "xaxis": "x",
           "y": [
            0
           ],
           "yaxis": "y",
           "type": "scatter"
          },
          {
           "hovertemplate": "<b>%{hovertext}</b><br><br>Country=Sahel<br>Date=2018<br>armée=%{x}<br>juif=%{y}<br>Size=%{marker.size}<extra></extra>",
           "hovertext": [
            "Sahel"
           ],
           "ids": [
            "Sahel"
           ],
           "legendgroup": "Sahel",
           "marker": {
            "color": "#FF6692",
            "size": [
             15
            ],
            "sizemode": "area",
            "sizeref": 0.03206611570247934,
            "symbol": "circle"
           },
           "mode": "markers",
           "name": "Sahel",
           "orientation": "v",
           "showlegend": true,
           "x": [
            0
           ],
           "xaxis": "x",
           "y": [
            0
           ],
           "yaxis": "y",
           "type": "scatter"
          },
          {
           "hovertemplate": "<b>%{hovertext}</b><br><br>Country=Moscou<br>Date=2018<br>armée=%{x}<br>juif=%{y}<br>Size=%{marker.size}<extra></extra>",
           "hovertext": [
            "Moscou"
           ],
           "ids": [
            "Moscou"
           ],
           "legendgroup": "Moscou",
           "marker": {
            "color": "#B6E880",
            "size": [
             14
            ],
            "sizemode": "area",
            "sizeref": 0.03206611570247934,
            "symbol": "circle"
           },
           "mode": "markers",
           "name": "Moscou",
           "orientation": "v",
           "showlegend": true,
           "x": [
            0
           ],
           "xaxis": "x",
           "y": [
            0
           ],
           "yaxis": "y",
           "type": "scatter"
          },
          {
           "hovertemplate": "<b>%{hovertext}</b><br><br>Country=Italie<br>Date=2018<br>armée=%{x}<br>juif=%{y}<br>Size=%{marker.size}<extra></extra>",
           "hovertext": [
            "Italie"
           ],
           "ids": [
            "Italie"
           ],
           "legendgroup": "Italie",
           "marker": {
            "color": "#FF97FF",
            "size": [
             14
            ],
            "sizemode": "area",
            "sizeref": 0.03206611570247934,
            "symbol": "circle"
           },
           "mode": "markers",
           "name": "Italie",
           "orientation": "v",
           "showlegend": true,
           "x": [
            0
           ],
           "xaxis": "x",
           "y": [
            1
           ],
           "yaxis": "y",
           "type": "scatter"
          },
          {
           "hovertemplate": "<b>%{hovertext}</b><br><br>Country=Syrie<br>Date=2018<br>armée=%{x}<br>juif=%{y}<br>Size=%{marker.size}<extra></extra>",
           "hovertext": [
            "Syrie"
           ],
           "ids": [
            "Syrie"
           ],
           "legendgroup": "Syrie",
           "marker": {
            "color": "#FECB52",
            "size": [
             14
            ],
            "sizemode": "area",
            "sizeref": 0.03206611570247934,
            "symbol": "circle"
           },
           "mode": "markers",
           "name": "Syrie",
           "orientation": "v",
           "showlegend": true,
           "x": [
            0
           ],
           "xaxis": "x",
           "y": [
            0
           ],
           "yaxis": "y",
           "type": "scatter"
          }
         ],
         "name": "2018"
        },
        {
         "data": [
          {
           "hovertemplate": "<b>%{hovertext}</b><br><br>Country=Paris<br>Date=2019<br>armée=%{x}<br>juif=%{y}<br>Size=%{marker.size}<extra></extra>",
           "hovertext": [
            "Paris"
           ],
           "ids": [
            "Paris"
           ],
           "legendgroup": "Paris",
           "marker": {
            "color": "#636efa",
            "size": [
             97
            ],
            "sizemode": "area",
            "sizeref": 0.03206611570247934,
            "symbol": "circle"
           },
           "mode": "markers",
           "name": "Paris",
           "orientation": "v",
           "showlegend": true,
           "x": [
            482
           ],
           "xaxis": "x",
           "y": [
            304
           ],
           "yaxis": "y",
           "type": "scatter"
          },
          {
           "hovertemplate": "<b>%{hovertext}</b><br><br>Country=États-Unis<br>Date=2019<br>armée=%{x}<br>juif=%{y}<br>Size=%{marker.size}<extra></extra>",
           "hovertext": [
            "États-Unis"
           ],
           "ids": [
            "États-Unis"
           ],
           "legendgroup": "États-Unis",
           "marker": {
            "color": "#EF553B",
            "size": [
             76
            ],
            "sizemode": "area",
            "sizeref": 0.03206611570247934,
            "symbol": "circle"
           },
           "mode": "markers",
           "name": "États-Unis",
           "orientation": "v",
           "showlegend": true,
           "x": [
            768
           ],
           "xaxis": "x",
           "y": [
            157
           ],
           "yaxis": "y",
           "type": "scatter"
          },
          {
           "hovertemplate": "<b>%{hovertext}</b><br><br>Country=État<br>Date=2019<br>armée=%{x}<br>juif=%{y}<br>Size=%{marker.size}<extra></extra>",
           "hovertext": [
            "État"
           ],
           "ids": [
            "État"
           ],
           "legendgroup": "État",
           "marker": {
            "color": "#00cc96",
            "size": [
             70
            ],
            "sizemode": "area",
            "sizeref": 0.03206611570247934,
            "symbol": "circle"
           },
           "mode": "markers",
           "name": "État",
           "orientation": "v",
           "showlegend": true,
           "x": [
            689
           ],
           "xaxis": "x",
           "y": [
            346
           ],
           "yaxis": "y",
           "type": "scatter"
          },
          {
           "hovertemplate": "<b>%{hovertext}</b><br><br>Country=Israël<br>Date=2019<br>armée=%{x}<br>juif=%{y}<br>Size=%{marker.size}<extra></extra>",
           "hovertext": [
            "Israël"
           ],
           "ids": [
            "Israël"
           ],
           "legendgroup": "Israël",
           "marker": {
            "color": "#ab63fa",
            "size": [
             42
            ],
            "sizemode": "area",
            "sizeref": 0.03206611570247934,
            "symbol": "circle"
           },
           "mode": "markers",
           "name": "Israël",
           "orientation": "v",
           "showlegend": true,
           "x": [
            205
           ],
           "xaxis": "x",
           "y": [
            492
           ],
           "yaxis": "y",
           "type": "scatter"
          },
          {
           "hovertemplate": "<b>%{hovertext}</b><br><br>Country=Russie<br>Date=2019<br>armée=%{x}<br>juif=%{y}<br>Size=%{marker.size}<extra></extra>",
           "hovertext": [
            "Russie"
           ],
           "ids": [
            "Russie"
           ],
           "legendgroup": "Russie",
           "marker": {
            "color": "#FFA15A",
            "size": [
             36
            ],
            "sizemode": "area",
            "sizeref": 0.03206611570247934,
            "symbol": "circle"
           },
           "mode": "markers",
           "name": "Russie",
           "orientation": "v",
           "showlegend": true,
           "x": [
            626
           ],
           "xaxis": "x",
           "y": [
            119
           ],
           "yaxis": "y",
           "type": "scatter"
          },
          {
           "hovertemplate": "<b>%{hovertext}</b><br><br>Country=Allemagne<br>Date=2019<br>armée=%{x}<br>juif=%{y}<br>Size=%{marker.size}<extra></extra>",
           "hovertext": [
            "Allemagne"
           ],
           "ids": [
            "Allemagne"
           ],
           "legendgroup": "Allemagne",
           "marker": {
            "color": "#19d3f3",
            "size": [
             33
            ],
            "sizemode": "area",
            "sizeref": 0.03206611570247934,
            "symbol": "circle"
           },
           "mode": "markers",
           "name": "Allemagne",
           "orientation": "v",
           "showlegend": true,
           "x": [
            205
           ],
           "xaxis": "x",
           "y": [
            124
           ],
           "yaxis": "y",
           "type": "scatter"
          },
          {
           "hovertemplate": "<b>%{hovertext}</b><br><br>Country=Algérie<br>Date=2019<br>armée=%{x}<br>juif=%{y}<br>Size=%{marker.size}<extra></extra>",
           "hovertext": [
            "Algérie"
           ],
           "ids": [
            "Algérie"
           ],
           "legendgroup": "Algérie",
           "marker": {
            "color": "#FF6692",
            "size": [
             26
            ],
            "sizemode": "area",
            "sizeref": 0.03206611570247934,
            "symbol": "circle"
           },
           "mode": "markers",
           "name": "Algérie",
           "orientation": "v",
           "showlegend": true,
           "x": [
            260
           ],
           "xaxis": "x",
           "y": [
            10
           ],
           "yaxis": "y",
           "type": "scatter"
          },
          {
           "hovertemplate": "<b>%{hovertext}</b><br><br>Country=Iran<br>Date=2019<br>armée=%{x}<br>juif=%{y}<br>Size=%{marker.size}<extra></extra>",
           "hovertext": [
            "Iran"
           ],
           "ids": [
            "Iran"
           ],
           "legendgroup": "Iran",
           "marker": {
            "color": "#B6E880",
            "size": [
             26
            ],
            "sizemode": "area",
            "sizeref": 0.03206611570247934,
            "symbol": "circle"
           },
           "mode": "markers",
           "name": "Iran",
           "orientation": "v",
           "showlegend": true,
           "x": [
            139
           ],
           "xaxis": "x",
           "y": [
            70
           ],
           "yaxis": "y",
           "type": "scatter"
          },
          {
           "hovertemplate": "<b>%{hovertext}</b><br><br>Country=Mali<br>Date=2019<br>armée=%{x}<br>juif=%{y}<br>Size=%{marker.size}<extra></extra>",
           "hovertext": [
            "Mali"
           ],
           "ids": [
            "Mali"
           ],
           "legendgroup": "Mali",
           "marker": {
            "color": "#FF97FF",
            "size": [
             23
            ],
            "sizemode": "area",
            "sizeref": 0.03206611570247934,
            "symbol": "circle"
           },
           "mode": "markers",
           "name": "Mali",
           "orientation": "v",
           "showlegend": true,
           "x": [
            623
           ],
           "xaxis": "x",
           "y": [
            12
           ],
           "yaxis": "y",
           "type": "scatter"
          },
          {
           "hovertemplate": "<b>%{hovertext}</b><br><br>Country=Europe<br>Date=2019<br>armée=%{x}<br>juif=%{y}<br>Size=%{marker.size}<extra></extra>",
           "hovertext": [
            "Europe"
           ],
           "ids": [
            "Europe"
           ],
           "legendgroup": "Europe",
           "marker": {
            "color": "#FECB52",
            "size": [
             22
            ],
            "sizemode": "area",
            "sizeref": 0.03206611570247934,
            "symbol": "circle"
           },
           "mode": "markers",
           "name": "Europe",
           "orientation": "v",
           "showlegend": true,
           "x": [
            130
           ],
           "xaxis": "x",
           "y": [
            173
           ],
           "yaxis": "y",
           "type": "scatter"
          },
          {
           "hovertemplate": "<b>%{hovertext}</b><br><br>Country=Afrique<br>Date=2019<br>armée=%{x}<br>juif=%{y}<br>Size=%{marker.size}<extra></extra>",
           "hovertext": [
            "Afrique"
           ],
           "ids": [
            "Afrique"
           ],
           "legendgroup": "Afrique",
           "marker": {
            "color": "#636efa",
            "size": [
             20
            ],
            "sizemode": "area",
            "sizeref": 0.03206611570247934,
            "symbol": "circle"
           },
           "mode": "markers",
           "name": "Afrique",
           "orientation": "v",
           "showlegend": true,
           "x": [
            390
           ],
           "xaxis": "x",
           "y": [
            2
           ],
           "yaxis": "y",
           "type": "scatter"
          },
          {
           "hovertemplate": "<b>%{hovertext}</b><br><br>Country=Chine<br>Date=2019<br>armée=%{x}<br>juif=%{y}<br>Size=%{marker.size}<extra></extra>",
           "hovertext": [
            "Chine"
           ],
           "ids": [
            "Chine"
           ],
           "legendgroup": "Chine",
           "marker": {
            "color": "#EF553B",
            "size": [
             17
            ],
            "sizemode": "area",
            "sizeref": 0.03206611570247934,
            "symbol": "circle"
           },
           "mode": "markers",
           "name": "Chine",
           "orientation": "v",
           "showlegend": true,
           "x": [
            169
           ],
           "xaxis": "x",
           "y": [
            19
           ],
           "yaxis": "y",
           "type": "scatter"
          },
          {
           "hovertemplate": "<b>%{hovertext}</b><br><br>Country=Royaume-Uni<br>Date=2019<br>armée=%{x}<br>juif=%{y}<br>Size=%{marker.size}<extra></extra>",
           "hovertext": [
            "Royaume-Uni"
           ],
           "ids": [
            "Royaume-Uni"
           ],
           "legendgroup": "Royaume-Uni",
           "marker": {
            "color": "#00cc96",
            "size": [
             17
            ],
            "sizemode": "area",
            "sizeref": 0.03206611570247934,
            "symbol": "circle"
           },
           "mode": "markers",
           "name": "Royaume-Uni",
           "orientation": "v",
           "showlegend": true,
           "x": [
            93
           ],
           "xaxis": "x",
           "y": [
            53
           ],
           "yaxis": "y",
           "type": "scatter"
          },
          {
           "hovertemplate": "<b>%{hovertext}</b><br><br>Country=Turquie<br>Date=2019<br>armée=%{x}<br>juif=%{y}<br>Size=%{marker.size}<extra></extra>",
           "hovertext": [
            "Turquie"
           ],
           "ids": [
            "Turquie"
           ],
           "legendgroup": "Turquie",
           "marker": {
            "color": "#ab63fa",
            "size": [
             16
            ],
            "sizemode": "area",
            "sizeref": 0.03206611570247934,
            "symbol": "circle"
           },
           "mode": "markers",
           "name": "Turquie",
           "orientation": "v",
           "showlegend": true,
           "x": [
            217
           ],
           "xaxis": "x",
           "y": [
            52
           ],
           "yaxis": "y",
           "type": "scatter"
          },
          {
           "hovertemplate": "<b>%{hovertext}</b><br><br>Country=Alger<br>Date=2019<br>armée=%{x}<br>juif=%{y}<br>Size=%{marker.size}<extra></extra>",
           "hovertext": [
            "Alger"
           ],
           "ids": [
            "Alger"
           ],
           "legendgroup": "Alger",
           "marker": {
            "color": "#FFA15A",
            "size": [
             16
            ],
            "sizemode": "area",
            "sizeref": 0.03206611570247934,
            "symbol": "circle"
           },
           "mode": "markers",
           "name": "Alger",
           "orientation": "v",
           "showlegend": true,
           "x": [
            37
           ],
           "xaxis": "x",
           "y": [
            1
           ],
           "yaxis": "y",
           "type": "scatter"
          },
          {
           "hovertemplate": "<b>%{hovertext}</b><br><br>Country=République<br>Date=2019<br>armée=%{x}<br>juif=%{y}<br>Size=%{marker.size}<extra></extra>",
           "hovertext": [
            "République"
           ],
           "ids": [
            "République"
           ],
           "legendgroup": "République",
           "marker": {
            "color": "#19d3f3",
            "size": [
             16
            ],
            "sizemode": "area",
            "sizeref": 0.03206611570247934,
            "symbol": "circle"
           },
           "mode": "markers",
           "name": "République",
           "orientation": "v",
           "showlegend": true,
           "x": [
            9
           ],
           "xaxis": "x",
           "y": [
            101
           ],
           "yaxis": "y",
           "type": "scatter"
          },
          {
           "hovertemplate": "<b>%{hovertext}</b><br><br>Country=Sahel<br>Date=2019<br>armée=%{x}<br>juif=%{y}<br>Size=%{marker.size}<extra></extra>",
           "hovertext": [
            "Sahel"
           ],
           "ids": [
            "Sahel"
           ],
           "legendgroup": "Sahel",
           "marker": {
            "color": "#FF6692",
            "size": [
             15
            ],
            "sizemode": "area",
            "sizeref": 0.03206611570247934,
            "symbol": "circle"
           },
           "mode": "markers",
           "name": "Sahel",
           "orientation": "v",
           "showlegend": true,
           "x": [
            383
           ],
           "xaxis": "x",
           "y": [
            0
           ],
           "yaxis": "y",
           "type": "scatter"
          },
          {
           "hovertemplate": "<b>%{hovertext}</b><br><br>Country=Moscou<br>Date=2019<br>armée=%{x}<br>juif=%{y}<br>Size=%{marker.size}<extra></extra>",
           "hovertext": [
            "Moscou"
           ],
           "ids": [
            "Moscou"
           ],
           "legendgroup": "Moscou",
           "marker": {
            "color": "#B6E880",
            "size": [
             14
            ],
            "sizemode": "area",
            "sizeref": 0.03206611570247934,
            "symbol": "circle"
           },
           "mode": "markers",
           "name": "Moscou",
           "orientation": "v",
           "showlegend": true,
           "x": [
            138
           ],
           "xaxis": "x",
           "y": [
            82
           ],
           "yaxis": "y",
           "type": "scatter"
          },
          {
           "hovertemplate": "<b>%{hovertext}</b><br><br>Country=Italie<br>Date=2019<br>armée=%{x}<br>juif=%{y}<br>Size=%{marker.size}<extra></extra>",
           "hovertext": [
            "Italie"
           ],
           "ids": [
            "Italie"
           ],
           "legendgroup": "Italie",
           "marker": {
            "color": "#FF97FF",
            "size": [
             14
            ],
            "sizemode": "area",
            "sizeref": 0.03206611570247934,
            "symbol": "circle"
           },
           "mode": "markers",
           "name": "Italie",
           "orientation": "v",
           "showlegend": true,
           "x": [
            52
           ],
           "xaxis": "x",
           "y": [
            27
           ],
           "yaxis": "y",
           "type": "scatter"
          },
          {
           "hovertemplate": "<b>%{hovertext}</b><br><br>Country=Syrie<br>Date=2019<br>armée=%{x}<br>juif=%{y}<br>Size=%{marker.size}<extra></extra>",
           "hovertext": [
            "Syrie"
           ],
           "ids": [
            "Syrie"
           ],
           "legendgroup": "Syrie",
           "marker": {
            "color": "#FECB52",
            "size": [
             14
            ],
            "sizemode": "area",
            "sizeref": 0.03206611570247934,
            "symbol": "circle"
           },
           "mode": "markers",
           "name": "Syrie",
           "orientation": "v",
           "showlegend": true,
           "x": [
            464
           ],
           "xaxis": "x",
           "y": [
            79
           ],
           "yaxis": "y",
           "type": "scatter"
          }
         ],
         "name": "2019"
        },
        {
         "data": [
          {
           "hovertemplate": "<b>%{hovertext}</b><br><br>Country=Paris<br>Date=2020<br>armée=%{x}<br>juif=%{y}<br>Size=%{marker.size}<extra></extra>",
           "hovertext": [
            "Paris"
           ],
           "ids": [
            "Paris"
           ],
           "legendgroup": "Paris",
           "marker": {
            "color": "#636efa",
            "size": [
             97
            ],
            "sizemode": "area",
            "sizeref": 0.03206611570247934,
            "symbol": "circle"
           },
           "mode": "markers",
           "name": "Paris",
           "orientation": "v",
           "showlegend": true,
           "x": [
            375
           ],
           "xaxis": "x",
           "y": [
            286
           ],
           "yaxis": "y",
           "type": "scatter"
          },
          {
           "hovertemplate": "<b>%{hovertext}</b><br><br>Country=États-Unis<br>Date=2020<br>armée=%{x}<br>juif=%{y}<br>Size=%{marker.size}<extra></extra>",
           "hovertext": [
            "États-Unis"
           ],
           "ids": [
            "États-Unis"
           ],
           "legendgroup": "États-Unis",
           "marker": {
            "color": "#EF553B",
            "size": [
             76
            ],
            "sizemode": "area",
            "sizeref": 0.03206611570247934,
            "symbol": "circle"
           },
           "mode": "markers",
           "name": "États-Unis",
           "orientation": "v",
           "showlegend": true,
           "x": [
            695
           ],
           "xaxis": "x",
           "y": [
            207
           ],
           "yaxis": "y",
           "type": "scatter"
          },
          {
           "hovertemplate": "<b>%{hovertext}</b><br><br>Country=État<br>Date=2020<br>armée=%{x}<br>juif=%{y}<br>Size=%{marker.size}<extra></extra>",
           "hovertext": [
            "État"
           ],
           "ids": [
            "État"
           ],
           "legendgroup": "État",
           "marker": {
            "color": "#00cc96",
            "size": [
             70
            ],
            "sizemode": "area",
            "sizeref": 0.03206611570247934,
            "symbol": "circle"
           },
           "mode": "markers",
           "name": "État",
           "orientation": "v",
           "showlegend": true,
           "x": [
            603
           ],
           "xaxis": "x",
           "y": [
            366
           ],
           "yaxis": "y",
           "type": "scatter"
          },
          {
           "hovertemplate": "<b>%{hovertext}</b><br><br>Country=Israël<br>Date=2020<br>armée=%{x}<br>juif=%{y}<br>Size=%{marker.size}<extra></extra>",
           "hovertext": [
            "Israël"
           ],
           "ids": [
            "Israël"
           ],
           "legendgroup": "Israël",
           "marker": {
            "color": "#ab63fa",
            "size": [
             42
            ],
            "sizemode": "area",
            "sizeref": 0.03206611570247934,
            "symbol": "circle"
           },
           "mode": "markers",
           "name": "Israël",
           "orientation": "v",
           "showlegend": true,
           "x": [
            339
           ],
           "xaxis": "x",
           "y": [
            532
           ],
           "yaxis": "y",
           "type": "scatter"
          },
          {
           "hovertemplate": "<b>%{hovertext}</b><br><br>Country=Russie<br>Date=2020<br>armée=%{x}<br>juif=%{y}<br>Size=%{marker.size}<extra></extra>",
           "hovertext": [
            "Russie"
           ],
           "ids": [
            "Russie"
           ],
           "legendgroup": "Russie",
           "marker": {
            "color": "#FFA15A",
            "size": [
             36
            ],
            "sizemode": "area",
            "sizeref": 0.03206611570247934,
            "symbol": "circle"
           },
           "mode": "markers",
           "name": "Russie",
           "orientation": "v",
           "showlegend": true,
           "x": [
            546
           ],
           "xaxis": "x",
           "y": [
            75
           ],
           "yaxis": "y",
           "type": "scatter"
          },
          {
           "hovertemplate": "<b>%{hovertext}</b><br><br>Country=Allemagne<br>Date=2020<br>armée=%{x}<br>juif=%{y}<br>Size=%{marker.size}<extra></extra>",
           "hovertext": [
            "Allemagne"
           ],
           "ids": [
            "Allemagne"
           ],
           "legendgroup": "Allemagne",
           "marker": {
            "color": "#19d3f3",
            "size": [
             33
            ],
            "sizemode": "area",
            "sizeref": 0.03206611570247934,
            "symbol": "circle"
           },
           "mode": "markers",
           "name": "Allemagne",
           "orientation": "v",
           "showlegend": true,
           "x": [
            183
           ],
           "xaxis": "x",
           "y": [
            265
           ],
           "yaxis": "y",
           "type": "scatter"
          },
          {
           "hovertemplate": "<b>%{hovertext}</b><br><br>Country=Algérie<br>Date=2020<br>armée=%{x}<br>juif=%{y}<br>Size=%{marker.size}<extra></extra>",
           "hovertext": [
            "Algérie"
           ],
           "ids": [
            "Algérie"
           ],
           "legendgroup": "Algérie",
           "marker": {
            "color": "#FF6692",
            "size": [
             26
            ],
            "sizemode": "area",
            "sizeref": 0.03206611570247934,
            "symbol": "circle"
           },
           "mode": "markers",
           "name": "Algérie",
           "orientation": "v",
           "showlegend": true,
           "x": [
            201
           ],
           "xaxis": "x",
           "y": [
            46
           ],
           "yaxis": "y",
           "type": "scatter"
          },
          {
           "hovertemplate": "<b>%{hovertext}</b><br><br>Country=Iran<br>Date=2020<br>armée=%{x}<br>juif=%{y}<br>Size=%{marker.size}<extra></extra>",
           "hovertext": [
            "Iran"
           ],
           "ids": [
            "Iran"
           ],
           "legendgroup": "Iran",
           "marker": {
            "color": "#B6E880",
            "size": [
             26
            ],
            "sizemode": "area",
            "sizeref": 0.03206611570247934,
            "symbol": "circle"
           },
           "mode": "markers",
           "name": "Iran",
           "orientation": "v",
           "showlegend": true,
           "x": [
            224
           ],
           "xaxis": "x",
           "y": [
            21
           ],
           "yaxis": "y",
           "type": "scatter"
          },
          {
           "hovertemplate": "<b>%{hovertext}</b><br><br>Country=Mali<br>Date=2020<br>armée=%{x}<br>juif=%{y}<br>Size=%{marker.size}<extra></extra>",
           "hovertext": [
            "Mali"
           ],
           "ids": [
            "Mali"
           ],
           "legendgroup": "Mali",
           "marker": {
            "color": "#FF97FF",
            "size": [
             23
            ],
            "sizemode": "area",
            "sizeref": 0.03206611570247934,
            "symbol": "circle"
           },
           "mode": "markers",
           "name": "Mali",
           "orientation": "v",
           "showlegend": true,
           "x": [
            660
           ],
           "xaxis": "x",
           "y": [
            5
           ],
           "yaxis": "y",
           "type": "scatter"
          },
          {
           "hovertemplate": "<b>%{hovertext}</b><br><br>Country=Europe<br>Date=2020<br>armée=%{x}<br>juif=%{y}<br>Size=%{marker.size}<extra></extra>",
           "hovertext": [
            "Europe"
           ],
           "ids": [
            "Europe"
           ],
           "legendgroup": "Europe",
           "marker": {
            "color": "#FECB52",
            "size": [
             22
            ],
            "sizemode": "area",
            "sizeref": 0.03206611570247934,
            "symbol": "circle"
           },
           "mode": "markers",
           "name": "Europe",
           "orientation": "v",
           "showlegend": true,
           "x": [
            187
           ],
           "xaxis": "x",
           "y": [
            158
           ],
           "yaxis": "y",
           "type": "scatter"
          },
          {
           "hovertemplate": "<b>%{hovertext}</b><br><br>Country=Afrique<br>Date=2020<br>armée=%{x}<br>juif=%{y}<br>Size=%{marker.size}<extra></extra>",
           "hovertext": [
            "Afrique"
           ],
           "ids": [
            "Afrique"
           ],
           "legendgroup": "Afrique",
           "marker": {
            "color": "#636efa",
            "size": [
             20
            ],
            "sizemode": "area",
            "sizeref": 0.03206611570247934,
            "symbol": "circle"
           },
           "mode": "markers",
           "name": "Afrique",
           "orientation": "v",
           "showlegend": true,
           "x": [
            532
           ],
           "xaxis": "x",
           "y": [
            10
           ],
           "yaxis": "y",
           "type": "scatter"
          },
          {
           "hovertemplate": "<b>%{hovertext}</b><br><br>Country=Chine<br>Date=2020<br>armée=%{x}<br>juif=%{y}<br>Size=%{marker.size}<extra></extra>",
           "hovertext": [
            "Chine"
           ],
           "ids": [
            "Chine"
           ],
           "legendgroup": "Chine",
           "marker": {
            "color": "#EF553B",
            "size": [
             17
            ],
            "sizemode": "area",
            "sizeref": 0.03206611570247934,
            "symbol": "circle"
           },
           "mode": "markers",
           "name": "Chine",
           "orientation": "v",
           "showlegend": true,
           "x": [
            229
           ],
           "xaxis": "x",
           "y": [
            18
           ],
           "yaxis": "y",
           "type": "scatter"
          },
          {
           "hovertemplate": "<b>%{hovertext}</b><br><br>Country=Royaume-Uni<br>Date=2020<br>armée=%{x}<br>juif=%{y}<br>Size=%{marker.size}<extra></extra>",
           "hovertext": [
            "Royaume-Uni"
           ],
           "ids": [
            "Royaume-Uni"
           ],
           "legendgroup": "Royaume-Uni",
           "marker": {
            "color": "#00cc96",
            "size": [
             17
            ],
            "sizemode": "area",
            "sizeref": 0.03206611570247934,
            "symbol": "circle"
           },
           "mode": "markers",
           "name": "Royaume-Uni",
           "orientation": "v",
           "showlegend": true,
           "x": [
            35
           ],
           "xaxis": "x",
           "y": [
            41
           ],
           "yaxis": "y",
           "type": "scatter"
          },
          {
           "hovertemplate": "<b>%{hovertext}</b><br><br>Country=Turquie<br>Date=2020<br>armée=%{x}<br>juif=%{y}<br>Size=%{marker.size}<extra></extra>",
           "hovertext": [
            "Turquie"
           ],
           "ids": [
            "Turquie"
           ],
           "legendgroup": "Turquie",
           "marker": {
            "color": "#ab63fa",
            "size": [
             16
            ],
            "sizemode": "area",
            "sizeref": 0.03206611570247934,
            "symbol": "circle"
           },
           "mode": "markers",
           "name": "Turquie",
           "orientation": "v",
           "showlegend": true,
           "x": [
            264
           ],
           "xaxis": "x",
           "y": [
            26
           ],
           "yaxis": "y",
           "type": "scatter"
          },
          {
           "hovertemplate": "<b>%{hovertext}</b><br><br>Country=Alger<br>Date=2020<br>armée=%{x}<br>juif=%{y}<br>Size=%{marker.size}<extra></extra>",
           "hovertext": [
            "Alger"
           ],
           "ids": [
            "Alger"
           ],
           "legendgroup": "Alger",
           "marker": {
            "color": "#FFA15A",
            "size": [
             16
            ],
            "sizemode": "area",
            "sizeref": 0.03206611570247934,
            "symbol": "circle"
           },
           "mode": "markers",
           "name": "Alger",
           "orientation": "v",
           "showlegend": true,
           "x": [
            108
           ],
           "xaxis": "x",
           "y": [
            4
           ],
           "yaxis": "y",
           "type": "scatter"
          },
          {
           "hovertemplate": "<b>%{hovertext}</b><br><br>Country=République<br>Date=2020<br>armée=%{x}<br>juif=%{y}<br>Size=%{marker.size}<extra></extra>",
           "hovertext": [
            "République"
           ],
           "ids": [
            "République"
           ],
           "legendgroup": "République",
           "marker": {
            "color": "#19d3f3",
            "size": [
             16
            ],
            "sizemode": "area",
            "sizeref": 0.03206611570247934,
            "symbol": "circle"
           },
           "mode": "markers",
           "name": "République",
           "orientation": "v",
           "showlegend": true,
           "x": [
            38
           ],
           "xaxis": "x",
           "y": [
            119
           ],
           "yaxis": "y",
           "type": "scatter"
          },
          {
           "hovertemplate": "<b>%{hovertext}</b><br><br>Country=Sahel<br>Date=2020<br>armée=%{x}<br>juif=%{y}<br>Size=%{marker.size}<extra></extra>",
           "hovertext": [
            "Sahel"
           ],
           "ids": [
            "Sahel"
           ],
           "legendgroup": "Sahel",
           "marker": {
            "color": "#FF6692",
            "size": [
             15
            ],
            "sizemode": "area",
            "sizeref": 0.03206611570247934,
            "symbol": "circle"
           },
           "mode": "markers",
           "name": "Sahel",
           "orientation": "v",
           "showlegend": true,
           "x": [
            350
           ],
           "xaxis": "x",
           "y": [
            2
           ],
           "yaxis": "y",
           "type": "scatter"
          },
          {
           "hovertemplate": "<b>%{hovertext}</b><br><br>Country=Moscou<br>Date=2020<br>armée=%{x}<br>juif=%{y}<br>Size=%{marker.size}<extra></extra>",
           "hovertext": [
            "Moscou"
           ],
           "ids": [
            "Moscou"
           ],
           "legendgroup": "Moscou",
           "marker": {
            "color": "#B6E880",
            "size": [
             14
            ],
            "sizemode": "area",
            "sizeref": 0.03206611570247934,
            "symbol": "circle"
           },
           "mode": "markers",
           "name": "Moscou",
           "orientation": "v",
           "showlegend": true,
           "x": [
            164
           ],
           "xaxis": "x",
           "y": [
            30
           ],
           "yaxis": "y",
           "type": "scatter"
          },
          {
           "hovertemplate": "<b>%{hovertext}</b><br><br>Country=Italie<br>Date=2020<br>armée=%{x}<br>juif=%{y}<br>Size=%{marker.size}<extra></extra>",
           "hovertext": [
            "Italie"
           ],
           "ids": [
            "Italie"
           ],
           "legendgroup": "Italie",
           "marker": {
            "color": "#FF97FF",
            "size": [
             14
            ],
            "sizemode": "area",
            "sizeref": 0.03206611570247934,
            "symbol": "circle"
           },
           "mode": "markers",
           "name": "Italie",
           "orientation": "v",
           "showlegend": true,
           "x": [
            47
           ],
           "xaxis": "x",
           "y": [
            14
           ],
           "yaxis": "y",
           "type": "scatter"
          },
          {
           "hovertemplate": "<b>%{hovertext}</b><br><br>Country=Syrie<br>Date=2020<br>armée=%{x}<br>juif=%{y}<br>Size=%{marker.size}<extra></extra>",
           "hovertext": [
            "Syrie"
           ],
           "ids": [
            "Syrie"
           ],
           "legendgroup": "Syrie",
           "marker": {
            "color": "#FECB52",
            "size": [
             14
            ],
            "sizemode": "area",
            "sizeref": 0.03206611570247934,
            "symbol": "circle"
           },
           "mode": "markers",
           "name": "Syrie",
           "orientation": "v",
           "showlegend": true,
           "x": [
            208
           ],
           "xaxis": "x",
           "y": [
            13
           ],
           "yaxis": "y",
           "type": "scatter"
          }
         ],
         "name": "2020"
        },
        {
         "data": [
          {
           "hovertemplate": "<b>%{hovertext}</b><br><br>Country=Paris<br>Date=2021<br>armée=%{x}<br>juif=%{y}<br>Size=%{marker.size}<extra></extra>",
           "hovertext": [
            "Paris"
           ],
           "ids": [
            "Paris"
           ],
           "legendgroup": "Paris",
           "marker": {
            "color": "#636efa",
            "size": [
             97
            ],
            "sizemode": "area",
            "sizeref": 0.03206611570247934,
            "symbol": "circle"
           },
           "mode": "markers",
           "name": "Paris",
           "orientation": "v",
           "showlegend": true,
           "x": [
            953
           ],
           "xaxis": "x",
           "y": [
            308
           ],
           "yaxis": "y",
           "type": "scatter"
          },
          {
           "hovertemplate": "<b>%{hovertext}</b><br><br>Country=États-Unis<br>Date=2021<br>armée=%{x}<br>juif=%{y}<br>Size=%{marker.size}<extra></extra>",
           "hovertext": [
            "États-Unis"
           ],
           "ids": [
            "États-Unis"
           ],
           "legendgroup": "États-Unis",
           "marker": {
            "color": "#EF553B",
            "size": [
             76
            ],
            "sizemode": "area",
            "sizeref": 0.03206611570247934,
            "symbol": "circle"
           },
           "mode": "markers",
           "name": "États-Unis",
           "orientation": "v",
           "showlegend": true,
           "x": [
            1446
           ],
           "xaxis": "x",
           "y": [
            342
           ],
           "yaxis": "y",
           "type": "scatter"
          },
          {
           "hovertemplate": "<b>%{hovertext}</b><br><br>Country=État<br>Date=2021<br>armée=%{x}<br>juif=%{y}<br>Size=%{marker.size}<extra></extra>",
           "hovertext": [
            "État"
           ],
           "ids": [
            "État"
           ],
           "legendgroup": "État",
           "marker": {
            "color": "#00cc96",
            "size": [
             70
            ],
            "sizemode": "area",
            "sizeref": 0.03206611570247934,
            "symbol": "circle"
           },
           "mode": "markers",
           "name": "État",
           "orientation": "v",
           "showlegend": true,
           "x": [
            1153
           ],
           "xaxis": "x",
           "y": [
            442
           ],
           "yaxis": "y",
           "type": "scatter"
          },
          {
           "hovertemplate": "<b>%{hovertext}</b><br><br>Country=Israël<br>Date=2021<br>armée=%{x}<br>juif=%{y}<br>Size=%{marker.size}<extra></extra>",
           "hovertext": [
            "Israël"
           ],
           "ids": [
            "Israël"
           ],
           "legendgroup": "Israël",
           "marker": {
            "color": "#ab63fa",
            "size": [
             42
            ],
            "sizemode": "area",
            "sizeref": 0.03206611570247934,
            "symbol": "circle"
           },
           "mode": "markers",
           "name": "Israël",
           "orientation": "v",
           "showlegend": true,
           "x": [
            558
           ],
           "xaxis": "x",
           "y": [
            525
           ],
           "yaxis": "y",
           "type": "scatter"
          },
          {
           "hovertemplate": "<b>%{hovertext}</b><br><br>Country=Russie<br>Date=2021<br>armée=%{x}<br>juif=%{y}<br>Size=%{marker.size}<extra></extra>",
           "hovertext": [
            "Russie"
           ],
           "ids": [
            "Russie"
           ],
           "legendgroup": "Russie",
           "marker": {
            "color": "#FFA15A",
            "size": [
             36
            ],
            "sizemode": "area",
            "sizeref": 0.03206611570247934,
            "symbol": "circle"
           },
           "mode": "markers",
           "name": "Russie",
           "orientation": "v",
           "showlegend": true,
           "x": [
            1213
           ],
           "xaxis": "x",
           "y": [
            119
           ],
           "yaxis": "y",
           "type": "scatter"
          },
          {
           "hovertemplate": "<b>%{hovertext}</b><br><br>Country=Allemagne<br>Date=2021<br>armée=%{x}<br>juif=%{y}<br>Size=%{marker.size}<extra></extra>",
           "hovertext": [
            "Allemagne"
           ],
           "ids": [
            "Allemagne"
           ],
           "legendgroup": "Allemagne",
           "marker": {
            "color": "#19d3f3",
            "size": [
             33
            ],
            "sizemode": "area",
            "sizeref": 0.03206611570247934,
            "symbol": "circle"
           },
           "mode": "markers",
           "name": "Allemagne",
           "orientation": "v",
           "showlegend": true,
           "x": [
            373
           ],
           "xaxis": "x",
           "y": [
            282
           ],
           "yaxis": "y",
           "type": "scatter"
          },
          {
           "hovertemplate": "<b>%{hovertext}</b><br><br>Country=Algérie<br>Date=2021<br>armée=%{x}<br>juif=%{y}<br>Size=%{marker.size}<extra></extra>",
           "hovertext": [
            "Algérie"
           ],
           "ids": [
            "Algérie"
           ],
           "legendgroup": "Algérie",
           "marker": {
            "color": "#FF6692",
            "size": [
             26
            ],
            "sizemode": "area",
            "sizeref": 0.03206611570247934,
            "symbol": "circle"
           },
           "mode": "markers",
           "name": "Algérie",
           "orientation": "v",
           "showlegend": true,
           "x": [
            294
           ],
           "xaxis": "x",
           "y": [
            161
           ],
           "yaxis": "y",
           "type": "scatter"
          },
          {
           "hovertemplate": "<b>%{hovertext}</b><br><br>Country=Iran<br>Date=2021<br>armée=%{x}<br>juif=%{y}<br>Size=%{marker.size}<extra></extra>",
           "hovertext": [
            "Iran"
           ],
           "ids": [
            "Iran"
           ],
           "legendgroup": "Iran",
           "marker": {
            "color": "#B6E880",
            "size": [
             26
            ],
            "sizemode": "area",
            "sizeref": 0.03206611570247934,
            "symbol": "circle"
           },
           "mode": "markers",
           "name": "Iran",
           "orientation": "v",
           "showlegend": true,
           "x": [
            655
           ],
           "xaxis": "x",
           "y": [
            120
           ],
           "yaxis": "y",
           "type": "scatter"
          },
          {
           "hovertemplate": "<b>%{hovertext}</b><br><br>Country=Mali<br>Date=2021<br>armée=%{x}<br>juif=%{y}<br>Size=%{marker.size}<extra></extra>",
           "hovertext": [
            "Mali"
           ],
           "ids": [
            "Mali"
           ],
           "legendgroup": "Mali",
           "marker": {
            "color": "#FF97FF",
            "size": [
             23
            ],
            "sizemode": "area",
            "sizeref": 0.03206611570247934,
            "symbol": "circle"
           },
           "mode": "markers",
           "name": "Mali",
           "orientation": "v",
           "showlegend": true,
           "x": [
            1360
           ],
           "xaxis": "x",
           "y": [
            7
           ],
           "yaxis": "y",
           "type": "scatter"
          },
          {
           "hovertemplate": "<b>%{hovertext}</b><br><br>Country=Europe<br>Date=2021<br>armée=%{x}<br>juif=%{y}<br>Size=%{marker.size}<extra></extra>",
           "hovertext": [
            "Europe"
           ],
           "ids": [
            "Europe"
           ],
           "legendgroup": "Europe",
           "marker": {
            "color": "#FECB52",
            "size": [
             22
            ],
            "sizemode": "area",
            "sizeref": 0.03206611570247934,
            "symbol": "circle"
           },
           "mode": "markers",
           "name": "Europe",
           "orientation": "v",
           "showlegend": true,
           "x": [
            288
           ],
           "xaxis": "x",
           "y": [
            233
           ],
           "yaxis": "y",
           "type": "scatter"
          },
          {
           "hovertemplate": "<b>%{hovertext}</b><br><br>Country=Afrique<br>Date=2021<br>armée=%{x}<br>juif=%{y}<br>Size=%{marker.size}<extra></extra>",
           "hovertext": [
            "Afrique"
           ],
           "ids": [
            "Afrique"
           ],
           "legendgroup": "Afrique",
           "marker": {
            "color": "#636efa",
            "size": [
             20
            ],
            "sizemode": "area",
            "sizeref": 0.03206611570247934,
            "symbol": "circle"
           },
           "mode": "markers",
           "name": "Afrique",
           "orientation": "v",
           "showlegend": true,
           "x": [
            1198
           ],
           "xaxis": "x",
           "y": [
            14
           ],
           "yaxis": "y",
           "type": "scatter"
          },
          {
           "hovertemplate": "<b>%{hovertext}</b><br><br>Country=Chine<br>Date=2021<br>armée=%{x}<br>juif=%{y}<br>Size=%{marker.size}<extra></extra>",
           "hovertext": [
            "Chine"
           ],
           "ids": [
            "Chine"
           ],
           "legendgroup": "Chine",
           "marker": {
            "color": "#EF553B",
            "size": [
             17
            ],
            "sizemode": "area",
            "sizeref": 0.03206611570247934,
            "symbol": "circle"
           },
           "mode": "markers",
           "name": "Chine",
           "orientation": "v",
           "showlegend": true,
           "x": [
            601
           ],
           "xaxis": "x",
           "y": [
            38
           ],
           "yaxis": "y",
           "type": "scatter"
          },
          {
           "hovertemplate": "<b>%{hovertext}</b><br><br>Country=Royaume-Uni<br>Date=2021<br>armée=%{x}<br>juif=%{y}<br>Size=%{marker.size}<extra></extra>",
           "hovertext": [
            "Royaume-Uni"
           ],
           "ids": [
            "Royaume-Uni"
           ],
           "legendgroup": "Royaume-Uni",
           "marker": {
            "color": "#00cc96",
            "size": [
             17
            ],
            "sizemode": "area",
            "sizeref": 0.03206611570247934,
            "symbol": "circle"
           },
           "mode": "markers",
           "name": "Royaume-Uni",
           "orientation": "v",
           "showlegend": true,
           "x": [
            156
           ],
           "xaxis": "x",
           "y": [
            16
           ],
           "yaxis": "y",
           "type": "scatter"
          },
          {
           "hovertemplate": "<b>%{hovertext}</b><br><br>Country=Turquie<br>Date=2021<br>armée=%{x}<br>juif=%{y}<br>Size=%{marker.size}<extra></extra>",
           "hovertext": [
            "Turquie"
           ],
           "ids": [
            "Turquie"
           ],
           "legendgroup": "Turquie",
           "marker": {
            "color": "#ab63fa",
            "size": [
             16
            ],
            "sizemode": "area",
            "sizeref": 0.03206611570247934,
            "symbol": "circle"
           },
           "mode": "markers",
           "name": "Turquie",
           "orientation": "v",
           "showlegend": true,
           "x": [
            246
           ],
           "xaxis": "x",
           "y": [
            100
           ],
           "yaxis": "y",
           "type": "scatter"
          },
          {
           "hovertemplate": "<b>%{hovertext}</b><br><br>Country=Alger<br>Date=2021<br>armée=%{x}<br>juif=%{y}<br>Size=%{marker.size}<extra></extra>",
           "hovertext": [
            "Alger"
           ],
           "ids": [
            "Alger"
           ],
           "legendgroup": "Alger",
           "marker": {
            "color": "#FFA15A",
            "size": [
             16
            ],
            "sizemode": "area",
            "sizeref": 0.03206611570247934,
            "symbol": "circle"
           },
           "mode": "markers",
           "name": "Alger",
           "orientation": "v",
           "showlegend": true,
           "x": [
            151
           ],
           "xaxis": "x",
           "y": [
            3
           ],
           "yaxis": "y",
           "type": "scatter"
          },
          {
           "hovertemplate": "<b>%{hovertext}</b><br><br>Country=République<br>Date=2021<br>armée=%{x}<br>juif=%{y}<br>Size=%{marker.size}<extra></extra>",
           "hovertext": [
            "République"
           ],
           "ids": [
            "République"
           ],
           "legendgroup": "République",
           "marker": {
            "color": "#19d3f3",
            "size": [
             16
            ],
            "sizemode": "area",
            "sizeref": 0.03206611570247934,
            "symbol": "circle"
           },
           "mode": "markers",
           "name": "République",
           "orientation": "v",
           "showlegend": true,
           "x": [
            34
           ],
           "xaxis": "x",
           "y": [
            238
           ],
           "yaxis": "y",
           "type": "scatter"
          },
          {
           "hovertemplate": "<b>%{hovertext}</b><br><br>Country=Sahel<br>Date=2021<br>armée=%{x}<br>juif=%{y}<br>Size=%{marker.size}<extra></extra>",
           "hovertext": [
            "Sahel"
           ],
           "ids": [
            "Sahel"
           ],
           "legendgroup": "Sahel",
           "marker": {
            "color": "#FF6692",
            "size": [
             15
            ],
            "sizemode": "area",
            "sizeref": 0.03206611570247934,
            "symbol": "circle"
           },
           "mode": "markers",
           "name": "Sahel",
           "orientation": "v",
           "showlegend": true,
           "x": [
            1032
           ],
           "xaxis": "x",
           "y": [
            4
           ],
           "yaxis": "y",
           "type": "scatter"
          },
          {
           "hovertemplate": "<b>%{hovertext}</b><br><br>Country=Moscou<br>Date=2021<br>armée=%{x}<br>juif=%{y}<br>Size=%{marker.size}<extra></extra>",
           "hovertext": [
            "Moscou"
           ],
           "ids": [
            "Moscou"
           ],
           "legendgroup": "Moscou",
           "marker": {
            "color": "#B6E880",
            "size": [
             14
            ],
            "sizemode": "area",
            "sizeref": 0.03206611570247934,
            "symbol": "circle"
           },
           "mode": "markers",
           "name": "Moscou",
           "orientation": "v",
           "showlegend": true,
           "x": [
            285
           ],
           "xaxis": "x",
           "y": [
            5
           ],
           "yaxis": "y",
           "type": "scatter"
          },
          {
           "hovertemplate": "<b>%{hovertext}</b><br><br>Country=Italie<br>Date=2021<br>armée=%{x}<br>juif=%{y}<br>Size=%{marker.size}<extra></extra>",
           "hovertext": [
            "Italie"
           ],
           "ids": [
            "Italie"
           ],
           "legendgroup": "Italie",
           "marker": {
            "color": "#FF97FF",
            "size": [
             14
            ],
            "sizemode": "area",
            "sizeref": 0.03206611570247934,
            "symbol": "circle"
           },
           "mode": "markers",
           "name": "Italie",
           "orientation": "v",
           "showlegend": true,
           "x": [
            65
           ],
           "xaxis": "x",
           "y": [
            9
           ],
           "yaxis": "y",
           "type": "scatter"
          },
          {
           "hovertemplate": "<b>%{hovertext}</b><br><br>Country=Syrie<br>Date=2021<br>armée=%{x}<br>juif=%{y}<br>Size=%{marker.size}<extra></extra>",
           "hovertext": [
            "Syrie"
           ],
           "ids": [
            "Syrie"
           ],
           "legendgroup": "Syrie",
           "marker": {
            "color": "#FECB52",
            "size": [
             14
            ],
            "sizemode": "area",
            "sizeref": 0.03206611570247934,
            "symbol": "circle"
           },
           "mode": "markers",
           "name": "Syrie",
           "orientation": "v",
           "showlegend": true,
           "x": [
            223
           ],
           "xaxis": "x",
           "y": [
            100
           ],
           "yaxis": "y",
           "type": "scatter"
          }
         ],
         "name": "2021"
        }
       ],
       "config": {
        "plotlyServerURL": "https://plot.ly"
       }
      },
      "text/html": "<div>                            <div id=\"80f1f783-f915-4c2a-97ce-0e7920969f58\" class=\"plotly-graph-div\" style=\"height:800px; width:1000px;\"></div>            <script type=\"text/javascript\">                require([\"plotly\"], function(Plotly) {                    window.PLOTLYENV=window.PLOTLYENV || {};                                    if (document.getElementById(\"80f1f783-f915-4c2a-97ce-0e7920969f58\")) {                    Plotly.newPlot(                        \"80f1f783-f915-4c2a-97ce-0e7920969f58\",                        [{\"hovertemplate\":\"<b>%{hovertext}</b><br><br>Country=Paris<br>Date=2018<br>arm\\u00e9e=%{x}<br>juif=%{y}<br>Size=%{marker.size}<extra></extra>\",\"hovertext\":[\"Paris\"],\"ids\":[\"Paris\"],\"legendgroup\":\"Paris\",\"marker\":{\"color\":\"#636efa\",\"size\":[97],\"sizemode\":\"area\",\"sizeref\":0.03206611570247934,\"symbol\":\"circle\"},\"mode\":\"markers\",\"name\":\"Paris\",\"orientation\":\"v\",\"showlegend\":true,\"x\":[0],\"xaxis\":\"x\",\"y\":[1],\"yaxis\":\"y\",\"type\":\"scatter\"},{\"hovertemplate\":\"<b>%{hovertext}</b><br><br>Country=\\u00c9tats-Unis<br>Date=2018<br>arm\\u00e9e=%{x}<br>juif=%{y}<br>Size=%{marker.size}<extra></extra>\",\"hovertext\":[\"\\u00c9tats-Unis\"],\"ids\":[\"\\u00c9tats-Unis\"],\"legendgroup\":\"\\u00c9tats-Unis\",\"marker\":{\"color\":\"#EF553B\",\"size\":[76],\"sizemode\":\"area\",\"sizeref\":0.03206611570247934,\"symbol\":\"circle\"},\"mode\":\"markers\",\"name\":\"\\u00c9tats-Unis\",\"orientation\":\"v\",\"showlegend\":true,\"x\":[0],\"xaxis\":\"x\",\"y\":[0],\"yaxis\":\"y\",\"type\":\"scatter\"},{\"hovertemplate\":\"<b>%{hovertext}</b><br><br>Country=\\u00c9tat<br>Date=2018<br>arm\\u00e9e=%{x}<br>juif=%{y}<br>Size=%{marker.size}<extra></extra>\",\"hovertext\":[\"\\u00c9tat\"],\"ids\":[\"\\u00c9tat\"],\"legendgroup\":\"\\u00c9tat\",\"marker\":{\"color\":\"#00cc96\",\"size\":[70],\"sizemode\":\"area\",\"sizeref\":0.03206611570247934,\"symbol\":\"circle\"},\"mode\":\"markers\",\"name\":\"\\u00c9tat\",\"orientation\":\"v\",\"showlegend\":true,\"x\":[0],\"xaxis\":\"x\",\"y\":[0],\"yaxis\":\"y\",\"type\":\"scatter\"},{\"hovertemplate\":\"<b>%{hovertext}</b><br><br>Country=Isra\\u00ebl<br>Date=2018<br>arm\\u00e9e=%{x}<br>juif=%{y}<br>Size=%{marker.size}<extra></extra>\",\"hovertext\":[\"Isra\\u00ebl\"],\"ids\":[\"Isra\\u00ebl\"],\"legendgroup\":\"Isra\\u00ebl\",\"marker\":{\"color\":\"#ab63fa\",\"size\":[42],\"sizemode\":\"area\",\"sizeref\":0.03206611570247934,\"symbol\":\"circle\"},\"mode\":\"markers\",\"name\":\"Isra\\u00ebl\",\"orientation\":\"v\",\"showlegend\":true,\"x\":[0],\"xaxis\":\"x\",\"y\":[0],\"yaxis\":\"y\",\"type\":\"scatter\"},{\"hovertemplate\":\"<b>%{hovertext}</b><br><br>Country=Russie<br>Date=2018<br>arm\\u00e9e=%{x}<br>juif=%{y}<br>Size=%{marker.size}<extra></extra>\",\"hovertext\":[\"Russie\"],\"ids\":[\"Russie\"],\"legendgroup\":\"Russie\",\"marker\":{\"color\":\"#FFA15A\",\"size\":[36],\"sizemode\":\"area\",\"sizeref\":0.03206611570247934,\"symbol\":\"circle\"},\"mode\":\"markers\",\"name\":\"Russie\",\"orientation\":\"v\",\"showlegend\":true,\"x\":[0],\"xaxis\":\"x\",\"y\":[0],\"yaxis\":\"y\",\"type\":\"scatter\"},{\"hovertemplate\":\"<b>%{hovertext}</b><br><br>Country=Allemagne<br>Date=2018<br>arm\\u00e9e=%{x}<br>juif=%{y}<br>Size=%{marker.size}<extra></extra>\",\"hovertext\":[\"Allemagne\"],\"ids\":[\"Allemagne\"],\"legendgroup\":\"Allemagne\",\"marker\":{\"color\":\"#19d3f3\",\"size\":[33],\"sizemode\":\"area\",\"sizeref\":0.03206611570247934,\"symbol\":\"circle\"},\"mode\":\"markers\",\"name\":\"Allemagne\",\"orientation\":\"v\",\"showlegend\":true,\"x\":[0],\"xaxis\":\"x\",\"y\":[0],\"yaxis\":\"y\",\"type\":\"scatter\"},{\"hovertemplate\":\"<b>%{hovertext}</b><br><br>Country=Alg\\u00e9rie<br>Date=2018<br>arm\\u00e9e=%{x}<br>juif=%{y}<br>Size=%{marker.size}<extra></extra>\",\"hovertext\":[\"Alg\\u00e9rie\"],\"ids\":[\"Alg\\u00e9rie\"],\"legendgroup\":\"Alg\\u00e9rie\",\"marker\":{\"color\":\"#FF6692\",\"size\":[26],\"sizemode\":\"area\",\"sizeref\":0.03206611570247934,\"symbol\":\"circle\"},\"mode\":\"markers\",\"name\":\"Alg\\u00e9rie\",\"orientation\":\"v\",\"showlegend\":true,\"x\":[0],\"xaxis\":\"x\",\"y\":[0],\"yaxis\":\"y\",\"type\":\"scatter\"},{\"hovertemplate\":\"<b>%{hovertext}</b><br><br>Country=Iran<br>Date=2018<br>arm\\u00e9e=%{x}<br>juif=%{y}<br>Size=%{marker.size}<extra></extra>\",\"hovertext\":[\"Iran\"],\"ids\":[\"Iran\"],\"legendgroup\":\"Iran\",\"marker\":{\"color\":\"#B6E880\",\"size\":[26],\"sizemode\":\"area\",\"sizeref\":0.03206611570247934,\"symbol\":\"circle\"},\"mode\":\"markers\",\"name\":\"Iran\",\"orientation\":\"v\",\"showlegend\":true,\"x\":[0],\"xaxis\":\"x\",\"y\":[0],\"yaxis\":\"y\",\"type\":\"scatter\"},{\"hovertemplate\":\"<b>%{hovertext}</b><br><br>Country=Mali<br>Date=2018<br>arm\\u00e9e=%{x}<br>juif=%{y}<br>Size=%{marker.size}<extra></extra>\",\"hovertext\":[\"Mali\"],\"ids\":[\"Mali\"],\"legendgroup\":\"Mali\",\"marker\":{\"color\":\"#FF97FF\",\"size\":[23],\"sizemode\":\"area\",\"sizeref\":0.03206611570247934,\"symbol\":\"circle\"},\"mode\":\"markers\",\"name\":\"Mali\",\"orientation\":\"v\",\"showlegend\":true,\"x\":[0],\"xaxis\":\"x\",\"y\":[0],\"yaxis\":\"y\",\"type\":\"scatter\"},{\"hovertemplate\":\"<b>%{hovertext}</b><br><br>Country=Europe<br>Date=2018<br>arm\\u00e9e=%{x}<br>juif=%{y}<br>Size=%{marker.size}<extra></extra>\",\"hovertext\":[\"Europe\"],\"ids\":[\"Europe\"],\"legendgroup\":\"Europe\",\"marker\":{\"color\":\"#FECB52\",\"size\":[22],\"sizemode\":\"area\",\"sizeref\":0.03206611570247934,\"symbol\":\"circle\"},\"mode\":\"markers\",\"name\":\"Europe\",\"orientation\":\"v\",\"showlegend\":true,\"x\":[0],\"xaxis\":\"x\",\"y\":[0],\"yaxis\":\"y\",\"type\":\"scatter\"},{\"hovertemplate\":\"<b>%{hovertext}</b><br><br>Country=Afrique<br>Date=2018<br>arm\\u00e9e=%{x}<br>juif=%{y}<br>Size=%{marker.size}<extra></extra>\",\"hovertext\":[\"Afrique\"],\"ids\":[\"Afrique\"],\"legendgroup\":\"Afrique\",\"marker\":{\"color\":\"#636efa\",\"size\":[20],\"sizemode\":\"area\",\"sizeref\":0.03206611570247934,\"symbol\":\"circle\"},\"mode\":\"markers\",\"name\":\"Afrique\",\"orientation\":\"v\",\"showlegend\":true,\"x\":[0],\"xaxis\":\"x\",\"y\":[0],\"yaxis\":\"y\",\"type\":\"scatter\"},{\"hovertemplate\":\"<b>%{hovertext}</b><br><br>Country=Chine<br>Date=2018<br>arm\\u00e9e=%{x}<br>juif=%{y}<br>Size=%{marker.size}<extra></extra>\",\"hovertext\":[\"Chine\"],\"ids\":[\"Chine\"],\"legendgroup\":\"Chine\",\"marker\":{\"color\":\"#EF553B\",\"size\":[17],\"sizemode\":\"area\",\"sizeref\":0.03206611570247934,\"symbol\":\"circle\"},\"mode\":\"markers\",\"name\":\"Chine\",\"orientation\":\"v\",\"showlegend\":true,\"x\":[0],\"xaxis\":\"x\",\"y\":[0],\"yaxis\":\"y\",\"type\":\"scatter\"},{\"hovertemplate\":\"<b>%{hovertext}</b><br><br>Country=Royaume-Uni<br>Date=2018<br>arm\\u00e9e=%{x}<br>juif=%{y}<br>Size=%{marker.size}<extra></extra>\",\"hovertext\":[\"Royaume-Uni\"],\"ids\":[\"Royaume-Uni\"],\"legendgroup\":\"Royaume-Uni\",\"marker\":{\"color\":\"#00cc96\",\"size\":[17],\"sizemode\":\"area\",\"sizeref\":0.03206611570247934,\"symbol\":\"circle\"},\"mode\":\"markers\",\"name\":\"Royaume-Uni\",\"orientation\":\"v\",\"showlegend\":true,\"x\":[0],\"xaxis\":\"x\",\"y\":[0],\"yaxis\":\"y\",\"type\":\"scatter\"},{\"hovertemplate\":\"<b>%{hovertext}</b><br><br>Country=Turquie<br>Date=2018<br>arm\\u00e9e=%{x}<br>juif=%{y}<br>Size=%{marker.size}<extra></extra>\",\"hovertext\":[\"Turquie\"],\"ids\":[\"Turquie\"],\"legendgroup\":\"Turquie\",\"marker\":{\"color\":\"#ab63fa\",\"size\":[16],\"sizemode\":\"area\",\"sizeref\":0.03206611570247934,\"symbol\":\"circle\"},\"mode\":\"markers\",\"name\":\"Turquie\",\"orientation\":\"v\",\"showlegend\":true,\"x\":[0],\"xaxis\":\"x\",\"y\":[0],\"yaxis\":\"y\",\"type\":\"scatter\"},{\"hovertemplate\":\"<b>%{hovertext}</b><br><br>Country=Alger<br>Date=2018<br>arm\\u00e9e=%{x}<br>juif=%{y}<br>Size=%{marker.size}<extra></extra>\",\"hovertext\":[\"Alger\"],\"ids\":[\"Alger\"],\"legendgroup\":\"Alger\",\"marker\":{\"color\":\"#FFA15A\",\"size\":[16],\"sizemode\":\"area\",\"sizeref\":0.03206611570247934,\"symbol\":\"circle\"},\"mode\":\"markers\",\"name\":\"Alger\",\"orientation\":\"v\",\"showlegend\":true,\"x\":[0],\"xaxis\":\"x\",\"y\":[0],\"yaxis\":\"y\",\"type\":\"scatter\"},{\"hovertemplate\":\"<b>%{hovertext}</b><br><br>Country=R\\u00e9publique<br>Date=2018<br>arm\\u00e9e=%{x}<br>juif=%{y}<br>Size=%{marker.size}<extra></extra>\",\"hovertext\":[\"R\\u00e9publique\"],\"ids\":[\"R\\u00e9publique\"],\"legendgroup\":\"R\\u00e9publique\",\"marker\":{\"color\":\"#19d3f3\",\"size\":[16],\"sizemode\":\"area\",\"sizeref\":0.03206611570247934,\"symbol\":\"circle\"},\"mode\":\"markers\",\"name\":\"R\\u00e9publique\",\"orientation\":\"v\",\"showlegend\":true,\"x\":[0],\"xaxis\":\"x\",\"y\":[0],\"yaxis\":\"y\",\"type\":\"scatter\"},{\"hovertemplate\":\"<b>%{hovertext}</b><br><br>Country=Sahel<br>Date=2018<br>arm\\u00e9e=%{x}<br>juif=%{y}<br>Size=%{marker.size}<extra></extra>\",\"hovertext\":[\"Sahel\"],\"ids\":[\"Sahel\"],\"legendgroup\":\"Sahel\",\"marker\":{\"color\":\"#FF6692\",\"size\":[15],\"sizemode\":\"area\",\"sizeref\":0.03206611570247934,\"symbol\":\"circle\"},\"mode\":\"markers\",\"name\":\"Sahel\",\"orientation\":\"v\",\"showlegend\":true,\"x\":[0],\"xaxis\":\"x\",\"y\":[0],\"yaxis\":\"y\",\"type\":\"scatter\"},{\"hovertemplate\":\"<b>%{hovertext}</b><br><br>Country=Moscou<br>Date=2018<br>arm\\u00e9e=%{x}<br>juif=%{y}<br>Size=%{marker.size}<extra></extra>\",\"hovertext\":[\"Moscou\"],\"ids\":[\"Moscou\"],\"legendgroup\":\"Moscou\",\"marker\":{\"color\":\"#B6E880\",\"size\":[14],\"sizemode\":\"area\",\"sizeref\":0.03206611570247934,\"symbol\":\"circle\"},\"mode\":\"markers\",\"name\":\"Moscou\",\"orientation\":\"v\",\"showlegend\":true,\"x\":[0],\"xaxis\":\"x\",\"y\":[0],\"yaxis\":\"y\",\"type\":\"scatter\"},{\"hovertemplate\":\"<b>%{hovertext}</b><br><br>Country=Italie<br>Date=2018<br>arm\\u00e9e=%{x}<br>juif=%{y}<br>Size=%{marker.size}<extra></extra>\",\"hovertext\":[\"Italie\"],\"ids\":[\"Italie\"],\"legendgroup\":\"Italie\",\"marker\":{\"color\":\"#FF97FF\",\"size\":[14],\"sizemode\":\"area\",\"sizeref\":0.03206611570247934,\"symbol\":\"circle\"},\"mode\":\"markers\",\"name\":\"Italie\",\"orientation\":\"v\",\"showlegend\":true,\"x\":[0],\"xaxis\":\"x\",\"y\":[1],\"yaxis\":\"y\",\"type\":\"scatter\"},{\"hovertemplate\":\"<b>%{hovertext}</b><br><br>Country=Syrie<br>Date=2018<br>arm\\u00e9e=%{x}<br>juif=%{y}<br>Size=%{marker.size}<extra></extra>\",\"hovertext\":[\"Syrie\"],\"ids\":[\"Syrie\"],\"legendgroup\":\"Syrie\",\"marker\":{\"color\":\"#FECB52\",\"size\":[14],\"sizemode\":\"area\",\"sizeref\":0.03206611570247934,\"symbol\":\"circle\"},\"mode\":\"markers\",\"name\":\"Syrie\",\"orientation\":\"v\",\"showlegend\":true,\"x\":[0],\"xaxis\":\"x\",\"y\":[0],\"yaxis\":\"y\",\"type\":\"scatter\"}],                        {\"template\":{\"data\":{\"histogram2dcontour\":[{\"type\":\"histogram2dcontour\",\"colorbar\":{\"outlinewidth\":0,\"ticks\":\"\"},\"colorscale\":[[0.0,\"#0d0887\"],[0.1111111111111111,\"#46039f\"],[0.2222222222222222,\"#7201a8\"],[0.3333333333333333,\"#9c179e\"],[0.4444444444444444,\"#bd3786\"],[0.5555555555555556,\"#d8576b\"],[0.6666666666666666,\"#ed7953\"],[0.7777777777777778,\"#fb9f3a\"],[0.8888888888888888,\"#fdca26\"],[1.0,\"#f0f921\"]]}],\"choropleth\":[{\"type\":\"choropleth\",\"colorbar\":{\"outlinewidth\":0,\"ticks\":\"\"}}],\"histogram2d\":[{\"type\":\"histogram2d\",\"colorbar\":{\"outlinewidth\":0,\"ticks\":\"\"},\"colorscale\":[[0.0,\"#0d0887\"],[0.1111111111111111,\"#46039f\"],[0.2222222222222222,\"#7201a8\"],[0.3333333333333333,\"#9c179e\"],[0.4444444444444444,\"#bd3786\"],[0.5555555555555556,\"#d8576b\"],[0.6666666666666666,\"#ed7953\"],[0.7777777777777778,\"#fb9f3a\"],[0.8888888888888888,\"#fdca26\"],[1.0,\"#f0f921\"]]}],\"heatmap\":[{\"type\":\"heatmap\",\"colorbar\":{\"outlinewidth\":0,\"ticks\":\"\"},\"colorscale\":[[0.0,\"#0d0887\"],[0.1111111111111111,\"#46039f\"],[0.2222222222222222,\"#7201a8\"],[0.3333333333333333,\"#9c179e\"],[0.4444444444444444,\"#bd3786\"],[0.5555555555555556,\"#d8576b\"],[0.6666666666666666,\"#ed7953\"],[0.7777777777777778,\"#fb9f3a\"],[0.8888888888888888,\"#fdca26\"],[1.0,\"#f0f921\"]]}],\"heatmapgl\":[{\"type\":\"heatmapgl\",\"colorbar\":{\"outlinewidth\":0,\"ticks\":\"\"},\"colorscale\":[[0.0,\"#0d0887\"],[0.1111111111111111,\"#46039f\"],[0.2222222222222222,\"#7201a8\"],[0.3333333333333333,\"#9c179e\"],[0.4444444444444444,\"#bd3786\"],[0.5555555555555556,\"#d8576b\"],[0.6666666666666666,\"#ed7953\"],[0.7777777777777778,\"#fb9f3a\"],[0.8888888888888888,\"#fdca26\"],[1.0,\"#f0f921\"]]}],\"contourcarpet\":[{\"type\":\"contourcarpet\",\"colorbar\":{\"outlinewidth\":0,\"ticks\":\"\"}}],\"contour\":[{\"type\":\"contour\",\"colorbar\":{\"outlinewidth\":0,\"ticks\":\"\"},\"colorscale\":[[0.0,\"#0d0887\"],[0.1111111111111111,\"#46039f\"],[0.2222222222222222,\"#7201a8\"],[0.3333333333333333,\"#9c179e\"],[0.4444444444444444,\"#bd3786\"],[0.5555555555555556,\"#d8576b\"],[0.6666666666666666,\"#ed7953\"],[0.7777777777777778,\"#fb9f3a\"],[0.8888888888888888,\"#fdca26\"],[1.0,\"#f0f921\"]]}],\"surface\":[{\"type\":\"surface\",\"colorbar\":{\"outlinewidth\":0,\"ticks\":\"\"},\"colorscale\":[[0.0,\"#0d0887\"],[0.1111111111111111,\"#46039f\"],[0.2222222222222222,\"#7201a8\"],[0.3333333333333333,\"#9c179e\"],[0.4444444444444444,\"#bd3786\"],[0.5555555555555556,\"#d8576b\"],[0.6666666666666666,\"#ed7953\"],[0.7777777777777778,\"#fb9f3a\"],[0.8888888888888888,\"#fdca26\"],[1.0,\"#f0f921\"]]}],\"mesh3d\":[{\"type\":\"mesh3d\",\"colorbar\":{\"outlinewidth\":0,\"ticks\":\"\"}}],\"scatter\":[{\"marker\":{\"line\":{\"color\":\"#283442\"}},\"type\":\"scatter\"}],\"parcoords\":[{\"type\":\"parcoords\",\"line\":{\"colorbar\":{\"outlinewidth\":0,\"ticks\":\"\"}}}],\"scatterpolargl\":[{\"type\":\"scatterpolargl\",\"marker\":{\"colorbar\":{\"outlinewidth\":0,\"ticks\":\"\"}}}],\"bar\":[{\"error_x\":{\"color\":\"#f2f5fa\"},\"error_y\":{\"color\":\"#f2f5fa\"},\"marker\":{\"line\":{\"color\":\"rgb(17,17,17)\",\"width\":0.5},\"pattern\":{\"fillmode\":\"overlay\",\"size\":10,\"solidity\":0.2}},\"type\":\"bar\"}],\"scattergeo\":[{\"type\":\"scattergeo\",\"marker\":{\"colorbar\":{\"outlinewidth\":0,\"ticks\":\"\"}}}],\"scatterpolar\":[{\"type\":\"scatterpolar\",\"marker\":{\"colorbar\":{\"outlinewidth\":0,\"ticks\":\"\"}}}],\"histogram\":[{\"marker\":{\"pattern\":{\"fillmode\":\"overlay\",\"size\":10,\"solidity\":0.2}},\"type\":\"histogram\"}],\"scattergl\":[{\"marker\":{\"line\":{\"color\":\"#283442\"}},\"type\":\"scattergl\"}],\"scatter3d\":[{\"type\":\"scatter3d\",\"line\":{\"colorbar\":{\"outlinewidth\":0,\"ticks\":\"\"}},\"marker\":{\"colorbar\":{\"outlinewidth\":0,\"ticks\":\"\"}}}],\"scattermapbox\":[{\"type\":\"scattermapbox\",\"marker\":{\"colorbar\":{\"outlinewidth\":0,\"ticks\":\"\"}}}],\"scatterternary\":[{\"type\":\"scatterternary\",\"marker\":{\"colorbar\":{\"outlinewidth\":0,\"ticks\":\"\"}}}],\"scattercarpet\":[{\"type\":\"scattercarpet\",\"marker\":{\"colorbar\":{\"outlinewidth\":0,\"ticks\":\"\"}}}],\"carpet\":[{\"aaxis\":{\"endlinecolor\":\"#A2B1C6\",\"gridcolor\":\"#506784\",\"linecolor\":\"#506784\",\"minorgridcolor\":\"#506784\",\"startlinecolor\":\"#A2B1C6\"},\"baxis\":{\"endlinecolor\":\"#A2B1C6\",\"gridcolor\":\"#506784\",\"linecolor\":\"#506784\",\"minorgridcolor\":\"#506784\",\"startlinecolor\":\"#A2B1C6\"},\"type\":\"carpet\"}],\"table\":[{\"cells\":{\"fill\":{\"color\":\"#506784\"},\"line\":{\"color\":\"rgb(17,17,17)\"}},\"header\":{\"fill\":{\"color\":\"#2a3f5f\"},\"line\":{\"color\":\"rgb(17,17,17)\"}},\"type\":\"table\"}],\"barpolar\":[{\"marker\":{\"line\":{\"color\":\"rgb(17,17,17)\",\"width\":0.5},\"pattern\":{\"fillmode\":\"overlay\",\"size\":10,\"solidity\":0.2}},\"type\":\"barpolar\"}],\"pie\":[{\"automargin\":true,\"type\":\"pie\"}]},\"layout\":{\"autotypenumbers\":\"strict\",\"colorway\":[\"#636efa\",\"#EF553B\",\"#00cc96\",\"#ab63fa\",\"#FFA15A\",\"#19d3f3\",\"#FF6692\",\"#B6E880\",\"#FF97FF\",\"#FECB52\"],\"font\":{\"color\":\"#f2f5fa\"},\"hovermode\":\"closest\",\"hoverlabel\":{\"align\":\"left\"},\"paper_bgcolor\":\"rgb(17,17,17)\",\"plot_bgcolor\":\"rgb(17,17,17)\",\"polar\":{\"bgcolor\":\"rgb(17,17,17)\",\"angularaxis\":{\"gridcolor\":\"#506784\",\"linecolor\":\"#506784\",\"ticks\":\"\"},\"radialaxis\":{\"gridcolor\":\"#506784\",\"linecolor\":\"#506784\",\"ticks\":\"\"}},\"ternary\":{\"bgcolor\":\"rgb(17,17,17)\",\"aaxis\":{\"gridcolor\":\"#506784\",\"linecolor\":\"#506784\",\"ticks\":\"\"},\"baxis\":{\"gridcolor\":\"#506784\",\"linecolor\":\"#506784\",\"ticks\":\"\"},\"caxis\":{\"gridcolor\":\"#506784\",\"linecolor\":\"#506784\",\"ticks\":\"\"}},\"coloraxis\":{\"colorbar\":{\"outlinewidth\":0,\"ticks\":\"\"}},\"colorscale\":{\"sequential\":[[0.0,\"#0d0887\"],[0.1111111111111111,\"#46039f\"],[0.2222222222222222,\"#7201a8\"],[0.3333333333333333,\"#9c179e\"],[0.4444444444444444,\"#bd3786\"],[0.5555555555555556,\"#d8576b\"],[0.6666666666666666,\"#ed7953\"],[0.7777777777777778,\"#fb9f3a\"],[0.8888888888888888,\"#fdca26\"],[1.0,\"#f0f921\"]],\"sequentialminus\":[[0.0,\"#0d0887\"],[0.1111111111111111,\"#46039f\"],[0.2222222222222222,\"#7201a8\"],[0.3333333333333333,\"#9c179e\"],[0.4444444444444444,\"#bd3786\"],[0.5555555555555556,\"#d8576b\"],[0.6666666666666666,\"#ed7953\"],[0.7777777777777778,\"#fb9f3a\"],[0.8888888888888888,\"#fdca26\"],[1.0,\"#f0f921\"]],\"diverging\":[[0,\"#8e0152\"],[0.1,\"#c51b7d\"],[0.2,\"#de77ae\"],[0.3,\"#f1b6da\"],[0.4,\"#fde0ef\"],[0.5,\"#f7f7f7\"],[0.6,\"#e6f5d0\"],[0.7,\"#b8e186\"],[0.8,\"#7fbc41\"],[0.9,\"#4d9221\"],[1,\"#276419\"]]},\"xaxis\":{\"gridcolor\":\"#283442\",\"linecolor\":\"#506784\",\"ticks\":\"\",\"title\":{\"standoff\":15},\"zerolinecolor\":\"#283442\",\"automargin\":true,\"zerolinewidth\":2},\"yaxis\":{\"gridcolor\":\"#283442\",\"linecolor\":\"#506784\",\"ticks\":\"\",\"title\":{\"standoff\":15},\"zerolinecolor\":\"#283442\",\"automargin\":true,\"zerolinewidth\":2},\"scene\":{\"xaxis\":{\"backgroundcolor\":\"rgb(17,17,17)\",\"gridcolor\":\"#506784\",\"linecolor\":\"#506784\",\"showbackground\":true,\"ticks\":\"\",\"zerolinecolor\":\"#C8D4E3\",\"gridwidth\":2},\"yaxis\":{\"backgroundcolor\":\"rgb(17,17,17)\",\"gridcolor\":\"#506784\",\"linecolor\":\"#506784\",\"showbackground\":true,\"ticks\":\"\",\"zerolinecolor\":\"#C8D4E3\",\"gridwidth\":2},\"zaxis\":{\"backgroundcolor\":\"rgb(17,17,17)\",\"gridcolor\":\"#506784\",\"linecolor\":\"#506784\",\"showbackground\":true,\"ticks\":\"\",\"zerolinecolor\":\"#C8D4E3\",\"gridwidth\":2}},\"shapedefaults\":{\"line\":{\"color\":\"#f2f5fa\"}},\"annotationdefaults\":{\"arrowcolor\":\"#f2f5fa\",\"arrowhead\":0,\"arrowwidth\":1},\"geo\":{\"bgcolor\":\"rgb(17,17,17)\",\"landcolor\":\"rgb(17,17,17)\",\"subunitcolor\":\"#506784\",\"showland\":true,\"showlakes\":true,\"lakecolor\":\"rgb(17,17,17)\"},\"title\":{\"x\":0.05},\"updatemenudefaults\":{\"bgcolor\":\"#506784\",\"borderwidth\":0},\"sliderdefaults\":{\"bgcolor\":\"#C8D4E3\",\"borderwidth\":1,\"bordercolor\":\"rgb(17,17,17)\",\"tickwidth\":0},\"mapbox\":{\"style\":\"dark\"}}},\"xaxis\":{\"anchor\":\"y\",\"domain\":[0.0,1.0],\"title\":{\"text\":\"arm\\u00e9e\"},\"range\":[0,1446]},\"yaxis\":{\"anchor\":\"x\",\"domain\":[0.0,1.0],\"title\":{\"text\":\"juif\"},\"range\":[0,532]},\"legend\":{\"title\":{\"text\":\"Country\"},\"tracegroupgap\":0,\"itemsizing\":\"constant\"},\"margin\":{\"t\":60},\"height\":800,\"width\":1000,\"updatemenus\":[{\"buttons\":[{\"args\":[null,{\"frame\":{\"duration\":500,\"redraw\":false},\"mode\":\"immediate\",\"fromcurrent\":true,\"transition\":{\"duration\":500,\"easing\":\"linear\"}}],\"label\":\"&#9654;\",\"method\":\"animate\"},{\"args\":[[null],{\"frame\":{\"duration\":0,\"redraw\":false},\"mode\":\"immediate\",\"fromcurrent\":true,\"transition\":{\"duration\":0,\"easing\":\"linear\"}}],\"label\":\"&#9724;\",\"method\":\"animate\"}],\"direction\":\"left\",\"pad\":{\"r\":10,\"t\":70},\"showactive\":false,\"type\":\"buttons\",\"x\":0.1,\"xanchor\":\"right\",\"y\":0,\"yanchor\":\"top\"}],\"sliders\":[{\"active\":0,\"currentvalue\":{\"prefix\":\"Date=\"},\"len\":0.9,\"pad\":{\"b\":10,\"t\":60},\"steps\":[{\"args\":[[\"2018\"],{\"frame\":{\"duration\":0,\"redraw\":false},\"mode\":\"immediate\",\"fromcurrent\":true,\"transition\":{\"duration\":0,\"easing\":\"linear\"}}],\"label\":\"2018\",\"method\":\"animate\"},{\"args\":[[\"2019\"],{\"frame\":{\"duration\":0,\"redraw\":false},\"mode\":\"immediate\",\"fromcurrent\":true,\"transition\":{\"duration\":0,\"easing\":\"linear\"}}],\"label\":\"2019\",\"method\":\"animate\"},{\"args\":[[\"2020\"],{\"frame\":{\"duration\":0,\"redraw\":false},\"mode\":\"immediate\",\"fromcurrent\":true,\"transition\":{\"duration\":0,\"easing\":\"linear\"}}],\"label\":\"2020\",\"method\":\"animate\"},{\"args\":[[\"2021\"],{\"frame\":{\"duration\":0,\"redraw\":false},\"mode\":\"immediate\",\"fromcurrent\":true,\"transition\":{\"duration\":0,\"easing\":\"linear\"}}],\"label\":\"2021\",\"method\":\"animate\"}],\"x\":0.1,\"xanchor\":\"left\",\"y\":0,\"yanchor\":\"top\"}]},                        {\"responsive\": true}                    ).then(function(){\n                            Plotly.addFrames('80f1f783-f915-4c2a-97ce-0e7920969f58', [{\"data\":[{\"hovertemplate\":\"<b>%{hovertext}</b><br><br>Country=Paris<br>Date=2018<br>arm\\u00e9e=%{x}<br>juif=%{y}<br>Size=%{marker.size}<extra></extra>\",\"hovertext\":[\"Paris\"],\"ids\":[\"Paris\"],\"legendgroup\":\"Paris\",\"marker\":{\"color\":\"#636efa\",\"size\":[97],\"sizemode\":\"area\",\"sizeref\":0.03206611570247934,\"symbol\":\"circle\"},\"mode\":\"markers\",\"name\":\"Paris\",\"orientation\":\"v\",\"showlegend\":true,\"x\":[0],\"xaxis\":\"x\",\"y\":[1],\"yaxis\":\"y\",\"type\":\"scatter\"},{\"hovertemplate\":\"<b>%{hovertext}</b><br><br>Country=\\u00c9tats-Unis<br>Date=2018<br>arm\\u00e9e=%{x}<br>juif=%{y}<br>Size=%{marker.size}<extra></extra>\",\"hovertext\":[\"\\u00c9tats-Unis\"],\"ids\":[\"\\u00c9tats-Unis\"],\"legendgroup\":\"\\u00c9tats-Unis\",\"marker\":{\"color\":\"#EF553B\",\"size\":[76],\"sizemode\":\"area\",\"sizeref\":0.03206611570247934,\"symbol\":\"circle\"},\"mode\":\"markers\",\"name\":\"\\u00c9tats-Unis\",\"orientation\":\"v\",\"showlegend\":true,\"x\":[0],\"xaxis\":\"x\",\"y\":[0],\"yaxis\":\"y\",\"type\":\"scatter\"},{\"hovertemplate\":\"<b>%{hovertext}</b><br><br>Country=\\u00c9tat<br>Date=2018<br>arm\\u00e9e=%{x}<br>juif=%{y}<br>Size=%{marker.size}<extra></extra>\",\"hovertext\":[\"\\u00c9tat\"],\"ids\":[\"\\u00c9tat\"],\"legendgroup\":\"\\u00c9tat\",\"marker\":{\"color\":\"#00cc96\",\"size\":[70],\"sizemode\":\"area\",\"sizeref\":0.03206611570247934,\"symbol\":\"circle\"},\"mode\":\"markers\",\"name\":\"\\u00c9tat\",\"orientation\":\"v\",\"showlegend\":true,\"x\":[0],\"xaxis\":\"x\",\"y\":[0],\"yaxis\":\"y\",\"type\":\"scatter\"},{\"hovertemplate\":\"<b>%{hovertext}</b><br><br>Country=Isra\\u00ebl<br>Date=2018<br>arm\\u00e9e=%{x}<br>juif=%{y}<br>Size=%{marker.size}<extra></extra>\",\"hovertext\":[\"Isra\\u00ebl\"],\"ids\":[\"Isra\\u00ebl\"],\"legendgroup\":\"Isra\\u00ebl\",\"marker\":{\"color\":\"#ab63fa\",\"size\":[42],\"sizemode\":\"area\",\"sizeref\":0.03206611570247934,\"symbol\":\"circle\"},\"mode\":\"markers\",\"name\":\"Isra\\u00ebl\",\"orientation\":\"v\",\"showlegend\":true,\"x\":[0],\"xaxis\":\"x\",\"y\":[0],\"yaxis\":\"y\",\"type\":\"scatter\"},{\"hovertemplate\":\"<b>%{hovertext}</b><br><br>Country=Russie<br>Date=2018<br>arm\\u00e9e=%{x}<br>juif=%{y}<br>Size=%{marker.size}<extra></extra>\",\"hovertext\":[\"Russie\"],\"ids\":[\"Russie\"],\"legendgroup\":\"Russie\",\"marker\":{\"color\":\"#FFA15A\",\"size\":[36],\"sizemode\":\"area\",\"sizeref\":0.03206611570247934,\"symbol\":\"circle\"},\"mode\":\"markers\",\"name\":\"Russie\",\"orientation\":\"v\",\"showlegend\":true,\"x\":[0],\"xaxis\":\"x\",\"y\":[0],\"yaxis\":\"y\",\"type\":\"scatter\"},{\"hovertemplate\":\"<b>%{hovertext}</b><br><br>Country=Allemagne<br>Date=2018<br>arm\\u00e9e=%{x}<br>juif=%{y}<br>Size=%{marker.size}<extra></extra>\",\"hovertext\":[\"Allemagne\"],\"ids\":[\"Allemagne\"],\"legendgroup\":\"Allemagne\",\"marker\":{\"color\":\"#19d3f3\",\"size\":[33],\"sizemode\":\"area\",\"sizeref\":0.03206611570247934,\"symbol\":\"circle\"},\"mode\":\"markers\",\"name\":\"Allemagne\",\"orientation\":\"v\",\"showlegend\":true,\"x\":[0],\"xaxis\":\"x\",\"y\":[0],\"yaxis\":\"y\",\"type\":\"scatter\"},{\"hovertemplate\":\"<b>%{hovertext}</b><br><br>Country=Alg\\u00e9rie<br>Date=2018<br>arm\\u00e9e=%{x}<br>juif=%{y}<br>Size=%{marker.size}<extra></extra>\",\"hovertext\":[\"Alg\\u00e9rie\"],\"ids\":[\"Alg\\u00e9rie\"],\"legendgroup\":\"Alg\\u00e9rie\",\"marker\":{\"color\":\"#FF6692\",\"size\":[26],\"sizemode\":\"area\",\"sizeref\":0.03206611570247934,\"symbol\":\"circle\"},\"mode\":\"markers\",\"name\":\"Alg\\u00e9rie\",\"orientation\":\"v\",\"showlegend\":true,\"x\":[0],\"xaxis\":\"x\",\"y\":[0],\"yaxis\":\"y\",\"type\":\"scatter\"},{\"hovertemplate\":\"<b>%{hovertext}</b><br><br>Country=Iran<br>Date=2018<br>arm\\u00e9e=%{x}<br>juif=%{y}<br>Size=%{marker.size}<extra></extra>\",\"hovertext\":[\"Iran\"],\"ids\":[\"Iran\"],\"legendgroup\":\"Iran\",\"marker\":{\"color\":\"#B6E880\",\"size\":[26],\"sizemode\":\"area\",\"sizeref\":0.03206611570247934,\"symbol\":\"circle\"},\"mode\":\"markers\",\"name\":\"Iran\",\"orientation\":\"v\",\"showlegend\":true,\"x\":[0],\"xaxis\":\"x\",\"y\":[0],\"yaxis\":\"y\",\"type\":\"scatter\"},{\"hovertemplate\":\"<b>%{hovertext}</b><br><br>Country=Mali<br>Date=2018<br>arm\\u00e9e=%{x}<br>juif=%{y}<br>Size=%{marker.size}<extra></extra>\",\"hovertext\":[\"Mali\"],\"ids\":[\"Mali\"],\"legendgroup\":\"Mali\",\"marker\":{\"color\":\"#FF97FF\",\"size\":[23],\"sizemode\":\"area\",\"sizeref\":0.03206611570247934,\"symbol\":\"circle\"},\"mode\":\"markers\",\"name\":\"Mali\",\"orientation\":\"v\",\"showlegend\":true,\"x\":[0],\"xaxis\":\"x\",\"y\":[0],\"yaxis\":\"y\",\"type\":\"scatter\"},{\"hovertemplate\":\"<b>%{hovertext}</b><br><br>Country=Europe<br>Date=2018<br>arm\\u00e9e=%{x}<br>juif=%{y}<br>Size=%{marker.size}<extra></extra>\",\"hovertext\":[\"Europe\"],\"ids\":[\"Europe\"],\"legendgroup\":\"Europe\",\"marker\":{\"color\":\"#FECB52\",\"size\":[22],\"sizemode\":\"area\",\"sizeref\":0.03206611570247934,\"symbol\":\"circle\"},\"mode\":\"markers\",\"name\":\"Europe\",\"orientation\":\"v\",\"showlegend\":true,\"x\":[0],\"xaxis\":\"x\",\"y\":[0],\"yaxis\":\"y\",\"type\":\"scatter\"},{\"hovertemplate\":\"<b>%{hovertext}</b><br><br>Country=Afrique<br>Date=2018<br>arm\\u00e9e=%{x}<br>juif=%{y}<br>Size=%{marker.size}<extra></extra>\",\"hovertext\":[\"Afrique\"],\"ids\":[\"Afrique\"],\"legendgroup\":\"Afrique\",\"marker\":{\"color\":\"#636efa\",\"size\":[20],\"sizemode\":\"area\",\"sizeref\":0.03206611570247934,\"symbol\":\"circle\"},\"mode\":\"markers\",\"name\":\"Afrique\",\"orientation\":\"v\",\"showlegend\":true,\"x\":[0],\"xaxis\":\"x\",\"y\":[0],\"yaxis\":\"y\",\"type\":\"scatter\"},{\"hovertemplate\":\"<b>%{hovertext}</b><br><br>Country=Chine<br>Date=2018<br>arm\\u00e9e=%{x}<br>juif=%{y}<br>Size=%{marker.size}<extra></extra>\",\"hovertext\":[\"Chine\"],\"ids\":[\"Chine\"],\"legendgroup\":\"Chine\",\"marker\":{\"color\":\"#EF553B\",\"size\":[17],\"sizemode\":\"area\",\"sizeref\":0.03206611570247934,\"symbol\":\"circle\"},\"mode\":\"markers\",\"name\":\"Chine\",\"orientation\":\"v\",\"showlegend\":true,\"x\":[0],\"xaxis\":\"x\",\"y\":[0],\"yaxis\":\"y\",\"type\":\"scatter\"},{\"hovertemplate\":\"<b>%{hovertext}</b><br><br>Country=Royaume-Uni<br>Date=2018<br>arm\\u00e9e=%{x}<br>juif=%{y}<br>Size=%{marker.size}<extra></extra>\",\"hovertext\":[\"Royaume-Uni\"],\"ids\":[\"Royaume-Uni\"],\"legendgroup\":\"Royaume-Uni\",\"marker\":{\"color\":\"#00cc96\",\"size\":[17],\"sizemode\":\"area\",\"sizeref\":0.03206611570247934,\"symbol\":\"circle\"},\"mode\":\"markers\",\"name\":\"Royaume-Uni\",\"orientation\":\"v\",\"showlegend\":true,\"x\":[0],\"xaxis\":\"x\",\"y\":[0],\"yaxis\":\"y\",\"type\":\"scatter\"},{\"hovertemplate\":\"<b>%{hovertext}</b><br><br>Country=Turquie<br>Date=2018<br>arm\\u00e9e=%{x}<br>juif=%{y}<br>Size=%{marker.size}<extra></extra>\",\"hovertext\":[\"Turquie\"],\"ids\":[\"Turquie\"],\"legendgroup\":\"Turquie\",\"marker\":{\"color\":\"#ab63fa\",\"size\":[16],\"sizemode\":\"area\",\"sizeref\":0.03206611570247934,\"symbol\":\"circle\"},\"mode\":\"markers\",\"name\":\"Turquie\",\"orientation\":\"v\",\"showlegend\":true,\"x\":[0],\"xaxis\":\"x\",\"y\":[0],\"yaxis\":\"y\",\"type\":\"scatter\"},{\"hovertemplate\":\"<b>%{hovertext}</b><br><br>Country=Alger<br>Date=2018<br>arm\\u00e9e=%{x}<br>juif=%{y}<br>Size=%{marker.size}<extra></extra>\",\"hovertext\":[\"Alger\"],\"ids\":[\"Alger\"],\"legendgroup\":\"Alger\",\"marker\":{\"color\":\"#FFA15A\",\"size\":[16],\"sizemode\":\"area\",\"sizeref\":0.03206611570247934,\"symbol\":\"circle\"},\"mode\":\"markers\",\"name\":\"Alger\",\"orientation\":\"v\",\"showlegend\":true,\"x\":[0],\"xaxis\":\"x\",\"y\":[0],\"yaxis\":\"y\",\"type\":\"scatter\"},{\"hovertemplate\":\"<b>%{hovertext}</b><br><br>Country=R\\u00e9publique<br>Date=2018<br>arm\\u00e9e=%{x}<br>juif=%{y}<br>Size=%{marker.size}<extra></extra>\",\"hovertext\":[\"R\\u00e9publique\"],\"ids\":[\"R\\u00e9publique\"],\"legendgroup\":\"R\\u00e9publique\",\"marker\":{\"color\":\"#19d3f3\",\"size\":[16],\"sizemode\":\"area\",\"sizeref\":0.03206611570247934,\"symbol\":\"circle\"},\"mode\":\"markers\",\"name\":\"R\\u00e9publique\",\"orientation\":\"v\",\"showlegend\":true,\"x\":[0],\"xaxis\":\"x\",\"y\":[0],\"yaxis\":\"y\",\"type\":\"scatter\"},{\"hovertemplate\":\"<b>%{hovertext}</b><br><br>Country=Sahel<br>Date=2018<br>arm\\u00e9e=%{x}<br>juif=%{y}<br>Size=%{marker.size}<extra></extra>\",\"hovertext\":[\"Sahel\"],\"ids\":[\"Sahel\"],\"legendgroup\":\"Sahel\",\"marker\":{\"color\":\"#FF6692\",\"size\":[15],\"sizemode\":\"area\",\"sizeref\":0.03206611570247934,\"symbol\":\"circle\"},\"mode\":\"markers\",\"name\":\"Sahel\",\"orientation\":\"v\",\"showlegend\":true,\"x\":[0],\"xaxis\":\"x\",\"y\":[0],\"yaxis\":\"y\",\"type\":\"scatter\"},{\"hovertemplate\":\"<b>%{hovertext}</b><br><br>Country=Moscou<br>Date=2018<br>arm\\u00e9e=%{x}<br>juif=%{y}<br>Size=%{marker.size}<extra></extra>\",\"hovertext\":[\"Moscou\"],\"ids\":[\"Moscou\"],\"legendgroup\":\"Moscou\",\"marker\":{\"color\":\"#B6E880\",\"size\":[14],\"sizemode\":\"area\",\"sizeref\":0.03206611570247934,\"symbol\":\"circle\"},\"mode\":\"markers\",\"name\":\"Moscou\",\"orientation\":\"v\",\"showlegend\":true,\"x\":[0],\"xaxis\":\"x\",\"y\":[0],\"yaxis\":\"y\",\"type\":\"scatter\"},{\"hovertemplate\":\"<b>%{hovertext}</b><br><br>Country=Italie<br>Date=2018<br>arm\\u00e9e=%{x}<br>juif=%{y}<br>Size=%{marker.size}<extra></extra>\",\"hovertext\":[\"Italie\"],\"ids\":[\"Italie\"],\"legendgroup\":\"Italie\",\"marker\":{\"color\":\"#FF97FF\",\"size\":[14],\"sizemode\":\"area\",\"sizeref\":0.03206611570247934,\"symbol\":\"circle\"},\"mode\":\"markers\",\"name\":\"Italie\",\"orientation\":\"v\",\"showlegend\":true,\"x\":[0],\"xaxis\":\"x\",\"y\":[1],\"yaxis\":\"y\",\"type\":\"scatter\"},{\"hovertemplate\":\"<b>%{hovertext}</b><br><br>Country=Syrie<br>Date=2018<br>arm\\u00e9e=%{x}<br>juif=%{y}<br>Size=%{marker.size}<extra></extra>\",\"hovertext\":[\"Syrie\"],\"ids\":[\"Syrie\"],\"legendgroup\":\"Syrie\",\"marker\":{\"color\":\"#FECB52\",\"size\":[14],\"sizemode\":\"area\",\"sizeref\":0.03206611570247934,\"symbol\":\"circle\"},\"mode\":\"markers\",\"name\":\"Syrie\",\"orientation\":\"v\",\"showlegend\":true,\"x\":[0],\"xaxis\":\"x\",\"y\":[0],\"yaxis\":\"y\",\"type\":\"scatter\"}],\"name\":\"2018\"},{\"data\":[{\"hovertemplate\":\"<b>%{hovertext}</b><br><br>Country=Paris<br>Date=2019<br>arm\\u00e9e=%{x}<br>juif=%{y}<br>Size=%{marker.size}<extra></extra>\",\"hovertext\":[\"Paris\"],\"ids\":[\"Paris\"],\"legendgroup\":\"Paris\",\"marker\":{\"color\":\"#636efa\",\"size\":[97],\"sizemode\":\"area\",\"sizeref\":0.03206611570247934,\"symbol\":\"circle\"},\"mode\":\"markers\",\"name\":\"Paris\",\"orientation\":\"v\",\"showlegend\":true,\"x\":[482],\"xaxis\":\"x\",\"y\":[304],\"yaxis\":\"y\",\"type\":\"scatter\"},{\"hovertemplate\":\"<b>%{hovertext}</b><br><br>Country=\\u00c9tats-Unis<br>Date=2019<br>arm\\u00e9e=%{x}<br>juif=%{y}<br>Size=%{marker.size}<extra></extra>\",\"hovertext\":[\"\\u00c9tats-Unis\"],\"ids\":[\"\\u00c9tats-Unis\"],\"legendgroup\":\"\\u00c9tats-Unis\",\"marker\":{\"color\":\"#EF553B\",\"size\":[76],\"sizemode\":\"area\",\"sizeref\":0.03206611570247934,\"symbol\":\"circle\"},\"mode\":\"markers\",\"name\":\"\\u00c9tats-Unis\",\"orientation\":\"v\",\"showlegend\":true,\"x\":[768],\"xaxis\":\"x\",\"y\":[157],\"yaxis\":\"y\",\"type\":\"scatter\"},{\"hovertemplate\":\"<b>%{hovertext}</b><br><br>Country=\\u00c9tat<br>Date=2019<br>arm\\u00e9e=%{x}<br>juif=%{y}<br>Size=%{marker.size}<extra></extra>\",\"hovertext\":[\"\\u00c9tat\"],\"ids\":[\"\\u00c9tat\"],\"legendgroup\":\"\\u00c9tat\",\"marker\":{\"color\":\"#00cc96\",\"size\":[70],\"sizemode\":\"area\",\"sizeref\":0.03206611570247934,\"symbol\":\"circle\"},\"mode\":\"markers\",\"name\":\"\\u00c9tat\",\"orientation\":\"v\",\"showlegend\":true,\"x\":[689],\"xaxis\":\"x\",\"y\":[346],\"yaxis\":\"y\",\"type\":\"scatter\"},{\"hovertemplate\":\"<b>%{hovertext}</b><br><br>Country=Isra\\u00ebl<br>Date=2019<br>arm\\u00e9e=%{x}<br>juif=%{y}<br>Size=%{marker.size}<extra></extra>\",\"hovertext\":[\"Isra\\u00ebl\"],\"ids\":[\"Isra\\u00ebl\"],\"legendgroup\":\"Isra\\u00ebl\",\"marker\":{\"color\":\"#ab63fa\",\"size\":[42],\"sizemode\":\"area\",\"sizeref\":0.03206611570247934,\"symbol\":\"circle\"},\"mode\":\"markers\",\"name\":\"Isra\\u00ebl\",\"orientation\":\"v\",\"showlegend\":true,\"x\":[205],\"xaxis\":\"x\",\"y\":[492],\"yaxis\":\"y\",\"type\":\"scatter\"},{\"hovertemplate\":\"<b>%{hovertext}</b><br><br>Country=Russie<br>Date=2019<br>arm\\u00e9e=%{x}<br>juif=%{y}<br>Size=%{marker.size}<extra></extra>\",\"hovertext\":[\"Russie\"],\"ids\":[\"Russie\"],\"legendgroup\":\"Russie\",\"marker\":{\"color\":\"#FFA15A\",\"size\":[36],\"sizemode\":\"area\",\"sizeref\":0.03206611570247934,\"symbol\":\"circle\"},\"mode\":\"markers\",\"name\":\"Russie\",\"orientation\":\"v\",\"showlegend\":true,\"x\":[626],\"xaxis\":\"x\",\"y\":[119],\"yaxis\":\"y\",\"type\":\"scatter\"},{\"hovertemplate\":\"<b>%{hovertext}</b><br><br>Country=Allemagne<br>Date=2019<br>arm\\u00e9e=%{x}<br>juif=%{y}<br>Size=%{marker.size}<extra></extra>\",\"hovertext\":[\"Allemagne\"],\"ids\":[\"Allemagne\"],\"legendgroup\":\"Allemagne\",\"marker\":{\"color\":\"#19d3f3\",\"size\":[33],\"sizemode\":\"area\",\"sizeref\":0.03206611570247934,\"symbol\":\"circle\"},\"mode\":\"markers\",\"name\":\"Allemagne\",\"orientation\":\"v\",\"showlegend\":true,\"x\":[205],\"xaxis\":\"x\",\"y\":[124],\"yaxis\":\"y\",\"type\":\"scatter\"},{\"hovertemplate\":\"<b>%{hovertext}</b><br><br>Country=Alg\\u00e9rie<br>Date=2019<br>arm\\u00e9e=%{x}<br>juif=%{y}<br>Size=%{marker.size}<extra></extra>\",\"hovertext\":[\"Alg\\u00e9rie\"],\"ids\":[\"Alg\\u00e9rie\"],\"legendgroup\":\"Alg\\u00e9rie\",\"marker\":{\"color\":\"#FF6692\",\"size\":[26],\"sizemode\":\"area\",\"sizeref\":0.03206611570247934,\"symbol\":\"circle\"},\"mode\":\"markers\",\"name\":\"Alg\\u00e9rie\",\"orientation\":\"v\",\"showlegend\":true,\"x\":[260],\"xaxis\":\"x\",\"y\":[10],\"yaxis\":\"y\",\"type\":\"scatter\"},{\"hovertemplate\":\"<b>%{hovertext}</b><br><br>Country=Iran<br>Date=2019<br>arm\\u00e9e=%{x}<br>juif=%{y}<br>Size=%{marker.size}<extra></extra>\",\"hovertext\":[\"Iran\"],\"ids\":[\"Iran\"],\"legendgroup\":\"Iran\",\"marker\":{\"color\":\"#B6E880\",\"size\":[26],\"sizemode\":\"area\",\"sizeref\":0.03206611570247934,\"symbol\":\"circle\"},\"mode\":\"markers\",\"name\":\"Iran\",\"orientation\":\"v\",\"showlegend\":true,\"x\":[139],\"xaxis\":\"x\",\"y\":[70],\"yaxis\":\"y\",\"type\":\"scatter\"},{\"hovertemplate\":\"<b>%{hovertext}</b><br><br>Country=Mali<br>Date=2019<br>arm\\u00e9e=%{x}<br>juif=%{y}<br>Size=%{marker.size}<extra></extra>\",\"hovertext\":[\"Mali\"],\"ids\":[\"Mali\"],\"legendgroup\":\"Mali\",\"marker\":{\"color\":\"#FF97FF\",\"size\":[23],\"sizemode\":\"area\",\"sizeref\":0.03206611570247934,\"symbol\":\"circle\"},\"mode\":\"markers\",\"name\":\"Mali\",\"orientation\":\"v\",\"showlegend\":true,\"x\":[623],\"xaxis\":\"x\",\"y\":[12],\"yaxis\":\"y\",\"type\":\"scatter\"},{\"hovertemplate\":\"<b>%{hovertext}</b><br><br>Country=Europe<br>Date=2019<br>arm\\u00e9e=%{x}<br>juif=%{y}<br>Size=%{marker.size}<extra></extra>\",\"hovertext\":[\"Europe\"],\"ids\":[\"Europe\"],\"legendgroup\":\"Europe\",\"marker\":{\"color\":\"#FECB52\",\"size\":[22],\"sizemode\":\"area\",\"sizeref\":0.03206611570247934,\"symbol\":\"circle\"},\"mode\":\"markers\",\"name\":\"Europe\",\"orientation\":\"v\",\"showlegend\":true,\"x\":[130],\"xaxis\":\"x\",\"y\":[173],\"yaxis\":\"y\",\"type\":\"scatter\"},{\"hovertemplate\":\"<b>%{hovertext}</b><br><br>Country=Afrique<br>Date=2019<br>arm\\u00e9e=%{x}<br>juif=%{y}<br>Size=%{marker.size}<extra></extra>\",\"hovertext\":[\"Afrique\"],\"ids\":[\"Afrique\"],\"legendgroup\":\"Afrique\",\"marker\":{\"color\":\"#636efa\",\"size\":[20],\"sizemode\":\"area\",\"sizeref\":0.03206611570247934,\"symbol\":\"circle\"},\"mode\":\"markers\",\"name\":\"Afrique\",\"orientation\":\"v\",\"showlegend\":true,\"x\":[390],\"xaxis\":\"x\",\"y\":[2],\"yaxis\":\"y\",\"type\":\"scatter\"},{\"hovertemplate\":\"<b>%{hovertext}</b><br><br>Country=Chine<br>Date=2019<br>arm\\u00e9e=%{x}<br>juif=%{y}<br>Size=%{marker.size}<extra></extra>\",\"hovertext\":[\"Chine\"],\"ids\":[\"Chine\"],\"legendgroup\":\"Chine\",\"marker\":{\"color\":\"#EF553B\",\"size\":[17],\"sizemode\":\"area\",\"sizeref\":0.03206611570247934,\"symbol\":\"circle\"},\"mode\":\"markers\",\"name\":\"Chine\",\"orientation\":\"v\",\"showlegend\":true,\"x\":[169],\"xaxis\":\"x\",\"y\":[19],\"yaxis\":\"y\",\"type\":\"scatter\"},{\"hovertemplate\":\"<b>%{hovertext}</b><br><br>Country=Royaume-Uni<br>Date=2019<br>arm\\u00e9e=%{x}<br>juif=%{y}<br>Size=%{marker.size}<extra></extra>\",\"hovertext\":[\"Royaume-Uni\"],\"ids\":[\"Royaume-Uni\"],\"legendgroup\":\"Royaume-Uni\",\"marker\":{\"color\":\"#00cc96\",\"size\":[17],\"sizemode\":\"area\",\"sizeref\":0.03206611570247934,\"symbol\":\"circle\"},\"mode\":\"markers\",\"name\":\"Royaume-Uni\",\"orientation\":\"v\",\"showlegend\":true,\"x\":[93],\"xaxis\":\"x\",\"y\":[53],\"yaxis\":\"y\",\"type\":\"scatter\"},{\"hovertemplate\":\"<b>%{hovertext}</b><br><br>Country=Turquie<br>Date=2019<br>arm\\u00e9e=%{x}<br>juif=%{y}<br>Size=%{marker.size}<extra></extra>\",\"hovertext\":[\"Turquie\"],\"ids\":[\"Turquie\"],\"legendgroup\":\"Turquie\",\"marker\":{\"color\":\"#ab63fa\",\"size\":[16],\"sizemode\":\"area\",\"sizeref\":0.03206611570247934,\"symbol\":\"circle\"},\"mode\":\"markers\",\"name\":\"Turquie\",\"orientation\":\"v\",\"showlegend\":true,\"x\":[217],\"xaxis\":\"x\",\"y\":[52],\"yaxis\":\"y\",\"type\":\"scatter\"},{\"hovertemplate\":\"<b>%{hovertext}</b><br><br>Country=Alger<br>Date=2019<br>arm\\u00e9e=%{x}<br>juif=%{y}<br>Size=%{marker.size}<extra></extra>\",\"hovertext\":[\"Alger\"],\"ids\":[\"Alger\"],\"legendgroup\":\"Alger\",\"marker\":{\"color\":\"#FFA15A\",\"size\":[16],\"sizemode\":\"area\",\"sizeref\":0.03206611570247934,\"symbol\":\"circle\"},\"mode\":\"markers\",\"name\":\"Alger\",\"orientation\":\"v\",\"showlegend\":true,\"x\":[37],\"xaxis\":\"x\",\"y\":[1],\"yaxis\":\"y\",\"type\":\"scatter\"},{\"hovertemplate\":\"<b>%{hovertext}</b><br><br>Country=R\\u00e9publique<br>Date=2019<br>arm\\u00e9e=%{x}<br>juif=%{y}<br>Size=%{marker.size}<extra></extra>\",\"hovertext\":[\"R\\u00e9publique\"],\"ids\":[\"R\\u00e9publique\"],\"legendgroup\":\"R\\u00e9publique\",\"marker\":{\"color\":\"#19d3f3\",\"size\":[16],\"sizemode\":\"area\",\"sizeref\":0.03206611570247934,\"symbol\":\"circle\"},\"mode\":\"markers\",\"name\":\"R\\u00e9publique\",\"orientation\":\"v\",\"showlegend\":true,\"x\":[9],\"xaxis\":\"x\",\"y\":[101],\"yaxis\":\"y\",\"type\":\"scatter\"},{\"hovertemplate\":\"<b>%{hovertext}</b><br><br>Country=Sahel<br>Date=2019<br>arm\\u00e9e=%{x}<br>juif=%{y}<br>Size=%{marker.size}<extra></extra>\",\"hovertext\":[\"Sahel\"],\"ids\":[\"Sahel\"],\"legendgroup\":\"Sahel\",\"marker\":{\"color\":\"#FF6692\",\"size\":[15],\"sizemode\":\"area\",\"sizeref\":0.03206611570247934,\"symbol\":\"circle\"},\"mode\":\"markers\",\"name\":\"Sahel\",\"orientation\":\"v\",\"showlegend\":true,\"x\":[383],\"xaxis\":\"x\",\"y\":[0],\"yaxis\":\"y\",\"type\":\"scatter\"},{\"hovertemplate\":\"<b>%{hovertext}</b><br><br>Country=Moscou<br>Date=2019<br>arm\\u00e9e=%{x}<br>juif=%{y}<br>Size=%{marker.size}<extra></extra>\",\"hovertext\":[\"Moscou\"],\"ids\":[\"Moscou\"],\"legendgroup\":\"Moscou\",\"marker\":{\"color\":\"#B6E880\",\"size\":[14],\"sizemode\":\"area\",\"sizeref\":0.03206611570247934,\"symbol\":\"circle\"},\"mode\":\"markers\",\"name\":\"Moscou\",\"orientation\":\"v\",\"showlegend\":true,\"x\":[138],\"xaxis\":\"x\",\"y\":[82],\"yaxis\":\"y\",\"type\":\"scatter\"},{\"hovertemplate\":\"<b>%{hovertext}</b><br><br>Country=Italie<br>Date=2019<br>arm\\u00e9e=%{x}<br>juif=%{y}<br>Size=%{marker.size}<extra></extra>\",\"hovertext\":[\"Italie\"],\"ids\":[\"Italie\"],\"legendgroup\":\"Italie\",\"marker\":{\"color\":\"#FF97FF\",\"size\":[14],\"sizemode\":\"area\",\"sizeref\":0.03206611570247934,\"symbol\":\"circle\"},\"mode\":\"markers\",\"name\":\"Italie\",\"orientation\":\"v\",\"showlegend\":true,\"x\":[52],\"xaxis\":\"x\",\"y\":[27],\"yaxis\":\"y\",\"type\":\"scatter\"},{\"hovertemplate\":\"<b>%{hovertext}</b><br><br>Country=Syrie<br>Date=2019<br>arm\\u00e9e=%{x}<br>juif=%{y}<br>Size=%{marker.size}<extra></extra>\",\"hovertext\":[\"Syrie\"],\"ids\":[\"Syrie\"],\"legendgroup\":\"Syrie\",\"marker\":{\"color\":\"#FECB52\",\"size\":[14],\"sizemode\":\"area\",\"sizeref\":0.03206611570247934,\"symbol\":\"circle\"},\"mode\":\"markers\",\"name\":\"Syrie\",\"orientation\":\"v\",\"showlegend\":true,\"x\":[464],\"xaxis\":\"x\",\"y\":[79],\"yaxis\":\"y\",\"type\":\"scatter\"}],\"name\":\"2019\"},{\"data\":[{\"hovertemplate\":\"<b>%{hovertext}</b><br><br>Country=Paris<br>Date=2020<br>arm\\u00e9e=%{x}<br>juif=%{y}<br>Size=%{marker.size}<extra></extra>\",\"hovertext\":[\"Paris\"],\"ids\":[\"Paris\"],\"legendgroup\":\"Paris\",\"marker\":{\"color\":\"#636efa\",\"size\":[97],\"sizemode\":\"area\",\"sizeref\":0.03206611570247934,\"symbol\":\"circle\"},\"mode\":\"markers\",\"name\":\"Paris\",\"orientation\":\"v\",\"showlegend\":true,\"x\":[375],\"xaxis\":\"x\",\"y\":[286],\"yaxis\":\"y\",\"type\":\"scatter\"},{\"hovertemplate\":\"<b>%{hovertext}</b><br><br>Country=\\u00c9tats-Unis<br>Date=2020<br>arm\\u00e9e=%{x}<br>juif=%{y}<br>Size=%{marker.size}<extra></extra>\",\"hovertext\":[\"\\u00c9tats-Unis\"],\"ids\":[\"\\u00c9tats-Unis\"],\"legendgroup\":\"\\u00c9tats-Unis\",\"marker\":{\"color\":\"#EF553B\",\"size\":[76],\"sizemode\":\"area\",\"sizeref\":0.03206611570247934,\"symbol\":\"circle\"},\"mode\":\"markers\",\"name\":\"\\u00c9tats-Unis\",\"orientation\":\"v\",\"showlegend\":true,\"x\":[695],\"xaxis\":\"x\",\"y\":[207],\"yaxis\":\"y\",\"type\":\"scatter\"},{\"hovertemplate\":\"<b>%{hovertext}</b><br><br>Country=\\u00c9tat<br>Date=2020<br>arm\\u00e9e=%{x}<br>juif=%{y}<br>Size=%{marker.size}<extra></extra>\",\"hovertext\":[\"\\u00c9tat\"],\"ids\":[\"\\u00c9tat\"],\"legendgroup\":\"\\u00c9tat\",\"marker\":{\"color\":\"#00cc96\",\"size\":[70],\"sizemode\":\"area\",\"sizeref\":0.03206611570247934,\"symbol\":\"circle\"},\"mode\":\"markers\",\"name\":\"\\u00c9tat\",\"orientation\":\"v\",\"showlegend\":true,\"x\":[603],\"xaxis\":\"x\",\"y\":[366],\"yaxis\":\"y\",\"type\":\"scatter\"},{\"hovertemplate\":\"<b>%{hovertext}</b><br><br>Country=Isra\\u00ebl<br>Date=2020<br>arm\\u00e9e=%{x}<br>juif=%{y}<br>Size=%{marker.size}<extra></extra>\",\"hovertext\":[\"Isra\\u00ebl\"],\"ids\":[\"Isra\\u00ebl\"],\"legendgroup\":\"Isra\\u00ebl\",\"marker\":{\"color\":\"#ab63fa\",\"size\":[42],\"sizemode\":\"area\",\"sizeref\":0.03206611570247934,\"symbol\":\"circle\"},\"mode\":\"markers\",\"name\":\"Isra\\u00ebl\",\"orientation\":\"v\",\"showlegend\":true,\"x\":[339],\"xaxis\":\"x\",\"y\":[532],\"yaxis\":\"y\",\"type\":\"scatter\"},{\"hovertemplate\":\"<b>%{hovertext}</b><br><br>Country=Russie<br>Date=2020<br>arm\\u00e9e=%{x}<br>juif=%{y}<br>Size=%{marker.size}<extra></extra>\",\"hovertext\":[\"Russie\"],\"ids\":[\"Russie\"],\"legendgroup\":\"Russie\",\"marker\":{\"color\":\"#FFA15A\",\"size\":[36],\"sizemode\":\"area\",\"sizeref\":0.03206611570247934,\"symbol\":\"circle\"},\"mode\":\"markers\",\"name\":\"Russie\",\"orientation\":\"v\",\"showlegend\":true,\"x\":[546],\"xaxis\":\"x\",\"y\":[75],\"yaxis\":\"y\",\"type\":\"scatter\"},{\"hovertemplate\":\"<b>%{hovertext}</b><br><br>Country=Allemagne<br>Date=2020<br>arm\\u00e9e=%{x}<br>juif=%{y}<br>Size=%{marker.size}<extra></extra>\",\"hovertext\":[\"Allemagne\"],\"ids\":[\"Allemagne\"],\"legendgroup\":\"Allemagne\",\"marker\":{\"color\":\"#19d3f3\",\"size\":[33],\"sizemode\":\"area\",\"sizeref\":0.03206611570247934,\"symbol\":\"circle\"},\"mode\":\"markers\",\"name\":\"Allemagne\",\"orientation\":\"v\",\"showlegend\":true,\"x\":[183],\"xaxis\":\"x\",\"y\":[265],\"yaxis\":\"y\",\"type\":\"scatter\"},{\"hovertemplate\":\"<b>%{hovertext}</b><br><br>Country=Alg\\u00e9rie<br>Date=2020<br>arm\\u00e9e=%{x}<br>juif=%{y}<br>Size=%{marker.size}<extra></extra>\",\"hovertext\":[\"Alg\\u00e9rie\"],\"ids\":[\"Alg\\u00e9rie\"],\"legendgroup\":\"Alg\\u00e9rie\",\"marker\":{\"color\":\"#FF6692\",\"size\":[26],\"sizemode\":\"area\",\"sizeref\":0.03206611570247934,\"symbol\":\"circle\"},\"mode\":\"markers\",\"name\":\"Alg\\u00e9rie\",\"orientation\":\"v\",\"showlegend\":true,\"x\":[201],\"xaxis\":\"x\",\"y\":[46],\"yaxis\":\"y\",\"type\":\"scatter\"},{\"hovertemplate\":\"<b>%{hovertext}</b><br><br>Country=Iran<br>Date=2020<br>arm\\u00e9e=%{x}<br>juif=%{y}<br>Size=%{marker.size}<extra></extra>\",\"hovertext\":[\"Iran\"],\"ids\":[\"Iran\"],\"legendgroup\":\"Iran\",\"marker\":{\"color\":\"#B6E880\",\"size\":[26],\"sizemode\":\"area\",\"sizeref\":0.03206611570247934,\"symbol\":\"circle\"},\"mode\":\"markers\",\"name\":\"Iran\",\"orientation\":\"v\",\"showlegend\":true,\"x\":[224],\"xaxis\":\"x\",\"y\":[21],\"yaxis\":\"y\",\"type\":\"scatter\"},{\"hovertemplate\":\"<b>%{hovertext}</b><br><br>Country=Mali<br>Date=2020<br>arm\\u00e9e=%{x}<br>juif=%{y}<br>Size=%{marker.size}<extra></extra>\",\"hovertext\":[\"Mali\"],\"ids\":[\"Mali\"],\"legendgroup\":\"Mali\",\"marker\":{\"color\":\"#FF97FF\",\"size\":[23],\"sizemode\":\"area\",\"sizeref\":0.03206611570247934,\"symbol\":\"circle\"},\"mode\":\"markers\",\"name\":\"Mali\",\"orientation\":\"v\",\"showlegend\":true,\"x\":[660],\"xaxis\":\"x\",\"y\":[5],\"yaxis\":\"y\",\"type\":\"scatter\"},{\"hovertemplate\":\"<b>%{hovertext}</b><br><br>Country=Europe<br>Date=2020<br>arm\\u00e9e=%{x}<br>juif=%{y}<br>Size=%{marker.size}<extra></extra>\",\"hovertext\":[\"Europe\"],\"ids\":[\"Europe\"],\"legendgroup\":\"Europe\",\"marker\":{\"color\":\"#FECB52\",\"size\":[22],\"sizemode\":\"area\",\"sizeref\":0.03206611570247934,\"symbol\":\"circle\"},\"mode\":\"markers\",\"name\":\"Europe\",\"orientation\":\"v\",\"showlegend\":true,\"x\":[187],\"xaxis\":\"x\",\"y\":[158],\"yaxis\":\"y\",\"type\":\"scatter\"},{\"hovertemplate\":\"<b>%{hovertext}</b><br><br>Country=Afrique<br>Date=2020<br>arm\\u00e9e=%{x}<br>juif=%{y}<br>Size=%{marker.size}<extra></extra>\",\"hovertext\":[\"Afrique\"],\"ids\":[\"Afrique\"],\"legendgroup\":\"Afrique\",\"marker\":{\"color\":\"#636efa\",\"size\":[20],\"sizemode\":\"area\",\"sizeref\":0.03206611570247934,\"symbol\":\"circle\"},\"mode\":\"markers\",\"name\":\"Afrique\",\"orientation\":\"v\",\"showlegend\":true,\"x\":[532],\"xaxis\":\"x\",\"y\":[10],\"yaxis\":\"y\",\"type\":\"scatter\"},{\"hovertemplate\":\"<b>%{hovertext}</b><br><br>Country=Chine<br>Date=2020<br>arm\\u00e9e=%{x}<br>juif=%{y}<br>Size=%{marker.size}<extra></extra>\",\"hovertext\":[\"Chine\"],\"ids\":[\"Chine\"],\"legendgroup\":\"Chine\",\"marker\":{\"color\":\"#EF553B\",\"size\":[17],\"sizemode\":\"area\",\"sizeref\":0.03206611570247934,\"symbol\":\"circle\"},\"mode\":\"markers\",\"name\":\"Chine\",\"orientation\":\"v\",\"showlegend\":true,\"x\":[229],\"xaxis\":\"x\",\"y\":[18],\"yaxis\":\"y\",\"type\":\"scatter\"},{\"hovertemplate\":\"<b>%{hovertext}</b><br><br>Country=Royaume-Uni<br>Date=2020<br>arm\\u00e9e=%{x}<br>juif=%{y}<br>Size=%{marker.size}<extra></extra>\",\"hovertext\":[\"Royaume-Uni\"],\"ids\":[\"Royaume-Uni\"],\"legendgroup\":\"Royaume-Uni\",\"marker\":{\"color\":\"#00cc96\",\"size\":[17],\"sizemode\":\"area\",\"sizeref\":0.03206611570247934,\"symbol\":\"circle\"},\"mode\":\"markers\",\"name\":\"Royaume-Uni\",\"orientation\":\"v\",\"showlegend\":true,\"x\":[35],\"xaxis\":\"x\",\"y\":[41],\"yaxis\":\"y\",\"type\":\"scatter\"},{\"hovertemplate\":\"<b>%{hovertext}</b><br><br>Country=Turquie<br>Date=2020<br>arm\\u00e9e=%{x}<br>juif=%{y}<br>Size=%{marker.size}<extra></extra>\",\"hovertext\":[\"Turquie\"],\"ids\":[\"Turquie\"],\"legendgroup\":\"Turquie\",\"marker\":{\"color\":\"#ab63fa\",\"size\":[16],\"sizemode\":\"area\",\"sizeref\":0.03206611570247934,\"symbol\":\"circle\"},\"mode\":\"markers\",\"name\":\"Turquie\",\"orientation\":\"v\",\"showlegend\":true,\"x\":[264],\"xaxis\":\"x\",\"y\":[26],\"yaxis\":\"y\",\"type\":\"scatter\"},{\"hovertemplate\":\"<b>%{hovertext}</b><br><br>Country=Alger<br>Date=2020<br>arm\\u00e9e=%{x}<br>juif=%{y}<br>Size=%{marker.size}<extra></extra>\",\"hovertext\":[\"Alger\"],\"ids\":[\"Alger\"],\"legendgroup\":\"Alger\",\"marker\":{\"color\":\"#FFA15A\",\"size\":[16],\"sizemode\":\"area\",\"sizeref\":0.03206611570247934,\"symbol\":\"circle\"},\"mode\":\"markers\",\"name\":\"Alger\",\"orientation\":\"v\",\"showlegend\":true,\"x\":[108],\"xaxis\":\"x\",\"y\":[4],\"yaxis\":\"y\",\"type\":\"scatter\"},{\"hovertemplate\":\"<b>%{hovertext}</b><br><br>Country=R\\u00e9publique<br>Date=2020<br>arm\\u00e9e=%{x}<br>juif=%{y}<br>Size=%{marker.size}<extra></extra>\",\"hovertext\":[\"R\\u00e9publique\"],\"ids\":[\"R\\u00e9publique\"],\"legendgroup\":\"R\\u00e9publique\",\"marker\":{\"color\":\"#19d3f3\",\"size\":[16],\"sizemode\":\"area\",\"sizeref\":0.03206611570247934,\"symbol\":\"circle\"},\"mode\":\"markers\",\"name\":\"R\\u00e9publique\",\"orientation\":\"v\",\"showlegend\":true,\"x\":[38],\"xaxis\":\"x\",\"y\":[119],\"yaxis\":\"y\",\"type\":\"scatter\"},{\"hovertemplate\":\"<b>%{hovertext}</b><br><br>Country=Sahel<br>Date=2020<br>arm\\u00e9e=%{x}<br>juif=%{y}<br>Size=%{marker.size}<extra></extra>\",\"hovertext\":[\"Sahel\"],\"ids\":[\"Sahel\"],\"legendgroup\":\"Sahel\",\"marker\":{\"color\":\"#FF6692\",\"size\":[15],\"sizemode\":\"area\",\"sizeref\":0.03206611570247934,\"symbol\":\"circle\"},\"mode\":\"markers\",\"name\":\"Sahel\",\"orientation\":\"v\",\"showlegend\":true,\"x\":[350],\"xaxis\":\"x\",\"y\":[2],\"yaxis\":\"y\",\"type\":\"scatter\"},{\"hovertemplate\":\"<b>%{hovertext}</b><br><br>Country=Moscou<br>Date=2020<br>arm\\u00e9e=%{x}<br>juif=%{y}<br>Size=%{marker.size}<extra></extra>\",\"hovertext\":[\"Moscou\"],\"ids\":[\"Moscou\"],\"legendgroup\":\"Moscou\",\"marker\":{\"color\":\"#B6E880\",\"size\":[14],\"sizemode\":\"area\",\"sizeref\":0.03206611570247934,\"symbol\":\"circle\"},\"mode\":\"markers\",\"name\":\"Moscou\",\"orientation\":\"v\",\"showlegend\":true,\"x\":[164],\"xaxis\":\"x\",\"y\":[30],\"yaxis\":\"y\",\"type\":\"scatter\"},{\"hovertemplate\":\"<b>%{hovertext}</b><br><br>Country=Italie<br>Date=2020<br>arm\\u00e9e=%{x}<br>juif=%{y}<br>Size=%{marker.size}<extra></extra>\",\"hovertext\":[\"Italie\"],\"ids\":[\"Italie\"],\"legendgroup\":\"Italie\",\"marker\":{\"color\":\"#FF97FF\",\"size\":[14],\"sizemode\":\"area\",\"sizeref\":0.03206611570247934,\"symbol\":\"circle\"},\"mode\":\"markers\",\"name\":\"Italie\",\"orientation\":\"v\",\"showlegend\":true,\"x\":[47],\"xaxis\":\"x\",\"y\":[14],\"yaxis\":\"y\",\"type\":\"scatter\"},{\"hovertemplate\":\"<b>%{hovertext}</b><br><br>Country=Syrie<br>Date=2020<br>arm\\u00e9e=%{x}<br>juif=%{y}<br>Size=%{marker.size}<extra></extra>\",\"hovertext\":[\"Syrie\"],\"ids\":[\"Syrie\"],\"legendgroup\":\"Syrie\",\"marker\":{\"color\":\"#FECB52\",\"size\":[14],\"sizemode\":\"area\",\"sizeref\":0.03206611570247934,\"symbol\":\"circle\"},\"mode\":\"markers\",\"name\":\"Syrie\",\"orientation\":\"v\",\"showlegend\":true,\"x\":[208],\"xaxis\":\"x\",\"y\":[13],\"yaxis\":\"y\",\"type\":\"scatter\"}],\"name\":\"2020\"},{\"data\":[{\"hovertemplate\":\"<b>%{hovertext}</b><br><br>Country=Paris<br>Date=2021<br>arm\\u00e9e=%{x}<br>juif=%{y}<br>Size=%{marker.size}<extra></extra>\",\"hovertext\":[\"Paris\"],\"ids\":[\"Paris\"],\"legendgroup\":\"Paris\",\"marker\":{\"color\":\"#636efa\",\"size\":[97],\"sizemode\":\"area\",\"sizeref\":0.03206611570247934,\"symbol\":\"circle\"},\"mode\":\"markers\",\"name\":\"Paris\",\"orientation\":\"v\",\"showlegend\":true,\"x\":[953],\"xaxis\":\"x\",\"y\":[308],\"yaxis\":\"y\",\"type\":\"scatter\"},{\"hovertemplate\":\"<b>%{hovertext}</b><br><br>Country=\\u00c9tats-Unis<br>Date=2021<br>arm\\u00e9e=%{x}<br>juif=%{y}<br>Size=%{marker.size}<extra></extra>\",\"hovertext\":[\"\\u00c9tats-Unis\"],\"ids\":[\"\\u00c9tats-Unis\"],\"legendgroup\":\"\\u00c9tats-Unis\",\"marker\":{\"color\":\"#EF553B\",\"size\":[76],\"sizemode\":\"area\",\"sizeref\":0.03206611570247934,\"symbol\":\"circle\"},\"mode\":\"markers\",\"name\":\"\\u00c9tats-Unis\",\"orientation\":\"v\",\"showlegend\":true,\"x\":[1446],\"xaxis\":\"x\",\"y\":[342],\"yaxis\":\"y\",\"type\":\"scatter\"},{\"hovertemplate\":\"<b>%{hovertext}</b><br><br>Country=\\u00c9tat<br>Date=2021<br>arm\\u00e9e=%{x}<br>juif=%{y}<br>Size=%{marker.size}<extra></extra>\",\"hovertext\":[\"\\u00c9tat\"],\"ids\":[\"\\u00c9tat\"],\"legendgroup\":\"\\u00c9tat\",\"marker\":{\"color\":\"#00cc96\",\"size\":[70],\"sizemode\":\"area\",\"sizeref\":0.03206611570247934,\"symbol\":\"circle\"},\"mode\":\"markers\",\"name\":\"\\u00c9tat\",\"orientation\":\"v\",\"showlegend\":true,\"x\":[1153],\"xaxis\":\"x\",\"y\":[442],\"yaxis\":\"y\",\"type\":\"scatter\"},{\"hovertemplate\":\"<b>%{hovertext}</b><br><br>Country=Isra\\u00ebl<br>Date=2021<br>arm\\u00e9e=%{x}<br>juif=%{y}<br>Size=%{marker.size}<extra></extra>\",\"hovertext\":[\"Isra\\u00ebl\"],\"ids\":[\"Isra\\u00ebl\"],\"legendgroup\":\"Isra\\u00ebl\",\"marker\":{\"color\":\"#ab63fa\",\"size\":[42],\"sizemode\":\"area\",\"sizeref\":0.03206611570247934,\"symbol\":\"circle\"},\"mode\":\"markers\",\"name\":\"Isra\\u00ebl\",\"orientation\":\"v\",\"showlegend\":true,\"x\":[558],\"xaxis\":\"x\",\"y\":[525],\"yaxis\":\"y\",\"type\":\"scatter\"},{\"hovertemplate\":\"<b>%{hovertext}</b><br><br>Country=Russie<br>Date=2021<br>arm\\u00e9e=%{x}<br>juif=%{y}<br>Size=%{marker.size}<extra></extra>\",\"hovertext\":[\"Russie\"],\"ids\":[\"Russie\"],\"legendgroup\":\"Russie\",\"marker\":{\"color\":\"#FFA15A\",\"size\":[36],\"sizemode\":\"area\",\"sizeref\":0.03206611570247934,\"symbol\":\"circle\"},\"mode\":\"markers\",\"name\":\"Russie\",\"orientation\":\"v\",\"showlegend\":true,\"x\":[1213],\"xaxis\":\"x\",\"y\":[119],\"yaxis\":\"y\",\"type\":\"scatter\"},{\"hovertemplate\":\"<b>%{hovertext}</b><br><br>Country=Allemagne<br>Date=2021<br>arm\\u00e9e=%{x}<br>juif=%{y}<br>Size=%{marker.size}<extra></extra>\",\"hovertext\":[\"Allemagne\"],\"ids\":[\"Allemagne\"],\"legendgroup\":\"Allemagne\",\"marker\":{\"color\":\"#19d3f3\",\"size\":[33],\"sizemode\":\"area\",\"sizeref\":0.03206611570247934,\"symbol\":\"circle\"},\"mode\":\"markers\",\"name\":\"Allemagne\",\"orientation\":\"v\",\"showlegend\":true,\"x\":[373],\"xaxis\":\"x\",\"y\":[282],\"yaxis\":\"y\",\"type\":\"scatter\"},{\"hovertemplate\":\"<b>%{hovertext}</b><br><br>Country=Alg\\u00e9rie<br>Date=2021<br>arm\\u00e9e=%{x}<br>juif=%{y}<br>Size=%{marker.size}<extra></extra>\",\"hovertext\":[\"Alg\\u00e9rie\"],\"ids\":[\"Alg\\u00e9rie\"],\"legendgroup\":\"Alg\\u00e9rie\",\"marker\":{\"color\":\"#FF6692\",\"size\":[26],\"sizemode\":\"area\",\"sizeref\":0.03206611570247934,\"symbol\":\"circle\"},\"mode\":\"markers\",\"name\":\"Alg\\u00e9rie\",\"orientation\":\"v\",\"showlegend\":true,\"x\":[294],\"xaxis\":\"x\",\"y\":[161],\"yaxis\":\"y\",\"type\":\"scatter\"},{\"hovertemplate\":\"<b>%{hovertext}</b><br><br>Country=Iran<br>Date=2021<br>arm\\u00e9e=%{x}<br>juif=%{y}<br>Size=%{marker.size}<extra></extra>\",\"hovertext\":[\"Iran\"],\"ids\":[\"Iran\"],\"legendgroup\":\"Iran\",\"marker\":{\"color\":\"#B6E880\",\"size\":[26],\"sizemode\":\"area\",\"sizeref\":0.03206611570247934,\"symbol\":\"circle\"},\"mode\":\"markers\",\"name\":\"Iran\",\"orientation\":\"v\",\"showlegend\":true,\"x\":[655],\"xaxis\":\"x\",\"y\":[120],\"yaxis\":\"y\",\"type\":\"scatter\"},{\"hovertemplate\":\"<b>%{hovertext}</b><br><br>Country=Mali<br>Date=2021<br>arm\\u00e9e=%{x}<br>juif=%{y}<br>Size=%{marker.size}<extra></extra>\",\"hovertext\":[\"Mali\"],\"ids\":[\"Mali\"],\"legendgroup\":\"Mali\",\"marker\":{\"color\":\"#FF97FF\",\"size\":[23],\"sizemode\":\"area\",\"sizeref\":0.03206611570247934,\"symbol\":\"circle\"},\"mode\":\"markers\",\"name\":\"Mali\",\"orientation\":\"v\",\"showlegend\":true,\"x\":[1360],\"xaxis\":\"x\",\"y\":[7],\"yaxis\":\"y\",\"type\":\"scatter\"},{\"hovertemplate\":\"<b>%{hovertext}</b><br><br>Country=Europe<br>Date=2021<br>arm\\u00e9e=%{x}<br>juif=%{y}<br>Size=%{marker.size}<extra></extra>\",\"hovertext\":[\"Europe\"],\"ids\":[\"Europe\"],\"legendgroup\":\"Europe\",\"marker\":{\"color\":\"#FECB52\",\"size\":[22],\"sizemode\":\"area\",\"sizeref\":0.03206611570247934,\"symbol\":\"circle\"},\"mode\":\"markers\",\"name\":\"Europe\",\"orientation\":\"v\",\"showlegend\":true,\"x\":[288],\"xaxis\":\"x\",\"y\":[233],\"yaxis\":\"y\",\"type\":\"scatter\"},{\"hovertemplate\":\"<b>%{hovertext}</b><br><br>Country=Afrique<br>Date=2021<br>arm\\u00e9e=%{x}<br>juif=%{y}<br>Size=%{marker.size}<extra></extra>\",\"hovertext\":[\"Afrique\"],\"ids\":[\"Afrique\"],\"legendgroup\":\"Afrique\",\"marker\":{\"color\":\"#636efa\",\"size\":[20],\"sizemode\":\"area\",\"sizeref\":0.03206611570247934,\"symbol\":\"circle\"},\"mode\":\"markers\",\"name\":\"Afrique\",\"orientation\":\"v\",\"showlegend\":true,\"x\":[1198],\"xaxis\":\"x\",\"y\":[14],\"yaxis\":\"y\",\"type\":\"scatter\"},{\"hovertemplate\":\"<b>%{hovertext}</b><br><br>Country=Chine<br>Date=2021<br>arm\\u00e9e=%{x}<br>juif=%{y}<br>Size=%{marker.size}<extra></extra>\",\"hovertext\":[\"Chine\"],\"ids\":[\"Chine\"],\"legendgroup\":\"Chine\",\"marker\":{\"color\":\"#EF553B\",\"size\":[17],\"sizemode\":\"area\",\"sizeref\":0.03206611570247934,\"symbol\":\"circle\"},\"mode\":\"markers\",\"name\":\"Chine\",\"orientation\":\"v\",\"showlegend\":true,\"x\":[601],\"xaxis\":\"x\",\"y\":[38],\"yaxis\":\"y\",\"type\":\"scatter\"},{\"hovertemplate\":\"<b>%{hovertext}</b><br><br>Country=Royaume-Uni<br>Date=2021<br>arm\\u00e9e=%{x}<br>juif=%{y}<br>Size=%{marker.size}<extra></extra>\",\"hovertext\":[\"Royaume-Uni\"],\"ids\":[\"Royaume-Uni\"],\"legendgroup\":\"Royaume-Uni\",\"marker\":{\"color\":\"#00cc96\",\"size\":[17],\"sizemode\":\"area\",\"sizeref\":0.03206611570247934,\"symbol\":\"circle\"},\"mode\":\"markers\",\"name\":\"Royaume-Uni\",\"orientation\":\"v\",\"showlegend\":true,\"x\":[156],\"xaxis\":\"x\",\"y\":[16],\"yaxis\":\"y\",\"type\":\"scatter\"},{\"hovertemplate\":\"<b>%{hovertext}</b><br><br>Country=Turquie<br>Date=2021<br>arm\\u00e9e=%{x}<br>juif=%{y}<br>Size=%{marker.size}<extra></extra>\",\"hovertext\":[\"Turquie\"],\"ids\":[\"Turquie\"],\"legendgroup\":\"Turquie\",\"marker\":{\"color\":\"#ab63fa\",\"size\":[16],\"sizemode\":\"area\",\"sizeref\":0.03206611570247934,\"symbol\":\"circle\"},\"mode\":\"markers\",\"name\":\"Turquie\",\"orientation\":\"v\",\"showlegend\":true,\"x\":[246],\"xaxis\":\"x\",\"y\":[100],\"yaxis\":\"y\",\"type\":\"scatter\"},{\"hovertemplate\":\"<b>%{hovertext}</b><br><br>Country=Alger<br>Date=2021<br>arm\\u00e9e=%{x}<br>juif=%{y}<br>Size=%{marker.size}<extra></extra>\",\"hovertext\":[\"Alger\"],\"ids\":[\"Alger\"],\"legendgroup\":\"Alger\",\"marker\":{\"color\":\"#FFA15A\",\"size\":[16],\"sizemode\":\"area\",\"sizeref\":0.03206611570247934,\"symbol\":\"circle\"},\"mode\":\"markers\",\"name\":\"Alger\",\"orientation\":\"v\",\"showlegend\":true,\"x\":[151],\"xaxis\":\"x\",\"y\":[3],\"yaxis\":\"y\",\"type\":\"scatter\"},{\"hovertemplate\":\"<b>%{hovertext}</b><br><br>Country=R\\u00e9publique<br>Date=2021<br>arm\\u00e9e=%{x}<br>juif=%{y}<br>Size=%{marker.size}<extra></extra>\",\"hovertext\":[\"R\\u00e9publique\"],\"ids\":[\"R\\u00e9publique\"],\"legendgroup\":\"R\\u00e9publique\",\"marker\":{\"color\":\"#19d3f3\",\"size\":[16],\"sizemode\":\"area\",\"sizeref\":0.03206611570247934,\"symbol\":\"circle\"},\"mode\":\"markers\",\"name\":\"R\\u00e9publique\",\"orientation\":\"v\",\"showlegend\":true,\"x\":[34],\"xaxis\":\"x\",\"y\":[238],\"yaxis\":\"y\",\"type\":\"scatter\"},{\"hovertemplate\":\"<b>%{hovertext}</b><br><br>Country=Sahel<br>Date=2021<br>arm\\u00e9e=%{x}<br>juif=%{y}<br>Size=%{marker.size}<extra></extra>\",\"hovertext\":[\"Sahel\"],\"ids\":[\"Sahel\"],\"legendgroup\":\"Sahel\",\"marker\":{\"color\":\"#FF6692\",\"size\":[15],\"sizemode\":\"area\",\"sizeref\":0.03206611570247934,\"symbol\":\"circle\"},\"mode\":\"markers\",\"name\":\"Sahel\",\"orientation\":\"v\",\"showlegend\":true,\"x\":[1032],\"xaxis\":\"x\",\"y\":[4],\"yaxis\":\"y\",\"type\":\"scatter\"},{\"hovertemplate\":\"<b>%{hovertext}</b><br><br>Country=Moscou<br>Date=2021<br>arm\\u00e9e=%{x}<br>juif=%{y}<br>Size=%{marker.size}<extra></extra>\",\"hovertext\":[\"Moscou\"],\"ids\":[\"Moscou\"],\"legendgroup\":\"Moscou\",\"marker\":{\"color\":\"#B6E880\",\"size\":[14],\"sizemode\":\"area\",\"sizeref\":0.03206611570247934,\"symbol\":\"circle\"},\"mode\":\"markers\",\"name\":\"Moscou\",\"orientation\":\"v\",\"showlegend\":true,\"x\":[285],\"xaxis\":\"x\",\"y\":[5],\"yaxis\":\"y\",\"type\":\"scatter\"},{\"hovertemplate\":\"<b>%{hovertext}</b><br><br>Country=Italie<br>Date=2021<br>arm\\u00e9e=%{x}<br>juif=%{y}<br>Size=%{marker.size}<extra></extra>\",\"hovertext\":[\"Italie\"],\"ids\":[\"Italie\"],\"legendgroup\":\"Italie\",\"marker\":{\"color\":\"#FF97FF\",\"size\":[14],\"sizemode\":\"area\",\"sizeref\":0.03206611570247934,\"symbol\":\"circle\"},\"mode\":\"markers\",\"name\":\"Italie\",\"orientation\":\"v\",\"showlegend\":true,\"x\":[65],\"xaxis\":\"x\",\"y\":[9],\"yaxis\":\"y\",\"type\":\"scatter\"},{\"hovertemplate\":\"<b>%{hovertext}</b><br><br>Country=Syrie<br>Date=2021<br>arm\\u00e9e=%{x}<br>juif=%{y}<br>Size=%{marker.size}<extra></extra>\",\"hovertext\":[\"Syrie\"],\"ids\":[\"Syrie\"],\"legendgroup\":\"Syrie\",\"marker\":{\"color\":\"#FECB52\",\"size\":[14],\"sizemode\":\"area\",\"sizeref\":0.03206611570247934,\"symbol\":\"circle\"},\"mode\":\"markers\",\"name\":\"Syrie\",\"orientation\":\"v\",\"showlegend\":true,\"x\":[223],\"xaxis\":\"x\",\"y\":[100],\"yaxis\":\"y\",\"type\":\"scatter\"}],\"name\":\"2021\"}]);\n                        }).then(function(){\n                            \nvar gd = document.getElementById('80f1f783-f915-4c2a-97ce-0e7920969f58');\nvar x = new MutationObserver(function (mutations, observer) {{\n        var display = window.getComputedStyle(gd).display;\n        if (!display || display === 'none') {{\n            console.log([gd, 'removed!']);\n            Plotly.purge(gd);\n            observer.disconnect();\n        }}\n}});\n\n// Listen for the removal of the full notebook cells\nvar notebookContainer = gd.closest('#notebook-container');\nif (notebookContainer) {{\n    x.observe(notebookContainer, {childList: true});\n}}\n\n// Listen for the clearing of the current output cell\nvar outputEl = gd.closest('.output');\nif (outputEl) {{\n    x.observe(outputEl, {childList: true});\n}}\n\n                        })                };                });            </script>        </div>"
     },
     "metadata": {},
     "output_type": "display_data"
    }
   ],
   "source": [
    "import plotly.express as px\n",
    "import pandas as pd\n",
    "\n",
    "kwsOne = []\n",
    "kwsTwo = []\n",
    "date = []\n",
    "country = top9key * 4\n",
    "\n",
    "for years in yearsKey:\n",
    "    for loc in top9key:\n",
    "        val1 = (list(d[years][loc].values())[0])\n",
    "        val2 = (list(d[years][loc].values())[1])\n",
    "        kwsOne.append(val1)\n",
    "        kwsTwo.append(val2)\n",
    "        date.append(years)\n",
    "size = weight[1:] * 4\n",
    "data_test = {\n",
    "    'Country': country,\n",
    "    f'{kwsTofilter[0]}': kwsOne,\n",
    "    f'{kwsTofilter[1]}': kwsTwo,\n",
    "    'Date': date,\n",
    "    'Size': size\n",
    "\n",
    "}\n",
    "df1 = pd.DataFrame(data_test)\n",
    "range_y = [min(kwsOne), max(kwsOne)]\n",
    "range_x = [min(kwsTwo), max(kwsTwo)]\n",
    "fig = px.scatter(df1, x=f'{kwsTofilter[0]}', y=f'{kwsTofilter[1]}', range_y=range_x, range_x=range_y,\n",
    "                 animation_frame=\"Date\", size=f'Size',\n",
    "                 size_max=55, hover_name=\"Country\", color=\"Country\", animation_group=\"Country\", width=1000, height=800)\n",
    "\n",
    "fig.show()\n",
    "\n"
   ],
   "metadata": {
    "collapsed": false
   }
  },
  {
   "cell_type": "code",
   "execution_count": 25,
   "outputs": [
    {
     "data": {
      "text/plain": "<Figure size 1600x600 with 3 Axes>",
      "image/png": "[encoded data removed]"
     },
     "metadata": {},
     "output_type": "display_data"
    }
   ],
   "source": [
    "import plotly.figure_factory as ff\n",
    "import numpy as np\n",
    "from scipy.cluster.hierarchy import dendrogram, linkage\n",
    "from scipy.cluster import hierarchy\n",
    "\n",
    "data = {\n",
    "    f'{kwsTofilter[0]}': kwsOne,\n",
    "    f'{kwsTofilter[1]}': kwsTwo,\n",
    "}\n",
    "\n",
    "df2 = pd.DataFrame(data,country)\n",
    "x = df2[76-19:]\n",
    "x2 = df2[57-19:57]\n",
    "x3 = df2[38-19:38]\n",
    "Z = linkage(x,'single')\n",
    "Z2 = linkage(x2,'single')\n",
    "Z3 = hierarchy.linkage(x3,'single')\n",
    "\n",
    "\n",
    "fig, axes = plt.subplots(1, 3, figsize=(8*2, 3*2))\n",
    "dn1 = dendrogram(Z, ax=axes[0], labels=x.index, leaf_rotation=90)\n",
    "dn2 = dendrogram(Z2, ax=axes[1] ,labels=x2.index, leaf_rotation=90)\n",
    "dn3 = dendrogram(Z3, ax=axes[2] ,labels=x3.index, leaf_rotation=90)\n",
    "plt.show()"
   ],
   "metadata": {
    "collapsed": false
   }
  }
 ],
 "metadata": {
  "kernelspec": {
   "display_name": "Python 3.10.1 64-bit",
   "language": "python",
   "name": "python3"
  },
  "language_info": {
   "codemirror_mode": {
    "name": "ipython",
    "version": 3
   },
   "file_extension": ".py",
   "mimetype": "text/x-python",
   "name": "python",
   "nbconvert_exporter": "python",
   "pygments_lexer": "ipython3",
   "version": "3.10.1"
  },
  "orig_nbformat": 4,
  "vscode": {
   "interpreter": {
    "hash": "aee8b7b246df8f9039afb4144a1f6fd8d2ca17a180786b69acc140d282b71a49"
   }
  }
 },
 "nbformat": 4,
 "nbformat_minor": 2
}
